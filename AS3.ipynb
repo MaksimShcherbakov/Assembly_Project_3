{
 "cells": [
  {
   "cell_type": "code",
   "execution_count": 91,
   "id": "153725d1",
   "metadata": {},
   "outputs": [],
   "source": [
    "plt.rcParams['font.family'] = 'sans-serif'\n",
    "plt.rcParams['font.sans-serif'] = ['Times New Roman']"
   ]
  },
  {
   "cell_type": "code",
   "execution_count": 1,
   "id": "d5ff86d9",
   "metadata": {},
   "outputs": [
    {
     "name": "stdout",
     "output_type": "stream",
     "text": [
      "Collecting psycopg2\n",
      "  Downloading psycopg2-2.9.9.tar.gz (384 kB)\n",
      "\u001b[K     |████████████████████████████████| 384 kB 1.1 MB/s eta 0:00:01\n",
      "\u001b[31m    ERROR: Command errored out with exit status 1:\n",
      "     command: /opt/conda/bin/python -c 'import io, os, sys, setuptools, tokenize; sys.argv[0] = '\"'\"'/tmp/pip-install-7o89ocoz/psycopg2_1faf70585cdf489cb8a2f838093fa2f0/setup.py'\"'\"'; __file__='\"'\"'/tmp/pip-install-7o89ocoz/psycopg2_1faf70585cdf489cb8a2f838093fa2f0/setup.py'\"'\"';f = getattr(tokenize, '\"'\"'open'\"'\"', open)(__file__) if os.path.exists(__file__) else io.StringIO('\"'\"'from setuptools import setup; setup()'\"'\"');code = f.read().replace('\"'\"'\\r\\n'\"'\"', '\"'\"'\\n'\"'\"');f.close();exec(compile(code, __file__, '\"'\"'exec'\"'\"'))' egg_info --egg-base /tmp/pip-pip-egg-info-86e6s3_y\n",
      "         cwd: /tmp/pip-install-7o89ocoz/psycopg2_1faf70585cdf489cb8a2f838093fa2f0/\n",
      "    Complete output (23 lines):\n",
      "    running egg_info\n",
      "    creating /tmp/pip-pip-egg-info-86e6s3_y/psycopg2.egg-info\n",
      "    writing /tmp/pip-pip-egg-info-86e6s3_y/psycopg2.egg-info/PKG-INFO\n",
      "    writing dependency_links to /tmp/pip-pip-egg-info-86e6s3_y/psycopg2.egg-info/dependency_links.txt\n",
      "    writing top-level names to /tmp/pip-pip-egg-info-86e6s3_y/psycopg2.egg-info/top_level.txt\n",
      "    writing manifest file '/tmp/pip-pip-egg-info-86e6s3_y/psycopg2.egg-info/SOURCES.txt'\n",
      "    \n",
      "    Error: pg_config executable not found.\n",
      "    \n",
      "    pg_config is required to build psycopg2 from source.  Please add the directory\n",
      "    containing pg_config to the $PATH or specify the full executable path with the\n",
      "    option:\n",
      "    \n",
      "        python setup.py build_ext --pg-config /path/to/pg_config build ...\n",
      "    \n",
      "    or with the pg_config option in 'setup.cfg'.\n",
      "    \n",
      "    If you prefer to avoid building psycopg2 from source, please install the PyPI\n",
      "    'psycopg2-binary' package instead.\n",
      "    \n",
      "    For further information please check the 'doc/src/install.rst' file (also at\n",
      "    <https://www.psycopg.org/docs/install.html>).\n",
      "    \n",
      "    ----------------------------------------\u001b[0m\n",
      "\u001b[33mWARNING: Discarding https://files.pythonhosted.org/packages/c9/5e/dc6acaf46d78979d6b03458b7a1618a68e152a6776fce95daac5e0f0301b/psycopg2-2.9.9.tar.gz#sha256=d1454bde93fb1e224166811694d600e746430c006fbb031ea06ecc2ea41bf156 (from https://pypi.org/simple/psycopg2/) (requires-python:>=3.7). Command errored out with exit status 1: python setup.py egg_info Check the logs for full command output.\u001b[0m\n",
      "\u001b[?25h  Downloading psycopg2-2.9.8.tar.gz (383 kB)\n",
      "\u001b[K     |████████████████████████████████| 383 kB 24.8 MB/s eta 0:00:01\n",
      "\u001b[31m    ERROR: Command errored out with exit status 1:\n",
      "     command: /opt/conda/bin/python -c 'import io, os, sys, setuptools, tokenize; sys.argv[0] = '\"'\"'/tmp/pip-install-7o89ocoz/psycopg2_6d01802ff26244b18d4fa4d3a5a85578/setup.py'\"'\"'; __file__='\"'\"'/tmp/pip-install-7o89ocoz/psycopg2_6d01802ff26244b18d4fa4d3a5a85578/setup.py'\"'\"';f = getattr(tokenize, '\"'\"'open'\"'\"', open)(__file__) if os.path.exists(__file__) else io.StringIO('\"'\"'from setuptools import setup; setup()'\"'\"');code = f.read().replace('\"'\"'\\r\\n'\"'\"', '\"'\"'\\n'\"'\"');f.close();exec(compile(code, __file__, '\"'\"'exec'\"'\"'))' egg_info --egg-base /tmp/pip-pip-egg-info-aigm1k37\n",
      "         cwd: /tmp/pip-install-7o89ocoz/psycopg2_6d01802ff26244b18d4fa4d3a5a85578/\n",
      "    Complete output (23 lines):\n",
      "    running egg_info\n",
      "    creating /tmp/pip-pip-egg-info-aigm1k37/psycopg2.egg-info\n",
      "    writing /tmp/pip-pip-egg-info-aigm1k37/psycopg2.egg-info/PKG-INFO\n",
      "    writing dependency_links to /tmp/pip-pip-egg-info-aigm1k37/psycopg2.egg-info/dependency_links.txt\n",
      "    writing top-level names to /tmp/pip-pip-egg-info-aigm1k37/psycopg2.egg-info/top_level.txt\n",
      "    writing manifest file '/tmp/pip-pip-egg-info-aigm1k37/psycopg2.egg-info/SOURCES.txt'\n",
      "    \n",
      "    Error: pg_config executable not found.\n",
      "    \n",
      "    pg_config is required to build psycopg2 from source.  Please add the directory\n",
      "    containing pg_config to the $PATH or specify the full executable path with the\n",
      "    option:\n",
      "    \n",
      "        python setup.py build_ext --pg-config /path/to/pg_config build ...\n",
      "    \n",
      "    or with the pg_config option in 'setup.cfg'.\n",
      "    \n",
      "    If you prefer to avoid building psycopg2 from source, please install the PyPI\n",
      "    'psycopg2-binary' package instead.\n",
      "    \n",
      "    For further information please check the 'doc/src/install.rst' file (also at\n",
      "    <https://www.psycopg.org/docs/install.html>).\n",
      "    \n",
      "    ----------------------------------------\u001b[0m\n",
      "\u001b[33mWARNING: Discarding https://files.pythonhosted.org/packages/9e/78/3b15ee8bbbf36f8bace9b0e6fe8a7481372650c76bcf1a7de1ed723cce96/psycopg2-2.9.8.tar.gz#sha256=3da6488042a53b50933244085f3f91803f1b7271f970f3e5536efa69314f6a49 (from https://pypi.org/simple/psycopg2/) (requires-python:>=3.6). Command errored out with exit status 1: python setup.py egg_info Check the logs for full command output.\u001b[0m\n",
      "\u001b[?25h  Downloading psycopg2-2.9.7.tar.gz (383 kB)\n",
      "\u001b[K     |████████████████████████████████| 383 kB 55.3 MB/s eta 0:00:01\n",
      "\u001b[31m    ERROR: Command errored out with exit status 1:\n",
      "     command: /opt/conda/bin/python -c 'import io, os, sys, setuptools, tokenize; sys.argv[0] = '\"'\"'/tmp/pip-install-7o89ocoz/psycopg2_999636c1ee754862b94824f79b70fb33/setup.py'\"'\"'; __file__='\"'\"'/tmp/pip-install-7o89ocoz/psycopg2_999636c1ee754862b94824f79b70fb33/setup.py'\"'\"';f = getattr(tokenize, '\"'\"'open'\"'\"', open)(__file__) if os.path.exists(__file__) else io.StringIO('\"'\"'from setuptools import setup; setup()'\"'\"');code = f.read().replace('\"'\"'\\r\\n'\"'\"', '\"'\"'\\n'\"'\"');f.close();exec(compile(code, __file__, '\"'\"'exec'\"'\"'))' egg_info --egg-base /tmp/pip-pip-egg-info-qk3aozm1\n",
      "         cwd: /tmp/pip-install-7o89ocoz/psycopg2_999636c1ee754862b94824f79b70fb33/\n",
      "    Complete output (23 lines):\n",
      "    running egg_info\n",
      "    creating /tmp/pip-pip-egg-info-qk3aozm1/psycopg2.egg-info\n",
      "    writing /tmp/pip-pip-egg-info-qk3aozm1/psycopg2.egg-info/PKG-INFO\n",
      "    writing dependency_links to /tmp/pip-pip-egg-info-qk3aozm1/psycopg2.egg-info/dependency_links.txt\n",
      "    writing top-level names to /tmp/pip-pip-egg-info-qk3aozm1/psycopg2.egg-info/top_level.txt\n",
      "    writing manifest file '/tmp/pip-pip-egg-info-qk3aozm1/psycopg2.egg-info/SOURCES.txt'\n",
      "    \n",
      "    Error: pg_config executable not found.\n",
      "    \n",
      "    pg_config is required to build psycopg2 from source.  Please add the directory\n",
      "    containing pg_config to the $PATH or specify the full executable path with the\n",
      "    option:\n",
      "    \n",
      "        python setup.py build_ext --pg-config /path/to/pg_config build ...\n",
      "    \n",
      "    or with the pg_config option in 'setup.cfg'.\n",
      "    \n",
      "    If you prefer to avoid building psycopg2 from source, please install the PyPI\n",
      "    'psycopg2-binary' package instead.\n",
      "    \n",
      "    For further information please check the 'doc/src/install.rst' file (also at\n",
      "    <https://www.psycopg.org/docs/install.html>).\n",
      "    \n",
      "    ----------------------------------------\u001b[0m\n",
      "\u001b[33mWARNING: Discarding https://files.pythonhosted.org/packages/f7/fa/6e6bb7a7bbe4e02b35aa2fc009fb53221663a5e07e333b72cb5a85e4dbb0/psycopg2-2.9.7.tar.gz#sha256=f00cc35bd7119f1fed17b85bd1007855194dde2cbd8de01ab8ebb17487440ad8 (from https://pypi.org/simple/psycopg2/) (requires-python:>=3.6). Command errored out with exit status 1: python setup.py egg_info Check the logs for full command output.\u001b[0m\n",
      "\u001b[?25h  Downloading psycopg2-2.9.6.tar.gz (383 kB)\n",
      "\u001b[K     |████████████████████████████████| 383 kB 59.2 MB/s eta 0:00:01\n",
      "\u001b[31m    ERROR: Command errored out with exit status 1:\n",
      "     command: /opt/conda/bin/python -c 'import io, os, sys, setuptools, tokenize; sys.argv[0] = '\"'\"'/tmp/pip-install-7o89ocoz/psycopg2_40bc8a29bc5e45ca87b7170c264c0ac3/setup.py'\"'\"'; __file__='\"'\"'/tmp/pip-install-7o89ocoz/psycopg2_40bc8a29bc5e45ca87b7170c264c0ac3/setup.py'\"'\"';f = getattr(tokenize, '\"'\"'open'\"'\"', open)(__file__) if os.path.exists(__file__) else io.StringIO('\"'\"'from setuptools import setup; setup()'\"'\"');code = f.read().replace('\"'\"'\\r\\n'\"'\"', '\"'\"'\\n'\"'\"');f.close();exec(compile(code, __file__, '\"'\"'exec'\"'\"'))' egg_info --egg-base /tmp/pip-pip-egg-info-se_mnch1\n",
      "         cwd: /tmp/pip-install-7o89ocoz/psycopg2_40bc8a29bc5e45ca87b7170c264c0ac3/\n",
      "    Complete output (23 lines):\n",
      "    running egg_info\n",
      "    creating /tmp/pip-pip-egg-info-se_mnch1/psycopg2.egg-info\n",
      "    writing /tmp/pip-pip-egg-info-se_mnch1/psycopg2.egg-info/PKG-INFO\n",
      "    writing dependency_links to /tmp/pip-pip-egg-info-se_mnch1/psycopg2.egg-info/dependency_links.txt\n",
      "    writing top-level names to /tmp/pip-pip-egg-info-se_mnch1/psycopg2.egg-info/top_level.txt\n",
      "    writing manifest file '/tmp/pip-pip-egg-info-se_mnch1/psycopg2.egg-info/SOURCES.txt'\n",
      "    \n",
      "    Error: pg_config executable not found.\n",
      "    \n",
      "    pg_config is required to build psycopg2 from source.  Please add the directory\n",
      "    containing pg_config to the $PATH or specify the full executable path with the\n",
      "    option:\n",
      "    \n",
      "        python setup.py build_ext --pg-config /path/to/pg_config build ...\n",
      "    \n",
      "    or with the pg_config option in 'setup.cfg'.\n",
      "    \n",
      "    If you prefer to avoid building psycopg2 from source, please install the PyPI\n",
      "    'psycopg2-binary' package instead.\n",
      "    \n",
      "    For further information please check the 'doc/src/install.rst' file (also at\n",
      "    <https://www.psycopg.org/docs/install.html>).\n",
      "    \n",
      "    ----------------------------------------\u001b[0m\n",
      "\u001b[33mWARNING: Discarding https://files.pythonhosted.org/packages/af/c4/5726cddb53fe52f0e839eb3da04322364f14493217ebd5818cc5e4c948a5/psycopg2-2.9.6.tar.gz#sha256=f15158418fd826831b28585e2ab48ed8df2d0d98f502a2b4fe619e7d5ca29011 (from https://pypi.org/simple/psycopg2/) (requires-python:>=3.6). Command errored out with exit status 1: python setup.py egg_info Check the logs for full command output.\u001b[0m\n",
      "\u001b[?25h  Downloading psycopg2-2.9.5.tar.gz (384 kB)\n",
      "\u001b[K     |████████████████████████████████| 384 kB 54.8 MB/s eta 0:00:01\n",
      "\u001b[31m    ERROR: Command errored out with exit status 1:\n",
      "     command: /opt/conda/bin/python -c 'import io, os, sys, setuptools, tokenize; sys.argv[0] = '\"'\"'/tmp/pip-install-7o89ocoz/psycopg2_b788425d5b5b443db1a13fc42b011321/setup.py'\"'\"'; __file__='\"'\"'/tmp/pip-install-7o89ocoz/psycopg2_b788425d5b5b443db1a13fc42b011321/setup.py'\"'\"';f = getattr(tokenize, '\"'\"'open'\"'\"', open)(__file__) if os.path.exists(__file__) else io.StringIO('\"'\"'from setuptools import setup; setup()'\"'\"');code = f.read().replace('\"'\"'\\r\\n'\"'\"', '\"'\"'\\n'\"'\"');f.close();exec(compile(code, __file__, '\"'\"'exec'\"'\"'))' egg_info --egg-base /tmp/pip-pip-egg-info-m3bzi9kk\n",
      "         cwd: /tmp/pip-install-7o89ocoz/psycopg2_b788425d5b5b443db1a13fc42b011321/\n",
      "    Complete output (23 lines):\n",
      "    running egg_info\n",
      "    creating /tmp/pip-pip-egg-info-m3bzi9kk/psycopg2.egg-info\n",
      "    writing /tmp/pip-pip-egg-info-m3bzi9kk/psycopg2.egg-info/PKG-INFO\n",
      "    writing dependency_links to /tmp/pip-pip-egg-info-m3bzi9kk/psycopg2.egg-info/dependency_links.txt\n",
      "    writing top-level names to /tmp/pip-pip-egg-info-m3bzi9kk/psycopg2.egg-info/top_level.txt\n",
      "    writing manifest file '/tmp/pip-pip-egg-info-m3bzi9kk/psycopg2.egg-info/SOURCES.txt'\n",
      "    \n",
      "    Error: pg_config executable not found.\n",
      "    \n",
      "    pg_config is required to build psycopg2 from source.  Please add the directory\n",
      "    containing pg_config to the $PATH or specify the full executable path with the\n",
      "    option:\n",
      "    \n",
      "        python setup.py build_ext --pg-config /path/to/pg_config build ...\n",
      "    \n",
      "    or with the pg_config option in 'setup.cfg'.\n",
      "    \n",
      "    If you prefer to avoid building psycopg2 from source, please install the PyPI\n",
      "    'psycopg2-binary' package instead.\n",
      "    \n",
      "    For further information please check the 'doc/src/install.rst' file (also at\n",
      "    <https://www.psycopg.org/docs/install.html>).\n",
      "    \n",
      "    ----------------------------------------\u001b[0m\n",
      "\u001b[33mWARNING: Discarding https://files.pythonhosted.org/packages/89/d6/cd8c46417e0f7a16b4b0fc321f4ab676a59250d08fce5b64921897fb07cc/psycopg2-2.9.5.tar.gz#sha256=a5246d2e683a972e2187a8714b5c2cf8156c064629f9a9b1a873c1730d9e245a (from https://pypi.org/simple/psycopg2/) (requires-python:>=3.6). Command errored out with exit status 1: python setup.py egg_info Check the logs for full command output.\u001b[0m\n",
      "\u001b[?25h  Downloading psycopg2-2.9.4.tar.gz (384 kB)\n",
      "\u001b[K     |████████████████████████████████| 384 kB 54.9 MB/s eta 0:00:01\n",
      "\u001b[31m    ERROR: Command errored out with exit status 1:\n",
      "     command: /opt/conda/bin/python -c 'import io, os, sys, setuptools, tokenize; sys.argv[0] = '\"'\"'/tmp/pip-install-7o89ocoz/psycopg2_48083b21cdb54d0c9e0d9f89bb48e67d/setup.py'\"'\"'; __file__='\"'\"'/tmp/pip-install-7o89ocoz/psycopg2_48083b21cdb54d0c9e0d9f89bb48e67d/setup.py'\"'\"';f = getattr(tokenize, '\"'\"'open'\"'\"', open)(__file__) if os.path.exists(__file__) else io.StringIO('\"'\"'from setuptools import setup; setup()'\"'\"');code = f.read().replace('\"'\"'\\r\\n'\"'\"', '\"'\"'\\n'\"'\"');f.close();exec(compile(code, __file__, '\"'\"'exec'\"'\"'))' egg_info --egg-base /tmp/pip-pip-egg-info-j3he6tiw\n",
      "         cwd: /tmp/pip-install-7o89ocoz/psycopg2_48083b21cdb54d0c9e0d9f89bb48e67d/\n",
      "    Complete output (23 lines):\n",
      "    running egg_info\n",
      "    creating /tmp/pip-pip-egg-info-j3he6tiw/psycopg2.egg-info\n",
      "    writing /tmp/pip-pip-egg-info-j3he6tiw/psycopg2.egg-info/PKG-INFO\n",
      "    writing dependency_links to /tmp/pip-pip-egg-info-j3he6tiw/psycopg2.egg-info/dependency_links.txt\n",
      "    writing top-level names to /tmp/pip-pip-egg-info-j3he6tiw/psycopg2.egg-info/top_level.txt\n",
      "    writing manifest file '/tmp/pip-pip-egg-info-j3he6tiw/psycopg2.egg-info/SOURCES.txt'\n",
      "    \n",
      "    Error: pg_config executable not found.\n",
      "    \n",
      "    pg_config is required to build psycopg2 from source.  Please add the directory\n",
      "    containing pg_config to the $PATH or specify the full executable path with the\n",
      "    option:\n",
      "    \n",
      "        python setup.py build_ext --pg-config /path/to/pg_config build ...\n",
      "    \n",
      "    or with the pg_config option in 'setup.cfg'.\n",
      "    \n",
      "    If you prefer to avoid building psycopg2 from source, please install the PyPI\n",
      "    'psycopg2-binary' package instead.\n",
      "    \n",
      "    For further information please check the 'doc/src/install.rst' file (also at\n",
      "    <https://www.psycopg.org/docs/install.html>).\n",
      "    \n",
      "    ----------------------------------------\u001b[0m\n",
      "\u001b[33mWARNING: Discarding https://files.pythonhosted.org/packages/8d/d7/277e23b708a0429b6b3d50e86e52b791156dfbfa81917d34ef6d7b435b84/psycopg2-2.9.4.tar.gz#sha256=d529926254e093a1b669f692a3aa50069bc71faf5b0ecd91686a78f62767d52f (from https://pypi.org/simple/psycopg2/) (requires-python:>=3.6). Command errored out with exit status 1: python setup.py egg_info Check the logs for full command output.\u001b[0m\n",
      "\u001b[?25h  Downloading psycopg2-2.9.3.tar.gz (380 kB)\n",
      "\u001b[K     |████████████████████████████████| 380 kB 76.2 MB/s eta 0:00:01\n",
      "\u001b[31m    ERROR: Command errored out with exit status 1:\n",
      "     command: /opt/conda/bin/python -c 'import io, os, sys, setuptools, tokenize; sys.argv[0] = '\"'\"'/tmp/pip-install-7o89ocoz/psycopg2_b5c5f4c20c7144a5851bd1e4514b0c97/setup.py'\"'\"'; __file__='\"'\"'/tmp/pip-install-7o89ocoz/psycopg2_b5c5f4c20c7144a5851bd1e4514b0c97/setup.py'\"'\"';f = getattr(tokenize, '\"'\"'open'\"'\"', open)(__file__) if os.path.exists(__file__) else io.StringIO('\"'\"'from setuptools import setup; setup()'\"'\"');code = f.read().replace('\"'\"'\\r\\n'\"'\"', '\"'\"'\\n'\"'\"');f.close();exec(compile(code, __file__, '\"'\"'exec'\"'\"'))' egg_info --egg-base /tmp/pip-pip-egg-info-t2bmolkj\n",
      "         cwd: /tmp/pip-install-7o89ocoz/psycopg2_b5c5f4c20c7144a5851bd1e4514b0c97/\n",
      "    Complete output (23 lines):\n",
      "    running egg_info\n",
      "    creating /tmp/pip-pip-egg-info-t2bmolkj/psycopg2.egg-info\n",
      "    writing /tmp/pip-pip-egg-info-t2bmolkj/psycopg2.egg-info/PKG-INFO\n",
      "    writing dependency_links to /tmp/pip-pip-egg-info-t2bmolkj/psycopg2.egg-info/dependency_links.txt\n",
      "    writing top-level names to /tmp/pip-pip-egg-info-t2bmolkj/psycopg2.egg-info/top_level.txt\n",
      "    writing manifest file '/tmp/pip-pip-egg-info-t2bmolkj/psycopg2.egg-info/SOURCES.txt'\n",
      "    \n",
      "    Error: pg_config executable not found.\n",
      "    \n",
      "    pg_config is required to build psycopg2 from source.  Please add the directory\n",
      "    containing pg_config to the $PATH or specify the full executable path with the\n",
      "    option:\n",
      "    \n",
      "        python setup.py build_ext --pg-config /path/to/pg_config build ...\n",
      "    \n",
      "    or with the pg_config option in 'setup.cfg'.\n",
      "    \n",
      "    If you prefer to avoid building psycopg2 from source, please install the PyPI\n",
      "    'psycopg2-binary' package instead.\n",
      "    \n",
      "    For further information please check the 'doc/src/install.rst' file (also at\n",
      "    <https://www.psycopg.org/docs/install.html>).\n",
      "    \n",
      "    ----------------------------------------\u001b[0m\n",
      "\u001b[33mWARNING: Discarding https://files.pythonhosted.org/packages/d1/1e/b450599a27b1809bccbd4e369f397cb18dc56b875778d961f9ae180b54b7/psycopg2-2.9.3.tar.gz#sha256=8e841d1bf3434da985cc5ef13e6f75c8981ced601fd70cc6bf33351b91562981 (from https://pypi.org/simple/psycopg2/) (requires-python:>=3.6). Command errored out with exit status 1: python setup.py egg_info Check the logs for full command output.\u001b[0m\n",
      "\u001b[?25h  Downloading psycopg2-2.9.2.tar.gz (380 kB)\n",
      "\u001b[K     |████████████████████████████████| 380 kB 65.3 MB/s eta 0:00:01\n",
      "\u001b[31m    ERROR: Command errored out with exit status 1:\n",
      "     command: /opt/conda/bin/python -c 'import io, os, sys, setuptools, tokenize; sys.argv[0] = '\"'\"'/tmp/pip-install-7o89ocoz/psycopg2_da1dac1366ef4f8f98528c1ad9ad1e52/setup.py'\"'\"'; __file__='\"'\"'/tmp/pip-install-7o89ocoz/psycopg2_da1dac1366ef4f8f98528c1ad9ad1e52/setup.py'\"'\"';f = getattr(tokenize, '\"'\"'open'\"'\"', open)(__file__) if os.path.exists(__file__) else io.StringIO('\"'\"'from setuptools import setup; setup()'\"'\"');code = f.read().replace('\"'\"'\\r\\n'\"'\"', '\"'\"'\\n'\"'\"');f.close();exec(compile(code, __file__, '\"'\"'exec'\"'\"'))' egg_info --egg-base /tmp/pip-pip-egg-info-vr_dz1re\n",
      "         cwd: /tmp/pip-install-7o89ocoz/psycopg2_da1dac1366ef4f8f98528c1ad9ad1e52/\n",
      "    Complete output (23 lines):\n",
      "    running egg_info\n",
      "    creating /tmp/pip-pip-egg-info-vr_dz1re/psycopg2.egg-info\n",
      "    writing /tmp/pip-pip-egg-info-vr_dz1re/psycopg2.egg-info/PKG-INFO\n",
      "    writing dependency_links to /tmp/pip-pip-egg-info-vr_dz1re/psycopg2.egg-info/dependency_links.txt\n",
      "    writing top-level names to /tmp/pip-pip-egg-info-vr_dz1re/psycopg2.egg-info/top_level.txt\n",
      "    writing manifest file '/tmp/pip-pip-egg-info-vr_dz1re/psycopg2.egg-info/SOURCES.txt'\n",
      "    \n",
      "    Error: pg_config executable not found.\n",
      "    \n",
      "    pg_config is required to build psycopg2 from source.  Please add the directory\n",
      "    containing pg_config to the $PATH or specify the full executable path with the\n",
      "    option:\n",
      "    \n",
      "        python setup.py build_ext --pg-config /path/to/pg_config build ...\n",
      "    \n",
      "    or with the pg_config option in 'setup.cfg'.\n",
      "    \n",
      "    If you prefer to avoid building psycopg2 from source, please install the PyPI\n",
      "    'psycopg2-binary' package instead.\n",
      "    \n",
      "    For further information please check the 'doc/src/install.rst' file (also at\n",
      "    <https://www.psycopg.org/docs/install.html>).\n",
      "    \n",
      "    ----------------------------------------\u001b[0m\n",
      "\u001b[33mWARNING: Discarding https://files.pythonhosted.org/packages/33/ed/79434011d773e5ea4c51262f6ebfb86680c2908d7677f31ebccd5aa9f1b3/psycopg2-2.9.2.tar.gz#sha256=a84da9fa891848e0270e8e04dcca073bc9046441eeb47069f5c0e36783debbea (from https://pypi.org/simple/psycopg2/) (requires-python:>=3.6). Command errored out with exit status 1: python setup.py egg_info Check the logs for full command output.\u001b[0m\n",
      "\u001b[?25h  Downloading psycopg2-2.9.1.tar.gz (379 kB)\n",
      "\u001b[K     |████████████████████████████████| 379 kB 50.9 MB/s eta 0:00:01\n",
      "\u001b[31m    ERROR: Command errored out with exit status 1:\n",
      "     command: /opt/conda/bin/python -c 'import io, os, sys, setuptools, tokenize; sys.argv[0] = '\"'\"'/tmp/pip-install-7o89ocoz/psycopg2_4cd7084b29f944f79861ad02dff0580f/setup.py'\"'\"'; __file__='\"'\"'/tmp/pip-install-7o89ocoz/psycopg2_4cd7084b29f944f79861ad02dff0580f/setup.py'\"'\"';f = getattr(tokenize, '\"'\"'open'\"'\"', open)(__file__) if os.path.exists(__file__) else io.StringIO('\"'\"'from setuptools import setup; setup()'\"'\"');code = f.read().replace('\"'\"'\\r\\n'\"'\"', '\"'\"'\\n'\"'\"');f.close();exec(compile(code, __file__, '\"'\"'exec'\"'\"'))' egg_info --egg-base /tmp/pip-pip-egg-info-h7l_nr3m\n",
      "         cwd: /tmp/pip-install-7o89ocoz/psycopg2_4cd7084b29f944f79861ad02dff0580f/\n",
      "    Complete output (23 lines):\n",
      "    running egg_info\n",
      "    creating /tmp/pip-pip-egg-info-h7l_nr3m/psycopg2.egg-info\n",
      "    writing /tmp/pip-pip-egg-info-h7l_nr3m/psycopg2.egg-info/PKG-INFO\n",
      "    writing dependency_links to /tmp/pip-pip-egg-info-h7l_nr3m/psycopg2.egg-info/dependency_links.txt\n",
      "    writing top-level names to /tmp/pip-pip-egg-info-h7l_nr3m/psycopg2.egg-info/top_level.txt\n",
      "    writing manifest file '/tmp/pip-pip-egg-info-h7l_nr3m/psycopg2.egg-info/SOURCES.txt'\n",
      "    \n",
      "    Error: pg_config executable not found.\n",
      "    \n",
      "    pg_config is required to build psycopg2 from source.  Please add the directory\n",
      "    containing pg_config to the $PATH or specify the full executable path with the\n",
      "    option:\n",
      "    \n",
      "        python setup.py build_ext --pg-config /path/to/pg_config build ...\n",
      "    \n",
      "    or with the pg_config option in 'setup.cfg'.\n",
      "    \n",
      "    If you prefer to avoid building psycopg2 from source, please install the PyPI\n",
      "    'psycopg2-binary' package instead.\n",
      "    \n",
      "    For further information please check the 'doc/src/install.rst' file (also at\n",
      "    <https://www.psycopg.org/docs/install.html>).\n",
      "    \n",
      "    ----------------------------------------\u001b[0m\n",
      "\u001b[33mWARNING: Discarding https://files.pythonhosted.org/packages/aa/8a/7c80e7e44fb1b4277e89bd9ca509aefdd4dd1b2c547c6f293afe9f7ffd04/psycopg2-2.9.1.tar.gz#sha256=de5303a6f1d0a7a34b9d40e4d3bef684ccc44a49bbe3eb85e3c0bffb4a131b7c (from https://pypi.org/simple/psycopg2/) (requires-python:>=3.6). Command errored out with exit status 1: python setup.py egg_info Check the logs for full command output.\u001b[0m\n",
      "\u001b[?25h  Downloading psycopg2-2.9.tar.gz (379 kB)\n",
      "\u001b[K     |████████████████████████████████| 379 kB 18.0 MB/s eta 0:00:01\n",
      "\u001b[31m    ERROR: Command errored out with exit status 1:\n",
      "     command: /opt/conda/bin/python -c 'import io, os, sys, setuptools, tokenize; sys.argv[0] = '\"'\"'/tmp/pip-install-7o89ocoz/psycopg2_74901405625d45c7a7068bccbe5364bb/setup.py'\"'\"'; __file__='\"'\"'/tmp/pip-install-7o89ocoz/psycopg2_74901405625d45c7a7068bccbe5364bb/setup.py'\"'\"';f = getattr(tokenize, '\"'\"'open'\"'\"', open)(__file__) if os.path.exists(__file__) else io.StringIO('\"'\"'from setuptools import setup; setup()'\"'\"');code = f.read().replace('\"'\"'\\r\\n'\"'\"', '\"'\"'\\n'\"'\"');f.close();exec(compile(code, __file__, '\"'\"'exec'\"'\"'))' egg_info --egg-base /tmp/pip-pip-egg-info-9114gbsw\n",
      "         cwd: /tmp/pip-install-7o89ocoz/psycopg2_74901405625d45c7a7068bccbe5364bb/\n",
      "    Complete output (23 lines):\n",
      "    running egg_info\n",
      "    creating /tmp/pip-pip-egg-info-9114gbsw/psycopg2.egg-info\n",
      "    writing /tmp/pip-pip-egg-info-9114gbsw/psycopg2.egg-info/PKG-INFO\n",
      "    writing dependency_links to /tmp/pip-pip-egg-info-9114gbsw/psycopg2.egg-info/dependency_links.txt\n",
      "    writing top-level names to /tmp/pip-pip-egg-info-9114gbsw/psycopg2.egg-info/top_level.txt\n",
      "    writing manifest file '/tmp/pip-pip-egg-info-9114gbsw/psycopg2.egg-info/SOURCES.txt'\n",
      "    \n",
      "    Error: pg_config executable not found.\n",
      "    \n",
      "    pg_config is required to build psycopg2 from source.  Please add the directory\n",
      "    containing pg_config to the $PATH or specify the full executable path with the\n",
      "    option:\n",
      "    \n",
      "        python setup.py build_ext --pg-config /path/to/pg_config build ...\n",
      "    \n",
      "    or with the pg_config option in 'setup.cfg'.\n",
      "    \n",
      "    If you prefer to avoid building psycopg2 from source, please install the PyPI\n",
      "    'psycopg2-binary' package instead.\n",
      "    \n",
      "    For further information please check the 'doc/src/install.rst' file (also at\n",
      "    <https://www.psycopg.org/docs/install.html>).\n",
      "    \n",
      "    ----------------------------------------\u001b[0m\n",
      "\u001b[33mWARNING: Discarding https://files.pythonhosted.org/packages/6c/79/6df8af2405e2aa60732c47757453fc7fa4af5c90a1796b3392ef892d3a52/psycopg2-2.9.tar.gz#sha256=b12073fdf2002e828e5921be2c39ff9c6eab361c5c0bd6c529619fc23677accc (from https://pypi.org/simple/psycopg2/) (requires-python:>=3.6). Command errored out with exit status 1: python setup.py egg_info Check the logs for full command output.\u001b[0m\n",
      "\u001b[?25h  Downloading psycopg2-2.8.6.tar.gz (383 kB)\n",
      "\u001b[K     |████████████████████████████████| 383 kB 66.3 MB/s eta 0:00:01\n",
      "\u001b[31m    ERROR: Command errored out with exit status 1:\n",
      "     command: /opt/conda/bin/python -c 'import io, os, sys, setuptools, tokenize; sys.argv[0] = '\"'\"'/tmp/pip-install-7o89ocoz/psycopg2_032daf8426dd4aef8124149ca05029c6/setup.py'\"'\"'; __file__='\"'\"'/tmp/pip-install-7o89ocoz/psycopg2_032daf8426dd4aef8124149ca05029c6/setup.py'\"'\"';f = getattr(tokenize, '\"'\"'open'\"'\"', open)(__file__) if os.path.exists(__file__) else io.StringIO('\"'\"'from setuptools import setup; setup()'\"'\"');code = f.read().replace('\"'\"'\\r\\n'\"'\"', '\"'\"'\\n'\"'\"');f.close();exec(compile(code, __file__, '\"'\"'exec'\"'\"'))' egg_info --egg-base /tmp/pip-pip-egg-info-pt7cx2kt\n",
      "         cwd: /tmp/pip-install-7o89ocoz/psycopg2_032daf8426dd4aef8124149ca05029c6/\n",
      "    Complete output (23 lines):\n",
      "    running egg_info\n",
      "    creating /tmp/pip-pip-egg-info-pt7cx2kt/psycopg2.egg-info\n",
      "    writing /tmp/pip-pip-egg-info-pt7cx2kt/psycopg2.egg-info/PKG-INFO\n",
      "    writing dependency_links to /tmp/pip-pip-egg-info-pt7cx2kt/psycopg2.egg-info/dependency_links.txt\n",
      "    writing top-level names to /tmp/pip-pip-egg-info-pt7cx2kt/psycopg2.egg-info/top_level.txt\n",
      "    writing manifest file '/tmp/pip-pip-egg-info-pt7cx2kt/psycopg2.egg-info/SOURCES.txt'\n",
      "    \n",
      "    Error: pg_config executable not found.\n",
      "    \n",
      "    pg_config is required to build psycopg2 from source.  Please add the directory\n",
      "    containing pg_config to the $PATH or specify the full executable path with the\n",
      "    option:\n",
      "    \n",
      "        python setup.py build_ext --pg-config /path/to/pg_config build ...\n",
      "    \n",
      "    or with the pg_config option in 'setup.cfg'.\n",
      "    \n",
      "    If you prefer to avoid building psycopg2 from source, please install the PyPI\n",
      "    'psycopg2-binary' package instead.\n",
      "    \n",
      "    For further information please check the 'doc/src/install.rst' file (also at\n",
      "    <https://www.psycopg.org/docs/install.html>).\n",
      "    \n",
      "    ----------------------------------------\u001b[0m\n",
      "\u001b[33mWARNING: Discarding https://files.pythonhosted.org/packages/fd/ae/98cb7a0cbb1d748ee547b058b14604bd0e9bf285a8e0cc5d148f8a8a952e/psycopg2-2.8.6.tar.gz#sha256=fb23f6c71107c37fd667cb4ea363ddeb936b348bbd6449278eb92c189699f543 (from https://pypi.org/simple/psycopg2/) (requires-python:>=2.7,!=3.0.*,!=3.1.*,!=3.2.*,!=3.3.*). Command errored out with exit status 1: python setup.py egg_info Check the logs for full command output.\u001b[0m\n",
      "\u001b[?25h  Downloading psycopg2-2.8.5.tar.gz (380 kB)\n",
      "\u001b[K     |████████████████████████████████| 380 kB 50.7 MB/s eta 0:00:01\n",
      "\u001b[31m    ERROR: Command errored out with exit status 1:\n",
      "     command: /opt/conda/bin/python -c 'import io, os, sys, setuptools, tokenize; sys.argv[0] = '\"'\"'/tmp/pip-install-7o89ocoz/psycopg2_6a11b905168140a2bd47cb866eb09177/setup.py'\"'\"'; __file__='\"'\"'/tmp/pip-install-7o89ocoz/psycopg2_6a11b905168140a2bd47cb866eb09177/setup.py'\"'\"';f = getattr(tokenize, '\"'\"'open'\"'\"', open)(__file__) if os.path.exists(__file__) else io.StringIO('\"'\"'from setuptools import setup; setup()'\"'\"');code = f.read().replace('\"'\"'\\r\\n'\"'\"', '\"'\"'\\n'\"'\"');f.close();exec(compile(code, __file__, '\"'\"'exec'\"'\"'))' egg_info --egg-base /tmp/pip-pip-egg-info-iwcsdawv\n",
      "         cwd: /tmp/pip-install-7o89ocoz/psycopg2_6a11b905168140a2bd47cb866eb09177/\n",
      "    Complete output (23 lines):\n",
      "    running egg_info\n",
      "    creating /tmp/pip-pip-egg-info-iwcsdawv/psycopg2.egg-info\n",
      "    writing /tmp/pip-pip-egg-info-iwcsdawv/psycopg2.egg-info/PKG-INFO\n",
      "    writing dependency_links to /tmp/pip-pip-egg-info-iwcsdawv/psycopg2.egg-info/dependency_links.txt\n",
      "    writing top-level names to /tmp/pip-pip-egg-info-iwcsdawv/psycopg2.egg-info/top_level.txt\n",
      "    writing manifest file '/tmp/pip-pip-egg-info-iwcsdawv/psycopg2.egg-info/SOURCES.txt'\n",
      "    \n",
      "    Error: pg_config executable not found.\n",
      "    \n",
      "    pg_config is required to build psycopg2 from source.  Please add the directory\n",
      "    containing pg_config to the $PATH or specify the full executable path with the\n",
      "    option:\n",
      "    \n",
      "        python setup.py build_ext --pg-config /path/to/pg_config build ...\n",
      "    \n",
      "    or with the pg_config option in 'setup.cfg'.\n",
      "    \n",
      "    If you prefer to avoid building psycopg2 from source, please install the PyPI\n",
      "    'psycopg2-binary' package instead.\n",
      "    \n",
      "    For further information please check the 'doc/src/install.rst' file (also at\n",
      "    <https://www.psycopg.org/docs/install.html>).\n",
      "    \n",
      "    ----------------------------------------\u001b[0m\n",
      "\u001b[33mWARNING: Discarding https://files.pythonhosted.org/packages/a8/8f/1c5690eebf148d1d1554fc00ccf9101e134636553dbb75bdfef4f85d7647/psycopg2-2.8.5.tar.gz#sha256=f7d46240f7a1ae1dd95aab38bd74f7428d46531f69219954266d669da60c0818 (from https://pypi.org/simple/psycopg2/) (requires-python:>=2.7,!=3.0.*,!=3.1.*,!=3.2.*,!=3.3.*). Command errored out with exit status 1: python setup.py egg_info Check the logs for full command output.\u001b[0m\n",
      "\u001b[?25h  Downloading psycopg2-2.8.4.tar.gz (377 kB)\n",
      "\u001b[K     |████████████████████████████████| 377 kB 50.8 MB/s eta 0:00:01\n",
      "\u001b[31m    ERROR: Command errored out with exit status 1:\n",
      "     command: /opt/conda/bin/python -c 'import io, os, sys, setuptools, tokenize; sys.argv[0] = '\"'\"'/tmp/pip-install-7o89ocoz/psycopg2_e74bb1a0ad5e4022890dd25b5b93ffc1/setup.py'\"'\"'; __file__='\"'\"'/tmp/pip-install-7o89ocoz/psycopg2_e74bb1a0ad5e4022890dd25b5b93ffc1/setup.py'\"'\"';f = getattr(tokenize, '\"'\"'open'\"'\"', open)(__file__) if os.path.exists(__file__) else io.StringIO('\"'\"'from setuptools import setup; setup()'\"'\"');code = f.read().replace('\"'\"'\\r\\n'\"'\"', '\"'\"'\\n'\"'\"');f.close();exec(compile(code, __file__, '\"'\"'exec'\"'\"'))' egg_info --egg-base /tmp/pip-pip-egg-info-8k9hv9m4\n",
      "         cwd: /tmp/pip-install-7o89ocoz/psycopg2_e74bb1a0ad5e4022890dd25b5b93ffc1/\n",
      "    Complete output (23 lines):\n",
      "    running egg_info\n",
      "    creating /tmp/pip-pip-egg-info-8k9hv9m4/psycopg2.egg-info\n",
      "    writing /tmp/pip-pip-egg-info-8k9hv9m4/psycopg2.egg-info/PKG-INFO\n",
      "    writing dependency_links to /tmp/pip-pip-egg-info-8k9hv9m4/psycopg2.egg-info/dependency_links.txt\n",
      "    writing top-level names to /tmp/pip-pip-egg-info-8k9hv9m4/psycopg2.egg-info/top_level.txt\n",
      "    writing manifest file '/tmp/pip-pip-egg-info-8k9hv9m4/psycopg2.egg-info/SOURCES.txt'\n",
      "    \n",
      "    Error: pg_config executable not found.\n",
      "    \n",
      "    pg_config is required to build psycopg2 from source.  Please add the directory\n",
      "    containing pg_config to the $PATH or specify the full executable path with the\n",
      "    option:\n",
      "    \n",
      "        python setup.py build_ext --pg-config /path/to/pg_config build ...\n",
      "    \n",
      "    or with the pg_config option in 'setup.cfg'.\n",
      "    \n",
      "    If you prefer to avoid building psycopg2 from source, please install the PyPI\n",
      "    'psycopg2-binary' package instead.\n",
      "    \n",
      "    For further information please check the 'doc/src/install.rst' file (also at\n",
      "    <http://initd.org/psycopg/docs/install.html>).\n",
      "    \n",
      "    ----------------------------------------\u001b[0m\n",
      "\u001b[33mWARNING: Discarding https://files.pythonhosted.org/packages/84/d7/6a93c99b5ba4d4d22daa3928b983cec66df4536ca50b22ce5dcac65e4e71/psycopg2-2.8.4.tar.gz#sha256=f898e5cc0a662a9e12bde6f931263a1bbd350cfb18e1d5336a12927851825bb6 (from https://pypi.org/simple/psycopg2/) (requires-python:>=2.7,!=3.0.*,!=3.1.*,!=3.2.*,!=3.3.*). Command errored out with exit status 1: python setup.py egg_info Check the logs for full command output.\u001b[0m\n",
      "\u001b[?25h  Downloading psycopg2-2.8.3.tar.gz (377 kB)\n",
      "\u001b[K     |████████████████████████████████| 377 kB 46.4 MB/s eta 0:00:01\n",
      "\u001b[31m    ERROR: Command errored out with exit status 1:\n",
      "     command: /opt/conda/bin/python -c 'import io, os, sys, setuptools, tokenize; sys.argv[0] = '\"'\"'/tmp/pip-install-7o89ocoz/psycopg2_7dbf0f95ae164919b007e1d9cab1600c/setup.py'\"'\"'; __file__='\"'\"'/tmp/pip-install-7o89ocoz/psycopg2_7dbf0f95ae164919b007e1d9cab1600c/setup.py'\"'\"';f = getattr(tokenize, '\"'\"'open'\"'\"', open)(__file__) if os.path.exists(__file__) else io.StringIO('\"'\"'from setuptools import setup; setup()'\"'\"');code = f.read().replace('\"'\"'\\r\\n'\"'\"', '\"'\"'\\n'\"'\"');f.close();exec(compile(code, __file__, '\"'\"'exec'\"'\"'))' egg_info --egg-base /tmp/pip-pip-egg-info-19q96cq2\n",
      "         cwd: /tmp/pip-install-7o89ocoz/psycopg2_7dbf0f95ae164919b007e1d9cab1600c/\n",
      "    Complete output (23 lines):\n",
      "    running egg_info\n",
      "    creating /tmp/pip-pip-egg-info-19q96cq2/psycopg2.egg-info\n",
      "    writing /tmp/pip-pip-egg-info-19q96cq2/psycopg2.egg-info/PKG-INFO\n",
      "    writing dependency_links to /tmp/pip-pip-egg-info-19q96cq2/psycopg2.egg-info/dependency_links.txt\n",
      "    writing top-level names to /tmp/pip-pip-egg-info-19q96cq2/psycopg2.egg-info/top_level.txt\n",
      "    writing manifest file '/tmp/pip-pip-egg-info-19q96cq2/psycopg2.egg-info/SOURCES.txt'\n",
      "    \n",
      "    Error: pg_config executable not found.\n",
      "    \n",
      "    pg_config is required to build psycopg2 from source.  Please add the directory\n",
      "    containing pg_config to the $PATH or specify the full executable path with the\n",
      "    option:\n",
      "    \n",
      "        python setup.py build_ext --pg-config /path/to/pg_config build ...\n",
      "    \n",
      "    or with the pg_config option in 'setup.cfg'.\n",
      "    \n",
      "    If you prefer to avoid building psycopg2 from source, please install the PyPI\n",
      "    'psycopg2-binary' package instead.\n",
      "    \n",
      "    For further information please check the 'doc/src/install.rst' file (also at\n",
      "    <http://initd.org/psycopg/docs/install.html>).\n",
      "    \n",
      "    ----------------------------------------\u001b[0m\n",
      "\u001b[33mWARNING: Discarding https://files.pythonhosted.org/packages/5c/1c/6997288da181277a0c29bc39a5f9143ff20b8c99f2a7d059cfb55163e165/psycopg2-2.8.3.tar.gz#sha256=897a6e838319b4bf648a574afb6cabcb17d0488f8c7195100d48d872419f4457 (from https://pypi.org/simple/psycopg2/) (requires-python:>=2.7,!=3.0.*,!=3.1.*,!=3.2.*,!=3.3.*). Command errored out with exit status 1: python setup.py egg_info Check the logs for full command output.\u001b[0m\n",
      "\u001b[?25h  Downloading psycopg2-2.8.2.tar.gz (368 kB)\n",
      "\u001b[K     |████████████████████████████████| 368 kB 67.0 MB/s eta 0:00:01\n",
      "\u001b[31m    ERROR: Command errored out with exit status 1:\n",
      "     command: /opt/conda/bin/python -c 'import io, os, sys, setuptools, tokenize; sys.argv[0] = '\"'\"'/tmp/pip-install-7o89ocoz/psycopg2_2bf79094491148afb3a6c6c896a1c6b2/setup.py'\"'\"'; __file__='\"'\"'/tmp/pip-install-7o89ocoz/psycopg2_2bf79094491148afb3a6c6c896a1c6b2/setup.py'\"'\"';f = getattr(tokenize, '\"'\"'open'\"'\"', open)(__file__) if os.path.exists(__file__) else io.StringIO('\"'\"'from setuptools import setup; setup()'\"'\"');code = f.read().replace('\"'\"'\\r\\n'\"'\"', '\"'\"'\\n'\"'\"');f.close();exec(compile(code, __file__, '\"'\"'exec'\"'\"'))' egg_info --egg-base /tmp/pip-pip-egg-info-zoytttbk\n",
      "         cwd: /tmp/pip-install-7o89ocoz/psycopg2_2bf79094491148afb3a6c6c896a1c6b2/\n",
      "    Complete output (23 lines):\n",
      "    running egg_info\n",
      "    creating /tmp/pip-pip-egg-info-zoytttbk/psycopg2.egg-info\n",
      "    writing /tmp/pip-pip-egg-info-zoytttbk/psycopg2.egg-info/PKG-INFO\n",
      "    writing dependency_links to /tmp/pip-pip-egg-info-zoytttbk/psycopg2.egg-info/dependency_links.txt\n",
      "    writing top-level names to /tmp/pip-pip-egg-info-zoytttbk/psycopg2.egg-info/top_level.txt\n",
      "    writing manifest file '/tmp/pip-pip-egg-info-zoytttbk/psycopg2.egg-info/SOURCES.txt'\n",
      "    \n",
      "    Error: pg_config executable not found.\n",
      "    \n",
      "    pg_config is required to build psycopg2 from source.  Please add the directory\n",
      "    containing pg_config to the $PATH or specify the full executable path with the\n",
      "    option:\n",
      "    \n",
      "        python setup.py build_ext --pg-config /path/to/pg_config build ...\n",
      "    \n",
      "    or with the pg_config option in 'setup.cfg'.\n",
      "    \n",
      "    If you prefer to avoid building psycopg2 from source, please install the PyPI\n",
      "    'psycopg2-binary' package instead.\n",
      "    \n",
      "    For further information please check the 'doc/src/install.rst' file (also at\n",
      "    <http://initd.org/psycopg/docs/install.html>).\n",
      "    \n",
      "    ----------------------------------------\u001b[0m\n",
      "\u001b[33mWARNING: Discarding https://files.pythonhosted.org/packages/23/7e/93c325482c328619870b6cd09370f6dbe1148283daca65115cd63642e60f/psycopg2-2.8.2.tar.gz#sha256=5cacf21b6f813c239f100ef78a4132056f93a5940219ec25d2ef833cbeb05588 (from https://pypi.org/simple/psycopg2/) (requires-python:>=2.7,!=3.0.*,!=3.1.*,!=3.2.*,!=3.3.*). Command errored out with exit status 1: python setup.py egg_info Check the logs for full command output.\u001b[0m\n",
      "\u001b[?25h  Downloading psycopg2-2.8.1.tar.gz (367 kB)\n",
      "\u001b[K     |████████████████████████████████| 367 kB 68.0 MB/s eta 0:00:01\n",
      "\u001b[31m    ERROR: Command errored out with exit status 1:\n",
      "     command: /opt/conda/bin/python -c 'import io, os, sys, setuptools, tokenize; sys.argv[0] = '\"'\"'/tmp/pip-install-7o89ocoz/psycopg2_a07bb45f29824ce78fa2f444fd65e246/setup.py'\"'\"'; __file__='\"'\"'/tmp/pip-install-7o89ocoz/psycopg2_a07bb45f29824ce78fa2f444fd65e246/setup.py'\"'\"';f = getattr(tokenize, '\"'\"'open'\"'\"', open)(__file__) if os.path.exists(__file__) else io.StringIO('\"'\"'from setuptools import setup; setup()'\"'\"');code = f.read().replace('\"'\"'\\r\\n'\"'\"', '\"'\"'\\n'\"'\"');f.close();exec(compile(code, __file__, '\"'\"'exec'\"'\"'))' egg_info --egg-base /tmp/pip-pip-egg-info-hww3ctsa\n",
      "         cwd: /tmp/pip-install-7o89ocoz/psycopg2_a07bb45f29824ce78fa2f444fd65e246/\n",
      "    Complete output (23 lines):\n",
      "    running egg_info\n",
      "    creating /tmp/pip-pip-egg-info-hww3ctsa/psycopg2.egg-info\n",
      "    writing /tmp/pip-pip-egg-info-hww3ctsa/psycopg2.egg-info/PKG-INFO\n",
      "    writing dependency_links to /tmp/pip-pip-egg-info-hww3ctsa/psycopg2.egg-info/dependency_links.txt\n",
      "    writing top-level names to /tmp/pip-pip-egg-info-hww3ctsa/psycopg2.egg-info/top_level.txt\n",
      "    writing manifest file '/tmp/pip-pip-egg-info-hww3ctsa/psycopg2.egg-info/SOURCES.txt'\n",
      "    \n",
      "    Error: pg_config executable not found.\n",
      "    \n",
      "    pg_config is required to build psycopg2 from source.  Please add the directory\n",
      "    containing pg_config to the $PATH or specify the full executable path with the\n",
      "    option:\n",
      "    \n",
      "        python setup.py build_ext --pg-config /path/to/pg_config build ...\n",
      "    \n",
      "    or with the pg_config option in 'setup.cfg'.\n",
      "    \n",
      "    If you prefer to avoid building psycopg2 from source, please install the PyPI\n",
      "    'psycopg2-binary' package instead.\n",
      "    \n",
      "    For further information please check the 'doc/src/install.rst' file (also at\n",
      "    <http://initd.org/psycopg/docs/install.html>).\n",
      "    \n",
      "    ----------------------------------------\u001b[0m\n",
      "\u001b[33mWARNING: Discarding https://files.pythonhosted.org/packages/52/be/f898e712f5f08131d651a62754fca82a1deb42e4e9889ad01932f770a2be/psycopg2-2.8.1.tar.gz#sha256=b4a475ce87eabc0607e068a3c704d0aa0820237ed78d493b8e2d880eb73cd7fe (from https://pypi.org/simple/psycopg2/) (requires-python:>=2.7,!=3.0.*,!=3.1.*,!=3.2.*,!=3.3.*). Command errored out with exit status 1: python setup.py egg_info Check the logs for full command output.\u001b[0m\n",
      "\u001b[?25h  Downloading psycopg2-2.8.tar.gz (367 kB)\n",
      "\u001b[K     |████████████████████████████████| 367 kB 69.2 MB/s eta 0:00:01\n",
      "\u001b[31m    ERROR: Command errored out with exit status 1:\n",
      "     command: /opt/conda/bin/python -c 'import io, os, sys, setuptools, tokenize; sys.argv[0] = '\"'\"'/tmp/pip-install-7o89ocoz/psycopg2_1e81860545b04804a29c35c7d72741e7/setup.py'\"'\"'; __file__='\"'\"'/tmp/pip-install-7o89ocoz/psycopg2_1e81860545b04804a29c35c7d72741e7/setup.py'\"'\"';f = getattr(tokenize, '\"'\"'open'\"'\"', open)(__file__) if os.path.exists(__file__) else io.StringIO('\"'\"'from setuptools import setup; setup()'\"'\"');code = f.read().replace('\"'\"'\\r\\n'\"'\"', '\"'\"'\\n'\"'\"');f.close();exec(compile(code, __file__, '\"'\"'exec'\"'\"'))' egg_info --egg-base /tmp/pip-pip-egg-info-ybpaywwl\n",
      "         cwd: /tmp/pip-install-7o89ocoz/psycopg2_1e81860545b04804a29c35c7d72741e7/\n",
      "    Complete output (23 lines):\n",
      "    running egg_info\n",
      "    creating /tmp/pip-pip-egg-info-ybpaywwl/psycopg2.egg-info\n",
      "    writing /tmp/pip-pip-egg-info-ybpaywwl/psycopg2.egg-info/PKG-INFO\n",
      "    writing dependency_links to /tmp/pip-pip-egg-info-ybpaywwl/psycopg2.egg-info/dependency_links.txt\n",
      "    writing top-level names to /tmp/pip-pip-egg-info-ybpaywwl/psycopg2.egg-info/top_level.txt\n",
      "    writing manifest file '/tmp/pip-pip-egg-info-ybpaywwl/psycopg2.egg-info/SOURCES.txt'\n",
      "    \n",
      "    Error: pg_config executable not found.\n",
      "    \n",
      "    pg_config is required to build psycopg2 from source.  Please add the directory\n",
      "    containing pg_config to the $PATH or specify the full executable path with the\n",
      "    option:\n",
      "    \n",
      "        python setup.py build_ext --pg-config /path/to/pg_config build ...\n",
      "    \n",
      "    or with the pg_config option in 'setup.cfg'.\n",
      "    \n",
      "    If you prefer to avoid building psycopg2 from source, please install the PyPI\n",
      "    'psycopg2-binary' package instead.\n",
      "    \n",
      "    For further information please check the 'doc/src/install.rst' file (also at\n",
      "    <http://initd.org/psycopg/docs/install.html>).\n",
      "    \n",
      "    ----------------------------------------\u001b[0m\n",
      "\u001b[33mWARNING: Discarding https://files.pythonhosted.org/packages/c7/ca/75236b17f1b951950ffc55d657c5aa408d3d0327a1b6c4c0f7cb16ef7e7b/psycopg2-2.8.tar.gz#sha256=49c5838d90e83217909db3789d30a105385b5e696ec5168cda645546c542f35a (from https://pypi.org/simple/psycopg2/) (requires-python:>=2.7,!=3.0.*,!=3.1.*,!=3.2.*,!=3.3.*). Command errored out with exit status 1: python setup.py egg_info Check the logs for full command output.\u001b[0m\n",
      "\u001b[?25h  Downloading psycopg2-2.7.7.tar.gz (427 kB)\n",
      "\u001b[K     |████████████████████████████████| 427 kB 38.9 MB/s eta 0:00:01\n",
      "\u001b[31m    ERROR: Command errored out with exit status 1:\n",
      "     command: /opt/conda/bin/python -c 'import io, os, sys, setuptools, tokenize; sys.argv[0] = '\"'\"'/tmp/pip-install-7o89ocoz/psycopg2_b06b74f1d20a4d6b89c32d60579d848d/setup.py'\"'\"'; __file__='\"'\"'/tmp/pip-install-7o89ocoz/psycopg2_b06b74f1d20a4d6b89c32d60579d848d/setup.py'\"'\"';f = getattr(tokenize, '\"'\"'open'\"'\"', open)(__file__) if os.path.exists(__file__) else io.StringIO('\"'\"'from setuptools import setup; setup()'\"'\"');code = f.read().replace('\"'\"'\\r\\n'\"'\"', '\"'\"'\\n'\"'\"');f.close();exec(compile(code, __file__, '\"'\"'exec'\"'\"'))' egg_info --egg-base /tmp/pip-pip-egg-info-7qs9epjo\n",
      "         cwd: /tmp/pip-install-7o89ocoz/psycopg2_b06b74f1d20a4d6b89c32d60579d848d/\n",
      "    Complete output (23 lines):\n",
      "    running egg_info\n",
      "    creating /tmp/pip-pip-egg-info-7qs9epjo/psycopg2.egg-info\n",
      "    writing /tmp/pip-pip-egg-info-7qs9epjo/psycopg2.egg-info/PKG-INFO\n",
      "    writing dependency_links to /tmp/pip-pip-egg-info-7qs9epjo/psycopg2.egg-info/dependency_links.txt\n",
      "    writing top-level names to /tmp/pip-pip-egg-info-7qs9epjo/psycopg2.egg-info/top_level.txt\n",
      "    writing manifest file '/tmp/pip-pip-egg-info-7qs9epjo/psycopg2.egg-info/SOURCES.txt'\n",
      "    \n",
      "    Error: pg_config executable not found.\n",
      "    \n",
      "    pg_config is required to build psycopg2 from source.  Please add the directory\n",
      "    containing pg_config to the $PATH or specify the full executable path with the\n",
      "    option:\n",
      "    \n",
      "        python setup.py build_ext --pg-config /path/to/pg_config build ...\n",
      "    \n",
      "    or with the pg_config option in 'setup.cfg'.\n",
      "    \n",
      "    If you prefer to avoid building psycopg2 from source, please install the PyPI\n",
      "    'psycopg2-binary' package instead.\n",
      "    \n",
      "    For further information please check the 'doc/src/install.rst' file (also at\n",
      "    <http://initd.org/psycopg/docs/install.html>).\n",
      "    \n",
      "    ----------------------------------------\u001b[0m\n",
      "\u001b[33mWARNING: Discarding https://files.pythonhosted.org/packages/63/54/c039eb0f46f9a9406b59a638415c2012ad7be9b4b97bfddb1f48c280df3a/psycopg2-2.7.7.tar.gz#sha256=f4526d078aedd5187d0508aa5f9a01eae6a48a470ed678406da94b4cd6524b7e (from https://pypi.org/simple/psycopg2/). Command errored out with exit status 1: python setup.py egg_info Check the logs for full command output.\u001b[0m\n",
      "\u001b[?25h  Downloading psycopg2-2.7.6.1.tar.gz (427 kB)\n",
      "\u001b[K     |████████████████████████████████| 427 kB 66.0 MB/s eta 0:00:01\n",
      "\u001b[31m    ERROR: Command errored out with exit status 1:\n",
      "     command: /opt/conda/bin/python -c 'import io, os, sys, setuptools, tokenize; sys.argv[0] = '\"'\"'/tmp/pip-install-7o89ocoz/psycopg2_a713cf8b805b435dbfdea855e31088d6/setup.py'\"'\"'; __file__='\"'\"'/tmp/pip-install-7o89ocoz/psycopg2_a713cf8b805b435dbfdea855e31088d6/setup.py'\"'\"';f = getattr(tokenize, '\"'\"'open'\"'\"', open)(__file__) if os.path.exists(__file__) else io.StringIO('\"'\"'from setuptools import setup; setup()'\"'\"');code = f.read().replace('\"'\"'\\r\\n'\"'\"', '\"'\"'\\n'\"'\"');f.close();exec(compile(code, __file__, '\"'\"'exec'\"'\"'))' egg_info --egg-base /tmp/pip-pip-egg-info-uainh3k6\n",
      "         cwd: /tmp/pip-install-7o89ocoz/psycopg2_a713cf8b805b435dbfdea855e31088d6/\n",
      "    Complete output (23 lines):\n",
      "    running egg_info\n",
      "    creating /tmp/pip-pip-egg-info-uainh3k6/psycopg2.egg-info\n",
      "    writing /tmp/pip-pip-egg-info-uainh3k6/psycopg2.egg-info/PKG-INFO\n",
      "    writing dependency_links to /tmp/pip-pip-egg-info-uainh3k6/psycopg2.egg-info/dependency_links.txt\n",
      "    writing top-level names to /tmp/pip-pip-egg-info-uainh3k6/psycopg2.egg-info/top_level.txt\n",
      "    writing manifest file '/tmp/pip-pip-egg-info-uainh3k6/psycopg2.egg-info/SOURCES.txt'\n",
      "    \n",
      "    Error: pg_config executable not found.\n",
      "    \n",
      "    pg_config is required to build psycopg2 from source.  Please add the directory\n",
      "    containing pg_config to the $PATH or specify the full executable path with the\n",
      "    option:\n",
      "    \n",
      "        python setup.py build_ext --pg-config /path/to/pg_config build ...\n",
      "    \n",
      "    or with the pg_config option in 'setup.cfg'.\n",
      "    \n",
      "    If you prefer to avoid building psycopg2 from source, please install the PyPI\n",
      "    'psycopg2-binary' package instead.\n",
      "    \n",
      "    For further information please check the 'doc/src/install.rst' file (also at\n",
      "    <http://initd.org/psycopg/docs/install.html>).\n",
      "    \n",
      "    ----------------------------------------\u001b[0m\n",
      "\u001b[33mWARNING: Discarding https://files.pythonhosted.org/packages/c0/07/93573b97ed61b6fb907c8439bf58f09957564cf7c39612cef36c547e68c6/psycopg2-2.7.6.1.tar.gz#sha256=27959abe64ca1fc6d8cd11a71a1f421d8287831a3262bd4cacd43bbf43cc3c82 (from https://pypi.org/simple/psycopg2/). Command errored out with exit status 1: python setup.py egg_info Check the logs for full command output.\u001b[0m\n",
      "\u001b[?25h  Downloading psycopg2-2.7.6.tar.gz (427 kB)\n",
      "\u001b[K     |████████████████████████████████| 427 kB 67.3 MB/s eta 0:00:01\n",
      "\u001b[31m    ERROR: Command errored out with exit status 1:\n",
      "     command: /opt/conda/bin/python -c 'import io, os, sys, setuptools, tokenize; sys.argv[0] = '\"'\"'/tmp/pip-install-7o89ocoz/psycopg2_863ef72b5ab74d07a64d4563b0f67091/setup.py'\"'\"'; __file__='\"'\"'/tmp/pip-install-7o89ocoz/psycopg2_863ef72b5ab74d07a64d4563b0f67091/setup.py'\"'\"';f = getattr(tokenize, '\"'\"'open'\"'\"', open)(__file__) if os.path.exists(__file__) else io.StringIO('\"'\"'from setuptools import setup; setup()'\"'\"');code = f.read().replace('\"'\"'\\r\\n'\"'\"', '\"'\"'\\n'\"'\"');f.close();exec(compile(code, __file__, '\"'\"'exec'\"'\"'))' egg_info --egg-base /tmp/pip-pip-egg-info-qxhscr7b\n",
      "         cwd: /tmp/pip-install-7o89ocoz/psycopg2_863ef72b5ab74d07a64d4563b0f67091/\n",
      "    Complete output (23 lines):\n",
      "    running egg_info\n",
      "    creating /tmp/pip-pip-egg-info-qxhscr7b/psycopg2.egg-info\n",
      "    writing /tmp/pip-pip-egg-info-qxhscr7b/psycopg2.egg-info/PKG-INFO\n",
      "    writing dependency_links to /tmp/pip-pip-egg-info-qxhscr7b/psycopg2.egg-info/dependency_links.txt\n",
      "    writing top-level names to /tmp/pip-pip-egg-info-qxhscr7b/psycopg2.egg-info/top_level.txt\n",
      "    writing manifest file '/tmp/pip-pip-egg-info-qxhscr7b/psycopg2.egg-info/SOURCES.txt'\n",
      "    \n",
      "    Error: pg_config executable not found.\n",
      "    \n",
      "    pg_config is required to build psycopg2 from source.  Please add the directory\n",
      "    containing pg_config to the $PATH or specify the full executable path with the\n",
      "    option:\n",
      "    \n",
      "        python setup.py build_ext --pg-config /path/to/pg_config build ...\n",
      "    \n",
      "    or with the pg_config option in 'setup.cfg'.\n",
      "    \n",
      "    If you prefer to avoid building psycopg2 from source, please install the PyPI\n",
      "    'psycopg2-binary' package instead.\n",
      "    \n",
      "    For further information please check the 'doc/src/install.rst' file (also at\n",
      "    <http://initd.org/psycopg/docs/install.html>).\n",
      "    \n",
      "    ----------------------------------------\u001b[0m\n",
      "\u001b[33mWARNING: Discarding https://files.pythonhosted.org/packages/94/09/2f1fae36d83e2315b90ee91738d01baf8af8c945726bf4b4708fcec3256d/psycopg2-2.7.6.tar.gz#sha256=4a658550b0bcb259e97f77f2dc93ed6b108fe2eda963a9e6fc8b48040d542ec2 (from https://pypi.org/simple/psycopg2/). Command errored out with exit status 1: python setup.py egg_info Check the logs for full command output.\u001b[0m\n",
      "\u001b[?25h  Downloading psycopg2-2.7.5.tar.gz (426 kB)\n",
      "\u001b[K     |████████████████████████████████| 426 kB 75.4 MB/s eta 0:00:01\n",
      "\u001b[31m    ERROR: Command errored out with exit status 1:\n",
      "     command: /opt/conda/bin/python -c 'import io, os, sys, setuptools, tokenize; sys.argv[0] = '\"'\"'/tmp/pip-install-7o89ocoz/psycopg2_49b918f6f4054581a97be0b048a3e4ab/setup.py'\"'\"'; __file__='\"'\"'/tmp/pip-install-7o89ocoz/psycopg2_49b918f6f4054581a97be0b048a3e4ab/setup.py'\"'\"';f = getattr(tokenize, '\"'\"'open'\"'\"', open)(__file__) if os.path.exists(__file__) else io.StringIO('\"'\"'from setuptools import setup; setup()'\"'\"');code = f.read().replace('\"'\"'\\r\\n'\"'\"', '\"'\"'\\n'\"'\"');f.close();exec(compile(code, __file__, '\"'\"'exec'\"'\"'))' egg_info --egg-base /tmp/pip-pip-egg-info-7iicsmsq\n",
      "         cwd: /tmp/pip-install-7o89ocoz/psycopg2_49b918f6f4054581a97be0b048a3e4ab/\n",
      "    Complete output (23 lines):\n",
      "    running egg_info\n",
      "    creating /tmp/pip-pip-egg-info-7iicsmsq/psycopg2.egg-info\n",
      "    writing /tmp/pip-pip-egg-info-7iicsmsq/psycopg2.egg-info/PKG-INFO\n",
      "    writing dependency_links to /tmp/pip-pip-egg-info-7iicsmsq/psycopg2.egg-info/dependency_links.txt\n",
      "    writing top-level names to /tmp/pip-pip-egg-info-7iicsmsq/psycopg2.egg-info/top_level.txt\n",
      "    writing manifest file '/tmp/pip-pip-egg-info-7iicsmsq/psycopg2.egg-info/SOURCES.txt'\n",
      "    \n",
      "    Error: pg_config executable not found.\n",
      "    \n",
      "    pg_config is required to build psycopg2 from source.  Please add the directory\n",
      "    containing pg_config to the $PATH or specify the full executable path with the\n",
      "    option:\n",
      "    \n",
      "        python setup.py build_ext --pg-config /path/to/pg_config build ...\n",
      "    \n",
      "    or with the pg_config option in 'setup.cfg'.\n",
      "    \n",
      "    If you prefer to avoid building psycopg2 from source, please install the PyPI\n",
      "    'psycopg2-binary' package instead.\n",
      "    \n",
      "    For further information please check the 'doc/src/install.rst' file (also at\n",
      "    <http://initd.org/psycopg/docs/install.html>).\n",
      "    \n",
      "    ----------------------------------------\u001b[0m\n",
      "\u001b[33mWARNING: Discarding https://files.pythonhosted.org/packages/b2/c1/7bf6c464e903ffc4f3f5907c389e5a4199666bf57f6cd6bf46c17912a1f9/psycopg2-2.7.5.tar.gz#sha256=eccf962d41ca46e6326b97c8fe0a6687b58dfc1a5f6540ed071ff1474cea749e (from https://pypi.org/simple/psycopg2/). Command errored out with exit status 1: python setup.py egg_info Check the logs for full command output.\u001b[0m\n",
      "\u001b[?25h  Downloading psycopg2-2.7.4.tar.gz (425 kB)\n",
      "\u001b[K     |████████████████████████████████| 425 kB 60.0 MB/s eta 0:00:01\n",
      "\u001b[31m    ERROR: Command errored out with exit status 1:\n",
      "     command: /opt/conda/bin/python -c 'import io, os, sys, setuptools, tokenize; sys.argv[0] = '\"'\"'/tmp/pip-install-7o89ocoz/psycopg2_3eb07e81e20f4e99a07b87a2fbbb71f8/setup.py'\"'\"'; __file__='\"'\"'/tmp/pip-install-7o89ocoz/psycopg2_3eb07e81e20f4e99a07b87a2fbbb71f8/setup.py'\"'\"';f = getattr(tokenize, '\"'\"'open'\"'\"', open)(__file__) if os.path.exists(__file__) else io.StringIO('\"'\"'from setuptools import setup; setup()'\"'\"');code = f.read().replace('\"'\"'\\r\\n'\"'\"', '\"'\"'\\n'\"'\"');f.close();exec(compile(code, __file__, '\"'\"'exec'\"'\"'))' egg_info --egg-base /tmp/pip-pip-egg-info-ldmgzfem\n",
      "         cwd: /tmp/pip-install-7o89ocoz/psycopg2_3eb07e81e20f4e99a07b87a2fbbb71f8/\n",
      "    Complete output (23 lines):\n",
      "    running egg_info\n",
      "    creating /tmp/pip-pip-egg-info-ldmgzfem/psycopg2.egg-info\n",
      "    writing /tmp/pip-pip-egg-info-ldmgzfem/psycopg2.egg-info/PKG-INFO\n",
      "    writing dependency_links to /tmp/pip-pip-egg-info-ldmgzfem/psycopg2.egg-info/dependency_links.txt\n",
      "    writing top-level names to /tmp/pip-pip-egg-info-ldmgzfem/psycopg2.egg-info/top_level.txt\n",
      "    writing manifest file '/tmp/pip-pip-egg-info-ldmgzfem/psycopg2.egg-info/SOURCES.txt'\n",
      "    \n",
      "    Error: pg_config executable not found.\n",
      "    \n",
      "    pg_config is required to build psycopg2 from source.  Please add the directory\n",
      "    containing pg_config to the $PATH or specify the full executable path with the\n",
      "    option:\n",
      "    \n",
      "        python setup.py build_ext --pg-config /path/to/pg_config build ...\n",
      "    \n",
      "    or with the pg_config option in 'setup.cfg'.\n",
      "    \n",
      "    If you prefer to avoid building psycopg2 from source, please install the PyPI\n",
      "    'psycopg2-binary' package instead.\n",
      "    \n",
      "    For further information please check the 'doc/src/install.rst' file (also at\n",
      "    <http://initd.org/psycopg/docs/install.html>).\n",
      "    \n",
      "    ----------------------------------------\u001b[0m\n",
      "\u001b[33mWARNING: Discarding https://files.pythonhosted.org/packages/74/83/51580322ed0e82cba7ad8e0af590b8fb2cf11bd5aaa1ed872661bd36f462/psycopg2-2.7.4.tar.gz#sha256=8bf51191d60f6987482ef0cfe8511bbf4877a5aa7f313d7b488b53189cf26209 (from https://pypi.org/simple/psycopg2/). Command errored out with exit status 1: python setup.py egg_info Check the logs for full command output.\u001b[0m\n",
      "\u001b[?25h  Downloading psycopg2-2.7.3.2.tar.gz (425 kB)\n",
      "\u001b[K     |████████████████████████████████| 425 kB 54.7 MB/s eta 0:00:01\n",
      "\u001b[31m    ERROR: Command errored out with exit status 1:\n",
      "     command: /opt/conda/bin/python -c 'import io, os, sys, setuptools, tokenize; sys.argv[0] = '\"'\"'/tmp/pip-install-7o89ocoz/psycopg2_2d442383d3384123a3bf7110015e9bc5/setup.py'\"'\"'; __file__='\"'\"'/tmp/pip-install-7o89ocoz/psycopg2_2d442383d3384123a3bf7110015e9bc5/setup.py'\"'\"';f = getattr(tokenize, '\"'\"'open'\"'\"', open)(__file__) if os.path.exists(__file__) else io.StringIO('\"'\"'from setuptools import setup; setup()'\"'\"');code = f.read().replace('\"'\"'\\r\\n'\"'\"', '\"'\"'\\n'\"'\"');f.close();exec(compile(code, __file__, '\"'\"'exec'\"'\"'))' egg_info --egg-base /tmp/pip-pip-egg-info-4wzl087l\n",
      "         cwd: /tmp/pip-install-7o89ocoz/psycopg2_2d442383d3384123a3bf7110015e9bc5/\n",
      "    Complete output (14 lines):\n",
      "    running egg_info\n",
      "    creating /tmp/pip-pip-egg-info-4wzl087l/psycopg2.egg-info\n",
      "    writing /tmp/pip-pip-egg-info-4wzl087l/psycopg2.egg-info/PKG-INFO\n",
      "    writing dependency_links to /tmp/pip-pip-egg-info-4wzl087l/psycopg2.egg-info/dependency_links.txt\n",
      "    writing top-level names to /tmp/pip-pip-egg-info-4wzl087l/psycopg2.egg-info/top_level.txt\n",
      "    writing manifest file '/tmp/pip-pip-egg-info-4wzl087l/psycopg2.egg-info/SOURCES.txt'\n",
      "    Error: pg_config executable not found.\n",
      "    \n",
      "    Please add the directory containing pg_config to the PATH\n",
      "    or specify the full executable path with the option:\n",
      "    \n",
      "        python setup.py build_ext --pg-config /path/to/pg_config build ...\n",
      "    \n",
      "    or with the pg_config option in 'setup.cfg'.\n",
      "    ----------------------------------------\u001b[0m\n",
      "\u001b[33mWARNING: Discarding https://files.pythonhosted.org/packages/dd/47/000b405d73ca22980684fd7bd3318690cc03cfa3b2ae1c5b7fff8050b28a/psycopg2-2.7.3.2.tar.gz#sha256=5c3213be557d0468f9df8fe2487eaf2990d9799202c5ff5cb8d394d09fad9b2a (from https://pypi.org/simple/psycopg2/). Command errored out with exit status 1: python setup.py egg_info Check the logs for full command output.\u001b[0m\n",
      "\u001b[?25h  Downloading psycopg2-2.7.3.1.tar.gz (425 kB)\n",
      "\u001b[K     |████████████████████████████████| 425 kB 78.4 MB/s eta 0:00:01\n",
      "\u001b[31m    ERROR: Command errored out with exit status 1:\n",
      "     command: /opt/conda/bin/python -c 'import io, os, sys, setuptools, tokenize; sys.argv[0] = '\"'\"'/tmp/pip-install-7o89ocoz/psycopg2_ad10a2753c194b52af28941b86bdeaf4/setup.py'\"'\"'; __file__='\"'\"'/tmp/pip-install-7o89ocoz/psycopg2_ad10a2753c194b52af28941b86bdeaf4/setup.py'\"'\"';f = getattr(tokenize, '\"'\"'open'\"'\"', open)(__file__) if os.path.exists(__file__) else io.StringIO('\"'\"'from setuptools import setup; setup()'\"'\"');code = f.read().replace('\"'\"'\\r\\n'\"'\"', '\"'\"'\\n'\"'\"');f.close();exec(compile(code, __file__, '\"'\"'exec'\"'\"'))' egg_info --egg-base /tmp/pip-pip-egg-info-jaa__73i\n",
      "         cwd: /tmp/pip-install-7o89ocoz/psycopg2_ad10a2753c194b52af28941b86bdeaf4/\n",
      "    Complete output (14 lines):\n",
      "    running egg_info\n",
      "    creating /tmp/pip-pip-egg-info-jaa__73i/psycopg2.egg-info\n",
      "    writing /tmp/pip-pip-egg-info-jaa__73i/psycopg2.egg-info/PKG-INFO\n",
      "    writing dependency_links to /tmp/pip-pip-egg-info-jaa__73i/psycopg2.egg-info/dependency_links.txt\n",
      "    writing top-level names to /tmp/pip-pip-egg-info-jaa__73i/psycopg2.egg-info/top_level.txt\n",
      "    writing manifest file '/tmp/pip-pip-egg-info-jaa__73i/psycopg2.egg-info/SOURCES.txt'\n",
      "    Error: pg_config executable not found.\n",
      "    \n",
      "    Please add the directory containing pg_config to the PATH\n",
      "    or specify the full executable path with the option:\n",
      "    \n",
      "        python setup.py build_ext --pg-config /path/to/pg_config build ...\n",
      "    \n",
      "    or with the pg_config option in 'setup.cfg'.\n",
      "    ----------------------------------------\u001b[0m\n",
      "\u001b[33mWARNING: Discarding https://files.pythonhosted.org/packages/6b/fb/15c687eda2f925f0ff59373063fdb408471b4284714a7761daaa65c01f15/psycopg2-2.7.3.1.tar.gz#sha256=9b7b16e26448b43cf167f785d8b5345007731ebf153a510e12dae826800caa65 (from https://pypi.org/simple/psycopg2/). Command errored out with exit status 1: python setup.py egg_info Check the logs for full command output.\u001b[0m\n",
      "\u001b[?25h  Downloading psycopg2-2.7.3.tar.gz (425 kB)\n",
      "\u001b[K     |████████████████████████████████| 425 kB 36.3 MB/s eta 0:00:01\n",
      "\u001b[31m    ERROR: Command errored out with exit status 1:\n",
      "     command: /opt/conda/bin/python -c 'import io, os, sys, setuptools, tokenize; sys.argv[0] = '\"'\"'/tmp/pip-install-7o89ocoz/psycopg2_71ce0c6f6c1c4495851324a23f601fc5/setup.py'\"'\"'; __file__='\"'\"'/tmp/pip-install-7o89ocoz/psycopg2_71ce0c6f6c1c4495851324a23f601fc5/setup.py'\"'\"';f = getattr(tokenize, '\"'\"'open'\"'\"', open)(__file__) if os.path.exists(__file__) else io.StringIO('\"'\"'from setuptools import setup; setup()'\"'\"');code = f.read().replace('\"'\"'\\r\\n'\"'\"', '\"'\"'\\n'\"'\"');f.close();exec(compile(code, __file__, '\"'\"'exec'\"'\"'))' egg_info --egg-base /tmp/pip-pip-egg-info-2hkn_elh\n",
      "         cwd: /tmp/pip-install-7o89ocoz/psycopg2_71ce0c6f6c1c4495851324a23f601fc5/\n",
      "    Complete output (14 lines):\n",
      "    running egg_info\n",
      "    creating /tmp/pip-pip-egg-info-2hkn_elh/psycopg2.egg-info\n",
      "    writing /tmp/pip-pip-egg-info-2hkn_elh/psycopg2.egg-info/PKG-INFO\n",
      "    writing dependency_links to /tmp/pip-pip-egg-info-2hkn_elh/psycopg2.egg-info/dependency_links.txt\n",
      "    writing top-level names to /tmp/pip-pip-egg-info-2hkn_elh/psycopg2.egg-info/top_level.txt\n",
      "    writing manifest file '/tmp/pip-pip-egg-info-2hkn_elh/psycopg2.egg-info/SOURCES.txt'\n",
      "    Error: pg_config executable not found.\n",
      "    \n",
      "    Please add the directory containing pg_config to the PATH\n",
      "    or specify the full executable path with the option:\n",
      "    \n",
      "        python setup.py build_ext --pg-config /path/to/pg_config build ...\n",
      "    \n",
      "    or with the pg_config option in 'setup.cfg'.\n",
      "    ----------------------------------------\u001b[0m\n",
      "\u001b[33mWARNING: Discarding https://files.pythonhosted.org/packages/98/99/33ca02c4bc3ed1bd9ceab5614bda2e6d1d31e61ec58345b9feece238c38a/psycopg2-2.7.3.tar.gz#sha256=c9bd49848556d04093909faec017c3675efabf78c2b7f383bf7c43ba18324ac8 (from https://pypi.org/simple/psycopg2/). Command errored out with exit status 1: python setup.py egg_info Check the logs for full command output.\u001b[0m\n",
      "\u001b[?25h  Downloading psycopg2-2.7.2.tar.gz (424 kB)\n",
      "\u001b[K     |████████████████████████████████| 424 kB 66.8 MB/s eta 0:00:01\n",
      "\u001b[31m    ERROR: Command errored out with exit status 1:\n",
      "     command: /opt/conda/bin/python -c 'import io, os, sys, setuptools, tokenize; sys.argv[0] = '\"'\"'/tmp/pip-install-7o89ocoz/psycopg2_7aa3965a9ebf433cac09302f9283dc05/setup.py'\"'\"'; __file__='\"'\"'/tmp/pip-install-7o89ocoz/psycopg2_7aa3965a9ebf433cac09302f9283dc05/setup.py'\"'\"';f = getattr(tokenize, '\"'\"'open'\"'\"', open)(__file__) if os.path.exists(__file__) else io.StringIO('\"'\"'from setuptools import setup; setup()'\"'\"');code = f.read().replace('\"'\"'\\r\\n'\"'\"', '\"'\"'\\n'\"'\"');f.close();exec(compile(code, __file__, '\"'\"'exec'\"'\"'))' egg_info --egg-base /tmp/pip-pip-egg-info-h7tnpvrk\n",
      "         cwd: /tmp/pip-install-7o89ocoz/psycopg2_7aa3965a9ebf433cac09302f9283dc05/\n",
      "    Complete output (14 lines):\n",
      "    running egg_info\n",
      "    creating /tmp/pip-pip-egg-info-h7tnpvrk/psycopg2.egg-info\n",
      "    writing /tmp/pip-pip-egg-info-h7tnpvrk/psycopg2.egg-info/PKG-INFO\n",
      "    writing dependency_links to /tmp/pip-pip-egg-info-h7tnpvrk/psycopg2.egg-info/dependency_links.txt\n",
      "    writing top-level names to /tmp/pip-pip-egg-info-h7tnpvrk/psycopg2.egg-info/top_level.txt\n",
      "    writing manifest file '/tmp/pip-pip-egg-info-h7tnpvrk/psycopg2.egg-info/SOURCES.txt'\n",
      "    Error: pg_config executable not found.\n",
      "    \n",
      "    Please add the directory containing pg_config to the PATH\n",
      "    or specify the full executable path with the option:\n",
      "    \n",
      "        python setup.py build_ext --pg-config /path/to/pg_config build ...\n",
      "    \n",
      "    or with the pg_config option in 'setup.cfg'.\n",
      "    ----------------------------------------\u001b[0m\n",
      "\u001b[33mWARNING: Discarding https://files.pythonhosted.org/packages/d0/66/61c1b34ea8da8f95d99676e6803ccad83abef3ac90df145b45033696f3d2/psycopg2-2.7.2.tar.gz#sha256=3767f40bb35713ccc75dbcff80bf228a75e080d6b98c78afd5fb9aa84682a9f4 (from https://pypi.org/simple/psycopg2/). Command errored out with exit status 1: python setup.py egg_info Check the logs for full command output.\u001b[0m\n",
      "\u001b[?25h  Downloading psycopg2-2.7.1.tar.gz (421 kB)\n",
      "\u001b[K     |████████████████████████████████| 421 kB 52.1 MB/s eta 0:00:01\n",
      "\u001b[31m    ERROR: Command errored out with exit status 1:\n",
      "     command: /opt/conda/bin/python -c 'import io, os, sys, setuptools, tokenize; sys.argv[0] = '\"'\"'/tmp/pip-install-7o89ocoz/psycopg2_1dc2bdf51b63420bb9df8da6569dde1f/setup.py'\"'\"'; __file__='\"'\"'/tmp/pip-install-7o89ocoz/psycopg2_1dc2bdf51b63420bb9df8da6569dde1f/setup.py'\"'\"';f = getattr(tokenize, '\"'\"'open'\"'\"', open)(__file__) if os.path.exists(__file__) else io.StringIO('\"'\"'from setuptools import setup; setup()'\"'\"');code = f.read().replace('\"'\"'\\r\\n'\"'\"', '\"'\"'\\n'\"'\"');f.close();exec(compile(code, __file__, '\"'\"'exec'\"'\"'))' egg_info --egg-base /tmp/pip-pip-egg-info-v18sgi_9\n",
      "         cwd: /tmp/pip-install-7o89ocoz/psycopg2_1dc2bdf51b63420bb9df8da6569dde1f/\n",
      "    Complete output (14 lines):\n",
      "    running egg_info\n",
      "    creating /tmp/pip-pip-egg-info-v18sgi_9/psycopg2.egg-info\n",
      "    writing /tmp/pip-pip-egg-info-v18sgi_9/psycopg2.egg-info/PKG-INFO\n",
      "    writing dependency_links to /tmp/pip-pip-egg-info-v18sgi_9/psycopg2.egg-info/dependency_links.txt\n",
      "    writing top-level names to /tmp/pip-pip-egg-info-v18sgi_9/psycopg2.egg-info/top_level.txt\n",
      "    writing manifest file '/tmp/pip-pip-egg-info-v18sgi_9/psycopg2.egg-info/SOURCES.txt'\n",
      "    Error: pg_config executable not found.\n",
      "    \n",
      "    Please add the directory containing pg_config to the PATH\n",
      "    or specify the full executable path with the option:\n",
      "    \n",
      "        python setup.py build_ext --pg-config /path/to/pg_config build ...\n",
      "    \n",
      "    or with the pg_config option in 'setup.cfg'.\n",
      "    ----------------------------------------\u001b[0m\n",
      "\u001b[33mWARNING: Discarding https://files.pythonhosted.org/packages/f8/e9/5793369ce8a41bf5467623ded8d59a434dfef9c136351aca4e70c2657ba0/psycopg2-2.7.1.tar.gz#sha256=86c9355f5374b008c8479bc00023b295c07d508f7c3b91dbd2e74f8925b1d9c6 (from https://pypi.org/simple/psycopg2/). Command errored out with exit status 1: python setup.py egg_info Check the logs for full command output.\u001b[0m\n",
      "\u001b[?25h  Downloading psycopg2-2.7.tar.gz (421 kB)\n",
      "\u001b[K     |████████████████████████████████| 421 kB 65.1 MB/s eta 0:00:01\n",
      "\u001b[31m    ERROR: Command errored out with exit status 1:\n",
      "     command: /opt/conda/bin/python -c 'import io, os, sys, setuptools, tokenize; sys.argv[0] = '\"'\"'/tmp/pip-install-7o89ocoz/psycopg2_9f9f7c8a2d7f4a8e860c3a3af368c41e/setup.py'\"'\"'; __file__='\"'\"'/tmp/pip-install-7o89ocoz/psycopg2_9f9f7c8a2d7f4a8e860c3a3af368c41e/setup.py'\"'\"';f = getattr(tokenize, '\"'\"'open'\"'\"', open)(__file__) if os.path.exists(__file__) else io.StringIO('\"'\"'from setuptools import setup; setup()'\"'\"');code = f.read().replace('\"'\"'\\r\\n'\"'\"', '\"'\"'\\n'\"'\"');f.close();exec(compile(code, __file__, '\"'\"'exec'\"'\"'))' egg_info --egg-base /tmp/pip-pip-egg-info-o2207rm8\n",
      "         cwd: /tmp/pip-install-7o89ocoz/psycopg2_9f9f7c8a2d7f4a8e860c3a3af368c41e/\n",
      "    Complete output (14 lines):\n",
      "    running egg_info\n",
      "    creating /tmp/pip-pip-egg-info-o2207rm8/psycopg2.egg-info\n",
      "    writing /tmp/pip-pip-egg-info-o2207rm8/psycopg2.egg-info/PKG-INFO\n",
      "    writing dependency_links to /tmp/pip-pip-egg-info-o2207rm8/psycopg2.egg-info/dependency_links.txt\n",
      "    writing top-level names to /tmp/pip-pip-egg-info-o2207rm8/psycopg2.egg-info/top_level.txt\n",
      "    writing manifest file '/tmp/pip-pip-egg-info-o2207rm8/psycopg2.egg-info/SOURCES.txt'\n",
      "    Error: pg_config executable not found.\n",
      "    \n",
      "    Please add the directory containing pg_config to the PATH\n",
      "    or specify the full executable path with the option:\n",
      "    \n",
      "        python setup.py build_ext --pg-config /path/to/pg_config build ...\n",
      "    \n",
      "    or with the pg_config option in 'setup.cfg'.\n",
      "    ----------------------------------------\u001b[0m\n",
      "\u001b[33mWARNING: Discarding https://files.pythonhosted.org/packages/62/ca/0a479c9664526e86c2913a7ad593586eeb86b428b7e629e7c7b6b69e3cb7/psycopg2-2.7.tar.gz#sha256=ceadecf660ad4f7a31ea5baef30a7351add8626f9fd3daaafabb9a9e549f3f9a (from https://pypi.org/simple/psycopg2/). Command errored out with exit status 1: python setup.py egg_info Check the logs for full command output.\u001b[0m\n",
      "\u001b[?25h  Downloading psycopg2-2.6.2.tar.gz (376 kB)\n",
      "\u001b[K     |████████████████████████████████| 376 kB 68.9 MB/s eta 0:00:01\n",
      "\u001b[31m    ERROR: Command errored out with exit status 1:\n",
      "     command: /opt/conda/bin/python -c 'import io, os, sys, setuptools, tokenize; sys.argv[0] = '\"'\"'/tmp/pip-install-7o89ocoz/psycopg2_f83db58fae9a4813854b6c73587096ca/setup.py'\"'\"'; __file__='\"'\"'/tmp/pip-install-7o89ocoz/psycopg2_f83db58fae9a4813854b6c73587096ca/setup.py'\"'\"';f = getattr(tokenize, '\"'\"'open'\"'\"', open)(__file__) if os.path.exists(__file__) else io.StringIO('\"'\"'from setuptools import setup; setup()'\"'\"');code = f.read().replace('\"'\"'\\r\\n'\"'\"', '\"'\"'\\n'\"'\"');f.close();exec(compile(code, __file__, '\"'\"'exec'\"'\"'))' egg_info --egg-base /tmp/pip-pip-egg-info-uljbng0c\n",
      "         cwd: /tmp/pip-install-7o89ocoz/psycopg2_f83db58fae9a4813854b6c73587096ca/\n",
      "    Complete output (14 lines):\n",
      "    running egg_info\n",
      "    creating /tmp/pip-pip-egg-info-uljbng0c/psycopg2.egg-info\n",
      "    writing /tmp/pip-pip-egg-info-uljbng0c/psycopg2.egg-info/PKG-INFO\n",
      "    writing dependency_links to /tmp/pip-pip-egg-info-uljbng0c/psycopg2.egg-info/dependency_links.txt\n",
      "    writing top-level names to /tmp/pip-pip-egg-info-uljbng0c/psycopg2.egg-info/top_level.txt\n",
      "    writing manifest file '/tmp/pip-pip-egg-info-uljbng0c/psycopg2.egg-info/SOURCES.txt'\n",
      "    Error: pg_config executable not found.\n",
      "    \n",
      "    Please add the directory containing pg_config to the PATH\n",
      "    or specify the full executable path with the option:\n",
      "    \n",
      "        python setup.py build_ext --pg-config /path/to/pg_config build ...\n",
      "    \n",
      "    or with the pg_config option in 'setup.cfg'.\n",
      "    ----------------------------------------\u001b[0m\n",
      "\u001b[33mWARNING: Discarding https://files.pythonhosted.org/packages/7b/a8/dc2d50a6f37c157459cd18bab381c8e6134b9381b50fbe969997b2ae7dbc/psycopg2-2.6.2.tar.gz#sha256=70490e12ed9c5c818ecd85d185d363335cc8a8cbf7212e3c185431c79ff8c05c (from https://pypi.org/simple/psycopg2/). Command errored out with exit status 1: python setup.py egg_info Check the logs for full command output.\u001b[0m\n",
      "\u001b[?25h  Downloading psycopg2-2.6.1.tar.gz (371 kB)\n",
      "\u001b[K     |████████████████████████████████| 371 kB 76.6 MB/s eta 0:00:01\n",
      "\u001b[31m    ERROR: Command errored out with exit status 1:\n",
      "     command: /opt/conda/bin/python -c 'import io, os, sys, setuptools, tokenize; sys.argv[0] = '\"'\"'/tmp/pip-install-7o89ocoz/psycopg2_bdd142d412c943818a6d6a6160c52144/setup.py'\"'\"'; __file__='\"'\"'/tmp/pip-install-7o89ocoz/psycopg2_bdd142d412c943818a6d6a6160c52144/setup.py'\"'\"';f = getattr(tokenize, '\"'\"'open'\"'\"', open)(__file__) if os.path.exists(__file__) else io.StringIO('\"'\"'from setuptools import setup; setup()'\"'\"');code = f.read().replace('\"'\"'\\r\\n'\"'\"', '\"'\"'\\n'\"'\"');f.close();exec(compile(code, __file__, '\"'\"'exec'\"'\"'))' egg_info --egg-base /tmp/pip-pip-egg-info-72_20e4r\n",
      "         cwd: /tmp/pip-install-7o89ocoz/psycopg2_bdd142d412c943818a6d6a6160c52144/\n",
      "    Complete output (14 lines):\n",
      "    running egg_info\n",
      "    creating /tmp/pip-pip-egg-info-72_20e4r/psycopg2.egg-info\n",
      "    writing /tmp/pip-pip-egg-info-72_20e4r/psycopg2.egg-info/PKG-INFO\n",
      "    writing dependency_links to /tmp/pip-pip-egg-info-72_20e4r/psycopg2.egg-info/dependency_links.txt\n",
      "    writing top-level names to /tmp/pip-pip-egg-info-72_20e4r/psycopg2.egg-info/top_level.txt\n",
      "    writing manifest file '/tmp/pip-pip-egg-info-72_20e4r/psycopg2.egg-info/SOURCES.txt'\n",
      "    Error: pg_config executable not found.\n",
      "    \n",
      "    Please add the directory containing pg_config to the PATH\n",
      "    or specify the full executable path with the option:\n",
      "    \n",
      "        python setup.py build_ext --pg-config /path/to/pg_config build ...\n",
      "    \n",
      "    or with the pg_config option in 'setup.cfg'.\n",
      "    ----------------------------------------\u001b[0m\n",
      "\u001b[33mWARNING: Discarding https://files.pythonhosted.org/packages/86/fd/cc8315be63a41fe000cce20482a917e874cdc1151e62cb0141f5e55f711e/psycopg2-2.6.1.tar.gz#sha256=6acf9abbbe757ef75dc2ecd9d91ba749547941abaffbe69ff2086a9e37d4904c (from https://pypi.org/simple/psycopg2/). Command errored out with exit status 1: python setup.py egg_info Check the logs for full command output.\u001b[0m\n",
      "\u001b[?25h  Downloading psycopg2-2.6.tar.gz (367 kB)\n",
      "\u001b[K     |████████████████████████████████| 367 kB 39.2 MB/s eta 0:00:01\n",
      "\u001b[31m    ERROR: Command errored out with exit status 1:\n",
      "     command: /opt/conda/bin/python -c 'import io, os, sys, setuptools, tokenize; sys.argv[0] = '\"'\"'/tmp/pip-install-7o89ocoz/psycopg2_e9a832df40c14c1091f42f1fb8dfab7b/setup.py'\"'\"'; __file__='\"'\"'/tmp/pip-install-7o89ocoz/psycopg2_e9a832df40c14c1091f42f1fb8dfab7b/setup.py'\"'\"';f = getattr(tokenize, '\"'\"'open'\"'\"', open)(__file__) if os.path.exists(__file__) else io.StringIO('\"'\"'from setuptools import setup; setup()'\"'\"');code = f.read().replace('\"'\"'\\r\\n'\"'\"', '\"'\"'\\n'\"'\"');f.close();exec(compile(code, __file__, '\"'\"'exec'\"'\"'))' egg_info --egg-base /tmp/pip-pip-egg-info-qq5g9yn4\n",
      "         cwd: /tmp/pip-install-7o89ocoz/psycopg2_e9a832df40c14c1091f42f1fb8dfab7b/\n",
      "    Complete output (14 lines):\n",
      "    running egg_info\n",
      "    creating /tmp/pip-pip-egg-info-qq5g9yn4/psycopg2.egg-info\n",
      "    writing /tmp/pip-pip-egg-info-qq5g9yn4/psycopg2.egg-info/PKG-INFO\n",
      "    writing dependency_links to /tmp/pip-pip-egg-info-qq5g9yn4/psycopg2.egg-info/dependency_links.txt\n",
      "    writing top-level names to /tmp/pip-pip-egg-info-qq5g9yn4/psycopg2.egg-info/top_level.txt\n",
      "    writing manifest file '/tmp/pip-pip-egg-info-qq5g9yn4/psycopg2.egg-info/SOURCES.txt'\n",
      "    Error: pg_config executable not found.\n",
      "    \n",
      "    Please add the directory containing pg_config to the PATH\n",
      "    or specify the full executable path with the option:\n",
      "    \n",
      "        python setup.py build_ext --pg-config /path/to/pg_config build ...\n",
      "    \n",
      "    or with the pg_config option in 'setup.cfg'.\n",
      "    ----------------------------------------\u001b[0m\n",
      "\u001b[33mWARNING: Discarding https://files.pythonhosted.org/packages/dd/c7/9016ff8ff69da269b1848276eebfb264af5badf6b38caad805426771f04d/psycopg2-2.6.tar.gz#sha256=c00afecb302a99a4f83dec9b055c4d1cc196926d62c8db015d68432df8118ca8 (from https://pypi.org/simple/psycopg2/). Command errored out with exit status 1: python setup.py egg_info Check the logs for full command output.\u001b[0m\n",
      "\u001b[?25h  Downloading psycopg2-2.5.5.tar.gz (779 kB)\n",
      "\u001b[K     |████████████████████████████████| 779 kB 61.0 MB/s eta 0:00:01\n",
      "\u001b[31m    ERROR: Command errored out with exit status 1:\n",
      "     command: /opt/conda/bin/python -c 'import io, os, sys, setuptools, tokenize; sys.argv[0] = '\"'\"'/tmp/pip-install-7o89ocoz/psycopg2_dad892dd4d9144239b296960ab2f18ac/setup.py'\"'\"'; __file__='\"'\"'/tmp/pip-install-7o89ocoz/psycopg2_dad892dd4d9144239b296960ab2f18ac/setup.py'\"'\"';f = getattr(tokenize, '\"'\"'open'\"'\"', open)(__file__) if os.path.exists(__file__) else io.StringIO('\"'\"'from setuptools import setup; setup()'\"'\"');code = f.read().replace('\"'\"'\\r\\n'\"'\"', '\"'\"'\\n'\"'\"');f.close();exec(compile(code, __file__, '\"'\"'exec'\"'\"'))' egg_info --egg-base /tmp/pip-pip-egg-info-kikc_cdp\n",
      "         cwd: /tmp/pip-install-7o89ocoz/psycopg2_dad892dd4d9144239b296960ab2f18ac/\n",
      "    Complete output (14 lines):\n",
      "    running egg_info\n",
      "    creating /tmp/pip-pip-egg-info-kikc_cdp/psycopg2.egg-info\n",
      "    writing /tmp/pip-pip-egg-info-kikc_cdp/psycopg2.egg-info/PKG-INFO\n",
      "    writing dependency_links to /tmp/pip-pip-egg-info-kikc_cdp/psycopg2.egg-info/dependency_links.txt\n",
      "    writing top-level names to /tmp/pip-pip-egg-info-kikc_cdp/psycopg2.egg-info/top_level.txt\n",
      "    writing manifest file '/tmp/pip-pip-egg-info-kikc_cdp/psycopg2.egg-info/SOURCES.txt'\n",
      "    Error: pg_config executable not found.\n",
      "    \n",
      "    Please add the directory containing pg_config to the PATH\n",
      "    or specify the full executable path with the option:\n",
      "    \n",
      "        python setup.py build_ext --pg-config /path/to/pg_config build ...\n",
      "    \n",
      "    or with the pg_config option in 'setup.cfg'.\n",
      "    ----------------------------------------\u001b[0m\n",
      "\u001b[33mWARNING: Discarding https://files.pythonhosted.org/packages/9b/60/f4c79e73a69ded145880bcf4f98eeed741af12c62c5ddc89b754602b1807/psycopg2-2.5.5.tar.gz#sha256=c6c330c98ab08c5639f0ccd7e211b82b3a39f001813dcea6bb824a99d2b34fe2 (from https://pypi.org/simple/psycopg2/). Command errored out with exit status 1: python setup.py egg_info Check the logs for full command output.\u001b[0m\n",
      "\u001b[?25h  Downloading psycopg2-2.5.4.tar.gz (682 kB)\n",
      "\u001b[K     |████████████████████████████████| 682 kB 50.8 MB/s eta 0:00:01\n",
      "\u001b[31m    ERROR: Command errored out with exit status 1:\n",
      "     command: /opt/conda/bin/python -c 'import io, os, sys, setuptools, tokenize; sys.argv[0] = '\"'\"'/tmp/pip-install-7o89ocoz/psycopg2_534fc70e640f4ff28f86b1ffe302b77e/setup.py'\"'\"'; __file__='\"'\"'/tmp/pip-install-7o89ocoz/psycopg2_534fc70e640f4ff28f86b1ffe302b77e/setup.py'\"'\"';f = getattr(tokenize, '\"'\"'open'\"'\"', open)(__file__) if os.path.exists(__file__) else io.StringIO('\"'\"'from setuptools import setup; setup()'\"'\"');code = f.read().replace('\"'\"'\\r\\n'\"'\"', '\"'\"'\\n'\"'\"');f.close();exec(compile(code, __file__, '\"'\"'exec'\"'\"'))' egg_info --egg-base /tmp/pip-pip-egg-info-rug8vhlo\n",
      "         cwd: /tmp/pip-install-7o89ocoz/psycopg2_534fc70e640f4ff28f86b1ffe302b77e/\n",
      "    Complete output (14 lines):\n",
      "    running egg_info\n",
      "    creating /tmp/pip-pip-egg-info-rug8vhlo/psycopg2.egg-info\n",
      "    writing /tmp/pip-pip-egg-info-rug8vhlo/psycopg2.egg-info/PKG-INFO\n",
      "    writing dependency_links to /tmp/pip-pip-egg-info-rug8vhlo/psycopg2.egg-info/dependency_links.txt\n",
      "    writing top-level names to /tmp/pip-pip-egg-info-rug8vhlo/psycopg2.egg-info/top_level.txt\n",
      "    writing manifest file '/tmp/pip-pip-egg-info-rug8vhlo/psycopg2.egg-info/SOURCES.txt'\n",
      "    Error: pg_config executable not found.\n",
      "    \n",
      "    Please add the directory containing pg_config to the PATH\n",
      "    or specify the full executable path with the option:\n",
      "    \n",
      "        python setup.py build_ext --pg-config /path/to/pg_config build ...\n",
      "    \n",
      "    or with the pg_config option in 'setup.cfg'.\n",
      "    ----------------------------------------\u001b[0m\n",
      "\u001b[33mWARNING: Discarding https://files.pythonhosted.org/packages/63/c3/802668cb3cfc2880c2a8364623e7105a0257724a2612bb66ec733aaddb8c/psycopg2-2.5.4.tar.gz#sha256=24ba3f328aba08d8d505bc2a8f68a94ebe24a85e8483640b667221bc0efd3b1e (from https://pypi.org/simple/psycopg2/). Command errored out with exit status 1: python setup.py egg_info Check the logs for full command output.\u001b[0m\n",
      "\u001b[?25h  Downloading psycopg2-2.5.3.tar.gz (690 kB)\n",
      "\u001b[K     |████████████████████████████████| 690 kB 54.8 MB/s eta 0:00:01\n",
      "\u001b[31m    ERROR: Command errored out with exit status 1:\n",
      "     command: /opt/conda/bin/python -c 'import io, os, sys, setuptools, tokenize; sys.argv[0] = '\"'\"'/tmp/pip-install-7o89ocoz/psycopg2_12bdbf773df7405d898e22971137aa31/setup.py'\"'\"'; __file__='\"'\"'/tmp/pip-install-7o89ocoz/psycopg2_12bdbf773df7405d898e22971137aa31/setup.py'\"'\"';f = getattr(tokenize, '\"'\"'open'\"'\"', open)(__file__) if os.path.exists(__file__) else io.StringIO('\"'\"'from setuptools import setup; setup()'\"'\"');code = f.read().replace('\"'\"'\\r\\n'\"'\"', '\"'\"'\\n'\"'\"');f.close();exec(compile(code, __file__, '\"'\"'exec'\"'\"'))' egg_info --egg-base /tmp/pip-pip-egg-info-gm4z0zqc\n",
      "         cwd: /tmp/pip-install-7o89ocoz/psycopg2_12bdbf773df7405d898e22971137aa31/\n",
      "    Complete output (14 lines):\n",
      "    running egg_info\n",
      "    creating /tmp/pip-pip-egg-info-gm4z0zqc/psycopg2.egg-info\n",
      "    writing /tmp/pip-pip-egg-info-gm4z0zqc/psycopg2.egg-info/PKG-INFO\n",
      "    writing dependency_links to /tmp/pip-pip-egg-info-gm4z0zqc/psycopg2.egg-info/dependency_links.txt\n",
      "    writing top-level names to /tmp/pip-pip-egg-info-gm4z0zqc/psycopg2.egg-info/top_level.txt\n",
      "    writing manifest file '/tmp/pip-pip-egg-info-gm4z0zqc/psycopg2.egg-info/SOURCES.txt'\n",
      "    Error: pg_config executable not found.\n",
      "    \n",
      "    Please add the directory containing pg_config to the PATH\n",
      "    or specify the full executable path with the option:\n",
      "    \n",
      "        python setup.py build_ext --pg-config /path/to/pg_config build ...\n",
      "    \n",
      "    or with the pg_config option in 'setup.cfg'.\n",
      "    ----------------------------------------\u001b[0m\n",
      "\u001b[33mWARNING: Discarding https://files.pythonhosted.org/packages/22/fa/5ddcafc7387c1534c59eb3ffcdb9ab2af106fd3b104e6df191b6c55718af/psycopg2-2.5.3.tar.gz#sha256=3a2df3bb113187227aa97d0dd3d06e0f26be3d50dcdeeaef67fac59ed51a030a (from https://pypi.org/simple/psycopg2/). Command errored out with exit status 1: python setup.py egg_info Check the logs for full command output.\u001b[0m\n",
      "\u001b[?25h  Downloading psycopg2-2.5.2.tar.gz (685 kB)\n",
      "\u001b[K     |████████████████████████████████| 685 kB 57.3 MB/s eta 0:00:01\n",
      "\u001b[31m    ERROR: Command errored out with exit status 1:\n",
      "     command: /opt/conda/bin/python -c 'import io, os, sys, setuptools, tokenize; sys.argv[0] = '\"'\"'/tmp/pip-install-7o89ocoz/psycopg2_8bef8355174d4c828eaacfbf30aebf43/setup.py'\"'\"'; __file__='\"'\"'/tmp/pip-install-7o89ocoz/psycopg2_8bef8355174d4c828eaacfbf30aebf43/setup.py'\"'\"';f = getattr(tokenize, '\"'\"'open'\"'\"', open)(__file__) if os.path.exists(__file__) else io.StringIO('\"'\"'from setuptools import setup; setup()'\"'\"');code = f.read().replace('\"'\"'\\r\\n'\"'\"', '\"'\"'\\n'\"'\"');f.close();exec(compile(code, __file__, '\"'\"'exec'\"'\"'))' egg_info --egg-base /tmp/pip-pip-egg-info-55eb039x\n",
      "         cwd: /tmp/pip-install-7o89ocoz/psycopg2_8bef8355174d4c828eaacfbf30aebf43/\n",
      "    Complete output (14 lines):\n",
      "    running egg_info\n",
      "    creating /tmp/pip-pip-egg-info-55eb039x/psycopg2.egg-info\n",
      "    writing /tmp/pip-pip-egg-info-55eb039x/psycopg2.egg-info/PKG-INFO\n",
      "    writing dependency_links to /tmp/pip-pip-egg-info-55eb039x/psycopg2.egg-info/dependency_links.txt\n",
      "    writing top-level names to /tmp/pip-pip-egg-info-55eb039x/psycopg2.egg-info/top_level.txt\n",
      "    writing manifest file '/tmp/pip-pip-egg-info-55eb039x/psycopg2.egg-info/SOURCES.txt'\n",
      "    Error: pg_config executable not found.\n",
      "    \n",
      "    Please add the directory containing pg_config to the PATH\n",
      "    or specify the full executable path with the option:\n",
      "    \n",
      "        python setup.py build_ext --pg-config /path/to/pg_config build ...\n",
      "    \n",
      "    or with the pg_config option in 'setup.cfg'.\n",
      "    ----------------------------------------\u001b[0m\n",
      "\u001b[33mWARNING: Discarding https://files.pythonhosted.org/packages/c3/f3/5519551f02ae70fc51f4e608e7b44d59a408fe3264fec4afeea37b8ea317/psycopg2-2.5.2.tar.gz#sha256=50382d8703a16c3c615f328c2676f002787095925c99f0afb125a59962a5bd2e (from https://pypi.org/simple/psycopg2/). Command errored out with exit status 1: python setup.py egg_info Check the logs for full command output.\u001b[0m\n",
      "\u001b[?25h  Downloading psycopg2-2.5.1.tar.gz (684 kB)\n",
      "\u001b[K     |████████████████████████████████| 684 kB 79.3 MB/s eta 0:00:01\n",
      "\u001b[31m    ERROR: Command errored out with exit status 1:\n",
      "     command: /opt/conda/bin/python -c 'import io, os, sys, setuptools, tokenize; sys.argv[0] = '\"'\"'/tmp/pip-install-7o89ocoz/psycopg2_47bb4196bb95451bb512a62de7b420d3/setup.py'\"'\"'; __file__='\"'\"'/tmp/pip-install-7o89ocoz/psycopg2_47bb4196bb95451bb512a62de7b420d3/setup.py'\"'\"';f = getattr(tokenize, '\"'\"'open'\"'\"', open)(__file__) if os.path.exists(__file__) else io.StringIO('\"'\"'from setuptools import setup; setup()'\"'\"');code = f.read().replace('\"'\"'\\r\\n'\"'\"', '\"'\"'\\n'\"'\"');f.close();exec(compile(code, __file__, '\"'\"'exec'\"'\"'))' egg_info --egg-base /tmp/pip-pip-egg-info-3_wn_zbj\n",
      "         cwd: /tmp/pip-install-7o89ocoz/psycopg2_47bb4196bb95451bb512a62de7b420d3/\n",
      "    Complete output (14 lines):\n",
      "    running egg_info\n",
      "    creating /tmp/pip-pip-egg-info-3_wn_zbj/psycopg2.egg-info\n",
      "    writing /tmp/pip-pip-egg-info-3_wn_zbj/psycopg2.egg-info/PKG-INFO\n",
      "    writing dependency_links to /tmp/pip-pip-egg-info-3_wn_zbj/psycopg2.egg-info/dependency_links.txt\n",
      "    writing top-level names to /tmp/pip-pip-egg-info-3_wn_zbj/psycopg2.egg-info/top_level.txt\n",
      "    writing manifest file '/tmp/pip-pip-egg-info-3_wn_zbj/psycopg2.egg-info/SOURCES.txt'\n",
      "    Error: pg_config executable not found.\n",
      "    \n",
      "    Please add the directory containing pg_config to the PATH\n",
      "    or specify the full executable path with the option:\n",
      "    \n",
      "        python setup.py build_ext --pg-config /path/to/pg_config build ...\n",
      "    \n",
      "    or with the pg_config option in 'setup.cfg'.\n",
      "    ----------------------------------------\u001b[0m\n",
      "\u001b[33mWARNING: Discarding https://files.pythonhosted.org/packages/22/09/63d5da7375c267e208bbadf56b51699d85cb7b3a9096817eeea500a27b3b/psycopg2-2.5.1.tar.gz#sha256=65a70c88a7e02d8bef57aab8636b5795389674c3205fd88ec46a4dffffa7efec (from https://pypi.org/simple/psycopg2/). Command errored out with exit status 1: python setup.py egg_info Check the logs for full command output.\u001b[0m\n",
      "\u001b[?25h  Downloading psycopg2-2.5.tar.gz (703 kB)\n",
      "\u001b[K     |████████████████████████████████| 703 kB 46.1 MB/s eta 0:00:01\n",
      "\u001b[31m    ERROR: Command errored out with exit status 1:\n",
      "     command: /opt/conda/bin/python -c 'import io, os, sys, setuptools, tokenize; sys.argv[0] = '\"'\"'/tmp/pip-install-7o89ocoz/psycopg2_0d076bf6a5584f48bcbe1721e8fdd55e/setup.py'\"'\"'; __file__='\"'\"'/tmp/pip-install-7o89ocoz/psycopg2_0d076bf6a5584f48bcbe1721e8fdd55e/setup.py'\"'\"';f = getattr(tokenize, '\"'\"'open'\"'\"', open)(__file__) if os.path.exists(__file__) else io.StringIO('\"'\"'from setuptools import setup; setup()'\"'\"');code = f.read().replace('\"'\"'\\r\\n'\"'\"', '\"'\"'\\n'\"'\"');f.close();exec(compile(code, __file__, '\"'\"'exec'\"'\"'))' egg_info --egg-base /tmp/pip-pip-egg-info-theu61xy\n",
      "         cwd: /tmp/pip-install-7o89ocoz/psycopg2_0d076bf6a5584f48bcbe1721e8fdd55e/\n",
      "    Complete output (14 lines):\n",
      "    running egg_info\n",
      "    creating /tmp/pip-pip-egg-info-theu61xy/psycopg2.egg-info\n",
      "    writing /tmp/pip-pip-egg-info-theu61xy/psycopg2.egg-info/PKG-INFO\n",
      "    writing dependency_links to /tmp/pip-pip-egg-info-theu61xy/psycopg2.egg-info/dependency_links.txt\n",
      "    writing top-level names to /tmp/pip-pip-egg-info-theu61xy/psycopg2.egg-info/top_level.txt\n",
      "    writing manifest file '/tmp/pip-pip-egg-info-theu61xy/psycopg2.egg-info/SOURCES.txt'\n",
      "    Error: pg_config executable not found.\n",
      "    \n",
      "    Please add the directory containing pg_config to the PATH\n",
      "    or specify the full executable path with the option:\n",
      "    \n",
      "        python setup.py build_ext --pg-config /path/to/pg_config build ...\n",
      "    \n",
      "    or with the pg_config option in 'setup.cfg'.\n",
      "    ----------------------------------------\u001b[0m\n",
      "\u001b[33mWARNING: Discarding https://files.pythonhosted.org/packages/84/7e/7256298bf7064238e63b9380cf424f776a4d2a87e387c9a9bd1bc5ea0fbc/psycopg2-2.5.tar.gz#sha256=6b2f0cc9199de9eaa53ba10ff69b2741e73484b24657e69bdae259561c23bde4 (from https://pypi.org/simple/psycopg2/). Command errored out with exit status 1: python setup.py egg_info Check the logs for full command output.\u001b[0m\n",
      "\u001b[?25h  Downloading psycopg2-2.4.6.tar.gz (667 kB)\n",
      "\u001b[K     |████████████████████████████████| 667 kB 60.4 MB/s eta 0:00:01\n",
      "\u001b[31m    ERROR: Command errored out with exit status 1:\n",
      "     command: /opt/conda/bin/python -c 'import io, os, sys, setuptools, tokenize; sys.argv[0] = '\"'\"'/tmp/pip-install-7o89ocoz/psycopg2_23944b07139e4cda90f4a79f74d3cd56/setup.py'\"'\"'; __file__='\"'\"'/tmp/pip-install-7o89ocoz/psycopg2_23944b07139e4cda90f4a79f74d3cd56/setup.py'\"'\"';f = getattr(tokenize, '\"'\"'open'\"'\"', open)(__file__) if os.path.exists(__file__) else io.StringIO('\"'\"'from setuptools import setup; setup()'\"'\"');code = f.read().replace('\"'\"'\\r\\n'\"'\"', '\"'\"'\\n'\"'\"');f.close();exec(compile(code, __file__, '\"'\"'exec'\"'\"'))' egg_info --egg-base /tmp/pip-pip-egg-info-rqdrdis3\n",
      "         cwd: /tmp/pip-install-7o89ocoz/psycopg2_23944b07139e4cda90f4a79f74d3cd56/\n",
      "    Complete output (14 lines):\n",
      "    running egg_info\n",
      "    creating /tmp/pip-pip-egg-info-rqdrdis3/psycopg2.egg-info\n",
      "    writing /tmp/pip-pip-egg-info-rqdrdis3/psycopg2.egg-info/PKG-INFO\n",
      "    writing dependency_links to /tmp/pip-pip-egg-info-rqdrdis3/psycopg2.egg-info/dependency_links.txt\n",
      "    writing top-level names to /tmp/pip-pip-egg-info-rqdrdis3/psycopg2.egg-info/top_level.txt\n",
      "    writing manifest file '/tmp/pip-pip-egg-info-rqdrdis3/psycopg2.egg-info/SOURCES.txt'\n",
      "    Error: pg_config executable not found.\n",
      "    \n",
      "    Please add the directory containing pg_config to the PATH\n",
      "    or specify the full executable path with the option:\n",
      "    \n",
      "        python setup.py build_ext --pg-config /path/to/pg_config build ...\n",
      "    \n",
      "    or with the pg_config option in 'setup.cfg'.\n",
      "    ----------------------------------------\u001b[0m\n",
      "\u001b[33mWARNING: Discarding https://files.pythonhosted.org/packages/59/aa/4d74a5dc32a89d622c1fa896a86683b488ef255f06d4b27231e12e6076f7/psycopg2-2.4.6.tar.gz#sha256=4edcb40b0a039b4b559a6bc887b2155db8b6c53d0f55b00af8338c77b725621f (from https://pypi.org/simple/psycopg2/). Command errored out with exit status 1: python setup.py egg_info Check the logs for full command output.\u001b[0m\n",
      "\u001b[?25h  Downloading psycopg2-2.4.5.tar.gz (719 kB)\n",
      "\u001b[K     |████████████████████████████████| 719 kB 74.7 MB/s eta 0:00:01\n",
      "\u001b[31m    ERROR: Command errored out with exit status 1:\n",
      "     command: /opt/conda/bin/python -c 'import io, os, sys, setuptools, tokenize; sys.argv[0] = '\"'\"'/tmp/pip-install-7o89ocoz/psycopg2_bb4f6cbaec4a48ac9ea1e95ec6d7c0a5/setup.py'\"'\"'; __file__='\"'\"'/tmp/pip-install-7o89ocoz/psycopg2_bb4f6cbaec4a48ac9ea1e95ec6d7c0a5/setup.py'\"'\"';f = getattr(tokenize, '\"'\"'open'\"'\"', open)(__file__) if os.path.exists(__file__) else io.StringIO('\"'\"'from setuptools import setup; setup()'\"'\"');code = f.read().replace('\"'\"'\\r\\n'\"'\"', '\"'\"'\\n'\"'\"');f.close();exec(compile(code, __file__, '\"'\"'exec'\"'\"'))' egg_info --egg-base /tmp/pip-pip-egg-info-uz1zwzxk\n",
      "         cwd: /tmp/pip-install-7o89ocoz/psycopg2_bb4f6cbaec4a48ac9ea1e95ec6d7c0a5/\n",
      "    Complete output (14 lines):\n",
      "    running egg_info\n",
      "    creating /tmp/pip-pip-egg-info-uz1zwzxk/psycopg2.egg-info\n",
      "    writing /tmp/pip-pip-egg-info-uz1zwzxk/psycopg2.egg-info/PKG-INFO\n",
      "    writing dependency_links to /tmp/pip-pip-egg-info-uz1zwzxk/psycopg2.egg-info/dependency_links.txt\n",
      "    writing top-level names to /tmp/pip-pip-egg-info-uz1zwzxk/psycopg2.egg-info/top_level.txt\n",
      "    writing manifest file '/tmp/pip-pip-egg-info-uz1zwzxk/psycopg2.egg-info/SOURCES.txt'\n",
      "    Error: pg_config executable not found.\n",
      "    \n",
      "    Please add the directory containing pg_config to the PATH\n",
      "    or specify the full executable path with the option:\n",
      "    \n",
      "        python setup.py build_ext --pg-config /path/to/pg_config build ...\n",
      "    \n",
      "    or with the pg_config option in 'setup.cfg'.\n",
      "    ----------------------------------------\u001b[0m\n",
      "\u001b[33mWARNING: Discarding https://files.pythonhosted.org/packages/36/77/894a5dd9f3f55cfc85682d3e6473ee5103d8d418b95baf4019fad3ffa026/psycopg2-2.4.5.tar.gz#sha256=48b702a7ca479e1bc2c1a7b81875a07d474298132605993e2cb979f5e08277d7 (from https://pypi.org/simple/psycopg2/). Command errored out with exit status 1: python setup.py egg_info Check the logs for full command output.\u001b[0m\n",
      "\u001b[?25h  Downloading psycopg2-2.4.4.tar.gz (648 kB)\n",
      "\u001b[K     |████████████████████████████████| 648 kB 46.3 MB/s eta 0:00:01\n",
      "\u001b[31m    ERROR: Command errored out with exit status 1:\n",
      "     command: /opt/conda/bin/python -c 'import io, os, sys, setuptools, tokenize; sys.argv[0] = '\"'\"'/tmp/pip-install-7o89ocoz/psycopg2_3409081c16a845ed88465fcbe99141b7/setup.py'\"'\"'; __file__='\"'\"'/tmp/pip-install-7o89ocoz/psycopg2_3409081c16a845ed88465fcbe99141b7/setup.py'\"'\"';f = getattr(tokenize, '\"'\"'open'\"'\"', open)(__file__) if os.path.exists(__file__) else io.StringIO('\"'\"'from setuptools import setup; setup()'\"'\"');code = f.read().replace('\"'\"'\\r\\n'\"'\"', '\"'\"'\\n'\"'\"');f.close();exec(compile(code, __file__, '\"'\"'exec'\"'\"'))' egg_info --egg-base /tmp/pip-pip-egg-info-jnkdwa2k\n",
      "         cwd: /tmp/pip-install-7o89ocoz/psycopg2_3409081c16a845ed88465fcbe99141b7/\n",
      "    Complete output (14 lines):\n",
      "    running egg_info\n",
      "    creating /tmp/pip-pip-egg-info-jnkdwa2k/psycopg2.egg-info\n",
      "    writing /tmp/pip-pip-egg-info-jnkdwa2k/psycopg2.egg-info/PKG-INFO\n",
      "    writing dependency_links to /tmp/pip-pip-egg-info-jnkdwa2k/psycopg2.egg-info/dependency_links.txt\n",
      "    writing top-level names to /tmp/pip-pip-egg-info-jnkdwa2k/psycopg2.egg-info/top_level.txt\n",
      "    writing manifest file '/tmp/pip-pip-egg-info-jnkdwa2k/psycopg2.egg-info/SOURCES.txt'\n",
      "    Error: pg_config executable not found.\n",
      "    \n",
      "    Please add the directory containing pg_config to the PATH\n",
      "    or specify the full executable path with the option:\n",
      "    \n",
      "        python setup.py build_ext --pg-config /path/to/pg_config build ...\n",
      "    \n",
      "    or with the pg_config option in 'setup.cfg'.\n",
      "    ----------------------------------------\u001b[0m\n",
      "\u001b[33mWARNING: Discarding https://files.pythonhosted.org/packages/6f/91/890c6f954e2d09d26b266a24468570c6227de61ac6f64926c48000db0a6e/psycopg2-2.4.4.tar.gz#sha256=0c55b059d33f6b2cbb52f254320832c0ca30498ae06f4f4df2a2b38af989127e (from https://pypi.org/simple/psycopg2/). Command errored out with exit status 1: python setup.py egg_info Check the logs for full command output.\u001b[0m\n",
      "\u001b[?25h  Downloading psycopg2-2.4.3.tar.gz (647 kB)\n",
      "\u001b[K     |████████████████████████████████| 647 kB 53.1 MB/s eta 0:00:01\n",
      "\u001b[31m    ERROR: Command errored out with exit status 1:\n",
      "     command: /opt/conda/bin/python -c 'import io, os, sys, setuptools, tokenize; sys.argv[0] = '\"'\"'/tmp/pip-install-7o89ocoz/psycopg2_c6b2a46a59784fbcbffff4adf628e73f/setup.py'\"'\"'; __file__='\"'\"'/tmp/pip-install-7o89ocoz/psycopg2_c6b2a46a59784fbcbffff4adf628e73f/setup.py'\"'\"';f = getattr(tokenize, '\"'\"'open'\"'\"', open)(__file__) if os.path.exists(__file__) else io.StringIO('\"'\"'from setuptools import setup; setup()'\"'\"');code = f.read().replace('\"'\"'\\r\\n'\"'\"', '\"'\"'\\n'\"'\"');f.close();exec(compile(code, __file__, '\"'\"'exec'\"'\"'))' egg_info --egg-base /tmp/pip-pip-egg-info-2pjh5r86\n",
      "         cwd: /tmp/pip-install-7o89ocoz/psycopg2_c6b2a46a59784fbcbffff4adf628e73f/\n",
      "    Complete output (14 lines):\n",
      "    running egg_info\n",
      "    creating /tmp/pip-pip-egg-info-2pjh5r86/psycopg2.egg-info\n",
      "    writing /tmp/pip-pip-egg-info-2pjh5r86/psycopg2.egg-info/PKG-INFO\n",
      "    writing dependency_links to /tmp/pip-pip-egg-info-2pjh5r86/psycopg2.egg-info/dependency_links.txt\n",
      "    writing top-level names to /tmp/pip-pip-egg-info-2pjh5r86/psycopg2.egg-info/top_level.txt\n",
      "    writing manifest file '/tmp/pip-pip-egg-info-2pjh5r86/psycopg2.egg-info/SOURCES.txt'\n",
      "    Error: pg_config executable not found.\n",
      "    \n",
      "    Please add the directory containing pg_config to the PATH\n",
      "    or specify the full executable path with the option:\n",
      "    \n",
      "        python setup.py build_ext --pg-config /path/to/pg_config build ...\n",
      "    \n",
      "    or with the pg_config option in 'setup.cfg'.\n",
      "    ----------------------------------------\u001b[0m\n",
      "\u001b[33mWARNING: Discarding https://files.pythonhosted.org/packages/1e/71/8929172068cbc3d3c7288bf888a7df5862a28d67ed61ad9b4c7aa5cf8be8/psycopg2-2.4.3.tar.gz#sha256=febd8e35ca9904bf4418e611f866a80639fbca7db2781e5b5cd20589b767af0b (from https://pypi.org/simple/psycopg2/). Command errored out with exit status 1: python setup.py egg_info Check the logs for full command output.\u001b[0m\n",
      "\u001b[?25h  Downloading psycopg2-2.4.2.tar.gz (667 kB)\n",
      "\u001b[K     |████████████████████████████████| 667 kB 83.7 MB/s eta 0:00:01\n",
      "\u001b[31m    ERROR: Command errored out with exit status 1:\n",
      "     command: /opt/conda/bin/python -c 'import io, os, sys, setuptools, tokenize; sys.argv[0] = '\"'\"'/tmp/pip-install-7o89ocoz/psycopg2_08f93501df9b492387afb21b21fccdcf/setup.py'\"'\"'; __file__='\"'\"'/tmp/pip-install-7o89ocoz/psycopg2_08f93501df9b492387afb21b21fccdcf/setup.py'\"'\"';f = getattr(tokenize, '\"'\"'open'\"'\"', open)(__file__) if os.path.exists(__file__) else io.StringIO('\"'\"'from setuptools import setup; setup()'\"'\"');code = f.read().replace('\"'\"'\\r\\n'\"'\"', '\"'\"'\\n'\"'\"');f.close();exec(compile(code, __file__, '\"'\"'exec'\"'\"'))' egg_info --egg-base /tmp/pip-pip-egg-info-e6qw52ad\n",
      "         cwd: /tmp/pip-install-7o89ocoz/psycopg2_08f93501df9b492387afb21b21fccdcf/\n",
      "    Complete output (14 lines):\n",
      "    running egg_info\n",
      "    creating /tmp/pip-pip-egg-info-e6qw52ad/psycopg2.egg-info\n",
      "    writing /tmp/pip-pip-egg-info-e6qw52ad/psycopg2.egg-info/PKG-INFO\n",
      "    writing dependency_links to /tmp/pip-pip-egg-info-e6qw52ad/psycopg2.egg-info/dependency_links.txt\n",
      "    writing top-level names to /tmp/pip-pip-egg-info-e6qw52ad/psycopg2.egg-info/top_level.txt\n",
      "    writing manifest file '/tmp/pip-pip-egg-info-e6qw52ad/psycopg2.egg-info/SOURCES.txt'\n",
      "    Error: pg_config executable not found.\n",
      "    \n",
      "    Please add the directory containing pg_config to the PATH\n",
      "    or specify the full executable path with the option:\n",
      "    \n",
      "        python setup.py build_ext --pg-config /path/to/pg_config build ...\n",
      "    \n",
      "    or with the pg_config option in 'setup.cfg'.\n",
      "    ----------------------------------------\u001b[0m\n",
      "\u001b[33mWARNING: Discarding https://files.pythonhosted.org/packages/70/91/345f8eb32dc333331510e1adad858f7a1478d3a1e4aae05ee188985c6b17/psycopg2-2.4.2.tar.gz#sha256=c5f0f853aeeefc7b2aa73b08579e5d74c4c32ad5fca87e058bf04e08273a41a1 (from https://pypi.org/simple/psycopg2/). Command errored out with exit status 1: python setup.py egg_info Check the logs for full command output.\u001b[0m\n",
      "\u001b[?25h  Downloading psycopg2-2.4.1.tar.gz (398 kB)\n",
      "\u001b[K     |████████████████████████████████| 398 kB 49.1 MB/s eta 0:00:01\n",
      "\u001b[31m    ERROR: Command errored out with exit status 1:\n",
      "     command: /opt/conda/bin/python -c 'import io, os, sys, setuptools, tokenize; sys.argv[0] = '\"'\"'/tmp/pip-install-7o89ocoz/psycopg2_2733750a87a14fc7b807408fe0fe98b9/setup.py'\"'\"'; __file__='\"'\"'/tmp/pip-install-7o89ocoz/psycopg2_2733750a87a14fc7b807408fe0fe98b9/setup.py'\"'\"';f = getattr(tokenize, '\"'\"'open'\"'\"', open)(__file__) if os.path.exists(__file__) else io.StringIO('\"'\"'from setuptools import setup; setup()'\"'\"');code = f.read().replace('\"'\"'\\r\\n'\"'\"', '\"'\"'\\n'\"'\"');f.close();exec(compile(code, __file__, '\"'\"'exec'\"'\"'))' egg_info --egg-base /tmp/pip-pip-egg-info-13bxuoru\n",
      "         cwd: /tmp/pip-install-7o89ocoz/psycopg2_2733750a87a14fc7b807408fe0fe98b9/\n",
      "    Complete output (14 lines):\n",
      "    running egg_info\n",
      "    creating /tmp/pip-pip-egg-info-13bxuoru/psycopg2.egg-info\n",
      "    writing /tmp/pip-pip-egg-info-13bxuoru/psycopg2.egg-info/PKG-INFO\n",
      "    writing dependency_links to /tmp/pip-pip-egg-info-13bxuoru/psycopg2.egg-info/dependency_links.txt\n",
      "    writing top-level names to /tmp/pip-pip-egg-info-13bxuoru/psycopg2.egg-info/top_level.txt\n",
      "    writing manifest file '/tmp/pip-pip-egg-info-13bxuoru/psycopg2.egg-info/SOURCES.txt'\n",
      "    Error: pg_config executable not found.\n",
      "    \n",
      "    Please add the directory containing pg_config to the PATH\n",
      "    or specify the full executable path with the option:\n",
      "    \n",
      "        python setup.py build_ext --pg-config /path/to/pg_config build ...\n",
      "    \n",
      "    or with the pg_config option in 'setup.cfg'.\n",
      "    ----------------------------------------\u001b[0m\n",
      "\u001b[33mWARNING: Discarding https://files.pythonhosted.org/packages/82/f8/6c80beb1b58f01f52dcdfa52bc1668caa4e3fc4927e9230edc40afa98c05/psycopg2-2.4.1.tar.gz#sha256=f8ee9a4004afbd1ff1a1db8df7910475d6ec26e102aa92c9214cbeb1ef39ff49 (from https://pypi.org/simple/psycopg2/). Command errored out with exit status 1: python setup.py egg_info Check the logs for full command output.\u001b[0m\n",
      "\u001b[?25h  Downloading psycopg2-2.4.tar.gz (607 kB)\n",
      "\u001b[K     |████████████████████████████████| 607 kB 60.9 MB/s eta 0:00:01\n",
      "\u001b[31m    ERROR: Command errored out with exit status 1:\n",
      "     command: /opt/conda/bin/python -c 'import io, os, sys, setuptools, tokenize; sys.argv[0] = '\"'\"'/tmp/pip-install-7o89ocoz/psycopg2_d3b77d9db40343339d727785c3745095/setup.py'\"'\"'; __file__='\"'\"'/tmp/pip-install-7o89ocoz/psycopg2_d3b77d9db40343339d727785c3745095/setup.py'\"'\"';f = getattr(tokenize, '\"'\"'open'\"'\"', open)(__file__) if os.path.exists(__file__) else io.StringIO('\"'\"'from setuptools import setup; setup()'\"'\"');code = f.read().replace('\"'\"'\\r\\n'\"'\"', '\"'\"'\\n'\"'\"');f.close();exec(compile(code, __file__, '\"'\"'exec'\"'\"'))' egg_info --egg-base /tmp/pip-pip-egg-info-_0kk29iu\n",
      "         cwd: /tmp/pip-install-7o89ocoz/psycopg2_d3b77d9db40343339d727785c3745095/\n",
      "    Complete output (14 lines):\n",
      "    running egg_info\n",
      "    creating /tmp/pip-pip-egg-info-_0kk29iu/psycopg2.egg-info\n",
      "    writing /tmp/pip-pip-egg-info-_0kk29iu/psycopg2.egg-info/PKG-INFO\n",
      "    writing dependency_links to /tmp/pip-pip-egg-info-_0kk29iu/psycopg2.egg-info/dependency_links.txt\n",
      "    writing top-level names to /tmp/pip-pip-egg-info-_0kk29iu/psycopg2.egg-info/top_level.txt\n",
      "    writing manifest file '/tmp/pip-pip-egg-info-_0kk29iu/psycopg2.egg-info/SOURCES.txt'\n",
      "    Error: pg_config executable not found.\n",
      "    \n",
      "    Please add the directory containing pg_config to the PATH\n",
      "    or specify the full executable path with the option:\n",
      "    \n",
      "        python setup.py build_ext --pg-config /path/to/pg_config build ...\n",
      "    \n",
      "    or with the pg_config option in 'setup.cfg'.\n",
      "    ----------------------------------------\u001b[0m\n",
      "\u001b[33mWARNING: Discarding https://files.pythonhosted.org/packages/ce/2d/e9e65ee32ef2657028109bd5a1c1ece97e409ebf790b6ee286aae2c6b890/psycopg2-2.4.tar.gz#sha256=f41623c413283f101b61ba2356f92cc1890b00308aea970124ebd6178ac5c3a5 (from https://pypi.org/simple/psycopg2/). Command errored out with exit status 1: python setup.py egg_info Check the logs for full command output.\u001b[0m\n",
      "\u001b[?25h  Downloading psycopg2-2.3.2.tar.gz (568 kB)\n",
      "\u001b[K     |████████████████████████████████| 568 kB 56.3 MB/s eta 0:00:01\n",
      "\u001b[31m    ERROR: Command errored out with exit status 1:\n",
      "     command: /opt/conda/bin/python -c 'import io, os, sys, setuptools, tokenize; sys.argv[0] = '\"'\"'/tmp/pip-install-7o89ocoz/psycopg2_2e9dcc87e8ec42bf9fee73e6904c67c2/setup.py'\"'\"'; __file__='\"'\"'/tmp/pip-install-7o89ocoz/psycopg2_2e9dcc87e8ec42bf9fee73e6904c67c2/setup.py'\"'\"';f = getattr(tokenize, '\"'\"'open'\"'\"', open)(__file__) if os.path.exists(__file__) else io.StringIO('\"'\"'from setuptools import setup; setup()'\"'\"');code = f.read().replace('\"'\"'\\r\\n'\"'\"', '\"'\"'\\n'\"'\"');f.close();exec(compile(code, __file__, '\"'\"'exec'\"'\"'))' egg_info --egg-base /tmp/pip-pip-egg-info-dr0htmv9\n",
      "         cwd: /tmp/pip-install-7o89ocoz/psycopg2_2e9dcc87e8ec42bf9fee73e6904c67c2/\n",
      "    Complete output (6 lines):\n",
      "    Traceback (most recent call last):\n",
      "      File \"<string>\", line 1, in <module>\n",
      "      File \"/tmp/pip-install-7o89ocoz/psycopg2_2e9dcc87e8ec42bf9fee73e6904c67c2/setup.py\", line 247\n",
      "        except Warning, w:\n",
      "                      ^\n",
      "    SyntaxError: invalid syntax\n",
      "    ----------------------------------------\u001b[0m\n",
      "\u001b[33mWARNING: Discarding https://files.pythonhosted.org/packages/50/48/32927cbc99633613704950be5013fc144aa0f451a5e0616635a934d94a62/psycopg2-2.3.2.tar.gz#sha256=0ef1df428f5482c41885ee6d9a6975473fc83af5497801abd36dd150a3754c2c (from https://pypi.org/simple/psycopg2/). Command errored out with exit status 1: python setup.py egg_info Check the logs for full command output.\u001b[0m\n",
      "\u001b[?25h  Downloading psycopg2-2.3.1.tar.gz (567 kB)\n",
      "\u001b[K     |████████████████████████████████| 567 kB 52.1 MB/s eta 0:00:01\n",
      "\u001b[31m    ERROR: Command errored out with exit status 1:\n",
      "     command: /opt/conda/bin/python -c 'import io, os, sys, setuptools, tokenize; sys.argv[0] = '\"'\"'/tmp/pip-install-7o89ocoz/psycopg2_caa8a7cb30954093875bf0dc527e3ba6/setup.py'\"'\"'; __file__='\"'\"'/tmp/pip-install-7o89ocoz/psycopg2_caa8a7cb30954093875bf0dc527e3ba6/setup.py'\"'\"';f = getattr(tokenize, '\"'\"'open'\"'\"', open)(__file__) if os.path.exists(__file__) else io.StringIO('\"'\"'from setuptools import setup; setup()'\"'\"');code = f.read().replace('\"'\"'\\r\\n'\"'\"', '\"'\"'\\n'\"'\"');f.close();exec(compile(code, __file__, '\"'\"'exec'\"'\"'))' egg_info --egg-base /tmp/pip-pip-egg-info-loay2g8l\n",
      "         cwd: /tmp/pip-install-7o89ocoz/psycopg2_caa8a7cb30954093875bf0dc527e3ba6/\n",
      "    Complete output (6 lines):\n",
      "    Traceback (most recent call last):\n",
      "      File \"<string>\", line 1, in <module>\n",
      "      File \"/tmp/pip-install-7o89ocoz/psycopg2_caa8a7cb30954093875bf0dc527e3ba6/setup.py\", line 247\n",
      "        except Warning, w:\n",
      "                      ^\n",
      "    SyntaxError: invalid syntax\n",
      "    ----------------------------------------\u001b[0m\n",
      "\u001b[33mWARNING: Discarding https://files.pythonhosted.org/packages/cd/7c/6acf5aacd347f3dc1398eca0e2123c35a48efb07617d4d9578e9cd79a1a7/psycopg2-2.3.1.tar.gz#sha256=7aee74fb13f3b51571fa84cebeeeb29b4230e7553f554f228636c6754752c4e4 (from https://pypi.org/simple/psycopg2/). Command errored out with exit status 1: python setup.py egg_info Check the logs for full command output.\u001b[0m\n",
      "\u001b[?25h  Downloading psycopg2-2.3.0.tar.gz (588 kB)\n",
      "\u001b[K     |████████████████████████████████| 588 kB 57.6 MB/s eta 0:00:01\n",
      "\u001b[31m    ERROR: Command errored out with exit status 1:\n",
      "     command: /opt/conda/bin/python -c 'import io, os, sys, setuptools, tokenize; sys.argv[0] = '\"'\"'/tmp/pip-install-7o89ocoz/psycopg2_20bf2f545ebe4ad8abdbecfa03138054/setup.py'\"'\"'; __file__='\"'\"'/tmp/pip-install-7o89ocoz/psycopg2_20bf2f545ebe4ad8abdbecfa03138054/setup.py'\"'\"';f = getattr(tokenize, '\"'\"'open'\"'\"', open)(__file__) if os.path.exists(__file__) else io.StringIO('\"'\"'from setuptools import setup; setup()'\"'\"');code = f.read().replace('\"'\"'\\r\\n'\"'\"', '\"'\"'\\n'\"'\"');f.close();exec(compile(code, __file__, '\"'\"'exec'\"'\"'))' egg_info --egg-base /tmp/pip-pip-egg-info-a1jj__93\n",
      "         cwd: /tmp/pip-install-7o89ocoz/psycopg2_20bf2f545ebe4ad8abdbecfa03138054/\n",
      "    Complete output (6 lines):\n",
      "    Traceback (most recent call last):\n",
      "      File \"<string>\", line 1, in <module>\n",
      "      File \"/tmp/pip-install-7o89ocoz/psycopg2_20bf2f545ebe4ad8abdbecfa03138054/setup.py\", line 247\n",
      "        except Warning, w:\n",
      "                      ^\n",
      "    SyntaxError: invalid syntax\n",
      "    ----------------------------------------\u001b[0m\n",
      "\u001b[33mWARNING: Discarding https://files.pythonhosted.org/packages/68/0a/459df8dcbcc118ca435e9567abceaab919706908d52139e503f6396c4935/psycopg2-2.3.0.tar.gz#sha256=c17a06b7468debba94fa151d3ad93cd885d9cbe9a751e54ceb87738d5f0478ea (from https://pypi.org/simple/psycopg2/). Command errored out with exit status 1: python setup.py egg_info Check the logs for full command output.\u001b[0m\n",
      "\u001b[?25h  Downloading psycopg2-2.2.2.tar.gz (530 kB)\n",
      "\u001b[K     |████████████████████████████████| 530 kB 64.0 MB/s eta 0:00:01\n",
      "\u001b[31m    ERROR: Command errored out with exit status 1:\n",
      "     command: /opt/conda/bin/python -c 'import io, os, sys, setuptools, tokenize; sys.argv[0] = '\"'\"'/tmp/pip-install-7o89ocoz/psycopg2_2f3e09570cc544d28c2e3974ad6e0d5c/setup.py'\"'\"'; __file__='\"'\"'/tmp/pip-install-7o89ocoz/psycopg2_2f3e09570cc544d28c2e3974ad6e0d5c/setup.py'\"'\"';f = getattr(tokenize, '\"'\"'open'\"'\"', open)(__file__) if os.path.exists(__file__) else io.StringIO('\"'\"'from setuptools import setup; setup()'\"'\"');code = f.read().replace('\"'\"'\\r\\n'\"'\"', '\"'\"'\\n'\"'\"');f.close();exec(compile(code, __file__, '\"'\"'exec'\"'\"'))' egg_info --egg-base /tmp/pip-pip-egg-info-8fz923vb\n",
      "         cwd: /tmp/pip-install-7o89ocoz/psycopg2_2f3e09570cc544d28c2e3974ad6e0d5c/\n",
      "    Complete output (6 lines):\n",
      "    Traceback (most recent call last):\n",
      "      File \"<string>\", line 1, in <module>\n",
      "      File \"/tmp/pip-install-7o89ocoz/psycopg2_2f3e09570cc544d28c2e3974ad6e0d5c/setup.py\", line 245\n",
      "        except Warning, w:\n",
      "                      ^\n",
      "    SyntaxError: invalid syntax\n",
      "    ----------------------------------------\u001b[0m\n",
      "\u001b[33mWARNING: Discarding https://files.pythonhosted.org/packages/63/3e/a4a35761eb4595fff89e63347b4f8e79c2095782fa5bc016a6dfb18b21ac/psycopg2-2.2.2.tar.gz#sha256=21a33d5b2609103512748098a06249492cc294790e07638fadc68cf06eeac39d (from https://pypi.org/simple/psycopg2/). Command errored out with exit status 1: python setup.py egg_info Check the logs for full command output.\u001b[0m\n",
      "\u001b[?25h  Downloading psycopg2-2.2.1.tar.gz (529 kB)\n",
      "\u001b[K     |████████████████████████████████| 529 kB 62.1 MB/s eta 0:00:01\n",
      "\u001b[31m    ERROR: Command errored out with exit status 1:\n",
      "     command: /opt/conda/bin/python -c 'import io, os, sys, setuptools, tokenize; sys.argv[0] = '\"'\"'/tmp/pip-install-7o89ocoz/psycopg2_ac87a96a6b804a74a9574b60a3c0e475/setup.py'\"'\"'; __file__='\"'\"'/tmp/pip-install-7o89ocoz/psycopg2_ac87a96a6b804a74a9574b60a3c0e475/setup.py'\"'\"';f = getattr(tokenize, '\"'\"'open'\"'\"', open)(__file__) if os.path.exists(__file__) else io.StringIO('\"'\"'from setuptools import setup; setup()'\"'\"');code = f.read().replace('\"'\"'\\r\\n'\"'\"', '\"'\"'\\n'\"'\"');f.close();exec(compile(code, __file__, '\"'\"'exec'\"'\"'))' egg_info --egg-base /tmp/pip-pip-egg-info-r35qykf5\n",
      "         cwd: /tmp/pip-install-7o89ocoz/psycopg2_ac87a96a6b804a74a9574b60a3c0e475/\n",
      "    Complete output (6 lines):\n",
      "    Traceback (most recent call last):\n",
      "      File \"<string>\", line 1, in <module>\n",
      "      File \"/tmp/pip-install-7o89ocoz/psycopg2_ac87a96a6b804a74a9574b60a3c0e475/setup.py\", line 239\n",
      "        except Warning, w:\n",
      "                      ^\n",
      "    SyntaxError: invalid syntax\n",
      "    ----------------------------------------\u001b[0m\n",
      "\u001b[33mWARNING: Discarding https://files.pythonhosted.org/packages/de/c4/fdfb801035bd7da9e1ce98169d48ca2d6dee5b4361e349afbba40b3d7a5d/psycopg2-2.2.1.tar.gz#sha256=b0eca4e8438025dc57cacbea4e8ca2f5dc0554d41b1cdcc177757a5fc413f3d1 (from https://pypi.org/simple/psycopg2/). Command errored out with exit status 1: python setup.py egg_info Check the logs for full command output.\u001b[0m\n",
      "\u001b[?25h  Downloading psycopg2-2.2.0.tar.gz (528 kB)\n",
      "\u001b[K     |████████████████████████████████| 528 kB 66.7 MB/s eta 0:00:01\n",
      "\u001b[31m    ERROR: Command errored out with exit status 1:\n",
      "     command: /opt/conda/bin/python -c 'import io, os, sys, setuptools, tokenize; sys.argv[0] = '\"'\"'/tmp/pip-install-7o89ocoz/psycopg2_a9589a261594466ab237b7000c9156c7/setup.py'\"'\"'; __file__='\"'\"'/tmp/pip-install-7o89ocoz/psycopg2_a9589a261594466ab237b7000c9156c7/setup.py'\"'\"';f = getattr(tokenize, '\"'\"'open'\"'\"', open)(__file__) if os.path.exists(__file__) else io.StringIO('\"'\"'from setuptools import setup; setup()'\"'\"');code = f.read().replace('\"'\"'\\r\\n'\"'\"', '\"'\"'\\n'\"'\"');f.close();exec(compile(code, __file__, '\"'\"'exec'\"'\"'))' egg_info --egg-base /tmp/pip-pip-egg-info-qc5pz1u8\n",
      "         cwd: /tmp/pip-install-7o89ocoz/psycopg2_a9589a261594466ab237b7000c9156c7/\n",
      "    Complete output (6 lines):\n",
      "    Traceback (most recent call last):\n",
      "      File \"<string>\", line 1, in <module>\n",
      "      File \"/tmp/pip-install-7o89ocoz/psycopg2_a9589a261594466ab237b7000c9156c7/setup.py\", line 238\n",
      "        except Warning, w:\n",
      "                      ^\n",
      "    SyntaxError: invalid syntax\n",
      "    ----------------------------------------\u001b[0m\n",
      "\u001b[33mWARNING: Discarding https://files.pythonhosted.org/packages/32/0c/2f4da04ae2a66d71eff37f19fce67506ad28f887851cd1c1cca35ba08b36/psycopg2-2.2.0.tar.gz#sha256=e70a8eabc491318beef4cd9cd9245a4d8dc62ee31cb74e7988913a66bb33f858 (from https://pypi.org/simple/psycopg2/). Command errored out with exit status 1: python setup.py egg_info Check the logs for full command output.\u001b[0m\n",
      "\u001b[?25h  Downloading psycopg2-2.0.14.tar.gz (491 kB)\n",
      "\u001b[K     |████████████████████████████████| 491 kB 80.0 MB/s eta 0:00:01\n",
      "\u001b[31m    ERROR: Command errored out with exit status 1:\n",
      "     command: /opt/conda/bin/python -c 'import io, os, sys, setuptools, tokenize; sys.argv[0] = '\"'\"'/tmp/pip-install-7o89ocoz/psycopg2_4ed7245715ca4b85937a061c1833c92e/setup.py'\"'\"'; __file__='\"'\"'/tmp/pip-install-7o89ocoz/psycopg2_4ed7245715ca4b85937a061c1833c92e/setup.py'\"'\"';f = getattr(tokenize, '\"'\"'open'\"'\"', open)(__file__) if os.path.exists(__file__) else io.StringIO('\"'\"'from setuptools import setup; setup()'\"'\"');code = f.read().replace('\"'\"'\\r\\n'\"'\"', '\"'\"'\\n'\"'\"');f.close();exec(compile(code, __file__, '\"'\"'exec'\"'\"'))' egg_info --egg-base /tmp/pip-pip-egg-info-mpvgxaik\n",
      "         cwd: /tmp/pip-install-7o89ocoz/psycopg2_4ed7245715ca4b85937a061c1833c92e/\n",
      "    Complete output (6 lines):\n",
      "    Traceback (most recent call last):\n",
      "      File \"<string>\", line 1, in <module>\n",
      "      File \"/tmp/pip-install-7o89ocoz/psycopg2_4ed7245715ca4b85937a061c1833c92e/setup.py\", line 238\n",
      "        except Warning, w:\n",
      "                      ^\n",
      "    SyntaxError: invalid syntax\n",
      "    ----------------------------------------\u001b[0m\n",
      "\u001b[33mWARNING: Discarding https://files.pythonhosted.org/packages/e0/1c/f0843f50a69fba3db880e9b267d36f6709bbf31a36fc46b82f75e8975ede/psycopg2-2.0.14.tar.gz#sha256=902607cdbe1195a00694d2b477eed8429eda433caaa0eb6ff7f80883e1c17ac7 (from https://pypi.org/simple/psycopg2/). Command errored out with exit status 1: python setup.py egg_info Check the logs for full command output.\u001b[0m\n",
      "\u001b[?25h  Downloading psycopg2-2.0.13.tar.gz (258 kB)\n",
      "\u001b[K     |████████████████████████████████| 258 kB 69.6 MB/s eta 0:00:01\n",
      "\u001b[31m    ERROR: Command errored out with exit status 1:\n",
      "     command: /opt/conda/bin/python -c 'import io, os, sys, setuptools, tokenize; sys.argv[0] = '\"'\"'/tmp/pip-install-7o89ocoz/psycopg2_5bb88ec4c61540b1a7fd9f3f3a7284d6/setup.py'\"'\"'; __file__='\"'\"'/tmp/pip-install-7o89ocoz/psycopg2_5bb88ec4c61540b1a7fd9f3f3a7284d6/setup.py'\"'\"';f = getattr(tokenize, '\"'\"'open'\"'\"', open)(__file__) if os.path.exists(__file__) else io.StringIO('\"'\"'from setuptools import setup; setup()'\"'\"');code = f.read().replace('\"'\"'\\r\\n'\"'\"', '\"'\"'\\n'\"'\"');f.close();exec(compile(code, __file__, '\"'\"'exec'\"'\"'))' egg_info --egg-base /tmp/pip-pip-egg-info-t73ogkur\n",
      "         cwd: /tmp/pip-install-7o89ocoz/psycopg2_5bb88ec4c61540b1a7fd9f3f3a7284d6/\n",
      "    Complete output (6 lines):\n",
      "    Traceback (most recent call last):\n",
      "      File \"<string>\", line 1, in <module>\n",
      "      File \"/tmp/pip-install-7o89ocoz/psycopg2_5bb88ec4c61540b1a7fd9f3f3a7284d6/setup.py\", line 233\n",
      "        except Warning, w:\n",
      "                      ^\n",
      "    SyntaxError: invalid syntax\n",
      "    ----------------------------------------\u001b[0m\n",
      "\u001b[33mWARNING: Discarding https://files.pythonhosted.org/packages/3a/7a/968afcb86b1958ae963a3aaa42c561e3ed2c2d4a8b773622b03856a16248/psycopg2-2.0.13.tar.gz#sha256=a15e622e101b16aa8ad44813d8fb1eced91379396c054aacbfa3ad658352332b (from https://pypi.org/simple/psycopg2/). Command errored out with exit status 1: python setup.py egg_info Check the logs for full command output.\u001b[0m\n",
      "\u001b[?25h  Downloading psycopg2-2.0.12.tar.gz (256 kB)\n",
      "\u001b[K     |████████████████████████████████| 256 kB 68.4 MB/s eta 0:00:01\n",
      "\u001b[31m    ERROR: Command errored out with exit status 1:\n",
      "     command: /opt/conda/bin/python -c 'import io, os, sys, setuptools, tokenize; sys.argv[0] = '\"'\"'/tmp/pip-install-7o89ocoz/psycopg2_0666e66496ae41bba225924f161340e7/setup.py'\"'\"'; __file__='\"'\"'/tmp/pip-install-7o89ocoz/psycopg2_0666e66496ae41bba225924f161340e7/setup.py'\"'\"';f = getattr(tokenize, '\"'\"'open'\"'\"', open)(__file__) if os.path.exists(__file__) else io.StringIO('\"'\"'from setuptools import setup; setup()'\"'\"');code = f.read().replace('\"'\"'\\r\\n'\"'\"', '\"'\"'\\n'\"'\"');f.close();exec(compile(code, __file__, '\"'\"'exec'\"'\"'))' egg_info --egg-base /tmp/pip-pip-egg-info-y27mq9qm\n",
      "         cwd: /tmp/pip-install-7o89ocoz/psycopg2_0666e66496ae41bba225924f161340e7/\n",
      "    Complete output (6 lines):\n",
      "    Traceback (most recent call last):\n",
      "      File \"<string>\", line 1, in <module>\n",
      "      File \"/tmp/pip-install-7o89ocoz/psycopg2_0666e66496ae41bba225924f161340e7/setup.py\", line 225\n",
      "        except Warning, w:\n",
      "                      ^\n",
      "    SyntaxError: invalid syntax\n",
      "    ----------------------------------------\u001b[0m\n",
      "\u001b[33mWARNING: Discarding https://files.pythonhosted.org/packages/6a/8d/ee5c330823d527a5cd14c833063f825211d7b5de6e4897f72e250c107d85/psycopg2-2.0.12.tar.gz#sha256=542c187531e756867fb60034c393b6f2beca34eeeb3ce2e0089a2b6fb8be1292 (from https://pypi.org/simple/psycopg2/). Command errored out with exit status 1: python setup.py egg_info Check the logs for full command output.\u001b[0m\n",
      "\u001b[?25h  Downloading psycopg2-2.0.11.tar.gz (255 kB)\n",
      "\u001b[K     |████████████████████████████████| 255 kB 45.9 MB/s eta 0:00:01\n",
      "\u001b[31m    ERROR: Command errored out with exit status 1:\n",
      "     command: /opt/conda/bin/python -c 'import io, os, sys, setuptools, tokenize; sys.argv[0] = '\"'\"'/tmp/pip-install-7o89ocoz/psycopg2_f98707202e984c78a8a54b351732677f/setup.py'\"'\"'; __file__='\"'\"'/tmp/pip-install-7o89ocoz/psycopg2_f98707202e984c78a8a54b351732677f/setup.py'\"'\"';f = getattr(tokenize, '\"'\"'open'\"'\"', open)(__file__) if os.path.exists(__file__) else io.StringIO('\"'\"'from setuptools import setup; setup()'\"'\"');code = f.read().replace('\"'\"'\\r\\n'\"'\"', '\"'\"'\\n'\"'\"');f.close();exec(compile(code, __file__, '\"'\"'exec'\"'\"'))' egg_info --egg-base /tmp/pip-pip-egg-info-chbgvrr6\n",
      "         cwd: /tmp/pip-install-7o89ocoz/psycopg2_f98707202e984c78a8a54b351732677f/\n",
      "    Complete output (6 lines):\n",
      "    Traceback (most recent call last):\n",
      "      File \"<string>\", line 1, in <module>\n",
      "      File \"/tmp/pip-install-7o89ocoz/psycopg2_f98707202e984c78a8a54b351732677f/setup.py\", line 225\n",
      "        except Warning, w:\n",
      "                      ^\n",
      "    SyntaxError: invalid syntax\n",
      "    ----------------------------------------\u001b[0m\n",
      "\u001b[33mWARNING: Discarding https://files.pythonhosted.org/packages/2d/d7/496da11d7c81971870ddd36800419c4f84e8f6208aac5eabedf9f7748729/psycopg2-2.0.11.tar.gz#sha256=e6b4e0e41df97441eff34e00065376414da6488e0d55848a45cd77551dbae434 (from https://pypi.org/simple/psycopg2/). Command errored out with exit status 1: python setup.py egg_info Check the logs for full command output.\u001b[0m\n",
      "\u001b[?25h  Downloading psycopg2-2.0.10.tar.gz (255 kB)\n",
      "\u001b[K     |████████████████████████████████| 255 kB 76.6 MB/s eta 0:00:01\n",
      "\u001b[31m    ERROR: Command errored out with exit status 1:\n",
      "     command: /opt/conda/bin/python -c 'import io, os, sys, setuptools, tokenize; sys.argv[0] = '\"'\"'/tmp/pip-install-7o89ocoz/psycopg2_ffb14bc808ba4843be3c51bcc7a232f6/setup.py'\"'\"'; __file__='\"'\"'/tmp/pip-install-7o89ocoz/psycopg2_ffb14bc808ba4843be3c51bcc7a232f6/setup.py'\"'\"';f = getattr(tokenize, '\"'\"'open'\"'\"', open)(__file__) if os.path.exists(__file__) else io.StringIO('\"'\"'from setuptools import setup; setup()'\"'\"');code = f.read().replace('\"'\"'\\r\\n'\"'\"', '\"'\"'\\n'\"'\"');f.close();exec(compile(code, __file__, '\"'\"'exec'\"'\"'))' egg_info --egg-base /tmp/pip-pip-egg-info-c8p5mpcp\n",
      "         cwd: /tmp/pip-install-7o89ocoz/psycopg2_ffb14bc808ba4843be3c51bcc7a232f6/\n",
      "    Complete output (5 lines):\n",
      "    Traceback (most recent call last):\n",
      "      File \"<string>\", line 1, in <module>\n",
      "      File \"/tmp/pip-install-7o89ocoz/psycopg2_ffb14bc808ba4843be3c51bcc7a232f6/setup.py\", line 50, in <module>\n",
      "        import ConfigParser\n",
      "    ModuleNotFoundError: No module named 'ConfigParser'\n",
      "    ----------------------------------------\u001b[0m\n",
      "\u001b[33mWARNING: Discarding https://files.pythonhosted.org/packages/19/79/35c7596bab4456f3610c12ec542a94d51c6781ced587d1d85127210b879b/psycopg2-2.0.10.tar.gz#sha256=e40cc04b43849085725076ae134bfef9e3b087f6dd7c964aeeb930e2f0bc14ab (from https://pypi.org/simple/psycopg2/). Command errored out with exit status 1: python setup.py egg_info Check the logs for full command output.\u001b[0m\n",
      "\u001b[31mERROR: Could not find a version that satisfies the requirement psycopg2 (from versions: 2.0.10, 2.0.11, 2.0.12, 2.0.13, 2.0.14, 2.2.0, 2.2.1, 2.2.2, 2.3.0, 2.3.1, 2.3.2, 2.4, 2.4.1, 2.4.2, 2.4.3, 2.4.4, 2.4.5, 2.4.6, 2.5, 2.5.1, 2.5.2, 2.5.3, 2.5.4, 2.5.5, 2.6, 2.6.1, 2.6.2, 2.7, 2.7.1, 2.7.2, 2.7.3, 2.7.3.1, 2.7.3.2, 2.7.4, 2.7.5, 2.7.6, 2.7.6.1, 2.7.7, 2.8, 2.8.1, 2.8.2, 2.8.3, 2.8.4, 2.8.5, 2.8.6, 2.9, 2.9.1, 2.9.2, 2.9.3, 2.9.4, 2.9.5, 2.9.6, 2.9.7, 2.9.8, 2.9.9)\u001b[0m\n",
      "\u001b[31mERROR: No matching distribution found for psycopg2\u001b[0m\n",
      "\u001b[?25hNote: you may need to restart the kernel to use updated packages.\n"
     ]
    }
   ],
   "source": [
    "pip install psycopg2"
   ]
  },
  {
   "cell_type": "code",
   "execution_count": 2,
   "id": "aafdb11b",
   "metadata": {},
   "outputs": [
    {
     "name": "stdout",
     "output_type": "stream",
     "text": [
      "Requirement already satisfied: sqlalchemy in /opt/conda/lib/python3.9/site-packages (1.4.20)\n",
      "Requirement already satisfied: greenlet!=0.4.17 in /opt/conda/lib/python3.9/site-packages (from sqlalchemy) (1.1.0)\n",
      "Note: you may need to restart the kernel to use updated packages.\n"
     ]
    }
   ],
   "source": [
    "pip install sqlalchemy"
   ]
  },
  {
   "cell_type": "code",
   "execution_count": 3,
   "id": "dac875fc",
   "metadata": {},
   "outputs": [
    {
     "name": "stdout",
     "output_type": "stream",
     "text": [
      "Requirement already satisfied: torch in /opt/conda/lib/python3.9/site-packages (1.10.0)\n",
      "Requirement already satisfied: typing-extensions in /opt/conda/lib/python3.9/site-packages (from torch) (4.3.0)\n",
      "Note: you may need to restart the kernel to use updated packages.\n"
     ]
    }
   ],
   "source": [
    "pip install torch"
   ]
  },
  {
   "cell_type": "code",
   "execution_count": 4,
   "id": "3ea2f962",
   "metadata": {},
   "outputs": [
    {
     "name": "stdout",
     "output_type": "stream",
     "text": [
      "Collecting ydata_profiling\n",
      "  Downloading ydata_profiling-4.7.0-py2.py3-none-any.whl (357 kB)\n",
      "\u001b[K     |████████████████████████████████| 357 kB 2.1 MB/s eta 0:00:01\n",
      "\u001b[?25hRequirement already satisfied: tqdm<5,>=4.48.2 in /opt/conda/lib/python3.9/site-packages (from ydata_profiling) (4.61.2)\n",
      "Requirement already satisfied: numpy<2,>=1.16.0 in /opt/conda/lib/python3.9/site-packages (from ydata_profiling) (1.21.1)\n",
      "Collecting multimethod<2,>=1.4\n",
      "  Downloading multimethod-1.11.2-py3-none-any.whl (10 kB)\n",
      "Requirement already satisfied: statsmodels<1,>=0.13.2 in /opt/conda/lib/python3.9/site-packages (from ydata_profiling) (0.13.2)\n",
      "Collecting htmlmin==0.1.12\n",
      "  Downloading htmlmin-0.1.12.tar.gz (19 kB)\n",
      "Collecting dacite>=1.8\n",
      "  Downloading dacite-1.8.1-py3-none-any.whl (14 kB)\n",
      "Collecting visions[type_image_path]<0.7.7,>=0.7.5\n",
      "  Downloading visions-0.7.6-py3-none-any.whl (104 kB)\n",
      "\u001b[K     |████████████████████████████████| 104 kB 41.3 MB/s eta 0:00:01\n",
      "\u001b[?25hRequirement already satisfied: seaborn<0.13,>=0.10.1 in /opt/conda/lib/python3.9/site-packages (from ydata_profiling) (0.11.1)\n",
      "Requirement already satisfied: PyYAML<6.1,>=5.0.0 in /opt/conda/lib/python3.9/site-packages (from ydata_profiling) (6.0)\n",
      "Collecting pydantic>=2\n",
      "  Downloading pydantic-2.7.1-py3-none-any.whl (409 kB)\n",
      "\u001b[K     |████████████████████████████████| 409 kB 48.6 MB/s eta 0:00:01\n",
      "\u001b[?25hRequirement already satisfied: requests<3,>=2.24.0 in /opt/conda/lib/python3.9/site-packages (from ydata_profiling) (2.25.1)\n",
      "Collecting typeguard<5,>=4.1.2\n",
      "  Downloading typeguard-4.2.1-py3-none-any.whl (34 kB)\n",
      "Requirement already satisfied: numba<1,>=0.56.0 in /opt/conda/lib/python3.9/site-packages (from ydata_profiling) (0.56.0)\n",
      "Collecting imagehash==4.3.1\n",
      "  Downloading ImageHash-4.3.1-py2.py3-none-any.whl (296 kB)\n",
      "\u001b[K     |████████████████████████████████| 296 kB 86.1 MB/s eta 0:00:01\n",
      "\u001b[?25hCollecting wordcloud>=1.9.1\n",
      "  Downloading wordcloud-1.9.3-cp39-cp39-manylinux_2_17_x86_64.manylinux2014_x86_64.whl (513 kB)\n",
      "\u001b[K     |████████████████████████████████| 513 kB 53.1 MB/s eta 0:00:01\n",
      "\u001b[?25hRequirement already satisfied: pandas!=1.4.0,<3,>1.1 in /opt/conda/lib/python3.9/site-packages (from ydata_profiling) (1.2.4)\n",
      "Requirement already satisfied: scipy<1.12,>=1.4.1 in /opt/conda/lib/python3.9/site-packages (from ydata_profiling) (1.9.1)\n",
      "Requirement already satisfied: jinja2<3.2,>=2.11.1 in /opt/conda/lib/python3.9/site-packages (from ydata_profiling) (3.0.1)\n",
      "Collecting phik<0.13,>=0.11.1\n",
      "  Downloading phik-0.12.4-cp39-cp39-manylinux_2_17_x86_64.manylinux2014_x86_64.whl (686 kB)\n",
      "\u001b[K     |████████████████████████████████| 686 kB 4.1 MB/s eta 0:00:01\n",
      "\u001b[?25hRequirement already satisfied: matplotlib<3.9,>=3.2 in /opt/conda/lib/python3.9/site-packages (from ydata_profiling) (3.3.4)\n",
      "Requirement already satisfied: pillow in /opt/conda/lib/python3.9/site-packages (from imagehash==4.3.1->ydata_profiling) (8.4.0)\n",
      "Collecting PyWavelets\n",
      "  Downloading pywavelets-1.6.0-cp39-cp39-manylinux_2_17_x86_64.manylinux2014_x86_64.whl (4.5 MB)\n",
      "\u001b[K     |████████████████████████████████| 4.5 MB 85.1 MB/s eta 0:00:01\n",
      "\u001b[?25hRequirement already satisfied: MarkupSafe>=2.0 in /opt/conda/lib/python3.9/site-packages (from jinja2<3.2,>=2.11.1->ydata_profiling) (2.1.1)\n",
      "Requirement already satisfied: kiwisolver>=1.0.1 in /opt/conda/lib/python3.9/site-packages (from matplotlib<3.9,>=3.2->ydata_profiling) (1.4.4)\n",
      "Requirement already satisfied: pyparsing!=2.0.4,!=2.1.2,!=2.1.6,>=2.0.3 in /opt/conda/lib/python3.9/site-packages (from matplotlib<3.9,>=3.2->ydata_profiling) (2.4.7)\n",
      "Requirement already satisfied: python-dateutil>=2.1 in /opt/conda/lib/python3.9/site-packages (from matplotlib<3.9,>=3.2->ydata_profiling) (2.8.1)\n",
      "Requirement already satisfied: cycler>=0.10 in /opt/conda/lib/python3.9/site-packages (from matplotlib<3.9,>=3.2->ydata_profiling) (0.11.0)\n",
      "Requirement already satisfied: setuptools in /opt/conda/lib/python3.9/site-packages (from numba<1,>=0.56.0->ydata_profiling) (49.6.0.post20210108)\n",
      "Requirement already satisfied: llvmlite<0.40,>=0.39.0dev0 in /opt/conda/lib/python3.9/site-packages (from numba<1,>=0.56.0->ydata_profiling) (0.39.0)\n",
      "Requirement already satisfied: pytz>=2017.3 in /opt/conda/lib/python3.9/site-packages (from pandas!=1.4.0,<3,>1.1->ydata_profiling) (2021.1)\n",
      "Requirement already satisfied: joblib>=0.14.1 in /opt/conda/lib/python3.9/site-packages (from phik<0.13,>=0.11.1->ydata_profiling) (1.1.0)\n",
      "Collecting pydantic-core==2.18.2\n",
      "  Downloading pydantic_core-2.18.2-cp39-cp39-manylinux_2_17_x86_64.manylinux2014_x86_64.whl (2.1 MB)\n",
      "\u001b[K     |████████████████████████████████| 2.1 MB 85.2 MB/s eta 0:00:01\n",
      "\u001b[?25hCollecting typing-extensions>=4.6.1\n",
      "  Downloading typing_extensions-4.11.0-py3-none-any.whl (34 kB)\n",
      "Collecting annotated-types>=0.4.0\n",
      "  Downloading annotated_types-0.6.0-py3-none-any.whl (12 kB)\n",
      "Requirement already satisfied: six>=1.5 in /opt/conda/lib/python3.9/site-packages (from python-dateutil>=2.1->matplotlib<3.9,>=3.2->ydata_profiling) (1.16.0)\n",
      "Requirement already satisfied: idna<3,>=2.5 in /opt/conda/lib/python3.9/site-packages (from requests<3,>=2.24.0->ydata_profiling) (2.10)\n",
      "Requirement already satisfied: chardet<5,>=3.0.2 in /opt/conda/lib/python3.9/site-packages (from requests<3,>=2.24.0->ydata_profiling) (4.0.0)\n",
      "Requirement already satisfied: certifi>=2017.4.17 in /opt/conda/lib/python3.9/site-packages (from requests<3,>=2.24.0->ydata_profiling) (2022.6.15)\n",
      "Requirement already satisfied: urllib3<1.27,>=1.21.1 in /opt/conda/lib/python3.9/site-packages (from requests<3,>=2.24.0->ydata_profiling) (1.26.6)\n",
      "Requirement already satisfied: patsy>=0.5.2 in /opt/conda/lib/python3.9/site-packages (from statsmodels<1,>=0.13.2->ydata_profiling) (0.5.2)\n",
      "Requirement already satisfied: packaging>=21.3 in /opt/conda/lib/python3.9/site-packages (from statsmodels<1,>=0.13.2->ydata_profiling) (21.3)\n",
      "Requirement already satisfied: importlib-metadata>=3.6 in /opt/conda/lib/python3.9/site-packages (from typeguard<5,>=4.1.2->ydata_profiling) (4.6.1)\n",
      "Requirement already satisfied: zipp>=0.5 in /opt/conda/lib/python3.9/site-packages (from importlib-metadata>=3.6->typeguard<5,>=4.1.2->ydata_profiling) (3.5.0)\n",
      "Collecting visions[type_image_path]<0.7.7,>=0.7.5\n",
      "  Downloading visions-0.7.5-py3-none-any.whl (102 kB)\n",
      "\u001b[K     |████████████████████████████████| 102 kB 66.6 MB/s eta 0:00:01\n",
      "\u001b[?25hCollecting networkx>=2.4\n",
      "  Downloading networkx-3.2.1-py3-none-any.whl (1.6 MB)\n",
      "\u001b[K     |████████████████████████████████| 1.6 MB 76.0 MB/s eta 0:00:01\n",
      "\u001b[?25hCollecting tangled-up-in-unicode>=0.0.4\n",
      "  Downloading tangled_up_in_unicode-0.2.0-py3-none-any.whl (4.7 MB)\n",
      "\u001b[K     |████████████████████████████████| 4.7 MB 85.1 MB/s eta 0:00:01\n",
      "\u001b[?25hRequirement already satisfied: attrs>=19.3.0 in /opt/conda/lib/python3.9/site-packages (from visions[type_image_path]<0.7.7,>=0.7.5->ydata_profiling) (21.2.0)\n",
      "Collecting numpy<2,>=1.16.0\n",
      "  Downloading numpy-1.22.4-cp39-cp39-manylinux_2_17_x86_64.manylinux2014_x86_64.whl (16.8 MB)\n",
      "\u001b[K     |████████████████████████████████| 16.8 MB 93.1 MB/s eta 0:00:01\n",
      "\u001b[?25hBuilding wheels for collected packages: htmlmin\n",
      "  Building wheel for htmlmin (setup.py) ... \u001b[?25ldone\n",
      "\u001b[?25h  Created wheel for htmlmin: filename=htmlmin-0.1.12-py3-none-any.whl size=27085 sha256=80f589cf965443b9fb082a9b47a87e0891a15bb3ad6fa81d450d97059a4c5079\n",
      "  Stored in directory: /home/jovyan/.cache/pip/wheels/1d/05/04/c6d7d3b66539d9e659ac6dfe81e2d0fd4c1a8316cc5a403300\n",
      "Successfully built htmlmin\n",
      "Installing collected packages: numpy, typing-extensions, tangled-up-in-unicode, PyWavelets, networkx, multimethod, visions, pydantic-core, imagehash, annotated-types, wordcloud, typeguard, pydantic, phik, htmlmin, dacite, ydata-profiling\n",
      "  Attempting uninstall: numpy\n",
      "    Found existing installation: numpy 1.21.1\n",
      "    Uninstalling numpy-1.21.1:\n",
      "      Successfully uninstalled numpy-1.21.1\n",
      "  Attempting uninstall: typing-extensions\n",
      "    Found existing installation: typing-extensions 4.3.0\n",
      "    Uninstalling typing-extensions-4.3.0:\n",
      "      Successfully uninstalled typing-extensions-4.3.0\n",
      "  Attempting uninstall: pydantic\n",
      "    Found existing installation: pydantic 1.8.2\n",
      "    Uninstalling pydantic-1.8.2:\n",
      "      Successfully uninstalled pydantic-1.8.2\n",
      "\u001b[31mERROR: pip's dependency resolver does not currently take into account all the packages that are installed. This behaviour is the source of the following dependency conflicts.\n",
      "thinc 8.0.17 requires pydantic!=1.8,!=1.8.1,<1.9.0,>=1.7.4, but you have pydantic 2.7.1 which is incompatible.\n",
      "spacy 3.2.0 requires pydantic!=1.8,!=1.8.1,<1.9.0,>=1.7.4, but you have pydantic 2.7.1 which is incompatible.\u001b[0m\n",
      "Successfully installed PyWavelets-1.6.0 annotated-types-0.6.0 dacite-1.8.1 htmlmin-0.1.12 imagehash-4.3.1 multimethod-1.11.2 networkx-3.2.1 numpy-1.22.4 phik-0.12.4 pydantic-2.7.1 pydantic-core-2.18.2 tangled-up-in-unicode-0.2.0 typeguard-4.2.1 typing-extensions-4.11.0 visions-0.7.5 wordcloud-1.9.3 ydata-profiling-4.7.0\n",
      "Note: you may need to restart the kernel to use updated packages.\n"
     ]
    }
   ],
   "source": [
    "pip install ydata_profiling"
   ]
  },
  {
   "cell_type": "code",
   "execution_count": 5,
   "id": "0934f8b4",
   "metadata": {},
   "outputs": [
    {
     "name": "stdout",
     "output_type": "stream",
     "text": [
      "Requirement already satisfied: catboost in /opt/conda/lib/python3.9/site-packages (1.0.3)\n",
      "Requirement already satisfied: pandas>=0.24.0 in /opt/conda/lib/python3.9/site-packages (from catboost) (1.2.4)\n",
      "Requirement already satisfied: six in /opt/conda/lib/python3.9/site-packages (from catboost) (1.16.0)\n",
      "Requirement already satisfied: scipy in /opt/conda/lib/python3.9/site-packages (from catboost) (1.9.1)\n",
      "Requirement already satisfied: matplotlib in /opt/conda/lib/python3.9/site-packages (from catboost) (3.3.4)\n",
      "Requirement already satisfied: graphviz in /opt/conda/lib/python3.9/site-packages (from catboost) (0.20.1)\n",
      "Requirement already satisfied: numpy>=1.16.0 in /opt/conda/lib/python3.9/site-packages (from catboost) (1.22.4)\n",
      "Requirement already satisfied: plotly in /opt/conda/lib/python3.9/site-packages (from catboost) (5.4.0)\n",
      "Requirement already satisfied: python-dateutil>=2.7.3 in /opt/conda/lib/python3.9/site-packages (from pandas>=0.24.0->catboost) (2.8.1)\n",
      "Requirement already satisfied: pytz>=2017.3 in /opt/conda/lib/python3.9/site-packages (from pandas>=0.24.0->catboost) (2021.1)\n",
      "Requirement already satisfied: cycler>=0.10 in /opt/conda/lib/python3.9/site-packages (from matplotlib->catboost) (0.11.0)\n",
      "Requirement already satisfied: kiwisolver>=1.0.1 in /opt/conda/lib/python3.9/site-packages (from matplotlib->catboost) (1.4.4)\n",
      "Requirement already satisfied: pillow>=6.2.0 in /opt/conda/lib/python3.9/site-packages (from matplotlib->catboost) (8.4.0)\n",
      "Requirement already satisfied: pyparsing!=2.0.4,!=2.1.2,!=2.1.6,>=2.0.3 in /opt/conda/lib/python3.9/site-packages (from matplotlib->catboost) (2.4.7)\n",
      "Requirement already satisfied: tenacity>=6.2.0 in /opt/conda/lib/python3.9/site-packages (from plotly->catboost) (8.0.1)\n",
      "Note: you may need to restart the kernel to use updated packages.\n"
     ]
    }
   ],
   "source": [
    "pip install catboost"
   ]
  },
  {
   "cell_type": "code",
   "execution_count": 6,
   "id": "b64cc1fd-77f5-4103-b086-a078842af31f",
   "metadata": {},
   "outputs": [],
   "source": [
    "import pandas as pd\n",
    "import numpy as np\n",
    "import datetime\n",
    "import random\n",
    "import torch\n",
    "import torch.nn as nn\n",
    "import matplotlib.pyplot as plt\n",
    "import math\n",
    "import seaborn as sns\n",
    "\n",
    "from sqlalchemy import create_engine\n",
    "from ydata_profiling import ProfileReport\n",
    "from sklearn.model_selection import train_test_split, GridSearchCV\n",
    "from sklearn.preprocessing import OneHotEncoder, MinMaxScaler\n",
    "from sklearn.compose import ColumnTransformer\n",
    "from sklearn.pipeline import Pipeline\n",
    "from sklearn.metrics import f1_score, confusion_matrix, precision_score, recall_score\n",
    "from sklearn.linear_model import LogisticRegression\n",
    "from catboost import CatBoostClassifier\n",
    "from sklearn.utils.class_weight import compute_class_weight"
   ]
  },
  {
   "cell_type": "code",
   "execution_count": 7,
   "id": "2777396c-ea7c-483c-9d96-8aaaa1c0b383",
   "metadata": {},
   "outputs": [],
   "source": [
    "RANDOM_STATE = 42"
   ]
  },
  {
   "cell_type": "code",
   "execution_count": 8,
   "id": "cccea2e7-0988-4553-bd6d-f51ff992e6ab",
   "metadata": {},
   "outputs": [],
   "source": [
    "random.seed(0)\n",
    "np.random.seed(0)\n",
    "torch.manual_seed(0)\n",
    "torch.use_deterministic_algorithms(True)\n",
    "torch.backends.cudnn.deterministic = True"
   ]
  },
  {
   "cell_type": "markdown",
   "id": "a2f3e0f5",
   "metadata": {
    "ExecuteTime": {
     "end_time": "2022-05-05T04:58:05.692448Z",
     "start_time": "2022-05-05T04:58:05.688565Z"
    }
   },
   "source": [
    "## Подключитесь к базе. Загрузите таблицы sql"
   ]
  },
  {
   "cell_type": "code",
   "execution_count": 9,
   "id": "2f2333ce",
   "metadata": {},
   "outputs": [],
   "source": [
    "db_config = {\n",
    "'user': 'praktikum_student', # имя пользователя,\n",
    "'password': 'Sdf4$2;d-d30pp', # пароль,\n",
    "'host': 'rc1b-wcoijxj3yxfsf3fs.mdb.yandexcloud.net',\n",
    "'port': 6432, # порт подключения,\n",
    "'dbname': 'data-science-vehicle-db' # название базы данных,\n",
    "} "
   ]
  },
  {
   "cell_type": "code",
   "execution_count": 10,
   "id": "145e51e7-fb80-47f2-b4ff-a5c8eae547b8",
   "metadata": {},
   "outputs": [],
   "source": [
    "connection_string = f'postgresql+psycopg2://{db_config[\"user\"]}:{db_config[\"password\"]}@{db_config[\"host\"]}:{db_config[\"port\"]}/{db_config[\"dbname\"]}'"
   ]
  },
  {
   "cell_type": "code",
   "execution_count": 11,
   "id": "d7ac905c-2657-4da9-94cd-9e543620367d",
   "metadata": {},
   "outputs": [],
   "source": [
    "engine = create_engine(connection_string)"
   ]
  },
  {
   "cell_type": "markdown",
   "id": "c4256255",
   "metadata": {},
   "source": [
    "## Проведите первичное исследование таблиц"
   ]
  },
  {
   "cell_type": "code",
   "execution_count": 12,
   "id": "695ac121",
   "metadata": {},
   "outputs": [],
   "source": [
    "sql_case_ids = '''\n",
    "SELECT *\n",
    "FROM case_ids\n",
    "LIMIT 500\n",
    "'''\n",
    "\n",
    "case_ids_df = pd.read_sql_query(sql_case_ids, connection_string)"
   ]
  },
  {
   "cell_type": "code",
   "execution_count": 13,
   "id": "74569153-e701-4932-bbd2-34077a00dc88",
   "metadata": {},
   "outputs": [
    {
     "data": {
      "text/html": [
       "<div>\n",
       "<style scoped>\n",
       "    .dataframe tbody tr th:only-of-type {\n",
       "        vertical-align: middle;\n",
       "    }\n",
       "\n",
       "    .dataframe tbody tr th {\n",
       "        vertical-align: top;\n",
       "    }\n",
       "\n",
       "    .dataframe thead th {\n",
       "        text-align: right;\n",
       "    }\n",
       "</style>\n",
       "<table border=\"1\" class=\"dataframe\">\n",
       "  <thead>\n",
       "    <tr style=\"text-align: right;\">\n",
       "      <th></th>\n",
       "      <th>case_id</th>\n",
       "      <th>db_year</th>\n",
       "    </tr>\n",
       "  </thead>\n",
       "  <tbody>\n",
       "    <tr>\n",
       "      <th>0</th>\n",
       "      <td>0081715</td>\n",
       "      <td>2021</td>\n",
       "    </tr>\n",
       "    <tr>\n",
       "      <th>1</th>\n",
       "      <td>0726202</td>\n",
       "      <td>2021</td>\n",
       "    </tr>\n",
       "    <tr>\n",
       "      <th>2</th>\n",
       "      <td>3858022</td>\n",
       "      <td>2021</td>\n",
       "    </tr>\n",
       "    <tr>\n",
       "      <th>3</th>\n",
       "      <td>3899441</td>\n",
       "      <td>2021</td>\n",
       "    </tr>\n",
       "    <tr>\n",
       "      <th>4</th>\n",
       "      <td>3899442</td>\n",
       "      <td>2021</td>\n",
       "    </tr>\n",
       "  </tbody>\n",
       "</table>\n",
       "</div>"
      ],
      "text/plain": [
       "   case_id db_year\n",
       "0  0081715    2021\n",
       "1  0726202    2021\n",
       "2  3858022    2021\n",
       "3  3899441    2021\n",
       "4  3899442    2021"
      ]
     },
     "execution_count": 13,
     "metadata": {},
     "output_type": "execute_result"
    }
   ],
   "source": [
    "case_ids_df.head()"
   ]
  },
  {
   "cell_type": "code",
   "execution_count": 14,
   "id": "68407d0a-3dd7-4737-b651-81c825b79d99",
   "metadata": {},
   "outputs": [
    {
     "name": "stdout",
     "output_type": "stream",
     "text": [
      "<class 'pandas.core.frame.DataFrame'>\n",
      "RangeIndex: 500 entries, 0 to 499\n",
      "Data columns (total 2 columns):\n",
      " #   Column   Non-Null Count  Dtype \n",
      "---  ------   --------------  ----- \n",
      " 0   case_id  500 non-null    object\n",
      " 1   db_year  500 non-null    object\n",
      "dtypes: object(2)\n",
      "memory usage: 7.9+ KB\n"
     ]
    }
   ],
   "source": [
    "case_ids_df.info()"
   ]
  },
  {
   "cell_type": "code",
   "execution_count": 15,
   "id": "ffd98cb1-9ac2-492e-b520-81b9e8311b85",
   "metadata": {},
   "outputs": [],
   "source": [
    "del case_ids_df"
   ]
  },
  {
   "cell_type": "code",
   "execution_count": 16,
   "id": "bd0fb0f5-24d6-498b-a9e6-c3477c416857",
   "metadata": {},
   "outputs": [],
   "source": [
    "sql_vehicles = '''\n",
    "SELECT *\n",
    "FROM vehicles\n",
    "LIMIT 500\n",
    "'''\n",
    "\n",
    "vehicles_df = pd.read_sql_query(sql_vehicles, connection_string)"
   ]
  },
  {
   "cell_type": "code",
   "execution_count": 17,
   "id": "bf209e53-24f4-4e45-8312-4cd172521cb3",
   "metadata": {},
   "outputs": [
    {
     "data": {
      "text/html": [
       "<div>\n",
       "<style scoped>\n",
       "    .dataframe tbody tr th:only-of-type {\n",
       "        vertical-align: middle;\n",
       "    }\n",
       "\n",
       "    .dataframe tbody tr th {\n",
       "        vertical-align: top;\n",
       "    }\n",
       "\n",
       "    .dataframe thead th {\n",
       "        text-align: right;\n",
       "    }\n",
       "</style>\n",
       "<table border=\"1\" class=\"dataframe\">\n",
       "  <thead>\n",
       "    <tr style=\"text-align: right;\">\n",
       "      <th></th>\n",
       "      <th>id</th>\n",
       "      <th>case_id</th>\n",
       "      <th>party_number</th>\n",
       "      <th>vehicle_type</th>\n",
       "      <th>vehicle_transmission</th>\n",
       "      <th>vehicle_age</th>\n",
       "    </tr>\n",
       "  </thead>\n",
       "  <tbody>\n",
       "    <tr>\n",
       "      <th>0</th>\n",
       "      <td>1175713</td>\n",
       "      <td>5305032</td>\n",
       "      <td>2</td>\n",
       "      <td>sedan</td>\n",
       "      <td>manual</td>\n",
       "      <td>3.0</td>\n",
       "    </tr>\n",
       "    <tr>\n",
       "      <th>1</th>\n",
       "      <td>1</td>\n",
       "      <td>3858022</td>\n",
       "      <td>1</td>\n",
       "      <td>sedan</td>\n",
       "      <td>auto</td>\n",
       "      <td>3.0</td>\n",
       "    </tr>\n",
       "    <tr>\n",
       "      <th>2</th>\n",
       "      <td>1175712</td>\n",
       "      <td>5305030</td>\n",
       "      <td>1</td>\n",
       "      <td>sedan</td>\n",
       "      <td>auto</td>\n",
       "      <td>3.0</td>\n",
       "    </tr>\n",
       "    <tr>\n",
       "      <th>3</th>\n",
       "      <td>1175717</td>\n",
       "      <td>5305033</td>\n",
       "      <td>3</td>\n",
       "      <td>sedan</td>\n",
       "      <td>auto</td>\n",
       "      <td>5.0</td>\n",
       "    </tr>\n",
       "    <tr>\n",
       "      <th>4</th>\n",
       "      <td>1175722</td>\n",
       "      <td>5305034</td>\n",
       "      <td>2</td>\n",
       "      <td>sedan</td>\n",
       "      <td>auto</td>\n",
       "      <td>5.0</td>\n",
       "    </tr>\n",
       "  </tbody>\n",
       "</table>\n",
       "</div>"
      ],
      "text/plain": [
       "        id  case_id  party_number vehicle_type vehicle_transmission  \\\n",
       "0  1175713  5305032             2        sedan               manual   \n",
       "1        1  3858022             1        sedan                 auto   \n",
       "2  1175712  5305030             1        sedan                 auto   \n",
       "3  1175717  5305033             3        sedan                 auto   \n",
       "4  1175722  5305034             2        sedan                 auto   \n",
       "\n",
       "   vehicle_age  \n",
       "0          3.0  \n",
       "1          3.0  \n",
       "2          3.0  \n",
       "3          5.0  \n",
       "4          5.0  "
      ]
     },
     "execution_count": 17,
     "metadata": {},
     "output_type": "execute_result"
    }
   ],
   "source": [
    "vehicles_df.head()"
   ]
  },
  {
   "cell_type": "code",
   "execution_count": 18,
   "id": "c96fe33a-1725-4c4e-a792-5038763454c9",
   "metadata": {},
   "outputs": [
    {
     "name": "stdout",
     "output_type": "stream",
     "text": [
      "<class 'pandas.core.frame.DataFrame'>\n",
      "RangeIndex: 500 entries, 0 to 499\n",
      "Data columns (total 6 columns):\n",
      " #   Column                Non-Null Count  Dtype  \n",
      "---  ------                --------------  -----  \n",
      " 0   id                    500 non-null    int64  \n",
      " 1   case_id               500 non-null    object \n",
      " 2   party_number          500 non-null    int64  \n",
      " 3   vehicle_type          500 non-null    object \n",
      " 4   vehicle_transmission  496 non-null    object \n",
      " 5   vehicle_age           491 non-null    float64\n",
      "dtypes: float64(1), int64(2), object(3)\n",
      "memory usage: 23.6+ KB\n"
     ]
    }
   ],
   "source": [
    "vehicles_df.info()"
   ]
  },
  {
   "cell_type": "code",
   "execution_count": 19,
   "id": "6d3089a3-4590-417c-931b-ea2b5349e0a5",
   "metadata": {},
   "outputs": [],
   "source": [
    "del vehicles_df"
   ]
  },
  {
   "cell_type": "code",
   "execution_count": 20,
   "id": "f753023d-fd9b-4baf-b525-77edf573b811",
   "metadata": {},
   "outputs": [],
   "source": [
    "sql_collisions = '''\n",
    "SELECT *\n",
    "FROM collisions\n",
    "LIMIT 500\n",
    "'''\n",
    "\n",
    "collisions_df = pd.read_sql_query(sql_collisions, connection_string)"
   ]
  },
  {
   "cell_type": "code",
   "execution_count": 21,
   "id": "4b2b2366-c5ed-4315-9f85-66f6dc60a670",
   "metadata": {},
   "outputs": [
    {
     "data": {
      "text/html": [
       "<div>\n",
       "<style scoped>\n",
       "    .dataframe tbody tr th:only-of-type {\n",
       "        vertical-align: middle;\n",
       "    }\n",
       "\n",
       "    .dataframe tbody tr th {\n",
       "        vertical-align: top;\n",
       "    }\n",
       "\n",
       "    .dataframe thead th {\n",
       "        text-align: right;\n",
       "    }\n",
       "</style>\n",
       "<table border=\"1\" class=\"dataframe\">\n",
       "  <thead>\n",
       "    <tr style=\"text-align: right;\">\n",
       "      <th></th>\n",
       "      <th>case_id</th>\n",
       "      <th>county_city_location</th>\n",
       "      <th>county_location</th>\n",
       "      <th>distance</th>\n",
       "      <th>direction</th>\n",
       "      <th>intersection</th>\n",
       "      <th>weather_1</th>\n",
       "      <th>location_type</th>\n",
       "      <th>collision_damage</th>\n",
       "      <th>party_count</th>\n",
       "      <th>primary_collision_factor</th>\n",
       "      <th>pcf_violation_category</th>\n",
       "      <th>type_of_collision</th>\n",
       "      <th>motor_vehicle_involved_with</th>\n",
       "      <th>road_surface</th>\n",
       "      <th>road_condition_1</th>\n",
       "      <th>lighting</th>\n",
       "      <th>control_device</th>\n",
       "      <th>collision_date</th>\n",
       "      <th>collision_time</th>\n",
       "    </tr>\n",
       "  </thead>\n",
       "  <tbody>\n",
       "    <tr>\n",
       "      <th>0</th>\n",
       "      <td>4083072</td>\n",
       "      <td>1942</td>\n",
       "      <td>los angeles</td>\n",
       "      <td>528.0</td>\n",
       "      <td>north</td>\n",
       "      <td>0.0</td>\n",
       "      <td>cloudy</td>\n",
       "      <td>highway</td>\n",
       "      <td>small damage</td>\n",
       "      <td>2</td>\n",
       "      <td>vehicle code violation</td>\n",
       "      <td>unsafe lane change</td>\n",
       "      <td>sideswipe</td>\n",
       "      <td>other motor vehicle</td>\n",
       "      <td>wet</td>\n",
       "      <td>normal</td>\n",
       "      <td>daylight</td>\n",
       "      <td>none</td>\n",
       "      <td>2009-01-22</td>\n",
       "      <td>07:25:00</td>\n",
       "    </tr>\n",
       "    <tr>\n",
       "      <th>1</th>\n",
       "      <td>4083075</td>\n",
       "      <td>4313</td>\n",
       "      <td>santa clara</td>\n",
       "      <td>0.0</td>\n",
       "      <td>None</td>\n",
       "      <td>1.0</td>\n",
       "      <td>clear</td>\n",
       "      <td>None</td>\n",
       "      <td>small damage</td>\n",
       "      <td>1</td>\n",
       "      <td>vehicle code violation</td>\n",
       "      <td>improper passing</td>\n",
       "      <td>hit object</td>\n",
       "      <td>fixed object</td>\n",
       "      <td>dry</td>\n",
       "      <td>normal</td>\n",
       "      <td>dark with street lights</td>\n",
       "      <td>functioning</td>\n",
       "      <td>2009-01-03</td>\n",
       "      <td>02:26:00</td>\n",
       "    </tr>\n",
       "    <tr>\n",
       "      <th>2</th>\n",
       "      <td>4083073</td>\n",
       "      <td>0109</td>\n",
       "      <td>alameda</td>\n",
       "      <td>0.0</td>\n",
       "      <td>None</td>\n",
       "      <td>1.0</td>\n",
       "      <td>clear</td>\n",
       "      <td>None</td>\n",
       "      <td>scratch</td>\n",
       "      <td>2</td>\n",
       "      <td>vehicle code violation</td>\n",
       "      <td>improper turning</td>\n",
       "      <td>broadside</td>\n",
       "      <td>other motor vehicle</td>\n",
       "      <td>dry</td>\n",
       "      <td>normal</td>\n",
       "      <td>dark with street lights</td>\n",
       "      <td>functioning</td>\n",
       "      <td>2009-01-11</td>\n",
       "      <td>03:32:00</td>\n",
       "    </tr>\n",
       "    <tr>\n",
       "      <th>3</th>\n",
       "      <td>4083077</td>\n",
       "      <td>0109</td>\n",
       "      <td>alameda</td>\n",
       "      <td>0.0</td>\n",
       "      <td>None</td>\n",
       "      <td>1.0</td>\n",
       "      <td>clear</td>\n",
       "      <td>None</td>\n",
       "      <td>scratch</td>\n",
       "      <td>2</td>\n",
       "      <td>vehicle code violation</td>\n",
       "      <td>automobile right of way</td>\n",
       "      <td>broadside</td>\n",
       "      <td>other motor vehicle</td>\n",
       "      <td>dry</td>\n",
       "      <td>normal</td>\n",
       "      <td>daylight</td>\n",
       "      <td>functioning</td>\n",
       "      <td>2009-01-11</td>\n",
       "      <td>10:35:00</td>\n",
       "    </tr>\n",
       "    <tr>\n",
       "      <th>4</th>\n",
       "      <td>4083087</td>\n",
       "      <td>4313</td>\n",
       "      <td>santa clara</td>\n",
       "      <td>0.0</td>\n",
       "      <td>None</td>\n",
       "      <td>1.0</td>\n",
       "      <td>clear</td>\n",
       "      <td>None</td>\n",
       "      <td>scratch</td>\n",
       "      <td>2</td>\n",
       "      <td>vehicle code violation</td>\n",
       "      <td>speeding</td>\n",
       "      <td>rear end</td>\n",
       "      <td>other motor vehicle</td>\n",
       "      <td>dry</td>\n",
       "      <td>None</td>\n",
       "      <td>dark with street lights</td>\n",
       "      <td>functioning</td>\n",
       "      <td>2009-01-02</td>\n",
       "      <td>22:43:00</td>\n",
       "    </tr>\n",
       "  </tbody>\n",
       "</table>\n",
       "</div>"
      ],
      "text/plain": [
       "   case_id county_city_location county_location  distance direction  \\\n",
       "0  4083072                 1942     los angeles     528.0     north   \n",
       "1  4083075                 4313     santa clara       0.0      None   \n",
       "2  4083073                 0109         alameda       0.0      None   \n",
       "3  4083077                 0109         alameda       0.0      None   \n",
       "4  4083087                 4313     santa clara       0.0      None   \n",
       "\n",
       "   intersection weather_1 location_type collision_damage  party_count  \\\n",
       "0           0.0    cloudy       highway     small damage            2   \n",
       "1           1.0     clear          None     small damage            1   \n",
       "2           1.0     clear          None          scratch            2   \n",
       "3           1.0     clear          None          scratch            2   \n",
       "4           1.0     clear          None          scratch            2   \n",
       "\n",
       "  primary_collision_factor   pcf_violation_category type_of_collision  \\\n",
       "0   vehicle code violation       unsafe lane change         sideswipe   \n",
       "1   vehicle code violation         improper passing        hit object   \n",
       "2   vehicle code violation         improper turning         broadside   \n",
       "3   vehicle code violation  automobile right of way         broadside   \n",
       "4   vehicle code violation                 speeding          rear end   \n",
       "\n",
       "  motor_vehicle_involved_with road_surface road_condition_1  \\\n",
       "0         other motor vehicle          wet           normal   \n",
       "1                fixed object          dry           normal   \n",
       "2         other motor vehicle          dry           normal   \n",
       "3         other motor vehicle          dry           normal   \n",
       "4         other motor vehicle          dry             None   \n",
       "\n",
       "                  lighting control_device collision_date collision_time  \n",
       "0                 daylight           none     2009-01-22       07:25:00  \n",
       "1  dark with street lights    functioning     2009-01-03       02:26:00  \n",
       "2  dark with street lights    functioning     2009-01-11       03:32:00  \n",
       "3                 daylight    functioning     2009-01-11       10:35:00  \n",
       "4  dark with street lights    functioning     2009-01-02       22:43:00  "
      ]
     },
     "execution_count": 21,
     "metadata": {},
     "output_type": "execute_result"
    }
   ],
   "source": [
    "collisions_df.head()"
   ]
  },
  {
   "cell_type": "code",
   "execution_count": 22,
   "id": "0a7d8cf6-b3c5-42bb-8e32-663d41824974",
   "metadata": {},
   "outputs": [
    {
     "name": "stdout",
     "output_type": "stream",
     "text": [
      "<class 'pandas.core.frame.DataFrame'>\n",
      "RangeIndex: 500 entries, 0 to 499\n",
      "Data columns (total 20 columns):\n",
      " #   Column                       Non-Null Count  Dtype  \n",
      "---  ------                       --------------  -----  \n",
      " 0   case_id                      500 non-null    object \n",
      " 1   county_city_location         500 non-null    object \n",
      " 2   county_location              500 non-null    object \n",
      " 3   distance                     500 non-null    float64\n",
      " 4   direction                    344 non-null    object \n",
      " 5   intersection                 493 non-null    float64\n",
      " 6   weather_1                    494 non-null    object \n",
      " 7   location_type                193 non-null    object \n",
      " 8   collision_damage             500 non-null    object \n",
      " 9   party_count                  500 non-null    int64  \n",
      " 10  primary_collision_factor     491 non-null    object \n",
      " 11  pcf_violation_category       485 non-null    object \n",
      " 12  type_of_collision            495 non-null    object \n",
      " 13  motor_vehicle_involved_with  497 non-null    object \n",
      " 14  road_surface                 493 non-null    object \n",
      " 15  road_condition_1             493 non-null    object \n",
      " 16  lighting                     497 non-null    object \n",
      " 17  control_device               497 non-null    object \n",
      " 18  collision_date               500 non-null    object \n",
      " 19  collision_time               497 non-null    object \n",
      "dtypes: float64(2), int64(1), object(17)\n",
      "memory usage: 78.2+ KB\n"
     ]
    }
   ],
   "source": [
    "collisions_df.info()"
   ]
  },
  {
   "cell_type": "code",
   "execution_count": 23,
   "id": "c3c5895e-9df9-4e1a-9a9d-647093f405bb",
   "metadata": {},
   "outputs": [],
   "source": [
    "del collisions_df"
   ]
  },
  {
   "cell_type": "code",
   "execution_count": 24,
   "id": "e6d1df12-7200-44ac-a624-cbd8fa315639",
   "metadata": {},
   "outputs": [],
   "source": [
    "sql_parties = '''\n",
    "SELECT *\n",
    "FROM parties\n",
    "LIMIT 500\n",
    "'''\n",
    "\n",
    "parties_df = pd.read_sql_query(sql_parties, connection_string)"
   ]
  },
  {
   "cell_type": "code",
   "execution_count": 25,
   "id": "89e09183-8c4d-4534-b853-9074844b5db9",
   "metadata": {},
   "outputs": [
    {
     "data": {
      "text/html": [
       "<div>\n",
       "<style scoped>\n",
       "    .dataframe tbody tr th:only-of-type {\n",
       "        vertical-align: middle;\n",
       "    }\n",
       "\n",
       "    .dataframe tbody tr th {\n",
       "        vertical-align: top;\n",
       "    }\n",
       "\n",
       "    .dataframe thead th {\n",
       "        text-align: right;\n",
       "    }\n",
       "</style>\n",
       "<table border=\"1\" class=\"dataframe\">\n",
       "  <thead>\n",
       "    <tr style=\"text-align: right;\">\n",
       "      <th></th>\n",
       "      <th>id</th>\n",
       "      <th>case_id</th>\n",
       "      <th>party_number</th>\n",
       "      <th>party_type</th>\n",
       "      <th>at_fault</th>\n",
       "      <th>insurance_premium</th>\n",
       "      <th>party_sobriety</th>\n",
       "      <th>party_drug_physical</th>\n",
       "      <th>cellphone_in_use</th>\n",
       "    </tr>\n",
       "  </thead>\n",
       "  <tbody>\n",
       "    <tr>\n",
       "      <th>0</th>\n",
       "      <td>22</td>\n",
       "      <td>3899454</td>\n",
       "      <td>1</td>\n",
       "      <td>road signs</td>\n",
       "      <td>1</td>\n",
       "      <td>29.0</td>\n",
       "      <td>had not been drinking</td>\n",
       "      <td>None</td>\n",
       "      <td>0.0</td>\n",
       "    </tr>\n",
       "    <tr>\n",
       "      <th>1</th>\n",
       "      <td>23</td>\n",
       "      <td>3899454</td>\n",
       "      <td>2</td>\n",
       "      <td>road signs</td>\n",
       "      <td>0</td>\n",
       "      <td>7.0</td>\n",
       "      <td>had not been drinking</td>\n",
       "      <td>None</td>\n",
       "      <td>0.0</td>\n",
       "    </tr>\n",
       "    <tr>\n",
       "      <th>2</th>\n",
       "      <td>29</td>\n",
       "      <td>3899462</td>\n",
       "      <td>2</td>\n",
       "      <td>car</td>\n",
       "      <td>0</td>\n",
       "      <td>21.0</td>\n",
       "      <td>had not been drinking</td>\n",
       "      <td>None</td>\n",
       "      <td>0.0</td>\n",
       "    </tr>\n",
       "    <tr>\n",
       "      <th>3</th>\n",
       "      <td>31</td>\n",
       "      <td>3899465</td>\n",
       "      <td>2</td>\n",
       "      <td>road signs</td>\n",
       "      <td>0</td>\n",
       "      <td>24.0</td>\n",
       "      <td>had not been drinking</td>\n",
       "      <td>None</td>\n",
       "      <td>0.0</td>\n",
       "    </tr>\n",
       "    <tr>\n",
       "      <th>4</th>\n",
       "      <td>41</td>\n",
       "      <td>3899478</td>\n",
       "      <td>2</td>\n",
       "      <td>road bumper</td>\n",
       "      <td>0</td>\n",
       "      <td>NaN</td>\n",
       "      <td>not applicable</td>\n",
       "      <td>not applicable</td>\n",
       "      <td>0.0</td>\n",
       "    </tr>\n",
       "  </tbody>\n",
       "</table>\n",
       "</div>"
      ],
      "text/plain": [
       "   id  case_id  party_number   party_type  at_fault  insurance_premium  \\\n",
       "0  22  3899454             1   road signs         1               29.0   \n",
       "1  23  3899454             2   road signs         0                7.0   \n",
       "2  29  3899462             2          car         0               21.0   \n",
       "3  31  3899465             2   road signs         0               24.0   \n",
       "4  41  3899478             2  road bumper         0                NaN   \n",
       "\n",
       "          party_sobriety party_drug_physical  cellphone_in_use  \n",
       "0  had not been drinking                None               0.0  \n",
       "1  had not been drinking                None               0.0  \n",
       "2  had not been drinking                None               0.0  \n",
       "3  had not been drinking                None               0.0  \n",
       "4         not applicable      not applicable               0.0  "
      ]
     },
     "execution_count": 25,
     "metadata": {},
     "output_type": "execute_result"
    }
   ],
   "source": [
    "parties_df.head()"
   ]
  },
  {
   "cell_type": "code",
   "execution_count": 26,
   "id": "eb03ff57-40e2-44cb-b10c-b986e6a18d14",
   "metadata": {},
   "outputs": [
    {
     "name": "stdout",
     "output_type": "stream",
     "text": [
      "<class 'pandas.core.frame.DataFrame'>\n",
      "RangeIndex: 500 entries, 0 to 499\n",
      "Data columns (total 9 columns):\n",
      " #   Column               Non-Null Count  Dtype  \n",
      "---  ------               --------------  -----  \n",
      " 0   id                   500 non-null    int64  \n",
      " 1   case_id              500 non-null    object \n",
      " 2   party_number         500 non-null    int64  \n",
      " 3   party_type           490 non-null    object \n",
      " 4   at_fault             500 non-null    int64  \n",
      " 5   insurance_premium    182 non-null    float64\n",
      " 6   party_sobriety       452 non-null    object \n",
      " 7   party_drug_physical  267 non-null    object \n",
      " 8   cellphone_in_use     264 non-null    float64\n",
      "dtypes: float64(2), int64(3), object(4)\n",
      "memory usage: 35.3+ KB\n"
     ]
    }
   ],
   "source": [
    "parties_df.info()"
   ]
  },
  {
   "cell_type": "code",
   "execution_count": 27,
   "id": "de7c8a3d-8122-401e-b700-2aede34921e7",
   "metadata": {},
   "outputs": [],
   "source": [
    "del parties_df"
   ]
  },
  {
   "cell_type": "markdown",
   "id": "1ecf0d65-3ea5-4581-b571-01988a2c811a",
   "metadata": {},
   "source": [
    "Все таблицы нормально загружаются согласно ER-диаграмме\n",
    "\n",
    "Таблицы должны иметь связ по case_id. Эта связь существует\n",
    "\n",
    "Некоторые выгруженные таблицы имеют пропуски."
   ]
  },
  {
   "cell_type": "markdown",
   "id": "1c2b02ca",
   "metadata": {},
   "source": [
    "##  Проведите статистический анализ факторов ДТП"
   ]
  },
  {
   "cell_type": "code",
   "execution_count": 28,
   "id": "1c5d2b5c",
   "metadata": {},
   "outputs": [],
   "source": [
    "sql_accidents_month = '''\n",
    "SELECT EXTRACT(MONTH FROM DATE_TRUNC('month', collision_date)) as month_number,\n",
    "       DATE_TRUNC('month', collision_date) as month,\n",
    "       COUNT(case_id) as num_accidents\n",
    "FROM collisions\n",
    "WHERE EXTRACT(YEAR FROM collision_date) <= 2012\n",
    "GROUP BY month_number, month\n",
    "ORDER BY month\n",
    "'''\n",
    "\n",
    "accidents_month_df = pd.read_sql_query(sql_accidents_month, connection_string)"
   ]
  },
  {
   "cell_type": "code",
   "execution_count": 29,
   "id": "7468ee20-1876-41d6-a4bb-3a8fddc7476e",
   "metadata": {},
   "outputs": [
    {
     "data": {
      "text/html": [
       "<div>\n",
       "<style scoped>\n",
       "    .dataframe tbody tr th:only-of-type {\n",
       "        vertical-align: middle;\n",
       "    }\n",
       "\n",
       "    .dataframe tbody tr th {\n",
       "        vertical-align: top;\n",
       "    }\n",
       "\n",
       "    .dataframe thead th {\n",
       "        text-align: right;\n",
       "    }\n",
       "</style>\n",
       "<table border=\"1\" class=\"dataframe\">\n",
       "  <thead>\n",
       "    <tr style=\"text-align: right;\">\n",
       "      <th></th>\n",
       "      <th>month_number</th>\n",
       "      <th>month</th>\n",
       "      <th>num_accidents</th>\n",
       "    </tr>\n",
       "  </thead>\n",
       "  <tbody>\n",
       "    <tr>\n",
       "      <th>0</th>\n",
       "      <td>1.0</td>\n",
       "      <td>2009-01-01 00:00:00+03:00</td>\n",
       "      <td>35062</td>\n",
       "    </tr>\n",
       "    <tr>\n",
       "      <th>1</th>\n",
       "      <td>2.0</td>\n",
       "      <td>2009-02-01 00:00:00+03:00</td>\n",
       "      <td>34480</td>\n",
       "    </tr>\n",
       "    <tr>\n",
       "      <th>2</th>\n",
       "      <td>3.0</td>\n",
       "      <td>2009-03-01 00:00:00+03:00</td>\n",
       "      <td>36648</td>\n",
       "    </tr>\n",
       "    <tr>\n",
       "      <th>3</th>\n",
       "      <td>4.0</td>\n",
       "      <td>2009-04-01 00:00:00+04:00</td>\n",
       "      <td>35239</td>\n",
       "    </tr>\n",
       "    <tr>\n",
       "      <th>4</th>\n",
       "      <td>5.0</td>\n",
       "      <td>2009-05-01 00:00:00+04:00</td>\n",
       "      <td>36916</td>\n",
       "    </tr>\n",
       "    <tr>\n",
       "      <th>5</th>\n",
       "      <td>6.0</td>\n",
       "      <td>2009-06-01 00:00:00+04:00</td>\n",
       "      <td>34202</td>\n",
       "    </tr>\n",
       "    <tr>\n",
       "      <th>6</th>\n",
       "      <td>7.0</td>\n",
       "      <td>2009-07-01 00:00:00+04:00</td>\n",
       "      <td>35161</td>\n",
       "    </tr>\n",
       "    <tr>\n",
       "      <th>7</th>\n",
       "      <td>8.0</td>\n",
       "      <td>2009-08-01 00:00:00+04:00</td>\n",
       "      <td>34508</td>\n",
       "    </tr>\n",
       "    <tr>\n",
       "      <th>8</th>\n",
       "      <td>9.0</td>\n",
       "      <td>2009-09-01 00:00:00+04:00</td>\n",
       "      <td>35555</td>\n",
       "    </tr>\n",
       "    <tr>\n",
       "      <th>9</th>\n",
       "      <td>10.0</td>\n",
       "      <td>2009-10-01 00:00:00+04:00</td>\n",
       "      <td>37835</td>\n",
       "    </tr>\n",
       "    <tr>\n",
       "      <th>10</th>\n",
       "      <td>11.0</td>\n",
       "      <td>2009-11-01 00:00:00+03:00</td>\n",
       "      <td>34562</td>\n",
       "    </tr>\n",
       "    <tr>\n",
       "      <th>11</th>\n",
       "      <td>12.0</td>\n",
       "      <td>2009-12-01 00:00:00+03:00</td>\n",
       "      <td>36060</td>\n",
       "    </tr>\n",
       "    <tr>\n",
       "      <th>12</th>\n",
       "      <td>1.0</td>\n",
       "      <td>2010-01-01 00:00:00+03:00</td>\n",
       "      <td>32892</td>\n",
       "    </tr>\n",
       "    <tr>\n",
       "      <th>13</th>\n",
       "      <td>2.0</td>\n",
       "      <td>2010-02-01 00:00:00+03:00</td>\n",
       "      <td>31918</td>\n",
       "    </tr>\n",
       "    <tr>\n",
       "      <th>14</th>\n",
       "      <td>3.0</td>\n",
       "      <td>2010-03-01 00:00:00+03:00</td>\n",
       "      <td>35803</td>\n",
       "    </tr>\n",
       "    <tr>\n",
       "      <th>15</th>\n",
       "      <td>4.0</td>\n",
       "      <td>2010-04-01 00:00:00+04:00</td>\n",
       "      <td>34416</td>\n",
       "    </tr>\n",
       "    <tr>\n",
       "      <th>16</th>\n",
       "      <td>5.0</td>\n",
       "      <td>2010-05-01 00:00:00+04:00</td>\n",
       "      <td>34862</td>\n",
       "    </tr>\n",
       "    <tr>\n",
       "      <th>17</th>\n",
       "      <td>6.0</td>\n",
       "      <td>2010-06-01 00:00:00+04:00</td>\n",
       "      <td>33367</td>\n",
       "    </tr>\n",
       "    <tr>\n",
       "      <th>18</th>\n",
       "      <td>7.0</td>\n",
       "      <td>2010-07-01 00:00:00+04:00</td>\n",
       "      <td>33645</td>\n",
       "    </tr>\n",
       "    <tr>\n",
       "      <th>19</th>\n",
       "      <td>8.0</td>\n",
       "      <td>2010-08-01 00:00:00+04:00</td>\n",
       "      <td>34620</td>\n",
       "    </tr>\n",
       "    <tr>\n",
       "      <th>20</th>\n",
       "      <td>9.0</td>\n",
       "      <td>2010-09-01 00:00:00+04:00</td>\n",
       "      <td>34957</td>\n",
       "    </tr>\n",
       "    <tr>\n",
       "      <th>21</th>\n",
       "      <td>10.0</td>\n",
       "      <td>2010-10-01 00:00:00+04:00</td>\n",
       "      <td>37480</td>\n",
       "    </tr>\n",
       "    <tr>\n",
       "      <th>22</th>\n",
       "      <td>11.0</td>\n",
       "      <td>2010-11-01 00:00:00+03:00</td>\n",
       "      <td>35460</td>\n",
       "    </tr>\n",
       "    <tr>\n",
       "      <th>23</th>\n",
       "      <td>12.0</td>\n",
       "      <td>2010-12-01 00:00:00+03:00</td>\n",
       "      <td>37070</td>\n",
       "    </tr>\n",
       "    <tr>\n",
       "      <th>24</th>\n",
       "      <td>1.0</td>\n",
       "      <td>2011-01-01 00:00:00+03:00</td>\n",
       "      <td>31926</td>\n",
       "    </tr>\n",
       "    <tr>\n",
       "      <th>25</th>\n",
       "      <td>2.0</td>\n",
       "      <td>2011-02-01 00:00:00+03:00</td>\n",
       "      <td>31975</td>\n",
       "    </tr>\n",
       "    <tr>\n",
       "      <th>26</th>\n",
       "      <td>3.0</td>\n",
       "      <td>2011-03-01 00:00:00+03:00</td>\n",
       "      <td>34585</td>\n",
       "    </tr>\n",
       "    <tr>\n",
       "      <th>27</th>\n",
       "      <td>4.0</td>\n",
       "      <td>2011-04-01 00:00:00+04:00</td>\n",
       "      <td>31377</td>\n",
       "    </tr>\n",
       "    <tr>\n",
       "      <th>28</th>\n",
       "      <td>5.0</td>\n",
       "      <td>2011-05-01 00:00:00+04:00</td>\n",
       "      <td>33370</td>\n",
       "    </tr>\n",
       "    <tr>\n",
       "      <th>29</th>\n",
       "      <td>6.0</td>\n",
       "      <td>2011-06-01 00:00:00+04:00</td>\n",
       "      <td>31962</td>\n",
       "    </tr>\n",
       "    <tr>\n",
       "      <th>30</th>\n",
       "      <td>7.0</td>\n",
       "      <td>2011-07-01 00:00:00+04:00</td>\n",
       "      <td>33029</td>\n",
       "    </tr>\n",
       "    <tr>\n",
       "      <th>31</th>\n",
       "      <td>8.0</td>\n",
       "      <td>2011-08-01 00:00:00+04:00</td>\n",
       "      <td>34339</td>\n",
       "    </tr>\n",
       "    <tr>\n",
       "      <th>32</th>\n",
       "      <td>9.0</td>\n",
       "      <td>2011-09-01 00:00:00+04:00</td>\n",
       "      <td>34137</td>\n",
       "    </tr>\n",
       "    <tr>\n",
       "      <th>33</th>\n",
       "      <td>10.0</td>\n",
       "      <td>2011-10-01 00:00:00+04:00</td>\n",
       "      <td>36618</td>\n",
       "    </tr>\n",
       "    <tr>\n",
       "      <th>34</th>\n",
       "      <td>11.0</td>\n",
       "      <td>2011-11-01 00:00:00+04:00</td>\n",
       "      <td>34495</td>\n",
       "    </tr>\n",
       "    <tr>\n",
       "      <th>35</th>\n",
       "      <td>12.0</td>\n",
       "      <td>2011-12-01 00:00:00+04:00</td>\n",
       "      <td>34615</td>\n",
       "    </tr>\n",
       "    <tr>\n",
       "      <th>36</th>\n",
       "      <td>1.0</td>\n",
       "      <td>2012-01-01 00:00:00+04:00</td>\n",
       "      <td>32020</td>\n",
       "    </tr>\n",
       "    <tr>\n",
       "      <th>37</th>\n",
       "      <td>2.0</td>\n",
       "      <td>2012-02-01 00:00:00+04:00</td>\n",
       "      <td>30377</td>\n",
       "    </tr>\n",
       "    <tr>\n",
       "      <th>38</th>\n",
       "      <td>3.0</td>\n",
       "      <td>2012-03-01 00:00:00+04:00</td>\n",
       "      <td>32498</td>\n",
       "    </tr>\n",
       "    <tr>\n",
       "      <th>39</th>\n",
       "      <td>4.0</td>\n",
       "      <td>2012-04-01 00:00:00+04:00</td>\n",
       "      <td>29143</td>\n",
       "    </tr>\n",
       "    <tr>\n",
       "      <th>40</th>\n",
       "      <td>5.0</td>\n",
       "      <td>2012-05-01 00:00:00+04:00</td>\n",
       "      <td>25168</td>\n",
       "    </tr>\n",
       "    <tr>\n",
       "      <th>41</th>\n",
       "      <td>6.0</td>\n",
       "      <td>2012-06-01 00:00:00+04:00</td>\n",
       "      <td>3062</td>\n",
       "    </tr>\n",
       "    <tr>\n",
       "      <th>42</th>\n",
       "      <td>7.0</td>\n",
       "      <td>2012-07-01 00:00:00+04:00</td>\n",
       "      <td>390</td>\n",
       "    </tr>\n",
       "    <tr>\n",
       "      <th>43</th>\n",
       "      <td>8.0</td>\n",
       "      <td>2012-08-01 00:00:00+04:00</td>\n",
       "      <td>622</td>\n",
       "    </tr>\n",
       "    <tr>\n",
       "      <th>44</th>\n",
       "      <td>9.0</td>\n",
       "      <td>2012-09-01 00:00:00+04:00</td>\n",
       "      <td>510</td>\n",
       "    </tr>\n",
       "    <tr>\n",
       "      <th>45</th>\n",
       "      <td>10.0</td>\n",
       "      <td>2012-10-01 00:00:00+04:00</td>\n",
       "      <td>304</td>\n",
       "    </tr>\n",
       "    <tr>\n",
       "      <th>46</th>\n",
       "      <td>11.0</td>\n",
       "      <td>2012-11-01 00:00:00+04:00</td>\n",
       "      <td>253</td>\n",
       "    </tr>\n",
       "    <tr>\n",
       "      <th>47</th>\n",
       "      <td>12.0</td>\n",
       "      <td>2012-12-01 00:00:00+04:00</td>\n",
       "      <td>200</td>\n",
       "    </tr>\n",
       "  </tbody>\n",
       "</table>\n",
       "</div>"
      ],
      "text/plain": [
       "    month_number                      month  num_accidents\n",
       "0            1.0  2009-01-01 00:00:00+03:00          35062\n",
       "1            2.0  2009-02-01 00:00:00+03:00          34480\n",
       "2            3.0  2009-03-01 00:00:00+03:00          36648\n",
       "3            4.0  2009-04-01 00:00:00+04:00          35239\n",
       "4            5.0  2009-05-01 00:00:00+04:00          36916\n",
       "5            6.0  2009-06-01 00:00:00+04:00          34202\n",
       "6            7.0  2009-07-01 00:00:00+04:00          35161\n",
       "7            8.0  2009-08-01 00:00:00+04:00          34508\n",
       "8            9.0  2009-09-01 00:00:00+04:00          35555\n",
       "9           10.0  2009-10-01 00:00:00+04:00          37835\n",
       "10          11.0  2009-11-01 00:00:00+03:00          34562\n",
       "11          12.0  2009-12-01 00:00:00+03:00          36060\n",
       "12           1.0  2010-01-01 00:00:00+03:00          32892\n",
       "13           2.0  2010-02-01 00:00:00+03:00          31918\n",
       "14           3.0  2010-03-01 00:00:00+03:00          35803\n",
       "15           4.0  2010-04-01 00:00:00+04:00          34416\n",
       "16           5.0  2010-05-01 00:00:00+04:00          34862\n",
       "17           6.0  2010-06-01 00:00:00+04:00          33367\n",
       "18           7.0  2010-07-01 00:00:00+04:00          33645\n",
       "19           8.0  2010-08-01 00:00:00+04:00          34620\n",
       "20           9.0  2010-09-01 00:00:00+04:00          34957\n",
       "21          10.0  2010-10-01 00:00:00+04:00          37480\n",
       "22          11.0  2010-11-01 00:00:00+03:00          35460\n",
       "23          12.0  2010-12-01 00:00:00+03:00          37070\n",
       "24           1.0  2011-01-01 00:00:00+03:00          31926\n",
       "25           2.0  2011-02-01 00:00:00+03:00          31975\n",
       "26           3.0  2011-03-01 00:00:00+03:00          34585\n",
       "27           4.0  2011-04-01 00:00:00+04:00          31377\n",
       "28           5.0  2011-05-01 00:00:00+04:00          33370\n",
       "29           6.0  2011-06-01 00:00:00+04:00          31962\n",
       "30           7.0  2011-07-01 00:00:00+04:00          33029\n",
       "31           8.0  2011-08-01 00:00:00+04:00          34339\n",
       "32           9.0  2011-09-01 00:00:00+04:00          34137\n",
       "33          10.0  2011-10-01 00:00:00+04:00          36618\n",
       "34          11.0  2011-11-01 00:00:00+04:00          34495\n",
       "35          12.0  2011-12-01 00:00:00+04:00          34615\n",
       "36           1.0  2012-01-01 00:00:00+04:00          32020\n",
       "37           2.0  2012-02-01 00:00:00+04:00          30377\n",
       "38           3.0  2012-03-01 00:00:00+04:00          32498\n",
       "39           4.0  2012-04-01 00:00:00+04:00          29143\n",
       "40           5.0  2012-05-01 00:00:00+04:00          25168\n",
       "41           6.0  2012-06-01 00:00:00+04:00           3062\n",
       "42           7.0  2012-07-01 00:00:00+04:00            390\n",
       "43           8.0  2012-08-01 00:00:00+04:00            622\n",
       "44           9.0  2012-09-01 00:00:00+04:00            510\n",
       "45          10.0  2012-10-01 00:00:00+04:00            304\n",
       "46          11.0  2012-11-01 00:00:00+04:00            253\n",
       "47          12.0  2012-12-01 00:00:00+04:00            200"
      ]
     },
     "execution_count": 29,
     "metadata": {},
     "output_type": "execute_result"
    }
   ],
   "source": [
    "accidents_month_df.head(200)"
   ]
  },
  {
   "cell_type": "markdown",
   "id": "dfb710f5",
   "metadata": {},
   "source": [
    "За 2012, 2013, 2020 неполная/дисбалансная статистика, предлагаю учитывать только года до 2012"
   ]
  },
  {
   "cell_type": "code",
   "execution_count": 30,
   "id": "bb672805-58bb-403d-9787-fdb547722d5b",
   "metadata": {
    "tags": []
   },
   "outputs": [
    {
     "name": "stdout",
     "output_type": "stream",
     "text": [
      "<class 'pandas.core.frame.DataFrame'>\n",
      "RangeIndex: 48 entries, 0 to 47\n",
      "Data columns (total 3 columns):\n",
      " #   Column         Non-Null Count  Dtype  \n",
      "---  ------         --------------  -----  \n",
      " 0   month_number   48 non-null     float64\n",
      " 1   month          48 non-null     object \n",
      " 2   num_accidents  48 non-null     int64  \n",
      "dtypes: float64(1), int64(1), object(1)\n",
      "memory usage: 1.2+ KB\n"
     ]
    }
   ],
   "source": [
    "accidents_month_df.info()"
   ]
  },
  {
   "cell_type": "code",
   "execution_count": 31,
   "id": "9c7ce013-943e-4980-afb5-ad27d864cd77",
   "metadata": {},
   "outputs": [
    {
     "data": {
      "image/png": "[encoded data removed]",
      "text/plain": [
       "<Figure size 936x432 with 1 Axes>"
      ]
     },
     "metadata": {
      "needs_background": "light"
     },
     "output_type": "display_data"
    }
   ],
   "source": [
    "plt.figure(figsize=(13, 6))\n",
    "plt.bar(accidents_month_df['month_number'], accidents_month_df['num_accidents'], color='skyblue')\n",
    "plt.title('Количество инцидентов по месяцам')\n",
    "plt.xlabel('Месяц')\n",
    "plt.ylabel('Количество инцидентов')\n",
    "plt.grid(True)\n",
    "plt.xticks(accidents_month_df['month_number'], rotation=90)\n",
    "plt.tight_layout()\n",
    "plt.show()"
   ]
  },
  {
   "cell_type": "code",
   "execution_count": 32,
   "id": "09a09747-1697-4906-a03b-802e018ec421",
   "metadata": {},
   "outputs": [],
   "source": [
    "del accidents_month_df"
   ]
  },
  {
   "cell_type": "markdown",
   "id": "65fbdfaf-9a0f-4521-9247-9842b73488e5",
   "metadata": {},
   "source": [
    "Полноценная информация о произошедших авариях имеется только с 2009 г по 2013 г. После, количество инцидентов резко падает. Предполагаю, что информацию перестали собирать в это время.\n",
    "\n",
    "Наибольшее количество аварий происходит в октябре, наименьшее в июне\n",
    "\n",
    "В целом, общее распределение количества аварий по месяцам выглядит равномерным"
   ]
  },
  {
   "cell_type": "markdown",
   "id": "04d52e3a-248d-482f-8019-9e5e2b53bdf7",
   "metadata": {},
   "source": [
    "Задача для аналитики коллегам:\n",
    "\n",
    "1) Проведите анализ серьёзности повреждений транспортного средства, исходя из состояния дороги в момент ДТП\n",
    "2) Проведите анализ серьезности повреждений транспортного средства, исходя из типа кузова транспортного средства\n",
    "3) Проведите анализ основного фактора аварий, исходя из трезвости участника\n",
    "4) Проведите анализ основного фактора аварий, исходя из трезвости участника\n",
    "5) Проведите анализ основного фактора аварий, исходя из наличия телефона в автомобиле\n",
    "6) Проведите анализ кпп автомобиля, исходя из состояния дороги\n"
   ]
  },
  {
   "cell_type": "markdown",
   "id": "7f0ed856-bb9f-4dc8-9625-d93643e7fdb0",
   "metadata": {},
   "source": [
    "Примерный алгоритм выполнения задач:\n",
    "1) Выгружаем из БД sql запросом необходимые столбцы\n",
    "2) Выводим графики\n",
    "3) Анализируем"
   ]
  },
  {
   "cell_type": "markdown",
   "id": "95de3cc2-eb55-4d97-9a18-e69bb8f2b145",
   "metadata": {},
   "source": [
    "На себя возьму задачи 1, 5, 6"
   ]
  },
  {
   "cell_type": "markdown",
   "id": "3c003895-18f7-4352-ad8f-81433f4335a7",
   "metadata": {},
   "source": [
    "Анализ серьёзности повреждений транспортного средства, исходя из состояния дороги в момент ДТП"
   ]
  },
  {
   "cell_type": "code",
   "execution_count": 35,
   "id": "d157adc3-91cb-46d9-8563-1e491da05ad8",
   "metadata": {},
   "outputs": [],
   "source": [
    "sql_accidents_road_surface = '''\n",
    "SELECT collision_damage, COUNT(collision_damage) as collision_damage_count, road_surface\n",
    "FROM collisions\n",
    "GROUP BY road_surface, collision_damage\n",
    "HAVING road_surface IS NOT NULL\n",
    "'''"
   ]
  },
  {
   "cell_type": "code",
   "execution_count": 36,
   "id": "54a3139d-7275-4a9a-999d-7a899ce9c684",
   "metadata": {},
   "outputs": [],
   "source": [
    "accidents_road_surface_df = pd.read_sql_query(sql_accidents_road_surface, connection_string)"
   ]
  },
  {
   "cell_type": "code",
   "execution_count": 37,
   "id": "365652a1-cdf9-4eb6-b7ea-2b1913d7b5f1",
   "metadata": {},
   "outputs": [
    {
     "name": "stdout",
     "output_type": "stream",
     "text": [
      "<class 'pandas.core.frame.DataFrame'>\n",
      "RangeIndex: 20 entries, 0 to 19\n",
      "Data columns (total 3 columns):\n",
      " #   Column                  Non-Null Count  Dtype \n",
      "---  ------                  --------------  ----- \n",
      " 0   collision_damage        20 non-null     object\n",
      " 1   collision_damage_count  20 non-null     int64 \n",
      " 2   road_surface            20 non-null     object\n",
      "dtypes: int64(1), object(2)\n",
      "memory usage: 608.0+ bytes\n"
     ]
    }
   ],
   "source": [
    "accidents_road_surface_df.info()"
   ]
  },
  {
   "cell_type": "code",
   "execution_count": 38,
   "id": "9a8113dc-1491-48fb-8845-e485afbcc66f",
   "metadata": {},
   "outputs": [
    {
     "data": {
      "text/html": [
       "<div>\n",
       "<style scoped>\n",
       "    .dataframe tbody tr th:only-of-type {\n",
       "        vertical-align: middle;\n",
       "    }\n",
       "\n",
       "    .dataframe tbody tr th {\n",
       "        vertical-align: top;\n",
       "    }\n",
       "\n",
       "    .dataframe thead th {\n",
       "        text-align: right;\n",
       "    }\n",
       "</style>\n",
       "<table border=\"1\" class=\"dataframe\">\n",
       "  <thead>\n",
       "    <tr style=\"text-align: right;\">\n",
       "      <th></th>\n",
       "      <th>collision_damage</th>\n",
       "      <th>collision_damage_count</th>\n",
       "      <th>road_surface</th>\n",
       "    </tr>\n",
       "  </thead>\n",
       "  <tbody>\n",
       "    <tr>\n",
       "      <th>0</th>\n",
       "      <td>fatal</td>\n",
       "      <td>9823</td>\n",
       "      <td>dry</td>\n",
       "    </tr>\n",
       "    <tr>\n",
       "      <th>1</th>\n",
       "      <td>middle damage</td>\n",
       "      <td>151015</td>\n",
       "      <td>dry</td>\n",
       "    </tr>\n",
       "    <tr>\n",
       "      <th>2</th>\n",
       "      <td>scratch</td>\n",
       "      <td>307963</td>\n",
       "      <td>dry</td>\n",
       "    </tr>\n",
       "    <tr>\n",
       "      <th>3</th>\n",
       "      <td>severe damage</td>\n",
       "      <td>27827</td>\n",
       "      <td>dry</td>\n",
       "    </tr>\n",
       "    <tr>\n",
       "      <th>4</th>\n",
       "      <td>small damage</td>\n",
       "      <td>745398</td>\n",
       "      <td>dry</td>\n",
       "    </tr>\n",
       "    <tr>\n",
       "      <th>5</th>\n",
       "      <td>fatal</td>\n",
       "      <td>12</td>\n",
       "      <td>slippery</td>\n",
       "    </tr>\n",
       "    <tr>\n",
       "      <th>6</th>\n",
       "      <td>middle damage</td>\n",
       "      <td>238</td>\n",
       "      <td>slippery</td>\n",
       "    </tr>\n",
       "    <tr>\n",
       "      <th>7</th>\n",
       "      <td>scratch</td>\n",
       "      <td>308</td>\n",
       "      <td>slippery</td>\n",
       "    </tr>\n",
       "    <tr>\n",
       "      <th>8</th>\n",
       "      <td>severe damage</td>\n",
       "      <td>64</td>\n",
       "      <td>slippery</td>\n",
       "    </tr>\n",
       "    <tr>\n",
       "      <th>9</th>\n",
       "      <td>small damage</td>\n",
       "      <td>762</td>\n",
       "      <td>slippery</td>\n",
       "    </tr>\n",
       "  </tbody>\n",
       "</table>\n",
       "</div>"
      ],
      "text/plain": [
       "  collision_damage  collision_damage_count road_surface\n",
       "0            fatal                    9823          dry\n",
       "1    middle damage                  151015          dry\n",
       "2          scratch                  307963          dry\n",
       "3    severe damage                   27827          dry\n",
       "4     small damage                  745398          dry\n",
       "5            fatal                      12     slippery\n",
       "6    middle damage                     238     slippery\n",
       "7          scratch                     308     slippery\n",
       "8    severe damage                      64     slippery\n",
       "9     small damage                     762     slippery"
      ]
     },
     "execution_count": 38,
     "metadata": {},
     "output_type": "execute_result"
    }
   ],
   "source": [
    "accidents_road_surface_df.head(10)"
   ]
  },
  {
   "cell_type": "markdown",
   "id": "9e100e38-65c0-40d8-a728-603927ae23c8",
   "metadata": {},
   "source": [
    "Запрос в БД для вывода количества типа повреждений в зависимости от поверхности"
   ]
  },
  {
   "cell_type": "code",
   "execution_count": 39,
   "id": "a742b4a3-204c-4ff9-95d7-760cf30a9a23",
   "metadata": {
    "scrolled": true
   },
   "outputs": [
    {
     "data": {
      "image/png": "[encoded data removed]",
      "text/plain": [
       "<Figure size 576x432 with 1 Axes>"
      ]
     },
     "metadata": {},
     "output_type": "display_data"
    },
    {
     "data": {
      "image/png": "[encoded data removed]",
      "text/plain": [
       "<Figure size 576x432 with 1 Axes>"
      ]
     },
     "metadata": {},
     "output_type": "display_data"
    },
    {
     "data": {
      "image/png": "[encoded data removed]",
      "text/plain": [
       "<Figure size 576x432 with 1 Axes>"
      ]
     },
     "metadata": {},
     "output_type": "display_data"
    },
    {
     "data": {
      "image/png": "[encoded data removed]",
      "text/plain": [
       "<Figure size 576x432 with 1 Axes>"
      ]
     },
     "metadata": {},
     "output_type": "display_data"
    }
   ],
   "source": [
    "for road_surface in accidents_road_surface_df['road_surface'].unique():\n",
    "    filtered_df = accidents_road_surface_df[accidents_road_surface_df['road_surface'] == road_surface]\n",
    "\n",
    "    plt.figure(figsize=(8, 6))\n",
    "    plt.pie(filtered_df['collision_damage_count'], labels=filtered_df['collision_damage'], autopct='%1.1f%%', startangle=140)\n",
    "    plt.title(f'Collision Damage Distribution on {road_surface}')\n",
    "    plt.axis('equal')\n",
    "    plt.show()"
   ]
  },
  {
   "cell_type": "code",
   "execution_count": 40,
   "id": "0221e1da-2d97-4050-8dc0-9651753251d2",
   "metadata": {},
   "outputs": [],
   "source": [
    "del accidents_road_surface_df"
   ]
  },
  {
   "cell_type": "markdown",
   "id": "c93186aa-e6d9-40b6-a200-4793629c3287",
   "metadata": {},
   "source": [
    "Как видно из диаграмм, повреждения от погоды имеет примерно одинаковый характер распределения, большая часть аварий - scratch и small damage. Однако при Slippery покрытии, возрастает процент middle и severe damage"
   ]
  },
  {
   "cell_type": "markdown",
   "id": "f765a74f-b504-4586-a62e-1180b56a31f1",
   "metadata": {},
   "source": [
    "Анализ основного фактора аварий, исходя из наличия телефона в автомобиле"
   ]
  },
  {
   "cell_type": "code",
   "execution_count": 41,
   "id": "fa0d97d8-0d79-46cd-b822-72547054e6ab",
   "metadata": {},
   "outputs": [],
   "source": [
    "sql_accidents_phone = '''\n",
    "SELECT c.primary_collision_factor, p.cellphone_in_use, COUNT(p.cellphone_in_use) as amount\n",
    "FROM parties p\n",
    "JOIN collisions c ON p.case_id = c.case_id\n",
    "WHERE c.primary_collision_factor IS NOT NULL AND p.cellphone_in_use IS NOT NULL\n",
    "GROUP BY c.primary_collision_factor, p.cellphone_in_use\n",
    "'''"
   ]
  },
  {
   "cell_type": "code",
   "execution_count": 43,
   "id": "9885b055-a810-46e8-a7e4-e2a8e5e7b78d",
   "metadata": {
    "scrolled": true
   },
   "outputs": [],
   "source": [
    "accidents_phone_df = pd.read_sql_query(sql_accidents_phone, connection_string)"
   ]
  },
  {
   "cell_type": "code",
   "execution_count": 44,
   "id": "7605a760-3d95-4720-9212-0db40a17086e",
   "metadata": {},
   "outputs": [
    {
     "name": "stdout",
     "output_type": "stream",
     "text": [
      "<class 'pandas.core.frame.DataFrame'>\n",
      "RangeIndex: 10 entries, 0 to 9\n",
      "Data columns (total 3 columns):\n",
      " #   Column                    Non-Null Count  Dtype \n",
      "---  ------                    --------------  ----- \n",
      " 0   primary_collision_factor  10 non-null     object\n",
      " 1   cellphone_in_use          10 non-null     int64 \n",
      " 2   amount                    10 non-null     int64 \n",
      "dtypes: int64(2), object(1)\n",
      "memory usage: 368.0+ bytes\n"
     ]
    }
   ],
   "source": [
    "accidents_phone_df.info()"
   ]
  },
  {
   "cell_type": "code",
   "execution_count": 45,
   "id": "1d77b930-6106-4018-b673-437ec2fc6031",
   "metadata": {},
   "outputs": [
    {
     "data": {
      "text/html": [
       "<div>\n",
       "<style scoped>\n",
       "    .dataframe tbody tr th:only-of-type {\n",
       "        vertical-align: middle;\n",
       "    }\n",
       "\n",
       "    .dataframe tbody tr th {\n",
       "        vertical-align: top;\n",
       "    }\n",
       "\n",
       "    .dataframe thead th {\n",
       "        text-align: right;\n",
       "    }\n",
       "</style>\n",
       "<table border=\"1\" class=\"dataframe\">\n",
       "  <thead>\n",
       "    <tr style=\"text-align: right;\">\n",
       "      <th></th>\n",
       "      <th>primary_collision_factor</th>\n",
       "      <th>cellphone_in_use</th>\n",
       "      <th>amount</th>\n",
       "    </tr>\n",
       "  </thead>\n",
       "  <tbody>\n",
       "    <tr>\n",
       "      <th>0</th>\n",
       "      <td>fell asleep</td>\n",
       "      <td>0</td>\n",
       "      <td>30</td>\n",
       "    </tr>\n",
       "    <tr>\n",
       "      <th>1</th>\n",
       "      <td>fell asleep</td>\n",
       "      <td>1</td>\n",
       "      <td>3</td>\n",
       "    </tr>\n",
       "    <tr>\n",
       "      <th>2</th>\n",
       "      <td>other improper driving</td>\n",
       "      <td>0</td>\n",
       "      <td>9940</td>\n",
       "    </tr>\n",
       "    <tr>\n",
       "      <th>3</th>\n",
       "      <td>other improper driving</td>\n",
       "      <td>1</td>\n",
       "      <td>196</td>\n",
       "    </tr>\n",
       "    <tr>\n",
       "      <th>4</th>\n",
       "      <td>other than driver</td>\n",
       "      <td>0</td>\n",
       "      <td>35403</td>\n",
       "    </tr>\n",
       "    <tr>\n",
       "      <th>5</th>\n",
       "      <td>other than driver</td>\n",
       "      <td>1</td>\n",
       "      <td>647</td>\n",
       "    </tr>\n",
       "    <tr>\n",
       "      <th>6</th>\n",
       "      <td>unknown</td>\n",
       "      <td>0</td>\n",
       "      <td>44742</td>\n",
       "    </tr>\n",
       "    <tr>\n",
       "      <th>7</th>\n",
       "      <td>unknown</td>\n",
       "      <td>1</td>\n",
       "      <td>757</td>\n",
       "    </tr>\n",
       "    <tr>\n",
       "      <th>8</th>\n",
       "      <td>vehicle code violation</td>\n",
       "      <td>0</td>\n",
       "      <td>2097867</td>\n",
       "    </tr>\n",
       "    <tr>\n",
       "      <th>9</th>\n",
       "      <td>vehicle code violation</td>\n",
       "      <td>1</td>\n",
       "      <td>44038</td>\n",
       "    </tr>\n",
       "  </tbody>\n",
       "</table>\n",
       "</div>"
      ],
      "text/plain": [
       "  primary_collision_factor  cellphone_in_use   amount\n",
       "0              fell asleep                 0       30\n",
       "1              fell asleep                 1        3\n",
       "2   other improper driving                 0     9940\n",
       "3   other improper driving                 1      196\n",
       "4        other than driver                 0    35403\n",
       "5        other than driver                 1      647\n",
       "6                  unknown                 0    44742\n",
       "7                  unknown                 1      757\n",
       "8   vehicle code violation                 0  2097867\n",
       "9   vehicle code violation                 1    44038"
      ]
     },
     "execution_count": 45,
     "metadata": {},
     "output_type": "execute_result"
    }
   ],
   "source": [
    "accidents_phone_df.head(15)"
   ]
  },
  {
   "cell_type": "markdown",
   "id": "d1678cd4-232c-40ac-9b00-81b3f3b60f55",
   "metadata": {},
   "source": [
    "Запрос в БД для вывода количества присутсвовавшх телефонов при конкретном факторе"
   ]
  },
  {
   "cell_type": "code",
   "execution_count": 46,
   "id": "3719e25d-7046-423e-aede-c4fe09c76504",
   "metadata": {},
   "outputs": [
    {
     "data": {
      "image/png": "[encoded data removed]",
      "text/plain": [
       "<Figure size 576x432 with 1 Axes>"
      ]
     },
     "metadata": {},
     "output_type": "display_data"
    },
    {
     "data": {
      "image/png": "[encoded data removed]",
      "text/plain": [
       "<Figure size 576x432 with 1 Axes>"
      ]
     },
     "metadata": {},
     "output_type": "display_data"
    },
    {
     "data": {
      "image/png": "[encoded data removed]",
      "text/plain": [
       "<Figure size 576x432 with 1 Axes>"
      ]
     },
     "metadata": {},
     "output_type": "display_data"
    },
    {
     "data": {
      "image/png": "[encoded data removed]",
      "text/plain": [
       "<Figure size 576x432 with 1 Axes>"
      ]
     },
     "metadata": {},
     "output_type": "display_data"
    },
    {
     "data": {
      "image/png": "[encoded data removed]",
      "text/plain": [
       "<Figure size 576x432 with 1 Axes>"
      ]
     },
     "metadata": {},
     "output_type": "display_data"
    }
   ],
   "source": [
    "for factor in accidents_phone_df['primary_collision_factor'].unique():\n",
    "    filtered_df = accidents_phone_df[accidents_phone_df['primary_collision_factor'] == factor]\n",
    "\n",
    "    plt.figure(figsize=(8, 6))\n",
    "    plt.pie(filtered_df['amount'], labels=filtered_df['primary_collision_factor'], autopct='%1.1f%%', startangle=140)\n",
    "    plt.title(f'Primary Collision Factor Distribution on {factor}')\n",
    "    plt.axis('equal')  \n",
    "    plt.show()"
   ]
  },
  {
   "cell_type": "code",
   "execution_count": 47,
   "id": "5ad598e0-1499-4ee6-a14f-b4c0628a1b09",
   "metadata": {},
   "outputs": [],
   "source": [
    "del accidents_phone_df"
   ]
  },
  {
   "cell_type": "markdown",
   "id": "85d393ca-45ed-4051-b279-90c57011fcc4",
   "metadata": {},
   "source": [
    "Как видно фактор ДТП не зависит напрямую от наличия телефона, можно лишь сделать вывод, что в подавляющем количесте ДТП телефон присутствовал"
   ]
  },
  {
   "cell_type": "markdown",
   "id": "186a79bc-24ca-4d7e-8575-5576a3f4b662",
   "metadata": {},
   "source": [
    "Fнализ кпп автомобиля, исходя из состояния дороги"
   ]
  },
  {
   "cell_type": "code",
   "execution_count": 48,
   "id": "67e7d07c-e22f-453c-9c94-5d562beda1b1",
   "metadata": {},
   "outputs": [],
   "source": [
    "sql_transmission = '''\n",
    "SELECT c.road_surface, v.vehicle_transmission, COUNT(v.VEHICLE_TRANSMISSION) as amount\n",
    "FROM vehicles v\n",
    "JOIN collisions c ON v.case_id = c.case_id\n",
    "WHERE c.road_surface IS NOT NULL AND v.vehicle_transmission IS NOT NULL\n",
    "GROUP BY c.road_surface, v.vehicle_transmission\n",
    "'''"
   ]
  },
  {
   "cell_type": "code",
   "execution_count": 49,
   "id": "9e8c3be9-a8d1-489d-9d3a-5220f7d181e4",
   "metadata": {},
   "outputs": [],
   "source": [
    "transmission_df = pd.read_sql_query(sql_transmission, connection_string)"
   ]
  },
  {
   "cell_type": "code",
   "execution_count": 50,
   "id": "ee2c2f0d-c7e5-4f96-a4f2-ffea081cda57",
   "metadata": {},
   "outputs": [
    {
     "name": "stdout",
     "output_type": "stream",
     "text": [
      "<class 'pandas.core.frame.DataFrame'>\n",
      "RangeIndex: 8 entries, 0 to 7\n",
      "Data columns (total 3 columns):\n",
      " #   Column                Non-Null Count  Dtype \n",
      "---  ------                --------------  ----- \n",
      " 0   road_surface          8 non-null      object\n",
      " 1   vehicle_transmission  8 non-null      object\n",
      " 2   amount                8 non-null      int64 \n",
      "dtypes: int64(1), object(2)\n",
      "memory usage: 320.0+ bytes\n"
     ]
    }
   ],
   "source": [
    "transmission_df.info()"
   ]
  },
  {
   "cell_type": "code",
   "execution_count": 51,
   "id": "9177e0b6-ff0f-4e39-b878-7e4a5ffede6d",
   "metadata": {},
   "outputs": [
    {
     "data": {
      "text/html": [
       "<div>\n",
       "<style scoped>\n",
       "    .dataframe tbody tr th:only-of-type {\n",
       "        vertical-align: middle;\n",
       "    }\n",
       "\n",
       "    .dataframe tbody tr th {\n",
       "        vertical-align: top;\n",
       "    }\n",
       "\n",
       "    .dataframe thead th {\n",
       "        text-align: right;\n",
       "    }\n",
       "</style>\n",
       "<table border=\"1\" class=\"dataframe\">\n",
       "  <thead>\n",
       "    <tr style=\"text-align: right;\">\n",
       "      <th></th>\n",
       "      <th>road_surface</th>\n",
       "      <th>vehicle_transmission</th>\n",
       "      <th>amount</th>\n",
       "    </tr>\n",
       "  </thead>\n",
       "  <tbody>\n",
       "    <tr>\n",
       "      <th>0</th>\n",
       "      <td>dry</td>\n",
       "      <td>auto</td>\n",
       "      <td>450249</td>\n",
       "    </tr>\n",
       "    <tr>\n",
       "      <th>1</th>\n",
       "      <td>dry</td>\n",
       "      <td>manual</td>\n",
       "      <td>445186</td>\n",
       "    </tr>\n",
       "    <tr>\n",
       "      <th>2</th>\n",
       "      <td>slippery</td>\n",
       "      <td>auto</td>\n",
       "      <td>361</td>\n",
       "    </tr>\n",
       "    <tr>\n",
       "      <th>3</th>\n",
       "      <td>slippery</td>\n",
       "      <td>manual</td>\n",
       "      <td>522</td>\n",
       "    </tr>\n",
       "    <tr>\n",
       "      <th>4</th>\n",
       "      <td>snowy</td>\n",
       "      <td>auto</td>\n",
       "      <td>2468</td>\n",
       "    </tr>\n",
       "    <tr>\n",
       "      <th>5</th>\n",
       "      <td>snowy</td>\n",
       "      <td>manual</td>\n",
       "      <td>2457</td>\n",
       "    </tr>\n",
       "    <tr>\n",
       "      <th>6</th>\n",
       "      <td>wet</td>\n",
       "      <td>auto</td>\n",
       "      <td>45041</td>\n",
       "    </tr>\n",
       "    <tr>\n",
       "      <th>7</th>\n",
       "      <td>wet</td>\n",
       "      <td>manual</td>\n",
       "      <td>43034</td>\n",
       "    </tr>\n",
       "  </tbody>\n",
       "</table>\n",
       "</div>"
      ],
      "text/plain": [
       "  road_surface vehicle_transmission  amount\n",
       "0          dry                 auto  450249\n",
       "1          dry               manual  445186\n",
       "2     slippery                 auto     361\n",
       "3     slippery               manual     522\n",
       "4        snowy                 auto    2468\n",
       "5        snowy               manual    2457\n",
       "6          wet                 auto   45041\n",
       "7          wet               manual   43034"
      ]
     },
     "execution_count": 51,
     "metadata": {},
     "output_type": "execute_result"
    }
   ],
   "source": [
    "transmission_df"
   ]
  },
  {
   "cell_type": "code",
   "execution_count": 52,
   "id": "4706862a-f265-4973-a6e9-fba1b11df1c3",
   "metadata": {},
   "outputs": [
    {
     "data": {
      "image/png": "[encoded data removed]",
      "text/plain": [
       "<Figure size 576x432 with 1 Axes>"
      ]
     },
     "metadata": {},
     "output_type": "display_data"
    },
    {
     "data": {
      "image/png": "[encoded data removed]",
      "text/plain": [
       "<Figure size 576x432 with 1 Axes>"
      ]
     },
     "metadata": {},
     "output_type": "display_data"
    },
    {
     "data": {
      "image/png": "[encoded data removed]",
      "text/plain": [
       "<Figure size 576x432 with 1 Axes>"
      ]
     },
     "metadata": {},
     "output_type": "display_data"
    },
    {
     "data": {
      "image/png": "[encoded data removed]",
      "text/plain": [
       "<Figure size 576x432 with 1 Axes>"
      ]
     },
     "metadata": {},
     "output_type": "display_data"
    }
   ],
   "source": [
    "for surface in transmission_df['road_surface'].unique():\n",
    "    filtered_df = transmission_df[transmission_df['road_surface'] == surface]\n",
    "\n",
    "    plt.figure(figsize=(8, 6))\n",
    "    plt.pie(filtered_df['amount'], labels=filtered_df['vehicle_transmission'], autopct='%1.1f%%', startangle=140)\n",
    "    plt.title(f'Vehicle Transmission Distribution on {surface}')\n",
    "    plt.axis('equal')  \n",
    "    plt.show()"
   ]
  },
  {
   "cell_type": "code",
   "execution_count": 53,
   "id": "bb095972-b977-4f99-b0dd-e398d4fb0f9f",
   "metadata": {},
   "outputs": [],
   "source": [
    "del transmission_df"
   ]
  },
  {
   "cell_type": "markdown",
   "id": "37f93b8b-4359-499a-8e8f-9913c468eee2",
   "metadata": {},
   "source": [
    "Аналогично умирает ядро, но графики раньше выводились"
   ]
  },
  {
   "cell_type": "markdown",
   "id": "c4d58c5d-b1af-416c-aefa-a3bdc1e37cfa",
   "metadata": {},
   "source": [
    "Как видно из диаграмм, тип КПП не влияет на ДТП в зависимости от состояния дороги. Есть небольшой дисбаланс на скользкой дороге, но это может быть связано с малым количеством данных для этого конкретно покрытия."
   ]
  },
  {
   "cell_type": "markdown",
   "id": "62448a9e-e51f-4c22-83e1-a049cb8bbba8",
   "metadata": {},
   "source": [
    "Остальные задачи оставляю для реализации коллегам."
   ]
  },
  {
   "cell_type": "markdown",
   "id": "aec7a5f7",
   "metadata": {},
   "source": [
    "## Создайте модель для оценки водительского риска"
   ]
  },
  {
   "cell_type": "markdown",
   "id": "542bedad",
   "metadata": {},
   "source": [
    "1. party_number - признак, появившийся в результате ДТП, для предсказания не поможет\n",
    "2. at_fault - целевой признак\n",
    "3. insurance_premium - объем страховки, оставляем\n",
    "4. party_sobriety - трезвость, однозначно нет информации, был ли водитель трезв перед поездкой, но мы оставим, т.к. это очевидно может повлиять на дтп\n",
    "5. party_drug_physical - аналогично с предыдущим признаком, оставляем\n",
    "6. cellphone_in_use - в 21 веке почти у всех есть телефон. Как показало мое исследование выше, почти все аварии были с телефоном, так что можно удалить\n",
    "7. county_location - оставим, водители некоторых регионов могут быть более темпераментные при вождении\n",
    "8. county_city_location - удалим\n",
    "9. distance - не уверен, что нужно, т.к. аварии происходят на всех дорогах\n",
    "10. intersection - оставим, перекрески являются местом повышенной опасности\n",
    "11. weather_1 - оставим, погоду можно предугадать\n",
    "12. location_type - удалим\n",
    "13. collision_damage - удалим\n",
    "14. party_count - удалим\n",
    "15. primary_collision_factor - удалим\n",
    "16. pcf_violation_category - удалим\n",
    "17. type_of_collision - удалим\n",
    "18. motor_vehicle_involved_with - удалим\n",
    "19. road_surface - оставим, тип поверхности можно предугадать\n",
    "20. road_condition_1 - оставим, дорожное состояние можно предугадать\n",
    "21. lighting - оставим, освещение можно предугадать\n",
    "22. control_device - удалим\n",
    "23. collision_date - оставим, дата поездки известна\n",
    "24. collision_time - оставим, время поездки известно\n",
    "25. party_number - удалим\n",
    "26. vehicle_type - оставляем, заранее известно\n",
    "27. vehicle_transmission - оставляем, заранее известно\n",
    "28. vehicle_age - оставляем, требование заказчика\n",
    "\n",
    "В конечноим итоге большую часть признаков, полученых по факту ДТП можно удалить"
   ]
  },
  {
   "cell_type": "code",
   "execution_count": 39,
   "id": "44ee1039",
   "metadata": {},
   "outputs": [],
   "source": [
    "sql_data = '''\n",
    "SELECT p.at_fault, \n",
    "       p.insurance_premium, \n",
    "       p.party_sobriety, \n",
    "       p.party_drug_physical, \n",
    "       c.county_location, \n",
    "       c.intersection, \n",
    "       c.weather_1,\n",
    "       c.road_surface, \n",
    "       c.road_condition_1, \n",
    "       c.lighting, \n",
    "       c.collision_date, \n",
    "       c.collision_time, \n",
    "       v.vehicle_type, \n",
    "       v.vehicle_transmission,\n",
    "       v.vehicle_age\n",
    "FROM Parties p\n",
    "INNER JOIN Collisions c ON p.case_id = c.case_id\n",
    "INNER JOIN Vehicles v ON v.case_id = c.case_id AND v.party_number = p.party_number\n",
    "WHERE p.PARTY_TYPE = 'car' \n",
    "      AND c.COLLISION_DAMAGE != 'scratch' \n",
    "      AND DATE_PART('year', c.COLLISION_DATE) = 2012\n",
    "      AND v.vehicle_age <= 10\n",
    "'''"
   ]
  },
  {
   "cell_type": "code",
   "execution_count": 40,
   "id": "b1ff06ee-2c69-41f7-bcd5-706a1b1891c2",
   "metadata": {},
   "outputs": [],
   "source": [
    "data = pd.read_sql_query(sql_data, connection_string)"
   ]
  },
  {
   "cell_type": "code",
   "execution_count": 41,
   "id": "9951262f-35f9-45c3-af6b-7a7bb77f7b9c",
   "metadata": {},
   "outputs": [
    {
     "name": "stdout",
     "output_type": "stream",
     "text": [
      "<class 'pandas.core.frame.DataFrame'>\n",
      "RangeIndex: 51413 entries, 0 to 51412\n",
      "Data columns (total 15 columns):\n",
      " #   Column                Non-Null Count  Dtype  \n",
      "---  ------                --------------  -----  \n",
      " 0   at_fault              51413 non-null  int64  \n",
      " 1   insurance_premium     51002 non-null  float64\n",
      " 2   party_sobriety        50631 non-null  object \n",
      " 3   party_drug_physical   2550 non-null   object \n",
      " 4   county_location       51413 non-null  object \n",
      " 5   intersection          51256 non-null  float64\n",
      " 6   weather_1             51258 non-null  object \n",
      " 7   road_surface          51107 non-null  object \n",
      " 8   road_condition_1      51191 non-null  object \n",
      " 9   lighting              51267 non-null  object \n",
      " 10  collision_date        51413 non-null  object \n",
      " 11  collision_time        51333 non-null  object \n",
      " 12  vehicle_type          51413 non-null  object \n",
      " 13  vehicle_transmission  50878 non-null  object \n",
      " 14  vehicle_age           51413 non-null  int64  \n",
      "dtypes: float64(2), int64(2), object(11)\n",
      "memory usage: 5.9+ MB\n"
     ]
    }
   ],
   "source": [
    "data.info()"
   ]
  },
  {
   "cell_type": "code",
   "execution_count": 42,
   "id": "312938b1-5e02-4a07-900a-d4f113a82985",
   "metadata": {},
   "outputs": [
    {
     "data": {
      "text/plain": [
       "20"
      ]
     },
     "execution_count": 42,
     "metadata": {},
     "output_type": "execute_result"
    }
   ],
   "source": [
    "data.duplicated().sum()"
   ]
  },
  {
   "cell_type": "code",
   "execution_count": 47,
   "id": "c6a596e3",
   "metadata": {},
   "outputs": [],
   "source": [
    "data = data.drop_duplicates()"
   ]
  },
  {
   "cell_type": "code",
   "execution_count": 48,
   "id": "817f6ca6",
   "metadata": {},
   "outputs": [
    {
     "data": {
      "text/plain": [
       "0"
      ]
     },
     "execution_count": 48,
     "metadata": {},
     "output_type": "execute_result"
    }
   ],
   "source": [
    "data.duplicated().sum()"
   ]
  },
  {
   "cell_type": "code",
   "execution_count": 49,
   "id": "9d5e4f53-98c3-4f26-92e2-3dc2c4a8f350",
   "metadata": {},
   "outputs": [
    {
     "data": {
      "text/html": [
       "<div>\n",
       "<style scoped>\n",
       "    .dataframe tbody tr th:only-of-type {\n",
       "        vertical-align: middle;\n",
       "    }\n",
       "\n",
       "    .dataframe tbody tr th {\n",
       "        vertical-align: top;\n",
       "    }\n",
       "\n",
       "    .dataframe thead th {\n",
       "        text-align: right;\n",
       "    }\n",
       "</style>\n",
       "<table border=\"1\" class=\"dataframe\">\n",
       "  <thead>\n",
       "    <tr style=\"text-align: right;\">\n",
       "      <th></th>\n",
       "      <th>at_fault</th>\n",
       "      <th>insurance_premium</th>\n",
       "      <th>party_sobriety</th>\n",
       "      <th>party_drug_physical</th>\n",
       "      <th>county_location</th>\n",
       "      <th>intersection</th>\n",
       "      <th>weather_1</th>\n",
       "      <th>road_surface</th>\n",
       "      <th>road_condition_1</th>\n",
       "      <th>lighting</th>\n",
       "      <th>collision_date</th>\n",
       "      <th>collision_time</th>\n",
       "      <th>vehicle_type</th>\n",
       "      <th>vehicle_transmission</th>\n",
       "      <th>vehicle_age</th>\n",
       "    </tr>\n",
       "  </thead>\n",
       "  <tbody>\n",
       "    <tr>\n",
       "      <th>0</th>\n",
       "      <td>1</td>\n",
       "      <td>61.0</td>\n",
       "      <td>had not been drinking</td>\n",
       "      <td>None</td>\n",
       "      <td>orange</td>\n",
       "      <td>0.0</td>\n",
       "      <td>clear</td>\n",
       "      <td>dry</td>\n",
       "      <td>obstruction</td>\n",
       "      <td>daylight</td>\n",
       "      <td>2012-01-28</td>\n",
       "      <td>09:10:00</td>\n",
       "      <td>sedan</td>\n",
       "      <td>manual</td>\n",
       "      <td>9</td>\n",
       "    </tr>\n",
       "    <tr>\n",
       "      <th>1</th>\n",
       "      <td>0</td>\n",
       "      <td>46.0</td>\n",
       "      <td>had not been drinking</td>\n",
       "      <td>None</td>\n",
       "      <td>los angeles</td>\n",
       "      <td>0.0</td>\n",
       "      <td>clear</td>\n",
       "      <td>dry</td>\n",
       "      <td>normal</td>\n",
       "      <td>daylight</td>\n",
       "      <td>2012-04-15</td>\n",
       "      <td>17:05:00</td>\n",
       "      <td>sedan</td>\n",
       "      <td>auto</td>\n",
       "      <td>2</td>\n",
       "    </tr>\n",
       "    <tr>\n",
       "      <th>2</th>\n",
       "      <td>1</td>\n",
       "      <td>38.0</td>\n",
       "      <td>had been drinking, under influence</td>\n",
       "      <td>None</td>\n",
       "      <td>san mateo</td>\n",
       "      <td>0.0</td>\n",
       "      <td>clear</td>\n",
       "      <td>dry</td>\n",
       "      <td>other</td>\n",
       "      <td>dark with no street lights</td>\n",
       "      <td>2012-05-01</td>\n",
       "      <td>00:01:00</td>\n",
       "      <td>sedan</td>\n",
       "      <td>auto</td>\n",
       "      <td>5</td>\n",
       "    </tr>\n",
       "    <tr>\n",
       "      <th>3</th>\n",
       "      <td>1</td>\n",
       "      <td>43.0</td>\n",
       "      <td>had not been drinking</td>\n",
       "      <td>None</td>\n",
       "      <td>san bernardino</td>\n",
       "      <td>0.0</td>\n",
       "      <td>clear</td>\n",
       "      <td>dry</td>\n",
       "      <td>normal</td>\n",
       "      <td>dark with street lights</td>\n",
       "      <td>2012-04-19</td>\n",
       "      <td>22:04:00</td>\n",
       "      <td>sedan</td>\n",
       "      <td>auto</td>\n",
       "      <td>8</td>\n",
       "    </tr>\n",
       "    <tr>\n",
       "      <th>4</th>\n",
       "      <td>1</td>\n",
       "      <td>38.0</td>\n",
       "      <td>had been drinking, under influence</td>\n",
       "      <td>None</td>\n",
       "      <td>nevada</td>\n",
       "      <td>0.0</td>\n",
       "      <td>clear</td>\n",
       "      <td>dry</td>\n",
       "      <td>normal</td>\n",
       "      <td>dark with no street lights</td>\n",
       "      <td>2012-04-21</td>\n",
       "      <td>00:50:00</td>\n",
       "      <td>sedan</td>\n",
       "      <td>auto</td>\n",
       "      <td>6</td>\n",
       "    </tr>\n",
       "    <tr>\n",
       "      <th>5</th>\n",
       "      <td>1</td>\n",
       "      <td>22.0</td>\n",
       "      <td>had not been drinking</td>\n",
       "      <td>None</td>\n",
       "      <td>solano</td>\n",
       "      <td>0.0</td>\n",
       "      <td>cloudy</td>\n",
       "      <td>dry</td>\n",
       "      <td>normal</td>\n",
       "      <td>daylight</td>\n",
       "      <td>2012-01-02</td>\n",
       "      <td>15:32:00</td>\n",
       "      <td>sedan</td>\n",
       "      <td>manual</td>\n",
       "      <td>3</td>\n",
       "    </tr>\n",
       "    <tr>\n",
       "      <th>6</th>\n",
       "      <td>1</td>\n",
       "      <td>30.0</td>\n",
       "      <td>had not been drinking</td>\n",
       "      <td>None</td>\n",
       "      <td>san joaquin</td>\n",
       "      <td>0.0</td>\n",
       "      <td>fog</td>\n",
       "      <td>dry</td>\n",
       "      <td>normal</td>\n",
       "      <td>dark with no street lights</td>\n",
       "      <td>2012-01-01</td>\n",
       "      <td>03:00:00</td>\n",
       "      <td>sedan</td>\n",
       "      <td>manual</td>\n",
       "      <td>3</td>\n",
       "    </tr>\n",
       "    <tr>\n",
       "      <th>7</th>\n",
       "      <td>1</td>\n",
       "      <td>26.0</td>\n",
       "      <td>had not been drinking</td>\n",
       "      <td>None</td>\n",
       "      <td>santa barbara</td>\n",
       "      <td>0.0</td>\n",
       "      <td>clear</td>\n",
       "      <td>dry</td>\n",
       "      <td>normal</td>\n",
       "      <td>dusk or dawn</td>\n",
       "      <td>2012-01-02</td>\n",
       "      <td>17:08:00</td>\n",
       "      <td>sedan</td>\n",
       "      <td>manual</td>\n",
       "      <td>4</td>\n",
       "    </tr>\n",
       "    <tr>\n",
       "      <th>8</th>\n",
       "      <td>0</td>\n",
       "      <td>29.0</td>\n",
       "      <td>had not been drinking</td>\n",
       "      <td>None</td>\n",
       "      <td>los angeles</td>\n",
       "      <td>0.0</td>\n",
       "      <td>clear</td>\n",
       "      <td>dry</td>\n",
       "      <td>normal</td>\n",
       "      <td>daylight</td>\n",
       "      <td>2012-04-07</td>\n",
       "      <td>11:40:00</td>\n",
       "      <td>sedan</td>\n",
       "      <td>auto</td>\n",
       "      <td>4</td>\n",
       "    </tr>\n",
       "    <tr>\n",
       "      <th>9</th>\n",
       "      <td>1</td>\n",
       "      <td>20.0</td>\n",
       "      <td>had not been drinking</td>\n",
       "      <td>None</td>\n",
       "      <td>los angeles</td>\n",
       "      <td>0.0</td>\n",
       "      <td>clear</td>\n",
       "      <td>dry</td>\n",
       "      <td>normal</td>\n",
       "      <td>daylight</td>\n",
       "      <td>2012-01-08</td>\n",
       "      <td>15:25:00</td>\n",
       "      <td>sedan</td>\n",
       "      <td>manual</td>\n",
       "      <td>3</td>\n",
       "    </tr>\n",
       "  </tbody>\n",
       "</table>\n",
       "</div>"
      ],
      "text/plain": [
       "   at_fault  insurance_premium                      party_sobriety  \\\n",
       "0         1               61.0               had not been drinking   \n",
       "1         0               46.0               had not been drinking   \n",
       "2         1               38.0  had been drinking, under influence   \n",
       "3         1               43.0               had not been drinking   \n",
       "4         1               38.0  had been drinking, under influence   \n",
       "5         1               22.0               had not been drinking   \n",
       "6         1               30.0               had not been drinking   \n",
       "7         1               26.0               had not been drinking   \n",
       "8         0               29.0               had not been drinking   \n",
       "9         1               20.0               had not been drinking   \n",
       "\n",
       "  party_drug_physical county_location  intersection weather_1 road_surface  \\\n",
       "0                None          orange           0.0     clear          dry   \n",
       "1                None     los angeles           0.0     clear          dry   \n",
       "2                None       san mateo           0.0     clear          dry   \n",
       "3                None  san bernardino           0.0     clear          dry   \n",
       "4                None          nevada           0.0     clear          dry   \n",
       "5                None          solano           0.0    cloudy          dry   \n",
       "6                None     san joaquin           0.0       fog          dry   \n",
       "7                None   santa barbara           0.0     clear          dry   \n",
       "8                None     los angeles           0.0     clear          dry   \n",
       "9                None     los angeles           0.0     clear          dry   \n",
       "\n",
       "  road_condition_1                    lighting collision_date collision_time  \\\n",
       "0      obstruction                    daylight     2012-01-28       09:10:00   \n",
       "1           normal                    daylight     2012-04-15       17:05:00   \n",
       "2            other  dark with no street lights     2012-05-01       00:01:00   \n",
       "3           normal     dark with street lights     2012-04-19       22:04:00   \n",
       "4           normal  dark with no street lights     2012-04-21       00:50:00   \n",
       "5           normal                    daylight     2012-01-02       15:32:00   \n",
       "6           normal  dark with no street lights     2012-01-01       03:00:00   \n",
       "7           normal                dusk or dawn     2012-01-02       17:08:00   \n",
       "8           normal                    daylight     2012-04-07       11:40:00   \n",
       "9           normal                    daylight     2012-01-08       15:25:00   \n",
       "\n",
       "  vehicle_type vehicle_transmission  vehicle_age  \n",
       "0        sedan               manual            9  \n",
       "1        sedan                 auto            2  \n",
       "2        sedan                 auto            5  \n",
       "3        sedan                 auto            8  \n",
       "4        sedan                 auto            6  \n",
       "5        sedan               manual            3  \n",
       "6        sedan               manual            3  \n",
       "7        sedan               manual            4  \n",
       "8        sedan                 auto            4  \n",
       "9        sedan               manual            3  "
      ]
     },
     "execution_count": 49,
     "metadata": {},
     "output_type": "execute_result"
    }
   ],
   "source": [
    "data.head(10)"
   ]
  },
  {
   "cell_type": "code",
   "execution_count": 51,
   "id": "255ee199",
   "metadata": {},
   "outputs": [],
   "source": [
    "data_rework = data.copy()"
   ]
  },
  {
   "cell_type": "markdown",
   "id": "257a95a8-5aec-4763-b890-92a58989ebdf",
   "metadata": {},
   "source": [
    "Выгруженна дата с учетом требований заказчика"
   ]
  },
  {
   "cell_type": "code",
   "execution_count": 54,
   "id": "f170bbe0-8397-4c0b-b327-858bb50bf0b9",
   "metadata": {},
   "outputs": [],
   "source": [
    "data_rework['collision_date'] = data_rework['collision_date'].apply(lambda x: datetime.datetime.combine(x, datetime.time.min))"
   ]
  },
  {
   "cell_type": "code",
   "execution_count": 55,
   "id": "7f42f58d-0ccc-4a86-aa48-d58a7e60b0d3",
   "metadata": {},
   "outputs": [],
   "source": [
    "data_rework['collision_time'] = data_rework['collision_time'].apply(lambda x: x.hour if x is not None else None)"
   ]
  },
  {
   "cell_type": "code",
   "execution_count": 56,
   "id": "d067e240-0273-4888-8270-c2a80e1a163b",
   "metadata": {},
   "outputs": [
    {
     "name": "stdout",
     "output_type": "stream",
     "text": [
      "<class 'pandas.core.frame.DataFrame'>\n",
      "Int64Index: 51393 entries, 0 to 51412\n",
      "Data columns (total 15 columns):\n",
      " #   Column                Non-Null Count  Dtype         \n",
      "---  ------                --------------  -----         \n",
      " 0   at_fault              51393 non-null  int64         \n",
      " 1   insurance_premium     50982 non-null  float64       \n",
      " 2   party_sobriety        50611 non-null  object        \n",
      " 3   party_drug_physical   2550 non-null   object        \n",
      " 4   county_location       51393 non-null  object        \n",
      " 5   intersection          51236 non-null  float64       \n",
      " 6   weather_1             51238 non-null  object        \n",
      " 7   road_surface          51087 non-null  object        \n",
      " 8   road_condition_1      51171 non-null  object        \n",
      " 9   lighting              51247 non-null  object        \n",
      " 10  collision_date        51393 non-null  datetime64[ns]\n",
      " 11  collision_time        51313 non-null  float64       \n",
      " 12  vehicle_type          51393 non-null  object        \n",
      " 13  vehicle_transmission  50858 non-null  object        \n",
      " 14  vehicle_age           51393 non-null  int64         \n",
      "dtypes: datetime64[ns](1), float64(3), int64(2), object(9)\n",
      "memory usage: 6.3+ MB\n"
     ]
    }
   ],
   "source": [
    "data_rework.info()"
   ]
  },
  {
   "cell_type": "code",
   "execution_count": 57,
   "id": "96c7f822-dea5-4c46-bb90-19ffe8102264",
   "metadata": {},
   "outputs": [
    {
     "data": {
      "text/html": [
       "<div>\n",
       "<style scoped>\n",
       "    .dataframe tbody tr th:only-of-type {\n",
       "        vertical-align: middle;\n",
       "    }\n",
       "\n",
       "    .dataframe tbody tr th {\n",
       "        vertical-align: top;\n",
       "    }\n",
       "\n",
       "    .dataframe thead th {\n",
       "        text-align: right;\n",
       "    }\n",
       "</style>\n",
       "<table border=\"1\" class=\"dataframe\">\n",
       "  <thead>\n",
       "    <tr style=\"text-align: right;\">\n",
       "      <th></th>\n",
       "      <th>at_fault</th>\n",
       "      <th>insurance_premium</th>\n",
       "      <th>party_sobriety</th>\n",
       "      <th>party_drug_physical</th>\n",
       "      <th>county_location</th>\n",
       "      <th>intersection</th>\n",
       "      <th>weather_1</th>\n",
       "      <th>road_surface</th>\n",
       "      <th>road_condition_1</th>\n",
       "      <th>lighting</th>\n",
       "      <th>collision_date</th>\n",
       "      <th>collision_time</th>\n",
       "      <th>vehicle_type</th>\n",
       "      <th>vehicle_transmission</th>\n",
       "      <th>vehicle_age</th>\n",
       "    </tr>\n",
       "  </thead>\n",
       "  <tbody>\n",
       "    <tr>\n",
       "      <th>0</th>\n",
       "      <td>1</td>\n",
       "      <td>61.0</td>\n",
       "      <td>had not been drinking</td>\n",
       "      <td>None</td>\n",
       "      <td>orange</td>\n",
       "      <td>0.0</td>\n",
       "      <td>clear</td>\n",
       "      <td>dry</td>\n",
       "      <td>obstruction</td>\n",
       "      <td>daylight</td>\n",
       "      <td>2012-01-28</td>\n",
       "      <td>9.0</td>\n",
       "      <td>sedan</td>\n",
       "      <td>manual</td>\n",
       "      <td>9</td>\n",
       "    </tr>\n",
       "    <tr>\n",
       "      <th>1</th>\n",
       "      <td>0</td>\n",
       "      <td>46.0</td>\n",
       "      <td>had not been drinking</td>\n",
       "      <td>None</td>\n",
       "      <td>los angeles</td>\n",
       "      <td>0.0</td>\n",
       "      <td>clear</td>\n",
       "      <td>dry</td>\n",
       "      <td>normal</td>\n",
       "      <td>daylight</td>\n",
       "      <td>2012-04-15</td>\n",
       "      <td>17.0</td>\n",
       "      <td>sedan</td>\n",
       "      <td>auto</td>\n",
       "      <td>2</td>\n",
       "    </tr>\n",
       "    <tr>\n",
       "      <th>2</th>\n",
       "      <td>1</td>\n",
       "      <td>38.0</td>\n",
       "      <td>had been drinking, under influence</td>\n",
       "      <td>None</td>\n",
       "      <td>san mateo</td>\n",
       "      <td>0.0</td>\n",
       "      <td>clear</td>\n",
       "      <td>dry</td>\n",
       "      <td>other</td>\n",
       "      <td>dark with no street lights</td>\n",
       "      <td>2012-05-01</td>\n",
       "      <td>0.0</td>\n",
       "      <td>sedan</td>\n",
       "      <td>auto</td>\n",
       "      <td>5</td>\n",
       "    </tr>\n",
       "    <tr>\n",
       "      <th>3</th>\n",
       "      <td>1</td>\n",
       "      <td>43.0</td>\n",
       "      <td>had not been drinking</td>\n",
       "      <td>None</td>\n",
       "      <td>san bernardino</td>\n",
       "      <td>0.0</td>\n",
       "      <td>clear</td>\n",
       "      <td>dry</td>\n",
       "      <td>normal</td>\n",
       "      <td>dark with street lights</td>\n",
       "      <td>2012-04-19</td>\n",
       "      <td>22.0</td>\n",
       "      <td>sedan</td>\n",
       "      <td>auto</td>\n",
       "      <td>8</td>\n",
       "    </tr>\n",
       "    <tr>\n",
       "      <th>4</th>\n",
       "      <td>1</td>\n",
       "      <td>38.0</td>\n",
       "      <td>had been drinking, under influence</td>\n",
       "      <td>None</td>\n",
       "      <td>nevada</td>\n",
       "      <td>0.0</td>\n",
       "      <td>clear</td>\n",
       "      <td>dry</td>\n",
       "      <td>normal</td>\n",
       "      <td>dark with no street lights</td>\n",
       "      <td>2012-04-21</td>\n",
       "      <td>0.0</td>\n",
       "      <td>sedan</td>\n",
       "      <td>auto</td>\n",
       "      <td>6</td>\n",
       "    </tr>\n",
       "    <tr>\n",
       "      <th>5</th>\n",
       "      <td>1</td>\n",
       "      <td>22.0</td>\n",
       "      <td>had not been drinking</td>\n",
       "      <td>None</td>\n",
       "      <td>solano</td>\n",
       "      <td>0.0</td>\n",
       "      <td>cloudy</td>\n",
       "      <td>dry</td>\n",
       "      <td>normal</td>\n",
       "      <td>daylight</td>\n",
       "      <td>2012-01-02</td>\n",
       "      <td>15.0</td>\n",
       "      <td>sedan</td>\n",
       "      <td>manual</td>\n",
       "      <td>3</td>\n",
       "    </tr>\n",
       "    <tr>\n",
       "      <th>6</th>\n",
       "      <td>1</td>\n",
       "      <td>30.0</td>\n",
       "      <td>had not been drinking</td>\n",
       "      <td>None</td>\n",
       "      <td>san joaquin</td>\n",
       "      <td>0.0</td>\n",
       "      <td>fog</td>\n",
       "      <td>dry</td>\n",
       "      <td>normal</td>\n",
       "      <td>dark with no street lights</td>\n",
       "      <td>2012-01-01</td>\n",
       "      <td>3.0</td>\n",
       "      <td>sedan</td>\n",
       "      <td>manual</td>\n",
       "      <td>3</td>\n",
       "    </tr>\n",
       "    <tr>\n",
       "      <th>7</th>\n",
       "      <td>1</td>\n",
       "      <td>26.0</td>\n",
       "      <td>had not been drinking</td>\n",
       "      <td>None</td>\n",
       "      <td>santa barbara</td>\n",
       "      <td>0.0</td>\n",
       "      <td>clear</td>\n",
       "      <td>dry</td>\n",
       "      <td>normal</td>\n",
       "      <td>dusk or dawn</td>\n",
       "      <td>2012-01-02</td>\n",
       "      <td>17.0</td>\n",
       "      <td>sedan</td>\n",
       "      <td>manual</td>\n",
       "      <td>4</td>\n",
       "    </tr>\n",
       "    <tr>\n",
       "      <th>8</th>\n",
       "      <td>0</td>\n",
       "      <td>29.0</td>\n",
       "      <td>had not been drinking</td>\n",
       "      <td>None</td>\n",
       "      <td>los angeles</td>\n",
       "      <td>0.0</td>\n",
       "      <td>clear</td>\n",
       "      <td>dry</td>\n",
       "      <td>normal</td>\n",
       "      <td>daylight</td>\n",
       "      <td>2012-04-07</td>\n",
       "      <td>11.0</td>\n",
       "      <td>sedan</td>\n",
       "      <td>auto</td>\n",
       "      <td>4</td>\n",
       "    </tr>\n",
       "    <tr>\n",
       "      <th>9</th>\n",
       "      <td>1</td>\n",
       "      <td>20.0</td>\n",
       "      <td>had not been drinking</td>\n",
       "      <td>None</td>\n",
       "      <td>los angeles</td>\n",
       "      <td>0.0</td>\n",
       "      <td>clear</td>\n",
       "      <td>dry</td>\n",
       "      <td>normal</td>\n",
       "      <td>daylight</td>\n",
       "      <td>2012-01-08</td>\n",
       "      <td>15.0</td>\n",
       "      <td>sedan</td>\n",
       "      <td>manual</td>\n",
       "      <td>3</td>\n",
       "    </tr>\n",
       "  </tbody>\n",
       "</table>\n",
       "</div>"
      ],
      "text/plain": [
       "   at_fault  insurance_premium                      party_sobriety  \\\n",
       "0         1               61.0               had not been drinking   \n",
       "1         0               46.0               had not been drinking   \n",
       "2         1               38.0  had been drinking, under influence   \n",
       "3         1               43.0               had not been drinking   \n",
       "4         1               38.0  had been drinking, under influence   \n",
       "5         1               22.0               had not been drinking   \n",
       "6         1               30.0               had not been drinking   \n",
       "7         1               26.0               had not been drinking   \n",
       "8         0               29.0               had not been drinking   \n",
       "9         1               20.0               had not been drinking   \n",
       "\n",
       "  party_drug_physical county_location  intersection weather_1 road_surface  \\\n",
       "0                None          orange           0.0     clear          dry   \n",
       "1                None     los angeles           0.0     clear          dry   \n",
       "2                None       san mateo           0.0     clear          dry   \n",
       "3                None  san bernardino           0.0     clear          dry   \n",
       "4                None          nevada           0.0     clear          dry   \n",
       "5                None          solano           0.0    cloudy          dry   \n",
       "6                None     san joaquin           0.0       fog          dry   \n",
       "7                None   santa barbara           0.0     clear          dry   \n",
       "8                None     los angeles           0.0     clear          dry   \n",
       "9                None     los angeles           0.0     clear          dry   \n",
       "\n",
       "  road_condition_1                    lighting collision_date  collision_time  \\\n",
       "0      obstruction                    daylight     2012-01-28             9.0   \n",
       "1           normal                    daylight     2012-04-15            17.0   \n",
       "2            other  dark with no street lights     2012-05-01             0.0   \n",
       "3           normal     dark with street lights     2012-04-19            22.0   \n",
       "4           normal  dark with no street lights     2012-04-21             0.0   \n",
       "5           normal                    daylight     2012-01-02            15.0   \n",
       "6           normal  dark with no street lights     2012-01-01             3.0   \n",
       "7           normal                dusk or dawn     2012-01-02            17.0   \n",
       "8           normal                    daylight     2012-04-07            11.0   \n",
       "9           normal                    daylight     2012-01-08            15.0   \n",
       "\n",
       "  vehicle_type vehicle_transmission  vehicle_age  \n",
       "0        sedan               manual            9  \n",
       "1        sedan                 auto            2  \n",
       "2        sedan                 auto            5  \n",
       "3        sedan                 auto            8  \n",
       "4        sedan                 auto            6  \n",
       "5        sedan               manual            3  \n",
       "6        sedan               manual            3  \n",
       "7        sedan               manual            4  \n",
       "8        sedan                 auto            4  \n",
       "9        sedan               manual            3  "
      ]
     },
     "execution_count": 57,
     "metadata": {},
     "output_type": "execute_result"
    }
   ],
   "source": [
    "data_rework.head(10)"
   ]
  },
  {
   "cell_type": "code",
   "execution_count": 58,
   "id": "c5b28927-34a9-420d-a13e-4e26d896a13d",
   "metadata": {},
   "outputs": [],
   "source": [
    "profile = ProfileReport(data_rework, title=\"Profiling Report\")"
   ]
  },
  {
   "cell_type": "code",
   "execution_count": 60,
   "id": "e6432e63-0705-4292-bff8-981e5d54ab3d",
   "metadata": {
    "scrolled": true
   },
   "outputs": [],
   "source": [
    "#profile"
   ]
  },
  {
   "cell_type": "markdown",
   "id": "8ffb2c12-0157-4ce4-89be-26255553102d",
   "metadata": {},
   "source": [
    "По результатам выведеной статистики, имеются дубликаты. Поскольку уже была проведена проверка на полные совпадения, удалять имеющиеся нет необходимости. Данные совпадения могут случиться."
   ]
  },
  {
   "cell_type": "markdown",
   "id": "91a6d6b1-4d6d-4f63-90ea-33b2691296bc",
   "metadata": {},
   "source": [
    "Согласно выведенной статистике, в данных имеется большое количество пропусктв. Попробую с ними разобраться."
   ]
  },
  {
   "cell_type": "code",
   "execution_count": 61,
   "id": "c6bee399-5f38-4257-8097-866bb47aa3a4",
   "metadata": {},
   "outputs": [
    {
     "data": {
      "text/plain": [
       "array(['had not been drinking', 'had been drinking, under influence',\n",
       "       None, 'impairment unknown',\n",
       "       'had been drinking, not under influence', 'not applicable',\n",
       "       'had been drinking, impairment unknown'], dtype=object)"
      ]
     },
     "execution_count": 61,
     "metadata": {},
     "output_type": "execute_result"
    }
   ],
   "source": [
    "data_rework['party_sobriety'].unique()"
   ]
  },
  {
   "cell_type": "markdown",
   "id": "a38ff49f-bc30-47c1-966f-5f29b73a751b",
   "metadata": {},
   "source": [
    "Предположу, что пропуски тут возникли из-за того, что трезвость водителя не оценивалась, так что пропуски заполню not applicable"
   ]
  },
  {
   "cell_type": "code",
   "execution_count": 62,
   "id": "221f8c9c-68a3-417e-8703-d61299afbffe",
   "metadata": {},
   "outputs": [],
   "source": [
    "data_rework.loc[data_rework['party_sobriety'].isna(), 'party_sobriety'] = 'not applicable'"
   ]
  },
  {
   "cell_type": "code",
   "execution_count": 63,
   "id": "4134b306-b0b7-4386-9a67-28a9b7577835",
   "metadata": {},
   "outputs": [
    {
     "data": {
      "text/plain": [
       "array([None, 'G', 'under drug influence', 'sleepy/fatigued',\n",
       "       'not applicable', 'impairment - physical'], dtype=object)"
      ]
     },
     "execution_count": 63,
     "metadata": {},
     "output_type": "execute_result"
    }
   ],
   "source": [
    "data_rework['party_drug_physical'].unique()"
   ]
  },
  {
   "cell_type": "markdown",
   "id": "eda5d345-33ae-4f28-8e5a-ec08e405da08",
   "metadata": {},
   "source": [
    "Аналогичная ситуация, состояние водителя не оценивалось."
   ]
  },
  {
   "cell_type": "code",
   "execution_count": 64,
   "id": "e4929dd5-b5d2-4f75-a679-e558d1019098",
   "metadata": {},
   "outputs": [],
   "source": [
    "data_rework.loc[data_rework['party_drug_physical'].isna(), 'party_drug_physical'] = 'G'"
   ]
  },
  {
   "cell_type": "markdown",
   "id": "4b560f7b-74ce-43c0-a293-1579221c4e0d",
   "metadata": {},
   "source": [
    "Поскольку мы живем в 21 веке, телефоны есть уже у всех, предлагаю заполнить модой"
   ]
  },
  {
   "cell_type": "code",
   "execution_count": 85,
   "id": "74a5274d-b927-4b1b-b296-f5dc62860a74",
   "metadata": {},
   "outputs": [
    {
     "data": {
      "text/plain": [
       "80"
      ]
     },
     "execution_count": 85,
     "metadata": {},
     "output_type": "execute_result"
    }
   ],
   "source": [
    "data_rework['collision_time'].isna().sum()"
   ]
  },
  {
   "cell_type": "markdown",
   "id": "fa80db73-0a6d-40a6-908e-c28c73b2457f",
   "metadata": {},
   "source": [
    "В данной категории пропусков 1,6%, предлагаю строки с пропусками удалить"
   ]
  },
  {
   "cell_type": "code",
   "execution_count": 86,
   "id": "3daaba2d-4b7e-48e0-8224-d909eaf81dd4",
   "metadata": {},
   "outputs": [],
   "source": [
    "data_rework.dropna(inplace=True)"
   ]
  },
  {
   "cell_type": "code",
   "execution_count": 87,
   "id": "7e15ea99-91da-40e3-8647-9ea392b68feb",
   "metadata": {},
   "outputs": [],
   "source": [
    "profile_2 = ProfileReport(data_rework, title=\"Profiling Report\")"
   ]
  },
  {
   "cell_type": "code",
   "execution_count": 93,
   "id": "e3796230-0c00-4c68-bdba-c1a41d891b44",
   "metadata": {},
   "outputs": [],
   "source": [
    "#profile_2"
   ]
  },
  {
   "cell_type": "markdown",
   "id": "62784dca",
   "metadata": {},
   "source": [
    "## Проведите анализ важности факторов ДТП"
   ]
  },
  {
   "cell_type": "code",
   "execution_count": 94,
   "id": "89c5595c",
   "metadata": {},
   "outputs": [
    {
     "data": {
      "text/html": [
       "<div>\n",
       "<style scoped>\n",
       "    .dataframe tbody tr th:only-of-type {\n",
       "        vertical-align: middle;\n",
       "    }\n",
       "\n",
       "    .dataframe tbody tr th {\n",
       "        vertical-align: top;\n",
       "    }\n",
       "\n",
       "    .dataframe thead th {\n",
       "        text-align: right;\n",
       "    }\n",
       "</style>\n",
       "<table border=\"1\" class=\"dataframe\">\n",
       "  <thead>\n",
       "    <tr style=\"text-align: right;\">\n",
       "      <th></th>\n",
       "      <th>at_fault</th>\n",
       "      <th>insurance_premium</th>\n",
       "      <th>party_sobriety</th>\n",
       "      <th>party_drug_physical</th>\n",
       "      <th>county_location</th>\n",
       "      <th>intersection</th>\n",
       "      <th>weather_1</th>\n",
       "      <th>road_surface</th>\n",
       "      <th>road_condition_1</th>\n",
       "      <th>lighting</th>\n",
       "      <th>collision_date</th>\n",
       "      <th>collision_time</th>\n",
       "      <th>vehicle_type</th>\n",
       "      <th>vehicle_transmission</th>\n",
       "      <th>vehicle_age</th>\n",
       "    </tr>\n",
       "  </thead>\n",
       "  <tbody>\n",
       "    <tr>\n",
       "      <th>0</th>\n",
       "      <td>1</td>\n",
       "      <td>61.0</td>\n",
       "      <td>had not been drinking</td>\n",
       "      <td>G</td>\n",
       "      <td>orange</td>\n",
       "      <td>0.0</td>\n",
       "      <td>clear</td>\n",
       "      <td>dry</td>\n",
       "      <td>obstruction</td>\n",
       "      <td>daylight</td>\n",
       "      <td>2012-01-28</td>\n",
       "      <td>9.0</td>\n",
       "      <td>sedan</td>\n",
       "      <td>manual</td>\n",
       "      <td>9</td>\n",
       "    </tr>\n",
       "    <tr>\n",
       "      <th>1</th>\n",
       "      <td>0</td>\n",
       "      <td>46.0</td>\n",
       "      <td>had not been drinking</td>\n",
       "      <td>G</td>\n",
       "      <td>los angeles</td>\n",
       "      <td>0.0</td>\n",
       "      <td>clear</td>\n",
       "      <td>dry</td>\n",
       "      <td>normal</td>\n",
       "      <td>daylight</td>\n",
       "      <td>2012-04-15</td>\n",
       "      <td>17.0</td>\n",
       "      <td>sedan</td>\n",
       "      <td>auto</td>\n",
       "      <td>2</td>\n",
       "    </tr>\n",
       "    <tr>\n",
       "      <th>2</th>\n",
       "      <td>1</td>\n",
       "      <td>38.0</td>\n",
       "      <td>had been drinking, under influence</td>\n",
       "      <td>G</td>\n",
       "      <td>san mateo</td>\n",
       "      <td>0.0</td>\n",
       "      <td>clear</td>\n",
       "      <td>dry</td>\n",
       "      <td>other</td>\n",
       "      <td>dark with no street lights</td>\n",
       "      <td>2012-05-01</td>\n",
       "      <td>0.0</td>\n",
       "      <td>sedan</td>\n",
       "      <td>auto</td>\n",
       "      <td>5</td>\n",
       "    </tr>\n",
       "    <tr>\n",
       "      <th>3</th>\n",
       "      <td>1</td>\n",
       "      <td>43.0</td>\n",
       "      <td>had not been drinking</td>\n",
       "      <td>G</td>\n",
       "      <td>san bernardino</td>\n",
       "      <td>0.0</td>\n",
       "      <td>clear</td>\n",
       "      <td>dry</td>\n",
       "      <td>normal</td>\n",
       "      <td>dark with street lights</td>\n",
       "      <td>2012-04-19</td>\n",
       "      <td>22.0</td>\n",
       "      <td>sedan</td>\n",
       "      <td>auto</td>\n",
       "      <td>8</td>\n",
       "    </tr>\n",
       "    <tr>\n",
       "      <th>4</th>\n",
       "      <td>1</td>\n",
       "      <td>38.0</td>\n",
       "      <td>had been drinking, under influence</td>\n",
       "      <td>G</td>\n",
       "      <td>nevada</td>\n",
       "      <td>0.0</td>\n",
       "      <td>clear</td>\n",
       "      <td>dry</td>\n",
       "      <td>normal</td>\n",
       "      <td>dark with no street lights</td>\n",
       "      <td>2012-04-21</td>\n",
       "      <td>0.0</td>\n",
       "      <td>sedan</td>\n",
       "      <td>auto</td>\n",
       "      <td>6</td>\n",
       "    </tr>\n",
       "    <tr>\n",
       "      <th>5</th>\n",
       "      <td>1</td>\n",
       "      <td>22.0</td>\n",
       "      <td>had not been drinking</td>\n",
       "      <td>G</td>\n",
       "      <td>solano</td>\n",
       "      <td>0.0</td>\n",
       "      <td>cloudy</td>\n",
       "      <td>dry</td>\n",
       "      <td>normal</td>\n",
       "      <td>daylight</td>\n",
       "      <td>2012-01-02</td>\n",
       "      <td>15.0</td>\n",
       "      <td>sedan</td>\n",
       "      <td>manual</td>\n",
       "      <td>3</td>\n",
       "    </tr>\n",
       "    <tr>\n",
       "      <th>6</th>\n",
       "      <td>1</td>\n",
       "      <td>30.0</td>\n",
       "      <td>had not been drinking</td>\n",
       "      <td>G</td>\n",
       "      <td>san joaquin</td>\n",
       "      <td>0.0</td>\n",
       "      <td>fog</td>\n",
       "      <td>dry</td>\n",
       "      <td>normal</td>\n",
       "      <td>dark with no street lights</td>\n",
       "      <td>2012-01-01</td>\n",
       "      <td>3.0</td>\n",
       "      <td>sedan</td>\n",
       "      <td>manual</td>\n",
       "      <td>3</td>\n",
       "    </tr>\n",
       "    <tr>\n",
       "      <th>7</th>\n",
       "      <td>1</td>\n",
       "      <td>26.0</td>\n",
       "      <td>had not been drinking</td>\n",
       "      <td>G</td>\n",
       "      <td>santa barbara</td>\n",
       "      <td>0.0</td>\n",
       "      <td>clear</td>\n",
       "      <td>dry</td>\n",
       "      <td>normal</td>\n",
       "      <td>dusk or dawn</td>\n",
       "      <td>2012-01-02</td>\n",
       "      <td>17.0</td>\n",
       "      <td>sedan</td>\n",
       "      <td>manual</td>\n",
       "      <td>4</td>\n",
       "    </tr>\n",
       "    <tr>\n",
       "      <th>8</th>\n",
       "      <td>0</td>\n",
       "      <td>29.0</td>\n",
       "      <td>had not been drinking</td>\n",
       "      <td>G</td>\n",
       "      <td>los angeles</td>\n",
       "      <td>0.0</td>\n",
       "      <td>clear</td>\n",
       "      <td>dry</td>\n",
       "      <td>normal</td>\n",
       "      <td>daylight</td>\n",
       "      <td>2012-04-07</td>\n",
       "      <td>11.0</td>\n",
       "      <td>sedan</td>\n",
       "      <td>auto</td>\n",
       "      <td>4</td>\n",
       "    </tr>\n",
       "    <tr>\n",
       "      <th>9</th>\n",
       "      <td>1</td>\n",
       "      <td>20.0</td>\n",
       "      <td>had not been drinking</td>\n",
       "      <td>G</td>\n",
       "      <td>los angeles</td>\n",
       "      <td>0.0</td>\n",
       "      <td>clear</td>\n",
       "      <td>dry</td>\n",
       "      <td>normal</td>\n",
       "      <td>daylight</td>\n",
       "      <td>2012-01-08</td>\n",
       "      <td>15.0</td>\n",
       "      <td>sedan</td>\n",
       "      <td>manual</td>\n",
       "      <td>3</td>\n",
       "    </tr>\n",
       "  </tbody>\n",
       "</table>\n",
       "</div>"
      ],
      "text/plain": [
       "   at_fault  insurance_premium                      party_sobriety  \\\n",
       "0         1               61.0               had not been drinking   \n",
       "1         0               46.0               had not been drinking   \n",
       "2         1               38.0  had been drinking, under influence   \n",
       "3         1               43.0               had not been drinking   \n",
       "4         1               38.0  had been drinking, under influence   \n",
       "5         1               22.0               had not been drinking   \n",
       "6         1               30.0               had not been drinking   \n",
       "7         1               26.0               had not been drinking   \n",
       "8         0               29.0               had not been drinking   \n",
       "9         1               20.0               had not been drinking   \n",
       "\n",
       "  party_drug_physical county_location  intersection weather_1 road_surface  \\\n",
       "0                   G          orange           0.0     clear          dry   \n",
       "1                   G     los angeles           0.0     clear          dry   \n",
       "2                   G       san mateo           0.0     clear          dry   \n",
       "3                   G  san bernardino           0.0     clear          dry   \n",
       "4                   G          nevada           0.0     clear          dry   \n",
       "5                   G          solano           0.0    cloudy          dry   \n",
       "6                   G     san joaquin           0.0       fog          dry   \n",
       "7                   G   santa barbara           0.0     clear          dry   \n",
       "8                   G     los angeles           0.0     clear          dry   \n",
       "9                   G     los angeles           0.0     clear          dry   \n",
       "\n",
       "  road_condition_1                    lighting collision_date  collision_time  \\\n",
       "0      obstruction                    daylight     2012-01-28             9.0   \n",
       "1           normal                    daylight     2012-04-15            17.0   \n",
       "2            other  dark with no street lights     2012-05-01             0.0   \n",
       "3           normal     dark with street lights     2012-04-19            22.0   \n",
       "4           normal  dark with no street lights     2012-04-21             0.0   \n",
       "5           normal                    daylight     2012-01-02            15.0   \n",
       "6           normal  dark with no street lights     2012-01-01             3.0   \n",
       "7           normal                dusk or dawn     2012-01-02            17.0   \n",
       "8           normal                    daylight     2012-04-07            11.0   \n",
       "9           normal                    daylight     2012-01-08            15.0   \n",
       "\n",
       "  vehicle_type vehicle_transmission  vehicle_age  \n",
       "0        sedan               manual            9  \n",
       "1        sedan                 auto            2  \n",
       "2        sedan                 auto            5  \n",
       "3        sedan                 auto            8  \n",
       "4        sedan                 auto            6  \n",
       "5        sedan               manual            3  \n",
       "6        sedan               manual            3  \n",
       "7        sedan               manual            4  \n",
       "8        sedan                 auto            4  \n",
       "9        sedan               manual            3  "
      ]
     },
     "execution_count": 94,
     "metadata": {},
     "output_type": "execute_result"
    }
   ],
   "source": [
    "data_rework.head(10)"
   ]
  },
  {
   "cell_type": "markdown",
   "id": "339f0884-872e-49d0-b698-cca7ffa18139",
   "metadata": {},
   "source": [
    "Попробуем разобраться в признаках, которые могут влиять на вероятность ДТП:"
   ]
  },
  {
   "cell_type": "markdown",
   "id": "f2cefe75-b066-4c7e-8a32-7f412159fd8c",
   "metadata": {},
   "source": [
    "Я предполагаю, что от меня требовалось бы написать SQL запрос, но, поскольку я уже предобработал data, я возьму копию ее, удалив лишние столбцы\n",
    "\n",
    "***неактуально***"
   ]
  },
  {
   "cell_type": "code",
   "execution_count": 96,
   "id": "e3e6b6d0",
   "metadata": {},
   "outputs": [],
   "source": [
    "data_work = data_rework.copy()"
   ]
  },
  {
   "cell_type": "code",
   "execution_count": 97,
   "id": "af0c6625-c932-426a-adf1-2ee5f24e2adf",
   "metadata": {},
   "outputs": [],
   "source": [
    "data_work['intersection'] = data_work['intersection'].astype('object')"
   ]
  },
  {
   "cell_type": "code",
   "execution_count": 98,
   "id": "161f609a-65fa-44e8-973e-e2f77a14df00",
   "metadata": {},
   "outputs": [],
   "source": [
    "data_work['collision_time'] = data_work['collision_time'].astype('object')"
   ]
  },
  {
   "cell_type": "code",
   "execution_count": 99,
   "id": "79d40e75-d18b-4c99-9036-6cab24a93562",
   "metadata": {},
   "outputs": [],
   "source": [
    "data_work['day_of_week'] = data_work['collision_date'].dt.dayofweek.astype('object')"
   ]
  },
  {
   "cell_type": "code",
   "execution_count": 100,
   "id": "2304c842-db78-4c3c-874b-26501b2c17a9",
   "metadata": {},
   "outputs": [],
   "source": [
    "data_work['month'] = data_work['collision_date'].dt.dayofweek.astype('object')"
   ]
  },
  {
   "cell_type": "code",
   "execution_count": 101,
   "id": "4f62216c-33ed-4cf9-bbd4-28c0eb68896d",
   "metadata": {},
   "outputs": [],
   "source": [
    "def get_season(month):\n",
    "    if month in [12, 1, 2]:\n",
    "        return 'winter'\n",
    "    elif month in [3, 4, 5]:\n",
    "        return 'spring'\n",
    "    elif month in [6, 7, 8]:\n",
    "        return 'summer'\n",
    "    else:\n",
    "        return 'autumn'"
   ]
  },
  {
   "cell_type": "code",
   "execution_count": 102,
   "id": "a14667f0-3cde-4bda-8a70-7e27e48bf2d1",
   "metadata": {},
   "outputs": [],
   "source": [
    "data_work['season'] = data_work['collision_date'].dt.month.apply(get_season)"
   ]
  },
  {
   "cell_type": "code",
   "execution_count": 103,
   "id": "6d0be1ea-8a0c-44f3-907a-d0d7f86cc170",
   "metadata": {},
   "outputs": [],
   "source": [
    "data_work = data_work.drop('collision_date', axis=1)"
   ]
  },
  {
   "cell_type": "code",
   "execution_count": 104,
   "id": "5a6fc03b-b2da-4d6e-8434-d2465b259b77",
   "metadata": {},
   "outputs": [
    {
     "name": "stdout",
     "output_type": "stream",
     "text": [
      "<class 'pandas.core.frame.DataFrame'>\n",
      "Int64Index: 49595 entries, 0 to 51412\n",
      "Data columns (total 17 columns):\n",
      " #   Column                Non-Null Count  Dtype  \n",
      "---  ------                --------------  -----  \n",
      " 0   at_fault              49595 non-null  int64  \n",
      " 1   insurance_premium     49595 non-null  float64\n",
      " 2   party_sobriety        49595 non-null  object \n",
      " 3   party_drug_physical   49595 non-null  object \n",
      " 4   county_location       49595 non-null  object \n",
      " 5   intersection          49595 non-null  object \n",
      " 6   weather_1             49595 non-null  object \n",
      " 7   road_surface          49595 non-null  object \n",
      " 8   road_condition_1      49595 non-null  object \n",
      " 9   lighting              49595 non-null  object \n",
      " 10  collision_time        49595 non-null  object \n",
      " 11  vehicle_type          49595 non-null  object \n",
      " 12  vehicle_transmission  49595 non-null  object \n",
      " 13  vehicle_age           49595 non-null  int64  \n",
      " 14  day_of_week           49595 non-null  object \n",
      " 15  month                 49595 non-null  object \n",
      " 16  season                49595 non-null  object \n",
      "dtypes: float64(1), int64(2), object(14)\n",
      "memory usage: 7.8+ MB\n"
     ]
    }
   ],
   "source": [
    "data_work.info()"
   ]
  },
  {
   "cell_type": "code",
   "execution_count": 105,
   "id": "fb8796b9-09ca-498c-9c50-de97107c2ee9",
   "metadata": {},
   "outputs": [
    {
     "data": {
      "text/html": [
       "<div>\n",
       "<style scoped>\n",
       "    .dataframe tbody tr th:only-of-type {\n",
       "        vertical-align: middle;\n",
       "    }\n",
       "\n",
       "    .dataframe tbody tr th {\n",
       "        vertical-align: top;\n",
       "    }\n",
       "\n",
       "    .dataframe thead th {\n",
       "        text-align: right;\n",
       "    }\n",
       "</style>\n",
       "<table border=\"1\" class=\"dataframe\">\n",
       "  <thead>\n",
       "    <tr style=\"text-align: right;\">\n",
       "      <th></th>\n",
       "      <th>at_fault</th>\n",
       "      <th>insurance_premium</th>\n",
       "      <th>party_sobriety</th>\n",
       "      <th>party_drug_physical</th>\n",
       "      <th>county_location</th>\n",
       "      <th>intersection</th>\n",
       "      <th>weather_1</th>\n",
       "      <th>road_surface</th>\n",
       "      <th>road_condition_1</th>\n",
       "      <th>lighting</th>\n",
       "      <th>collision_time</th>\n",
       "      <th>vehicle_type</th>\n",
       "      <th>vehicle_transmission</th>\n",
       "      <th>vehicle_age</th>\n",
       "      <th>day_of_week</th>\n",
       "      <th>month</th>\n",
       "      <th>season</th>\n",
       "    </tr>\n",
       "  </thead>\n",
       "  <tbody>\n",
       "    <tr>\n",
       "      <th>0</th>\n",
       "      <td>1</td>\n",
       "      <td>61.0</td>\n",
       "      <td>had not been drinking</td>\n",
       "      <td>G</td>\n",
       "      <td>orange</td>\n",
       "      <td>0.0</td>\n",
       "      <td>clear</td>\n",
       "      <td>dry</td>\n",
       "      <td>obstruction</td>\n",
       "      <td>daylight</td>\n",
       "      <td>9.0</td>\n",
       "      <td>sedan</td>\n",
       "      <td>manual</td>\n",
       "      <td>9</td>\n",
       "      <td>5</td>\n",
       "      <td>5</td>\n",
       "      <td>winter</td>\n",
       "    </tr>\n",
       "    <tr>\n",
       "      <th>1</th>\n",
       "      <td>0</td>\n",
       "      <td>46.0</td>\n",
       "      <td>had not been drinking</td>\n",
       "      <td>G</td>\n",
       "      <td>los angeles</td>\n",
       "      <td>0.0</td>\n",
       "      <td>clear</td>\n",
       "      <td>dry</td>\n",
       "      <td>normal</td>\n",
       "      <td>daylight</td>\n",
       "      <td>17.0</td>\n",
       "      <td>sedan</td>\n",
       "      <td>auto</td>\n",
       "      <td>2</td>\n",
       "      <td>6</td>\n",
       "      <td>6</td>\n",
       "      <td>spring</td>\n",
       "    </tr>\n",
       "    <tr>\n",
       "      <th>2</th>\n",
       "      <td>1</td>\n",
       "      <td>38.0</td>\n",
       "      <td>had been drinking, under influence</td>\n",
       "      <td>G</td>\n",
       "      <td>san mateo</td>\n",
       "      <td>0.0</td>\n",
       "      <td>clear</td>\n",
       "      <td>dry</td>\n",
       "      <td>other</td>\n",
       "      <td>dark with no street lights</td>\n",
       "      <td>0.0</td>\n",
       "      <td>sedan</td>\n",
       "      <td>auto</td>\n",
       "      <td>5</td>\n",
       "      <td>1</td>\n",
       "      <td>1</td>\n",
       "      <td>spring</td>\n",
       "    </tr>\n",
       "    <tr>\n",
       "      <th>3</th>\n",
       "      <td>1</td>\n",
       "      <td>43.0</td>\n",
       "      <td>had not been drinking</td>\n",
       "      <td>G</td>\n",
       "      <td>san bernardino</td>\n",
       "      <td>0.0</td>\n",
       "      <td>clear</td>\n",
       "      <td>dry</td>\n",
       "      <td>normal</td>\n",
       "      <td>dark with street lights</td>\n",
       "      <td>22.0</td>\n",
       "      <td>sedan</td>\n",
       "      <td>auto</td>\n",
       "      <td>8</td>\n",
       "      <td>3</td>\n",
       "      <td>3</td>\n",
       "      <td>spring</td>\n",
       "    </tr>\n",
       "    <tr>\n",
       "      <th>4</th>\n",
       "      <td>1</td>\n",
       "      <td>38.0</td>\n",
       "      <td>had been drinking, under influence</td>\n",
       "      <td>G</td>\n",
       "      <td>nevada</td>\n",
       "      <td>0.0</td>\n",
       "      <td>clear</td>\n",
       "      <td>dry</td>\n",
       "      <td>normal</td>\n",
       "      <td>dark with no street lights</td>\n",
       "      <td>0.0</td>\n",
       "      <td>sedan</td>\n",
       "      <td>auto</td>\n",
       "      <td>6</td>\n",
       "      <td>5</td>\n",
       "      <td>5</td>\n",
       "      <td>spring</td>\n",
       "    </tr>\n",
       "    <tr>\n",
       "      <th>5</th>\n",
       "      <td>1</td>\n",
       "      <td>22.0</td>\n",
       "      <td>had not been drinking</td>\n",
       "      <td>G</td>\n",
       "      <td>solano</td>\n",
       "      <td>0.0</td>\n",
       "      <td>cloudy</td>\n",
       "      <td>dry</td>\n",
       "      <td>normal</td>\n",
       "      <td>daylight</td>\n",
       "      <td>15.0</td>\n",
       "      <td>sedan</td>\n",
       "      <td>manual</td>\n",
       "      <td>3</td>\n",
       "      <td>0</td>\n",
       "      <td>0</td>\n",
       "      <td>winter</td>\n",
       "    </tr>\n",
       "    <tr>\n",
       "      <th>6</th>\n",
       "      <td>1</td>\n",
       "      <td>30.0</td>\n",
       "      <td>had not been drinking</td>\n",
       "      <td>G</td>\n",
       "      <td>san joaquin</td>\n",
       "      <td>0.0</td>\n",
       "      <td>fog</td>\n",
       "      <td>dry</td>\n",
       "      <td>normal</td>\n",
       "      <td>dark with no street lights</td>\n",
       "      <td>3.0</td>\n",
       "      <td>sedan</td>\n",
       "      <td>manual</td>\n",
       "      <td>3</td>\n",
       "      <td>6</td>\n",
       "      <td>6</td>\n",
       "      <td>winter</td>\n",
       "    </tr>\n",
       "    <tr>\n",
       "      <th>7</th>\n",
       "      <td>1</td>\n",
       "      <td>26.0</td>\n",
       "      <td>had not been drinking</td>\n",
       "      <td>G</td>\n",
       "      <td>santa barbara</td>\n",
       "      <td>0.0</td>\n",
       "      <td>clear</td>\n",
       "      <td>dry</td>\n",
       "      <td>normal</td>\n",
       "      <td>dusk or dawn</td>\n",
       "      <td>17.0</td>\n",
       "      <td>sedan</td>\n",
       "      <td>manual</td>\n",
       "      <td>4</td>\n",
       "      <td>0</td>\n",
       "      <td>0</td>\n",
       "      <td>winter</td>\n",
       "    </tr>\n",
       "    <tr>\n",
       "      <th>8</th>\n",
       "      <td>0</td>\n",
       "      <td>29.0</td>\n",
       "      <td>had not been drinking</td>\n",
       "      <td>G</td>\n",
       "      <td>los angeles</td>\n",
       "      <td>0.0</td>\n",
       "      <td>clear</td>\n",
       "      <td>dry</td>\n",
       "      <td>normal</td>\n",
       "      <td>daylight</td>\n",
       "      <td>11.0</td>\n",
       "      <td>sedan</td>\n",
       "      <td>auto</td>\n",
       "      <td>4</td>\n",
       "      <td>5</td>\n",
       "      <td>5</td>\n",
       "      <td>spring</td>\n",
       "    </tr>\n",
       "    <tr>\n",
       "      <th>9</th>\n",
       "      <td>1</td>\n",
       "      <td>20.0</td>\n",
       "      <td>had not been drinking</td>\n",
       "      <td>G</td>\n",
       "      <td>los angeles</td>\n",
       "      <td>0.0</td>\n",
       "      <td>clear</td>\n",
       "      <td>dry</td>\n",
       "      <td>normal</td>\n",
       "      <td>daylight</td>\n",
       "      <td>15.0</td>\n",
       "      <td>sedan</td>\n",
       "      <td>manual</td>\n",
       "      <td>3</td>\n",
       "      <td>6</td>\n",
       "      <td>6</td>\n",
       "      <td>winter</td>\n",
       "    </tr>\n",
       "  </tbody>\n",
       "</table>\n",
       "</div>"
      ],
      "text/plain": [
       "   at_fault  insurance_premium                      party_sobriety  \\\n",
       "0         1               61.0               had not been drinking   \n",
       "1         0               46.0               had not been drinking   \n",
       "2         1               38.0  had been drinking, under influence   \n",
       "3         1               43.0               had not been drinking   \n",
       "4         1               38.0  had been drinking, under influence   \n",
       "5         1               22.0               had not been drinking   \n",
       "6         1               30.0               had not been drinking   \n",
       "7         1               26.0               had not been drinking   \n",
       "8         0               29.0               had not been drinking   \n",
       "9         1               20.0               had not been drinking   \n",
       "\n",
       "  party_drug_physical county_location intersection weather_1 road_surface  \\\n",
       "0                   G          orange          0.0     clear          dry   \n",
       "1                   G     los angeles          0.0     clear          dry   \n",
       "2                   G       san mateo          0.0     clear          dry   \n",
       "3                   G  san bernardino          0.0     clear          dry   \n",
       "4                   G          nevada          0.0     clear          dry   \n",
       "5                   G          solano          0.0    cloudy          dry   \n",
       "6                   G     san joaquin          0.0       fog          dry   \n",
       "7                   G   santa barbara          0.0     clear          dry   \n",
       "8                   G     los angeles          0.0     clear          dry   \n",
       "9                   G     los angeles          0.0     clear          dry   \n",
       "\n",
       "  road_condition_1                    lighting collision_time vehicle_type  \\\n",
       "0      obstruction                    daylight            9.0        sedan   \n",
       "1           normal                    daylight           17.0        sedan   \n",
       "2            other  dark with no street lights            0.0        sedan   \n",
       "3           normal     dark with street lights           22.0        sedan   \n",
       "4           normal  dark with no street lights            0.0        sedan   \n",
       "5           normal                    daylight           15.0        sedan   \n",
       "6           normal  dark with no street lights            3.0        sedan   \n",
       "7           normal                dusk or dawn           17.0        sedan   \n",
       "8           normal                    daylight           11.0        sedan   \n",
       "9           normal                    daylight           15.0        sedan   \n",
       "\n",
       "  vehicle_transmission  vehicle_age day_of_week month  season  \n",
       "0               manual            9           5     5  winter  \n",
       "1                 auto            2           6     6  spring  \n",
       "2                 auto            5           1     1  spring  \n",
       "3                 auto            8           3     3  spring  \n",
       "4                 auto            6           5     5  spring  \n",
       "5               manual            3           0     0  winter  \n",
       "6               manual            3           6     6  winter  \n",
       "7               manual            4           0     0  winter  \n",
       "8                 auto            4           5     5  spring  \n",
       "9               manual            3           6     6  winter  "
      ]
     },
     "execution_count": 105,
     "metadata": {},
     "output_type": "execute_result"
    }
   ],
   "source": [
    "data_work.head(10)"
   ]
  },
  {
   "cell_type": "markdown",
   "id": "0c0e696f-33e0-46ee-b4d3-5638caa8df65",
   "metadata": {},
   "source": [
    "С этой датой буду работать"
   ]
  },
  {
   "cell_type": "code",
   "execution_count": 106,
   "id": "5fb284e9-5042-4bb3-bfe3-9875d4911496",
   "metadata": {},
   "outputs": [],
   "source": [
    "df_work = data_work.copy()"
   ]
  },
  {
   "cell_type": "code",
   "execution_count": 107,
   "id": "09e53a5e",
   "metadata": {},
   "outputs": [],
   "source": [
    "profile_3 = ProfileReport(df_work, title=\"Profiling Report\")"
   ]
  },
  {
   "cell_type": "code",
   "execution_count": 109,
   "id": "a5e94dc5-9d39-484c-9a62-1167babc349f",
   "metadata": {},
   "outputs": [],
   "source": [
    "del data_work"
   ]
  },
  {
   "cell_type": "code",
   "execution_count": 110,
   "id": "02cb0b4a-94cc-4fe9-bd4d-48ac0483353f",
   "metadata": {},
   "outputs": [],
   "source": [
    "X = df_work.drop(columns='at_fault')\n",
    "y = df_work['at_fault']"
   ]
  },
  {
   "cell_type": "markdown",
   "id": "4e100c62-dbfe-4ab8-b72e-dedcd83a362f",
   "metadata": {},
   "source": [
    "Разделение выборки на целевой признак и признаки (y и Х соответственно)"
   ]
  },
  {
   "cell_type": "code",
   "execution_count": 111,
   "id": "fea9e0bd-4d53-4193-b74c-761c3beac20d",
   "metadata": {},
   "outputs": [
    {
     "data": {
      "text/html": [
       "<div>\n",
       "<style scoped>\n",
       "    .dataframe tbody tr th:only-of-type {\n",
       "        vertical-align: middle;\n",
       "    }\n",
       "\n",
       "    .dataframe tbody tr th {\n",
       "        vertical-align: top;\n",
       "    }\n",
       "\n",
       "    .dataframe thead th {\n",
       "        text-align: right;\n",
       "    }\n",
       "</style>\n",
       "<table border=\"1\" class=\"dataframe\">\n",
       "  <thead>\n",
       "    <tr style=\"text-align: right;\">\n",
       "      <th></th>\n",
       "      <th>insurance_premium</th>\n",
       "      <th>party_sobriety</th>\n",
       "      <th>party_drug_physical</th>\n",
       "      <th>county_location</th>\n",
       "      <th>intersection</th>\n",
       "      <th>weather_1</th>\n",
       "      <th>road_surface</th>\n",
       "      <th>road_condition_1</th>\n",
       "      <th>lighting</th>\n",
       "      <th>collision_time</th>\n",
       "      <th>vehicle_type</th>\n",
       "      <th>vehicle_transmission</th>\n",
       "      <th>vehicle_age</th>\n",
       "      <th>day_of_week</th>\n",
       "      <th>month</th>\n",
       "      <th>season</th>\n",
       "    </tr>\n",
       "  </thead>\n",
       "  <tbody>\n",
       "    <tr>\n",
       "      <th>0</th>\n",
       "      <td>61.0</td>\n",
       "      <td>had not been drinking</td>\n",
       "      <td>G</td>\n",
       "      <td>orange</td>\n",
       "      <td>0.0</td>\n",
       "      <td>clear</td>\n",
       "      <td>dry</td>\n",
       "      <td>obstruction</td>\n",
       "      <td>daylight</td>\n",
       "      <td>9.0</td>\n",
       "      <td>sedan</td>\n",
       "      <td>manual</td>\n",
       "      <td>9</td>\n",
       "      <td>5</td>\n",
       "      <td>5</td>\n",
       "      <td>winter</td>\n",
       "    </tr>\n",
       "    <tr>\n",
       "      <th>1</th>\n",
       "      <td>46.0</td>\n",
       "      <td>had not been drinking</td>\n",
       "      <td>G</td>\n",
       "      <td>los angeles</td>\n",
       "      <td>0.0</td>\n",
       "      <td>clear</td>\n",
       "      <td>dry</td>\n",
       "      <td>normal</td>\n",
       "      <td>daylight</td>\n",
       "      <td>17.0</td>\n",
       "      <td>sedan</td>\n",
       "      <td>auto</td>\n",
       "      <td>2</td>\n",
       "      <td>6</td>\n",
       "      <td>6</td>\n",
       "      <td>spring</td>\n",
       "    </tr>\n",
       "    <tr>\n",
       "      <th>2</th>\n",
       "      <td>38.0</td>\n",
       "      <td>had been drinking, under influence</td>\n",
       "      <td>G</td>\n",
       "      <td>san mateo</td>\n",
       "      <td>0.0</td>\n",
       "      <td>clear</td>\n",
       "      <td>dry</td>\n",
       "      <td>other</td>\n",
       "      <td>dark with no street lights</td>\n",
       "      <td>0.0</td>\n",
       "      <td>sedan</td>\n",
       "      <td>auto</td>\n",
       "      <td>5</td>\n",
       "      <td>1</td>\n",
       "      <td>1</td>\n",
       "      <td>spring</td>\n",
       "    </tr>\n",
       "    <tr>\n",
       "      <th>3</th>\n",
       "      <td>43.0</td>\n",
       "      <td>had not been drinking</td>\n",
       "      <td>G</td>\n",
       "      <td>san bernardino</td>\n",
       "      <td>0.0</td>\n",
       "      <td>clear</td>\n",
       "      <td>dry</td>\n",
       "      <td>normal</td>\n",
       "      <td>dark with street lights</td>\n",
       "      <td>22.0</td>\n",
       "      <td>sedan</td>\n",
       "      <td>auto</td>\n",
       "      <td>8</td>\n",
       "      <td>3</td>\n",
       "      <td>3</td>\n",
       "      <td>spring</td>\n",
       "    </tr>\n",
       "    <tr>\n",
       "      <th>4</th>\n",
       "      <td>38.0</td>\n",
       "      <td>had been drinking, under influence</td>\n",
       "      <td>G</td>\n",
       "      <td>nevada</td>\n",
       "      <td>0.0</td>\n",
       "      <td>clear</td>\n",
       "      <td>dry</td>\n",
       "      <td>normal</td>\n",
       "      <td>dark with no street lights</td>\n",
       "      <td>0.0</td>\n",
       "      <td>sedan</td>\n",
       "      <td>auto</td>\n",
       "      <td>6</td>\n",
       "      <td>5</td>\n",
       "      <td>5</td>\n",
       "      <td>spring</td>\n",
       "    </tr>\n",
       "  </tbody>\n",
       "</table>\n",
       "</div>"
      ],
      "text/plain": [
       "   insurance_premium                      party_sobriety party_drug_physical  \\\n",
       "0               61.0               had not been drinking                   G   \n",
       "1               46.0               had not been drinking                   G   \n",
       "2               38.0  had been drinking, under influence                   G   \n",
       "3               43.0               had not been drinking                   G   \n",
       "4               38.0  had been drinking, under influence                   G   \n",
       "\n",
       "  county_location intersection weather_1 road_surface road_condition_1  \\\n",
       "0          orange          0.0     clear          dry      obstruction   \n",
       "1     los angeles          0.0     clear          dry           normal   \n",
       "2       san mateo          0.0     clear          dry            other   \n",
       "3  san bernardino          0.0     clear          dry           normal   \n",
       "4          nevada          0.0     clear          dry           normal   \n",
       "\n",
       "                     lighting collision_time vehicle_type  \\\n",
       "0                    daylight            9.0        sedan   \n",
       "1                    daylight           17.0        sedan   \n",
       "2  dark with no street lights            0.0        sedan   \n",
       "3     dark with street lights           22.0        sedan   \n",
       "4  dark with no street lights            0.0        sedan   \n",
       "\n",
       "  vehicle_transmission  vehicle_age day_of_week month  season  \n",
       "0               manual            9           5     5  winter  \n",
       "1                 auto            2           6     6  spring  \n",
       "2                 auto            5           1     1  spring  \n",
       "3                 auto            8           3     3  spring  \n",
       "4                 auto            6           5     5  spring  "
      ]
     },
     "execution_count": 111,
     "metadata": {},
     "output_type": "execute_result"
    }
   ],
   "source": [
    "X.head(5)"
   ]
  },
  {
   "cell_type": "code",
   "execution_count": 112,
   "id": "6afcb4c8-ae50-4e52-8558-d4a6047a73e5",
   "metadata": {},
   "outputs": [
    {
     "data": {
      "text/plain": [
       "0    1\n",
       "1    0\n",
       "2    1\n",
       "3    1\n",
       "4    1\n",
       "Name: at_fault, dtype: int64"
      ]
     },
     "execution_count": 112,
     "metadata": {},
     "output_type": "execute_result"
    }
   ],
   "source": [
    "y.head(5)"
   ]
  },
  {
   "cell_type": "code",
   "execution_count": 114,
   "id": "5c730b80-a100-4e89-a72a-a0087db41426",
   "metadata": {},
   "outputs": [],
   "source": [
    "X_train, X_test, y_train, y_test = train_test_split(X, y, test_size=0.2, random_state=RANDOM_STATE)"
   ]
  },
  {
   "cell_type": "markdown",
   "id": "f4d53458-985d-473d-a2b4-62c5c8a8b1c0",
   "metadata": {},
   "source": [
    "Разделение выборки на train val test"
   ]
  },
  {
   "cell_type": "code",
   "execution_count": 115,
   "id": "1722a924-426b-4ceb-b191-0549d830fa9f",
   "metadata": {},
   "outputs": [],
   "source": [
    "cat_features = []\n",
    "num_features = []\n",
    "target='at_fault'"
   ]
  },
  {
   "cell_type": "code",
   "execution_count": 116,
   "id": "a134916a-4c56-4d99-89b5-d8387ed5f63f",
   "metadata": {},
   "outputs": [],
   "source": [
    "for column in df_work:\n",
    "    if df_work[column].dtype == 'object':\n",
    "        cat_features.append(column)\n",
    "    else:\n",
    "        num_features.append(column)\n",
    "        \n",
    "num_features.remove(target)"
   ]
  },
  {
   "cell_type": "code",
   "execution_count": 117,
   "id": "a86f900c-e0a5-4e15-8ed1-d76634d2464a",
   "metadata": {},
   "outputs": [
    {
     "data": {
      "text/plain": [
       "['party_sobriety',\n",
       " 'party_drug_physical',\n",
       " 'county_location',\n",
       " 'intersection',\n",
       " 'weather_1',\n",
       " 'road_surface',\n",
       " 'road_condition_1',\n",
       " 'lighting',\n",
       " 'collision_time',\n",
       " 'vehicle_type',\n",
       " 'vehicle_transmission',\n",
       " 'day_of_week',\n",
       " 'month',\n",
       " 'season']"
      ]
     },
     "execution_count": 117,
     "metadata": {},
     "output_type": "execute_result"
    }
   ],
   "source": [
    "cat_features"
   ]
  },
  {
   "cell_type": "code",
   "execution_count": 118,
   "id": "e561c815-4920-4ee8-9cfc-225d2a453477",
   "metadata": {},
   "outputs": [
    {
     "data": {
      "text/plain": [
       "['insurance_premium', 'vehicle_age']"
      ]
     },
     "execution_count": 118,
     "metadata": {},
     "output_type": "execute_result"
    }
   ],
   "source": [
    "num_features"
   ]
  },
  {
   "cell_type": "markdown",
   "id": "0ff1532d",
   "metadata": {},
   "source": [
    "Определение категориальный и количественные признаки"
   ]
  },
  {
   "cell_type": "code",
   "execution_count": 119,
   "id": "b70aac62-601a-4eb1-ba88-014b0ce55b74",
   "metadata": {},
   "outputs": [],
   "source": [
    "categorical_transformer = Pipeline(steps=[\n",
    "    ('encoder', OneHotEncoder(drop='first', sparse=False))\n",
    "])\n",
    "numeric_transformer = Pipeline(steps=[\n",
    "    ('scaler', MinMaxScaler()),\n",
    "])\n",
    "\n",
    "preprocessor = ColumnTransformer(\n",
    "    transformers=[\n",
    "        ('cat', categorical_transformer, cat_features),\n",
    "        ('num', numeric_transformer, num_features)\n",
    "    ])\n",
    "\n",
    "pipeline = Pipeline(steps=[('preprocessor', preprocessor)])"
   ]
  },
  {
   "cell_type": "markdown",
   "id": "bdb7cbb7",
   "metadata": {},
   "source": [
    "Обработчик данных. Для категориальных - ОНЕ, для численных - MinMax "
   ]
  },
  {
   "cell_type": "code",
   "execution_count": 121,
   "id": "636a3527-8760-4708-8d29-f7a40469780e",
   "metadata": {},
   "outputs": [],
   "source": [
    "X_train_transform = pipeline.fit_transform(X_train)\n",
    "X_test_transform = pipeline.transform(X_test)"
   ]
  },
  {
   "cell_type": "markdown",
   "id": "387e997f",
   "metadata": {},
   "source": [
    "Трансформирую выборки"
   ]
  },
  {
   "cell_type": "code",
   "execution_count": 122,
   "id": "09db67a4-f388-466f-9b4e-e38c0e2df659",
   "metadata": {},
   "outputs": [
    {
     "data": {
      "text/html": [
       "<div>\n",
       "<style scoped>\n",
       "    .dataframe tbody tr th:only-of-type {\n",
       "        vertical-align: middle;\n",
       "    }\n",
       "\n",
       "    .dataframe tbody tr th {\n",
       "        vertical-align: top;\n",
       "    }\n",
       "\n",
       "    .dataframe thead th {\n",
       "        text-align: right;\n",
       "    }\n",
       "</style>\n",
       "<table border=\"1\" class=\"dataframe\">\n",
       "  <thead>\n",
       "    <tr style=\"text-align: right;\">\n",
       "      <th></th>\n",
       "      <th>0</th>\n",
       "      <th>1</th>\n",
       "      <th>2</th>\n",
       "      <th>3</th>\n",
       "      <th>4</th>\n",
       "      <th>5</th>\n",
       "      <th>6</th>\n",
       "      <th>7</th>\n",
       "      <th>8</th>\n",
       "      <th>9</th>\n",
       "      <th>...</th>\n",
       "      <th>120</th>\n",
       "      <th>121</th>\n",
       "      <th>122</th>\n",
       "      <th>123</th>\n",
       "      <th>124</th>\n",
       "      <th>125</th>\n",
       "      <th>126</th>\n",
       "      <th>127</th>\n",
       "      <th>128</th>\n",
       "      <th>129</th>\n",
       "    </tr>\n",
       "  </thead>\n",
       "  <tbody>\n",
       "    <tr>\n",
       "      <th>0</th>\n",
       "      <td>0.0</td>\n",
       "      <td>0.0</td>\n",
       "      <td>1.0</td>\n",
       "      <td>0.0</td>\n",
       "      <td>0.0</td>\n",
       "      <td>0.0</td>\n",
       "      <td>0.0</td>\n",
       "      <td>0.0</td>\n",
       "      <td>0.0</td>\n",
       "      <td>0.0</td>\n",
       "      <td>...</td>\n",
       "      <td>0.0</td>\n",
       "      <td>0.0</td>\n",
       "      <td>0.0</td>\n",
       "      <td>0.0</td>\n",
       "      <td>0.0</td>\n",
       "      <td>0.0</td>\n",
       "      <td>0.0</td>\n",
       "      <td>1.0</td>\n",
       "      <td>0.504762</td>\n",
       "      <td>0.8</td>\n",
       "    </tr>\n",
       "    <tr>\n",
       "      <th>1</th>\n",
       "      <td>0.0</td>\n",
       "      <td>0.0</td>\n",
       "      <td>1.0</td>\n",
       "      <td>0.0</td>\n",
       "      <td>0.0</td>\n",
       "      <td>0.0</td>\n",
       "      <td>0.0</td>\n",
       "      <td>0.0</td>\n",
       "      <td>0.0</td>\n",
       "      <td>0.0</td>\n",
       "      <td>...</td>\n",
       "      <td>0.0</td>\n",
       "      <td>0.0</td>\n",
       "      <td>0.0</td>\n",
       "      <td>1.0</td>\n",
       "      <td>0.0</td>\n",
       "      <td>0.0</td>\n",
       "      <td>0.0</td>\n",
       "      <td>1.0</td>\n",
       "      <td>0.266667</td>\n",
       "      <td>0.4</td>\n",
       "    </tr>\n",
       "    <tr>\n",
       "      <th>2</th>\n",
       "      <td>0.0</td>\n",
       "      <td>0.0</td>\n",
       "      <td>0.0</td>\n",
       "      <td>0.0</td>\n",
       "      <td>1.0</td>\n",
       "      <td>0.0</td>\n",
       "      <td>1.0</td>\n",
       "      <td>0.0</td>\n",
       "      <td>0.0</td>\n",
       "      <td>0.0</td>\n",
       "      <td>...</td>\n",
       "      <td>0.0</td>\n",
       "      <td>0.0</td>\n",
       "      <td>0.0</td>\n",
       "      <td>1.0</td>\n",
       "      <td>0.0</td>\n",
       "      <td>0.0</td>\n",
       "      <td>1.0</td>\n",
       "      <td>0.0</td>\n",
       "      <td>0.485714</td>\n",
       "      <td>0.0</td>\n",
       "    </tr>\n",
       "    <tr>\n",
       "      <th>3</th>\n",
       "      <td>0.0</td>\n",
       "      <td>0.0</td>\n",
       "      <td>1.0</td>\n",
       "      <td>0.0</td>\n",
       "      <td>0.0</td>\n",
       "      <td>0.0</td>\n",
       "      <td>0.0</td>\n",
       "      <td>0.0</td>\n",
       "      <td>0.0</td>\n",
       "      <td>0.0</td>\n",
       "      <td>...</td>\n",
       "      <td>0.0</td>\n",
       "      <td>0.0</td>\n",
       "      <td>0.0</td>\n",
       "      <td>1.0</td>\n",
       "      <td>0.0</td>\n",
       "      <td>1.0</td>\n",
       "      <td>0.0</td>\n",
       "      <td>0.0</td>\n",
       "      <td>0.228571</td>\n",
       "      <td>0.5</td>\n",
       "    </tr>\n",
       "    <tr>\n",
       "      <th>4</th>\n",
       "      <td>0.0</td>\n",
       "      <td>0.0</td>\n",
       "      <td>1.0</td>\n",
       "      <td>0.0</td>\n",
       "      <td>0.0</td>\n",
       "      <td>0.0</td>\n",
       "      <td>0.0</td>\n",
       "      <td>0.0</td>\n",
       "      <td>0.0</td>\n",
       "      <td>0.0</td>\n",
       "      <td>...</td>\n",
       "      <td>1.0</td>\n",
       "      <td>0.0</td>\n",
       "      <td>0.0</td>\n",
       "      <td>0.0</td>\n",
       "      <td>0.0</td>\n",
       "      <td>1.0</td>\n",
       "      <td>0.0</td>\n",
       "      <td>0.0</td>\n",
       "      <td>0.533333</td>\n",
       "      <td>0.6</td>\n",
       "    </tr>\n",
       "  </tbody>\n",
       "</table>\n",
       "<p>5 rows × 130 columns</p>\n",
       "</div>"
      ],
      "text/plain": [
       "   0    1    2    3    4    5    6    7    8    9    ...  120  121  122  123  \\\n",
       "0  0.0  0.0  1.0  0.0  0.0  0.0  0.0  0.0  0.0  0.0  ...  0.0  0.0  0.0  0.0   \n",
       "1  0.0  0.0  1.0  0.0  0.0  0.0  0.0  0.0  0.0  0.0  ...  0.0  0.0  0.0  1.0   \n",
       "2  0.0  0.0  0.0  0.0  1.0  0.0  1.0  0.0  0.0  0.0  ...  0.0  0.0  0.0  1.0   \n",
       "3  0.0  0.0  1.0  0.0  0.0  0.0  0.0  0.0  0.0  0.0  ...  0.0  0.0  0.0  1.0   \n",
       "4  0.0  0.0  1.0  0.0  0.0  0.0  0.0  0.0  0.0  0.0  ...  1.0  0.0  0.0  0.0   \n",
       "\n",
       "   124  125  126  127       128  129  \n",
       "0  0.0  0.0  0.0  1.0  0.504762  0.8  \n",
       "1  0.0  0.0  0.0  1.0  0.266667  0.4  \n",
       "2  0.0  0.0  1.0  0.0  0.485714  0.0  \n",
       "3  0.0  1.0  0.0  0.0  0.228571  0.5  \n",
       "4  0.0  1.0  0.0  0.0  0.533333  0.6  \n",
       "\n",
       "[5 rows x 130 columns]"
      ]
     },
     "execution_count": 122,
     "metadata": {},
     "output_type": "execute_result"
    }
   ],
   "source": [
    "pd.DataFrame(X_train_transform).head(5)"
   ]
  },
  {
   "cell_type": "code",
   "execution_count": 124,
   "id": "7e140abb",
   "metadata": {},
   "outputs": [],
   "source": [
    "class_weights = compute_class_weight('balanced', classes=np.unique(y_train), y=y_train)"
   ]
  },
  {
   "cell_type": "code",
   "execution_count": 126,
   "id": "d711c9e6",
   "metadata": {},
   "outputs": [],
   "source": [
    "class_weights_dict = {i: weight for i, weight in enumerate(class_weights)}"
   ]
  },
  {
   "cell_type": "markdown",
   "id": "f37fc076",
   "metadata": {},
   "source": [
    "Взвешивание классов"
   ]
  },
  {
   "cell_type": "code",
   "execution_count": 127,
   "id": "254781ba",
   "metadata": {},
   "outputs": [],
   "source": [
    "linear_model = LogisticRegression(solver='lbfgs', \n",
    "                                  max_iter=1500, \n",
    "                                  penalty='l2', \n",
    "                                  random_state=RANDOM_STATE, \n",
    "                                  class_weight=class_weights_dict)"
   ]
  },
  {
   "cell_type": "markdown",
   "id": "a11a8573",
   "metadata": {},
   "source": [
    "Определяю модель линейной классификации"
   ]
  },
  {
   "cell_type": "code",
   "execution_count": 128,
   "id": "4842b640",
   "metadata": {},
   "outputs": [],
   "source": [
    "param_grid_linear = {'C': [10]}\n",
    "grid_search_linear = GridSearchCV(estimator=linear_model, param_grid=param_grid_linear, cv=5, scoring='f1')"
   ]
  },
  {
   "cell_type": "markdown",
   "id": "3969fe8d",
   "metadata": {},
   "source": [
    "Для поиска лучше модели воспользуюсь гридом. Тут я уже подобрал наиболее качественную модель по F1 метрике."
   ]
  },
  {
   "cell_type": "code",
   "execution_count": 129,
   "id": "b6663169",
   "metadata": {},
   "outputs": [
    {
     "name": "stdout",
     "output_type": "stream",
     "text": [
      "CPU times: user 1min 21s, sys: 46.3 s, total: 2min 7s\n",
      "Wall time: 2min 7s\n"
     ]
    },
    {
     "data": {
      "text/plain": [
       "GridSearchCV(cv=5,\n",
       "             estimator=LogisticRegression(class_weight={0: 1.0068006496142916,\n",
       "                                                        1: 0.9932906068495895},\n",
       "                                          max_iter=1500, random_state=42),\n",
       "             param_grid={'C': [10]}, scoring='f1')"
      ]
     },
     "execution_count": 129,
     "metadata": {},
     "output_type": "execute_result"
    }
   ],
   "source": [
    "%%time\n",
    "\n",
    "grid_search_linear.fit(X_train_transform, y_train)"
   ]
  },
  {
   "cell_type": "code",
   "execution_count": 130,
   "id": "a3062b63",
   "metadata": {},
   "outputs": [],
   "source": [
    "best_model_linear = grid_search_linear.best_estimator_\n",
    "best_params_linear = grid_search_linear.best_params_\n",
    "f1_score_best_model = grid_search_linear.best_score_"
   ]
  },
  {
   "cell_type": "code",
   "execution_count": 131,
   "id": "7e86c701",
   "metadata": {},
   "outputs": [
    {
     "data": {
      "text/plain": [
       "{'C': 10}"
      ]
     },
     "execution_count": 131,
     "metadata": {},
     "output_type": "execute_result"
    }
   ],
   "source": [
    "best_params_linear"
   ]
  },
  {
   "cell_type": "code",
   "execution_count": 132,
   "id": "026dd30c",
   "metadata": {},
   "outputs": [
    {
     "name": "stdout",
     "output_type": "stream",
     "text": [
      "F1 Score: 0.6053308362726155\n"
     ]
    }
   ],
   "source": [
    "print(\"F1 Score:\", f1_score_best_model)"
   ]
  },
  {
   "cell_type": "markdown",
   "id": "72aa10fd",
   "metadata": {},
   "source": [
    "F1 метрика 0,60 на лучшей модели. Неплохо!"
   ]
  },
  {
   "cell_type": "code",
   "execution_count": 133,
   "id": "e9eb0429",
   "metadata": {},
   "outputs": [],
   "source": [
    "catboost_model = CatBoostClassifier()"
   ]
  },
  {
   "cell_type": "markdown",
   "id": "8685f342",
   "metadata": {},
   "source": [
    "Определю модель градиентного бустинга."
   ]
  },
  {
   "cell_type": "code",
   "execution_count": 134,
   "id": "ecf9c470",
   "metadata": {},
   "outputs": [],
   "source": [
    "param_grid_catboost = {\n",
    "    'learning_rate': [0.1],\n",
    "    'depth': [4],\n",
    "    'l2_leaf_reg': [3]\n",
    "}\n",
    "\n",
    "grid_search_catboost = GridSearchCV(estimator=catboost_model, \n",
    "                                    param_grid=param_grid_catboost, \n",
    "                                    cv=5, \n",
    "                                    scoring='f1')"
   ]
  },
  {
   "cell_type": "markdown",
   "id": "04ca488a",
   "metadata": {},
   "source": [
    "Поиск лучшей модели также буду осуществлять при помощи грида. Сейчас в гриде выведены параметры для лучшей модели"
   ]
  },
  {
   "cell_type": "code",
   "execution_count": 135,
   "id": "8232e39f",
   "metadata": {},
   "outputs": [
    {
     "name": "stdout",
     "output_type": "stream",
     "text": [
      "0:\tlearn: 0.6765939\ttest: 0.6772208\tbest: 0.6772208 (0)\ttotal: 55.5ms\tremaining: 55.4s\n",
      "35:\tlearn: 0.5977769\ttest: 0.6030782\tbest: 0.6030782 (35)\ttotal: 335ms\tremaining: 8.96s\n",
      "70:\tlearn: 0.5923471\ttest: 0.5997265\tbest: 0.5997265 (70)\ttotal: 609ms\tremaining: 7.97s\n",
      "105:\tlearn: 0.5893285\ttest: 0.5988531\tbest: 0.5988531 (105)\ttotal: 1.01s\tremaining: 8.51s\n",
      "140:\tlearn: 0.5862439\ttest: 0.5985381\tbest: 0.5985080 (131)\ttotal: 1.32s\tremaining: 8.06s\n",
      "175:\tlearn: 0.5837807\ttest: 0.5985656\tbest: 0.5984921 (167)\ttotal: 1.6s\tremaining: 7.51s\n",
      "210:\tlearn: 0.5813350\ttest: 0.5986471\tbest: 0.5984228 (195)\ttotal: 1.88s\tremaining: 7.02s\n",
      "245:\tlearn: 0.5793110\ttest: 0.5985652\tbest: 0.5984228 (195)\ttotal: 2.14s\tremaining: 6.56s\n",
      "280:\tlearn: 0.5774192\ttest: 0.5988134\tbest: 0.5984228 (195)\ttotal: 2.41s\tremaining: 6.16s\n",
      "315:\tlearn: 0.5756338\ttest: 0.5990802\tbest: 0.5984228 (195)\ttotal: 2.67s\tremaining: 5.79s\n",
      "350:\tlearn: 0.5741095\ttest: 0.5995564\tbest: 0.5984228 (195)\ttotal: 2.96s\tremaining: 5.47s\n",
      "385:\tlearn: 0.5726305\ttest: 0.5998184\tbest: 0.5984228 (195)\ttotal: 3.24s\tremaining: 5.16s\n",
      "420:\tlearn: 0.5711569\ttest: 0.6001219\tbest: 0.5984228 (195)\ttotal: 3.52s\tremaining: 4.84s\n",
      "455:\tlearn: 0.5697262\ttest: 0.6004062\tbest: 0.5984228 (195)\ttotal: 3.79s\tremaining: 4.52s\n",
      "490:\tlearn: 0.5681836\ttest: 0.6008188\tbest: 0.5984228 (195)\ttotal: 4.06s\tremaining: 4.21s\n",
      "525:\tlearn: 0.5669064\ttest: 0.6011145\tbest: 0.5984228 (195)\ttotal: 4.33s\tremaining: 3.9s\n",
      "560:\tlearn: 0.5654936\ttest: 0.6015624\tbest: 0.5984228 (195)\ttotal: 4.61s\tremaining: 3.61s\n",
      "595:\tlearn: 0.5643046\ttest: 0.6020867\tbest: 0.5984228 (195)\ttotal: 4.88s\tremaining: 3.31s\n",
      "630:\tlearn: 0.5631006\ttest: 0.6024471\tbest: 0.5984228 (195)\ttotal: 5.14s\tremaining: 3.01s\n",
      "665:\tlearn: 0.5617879\ttest: 0.6027324\tbest: 0.5984228 (195)\ttotal: 5.42s\tremaining: 2.72s\n",
      "700:\tlearn: 0.5606189\ttest: 0.6031341\tbest: 0.5984228 (195)\ttotal: 5.71s\tremaining: 2.43s\n",
      "735:\tlearn: 0.5595555\ttest: 0.6034024\tbest: 0.5984228 (195)\ttotal: 5.98s\tremaining: 2.15s\n",
      "770:\tlearn: 0.5585443\ttest: 0.6036635\tbest: 0.5984228 (195)\ttotal: 6.26s\tremaining: 1.86s\n",
      "805:\tlearn: 0.5575110\ttest: 0.6040207\tbest: 0.5984228 (195)\ttotal: 6.53s\tremaining: 1.57s\n",
      "840:\tlearn: 0.5565926\ttest: 0.6043548\tbest: 0.5984228 (195)\ttotal: 6.81s\tremaining: 1.29s\n",
      "875:\tlearn: 0.5556796\ttest: 0.6046885\tbest: 0.5984228 (195)\ttotal: 7.08s\tremaining: 1s\n",
      "910:\tlearn: 0.5548020\ttest: 0.6049492\tbest: 0.5984228 (195)\ttotal: 7.36s\tremaining: 719ms\n",
      "945:\tlearn: 0.5538591\ttest: 0.6050131\tbest: 0.5984228 (195)\ttotal: 7.63s\tremaining: 435ms\n",
      "980:\tlearn: 0.5528949\ttest: 0.6052674\tbest: 0.5984228 (195)\ttotal: 7.9s\tremaining: 153ms\n",
      "999:\tlearn: 0.5524399\ttest: 0.6053592\tbest: 0.5984228 (195)\ttotal: 8.04s\tremaining: 0us\n",
      "\n",
      "bestTest = 0.5984228176\n",
      "bestIteration = 195\n",
      "\n",
      "Shrink model to first 196 iterations.\n",
      "0:\tlearn: 0.6771197\ttest: 0.6773798\tbest: 0.6773798 (0)\ttotal: 6.98ms\tremaining: 6.97s\n",
      "35:\tlearn: 0.6005639\ttest: 0.6040440\tbest: 0.6040440 (35)\ttotal: 264ms\tremaining: 7.07s\n",
      "70:\tlearn: 0.5935807\ttest: 0.5995977\tbest: 0.5995977 (70)\ttotal: 539ms\tremaining: 7.05s\n",
      "105:\tlearn: 0.5903759\ttest: 0.5989092\tbest: 0.5988777 (101)\ttotal: 804ms\tremaining: 6.78s\n",
      "140:\tlearn: 0.5874468\ttest: 0.5986966\tbest: 0.5986557 (135)\ttotal: 1.07s\tremaining: 6.54s\n",
      "175:\tlearn: 0.5849481\ttest: 0.5987895\tbest: 0.5986290 (143)\ttotal: 1.34s\tremaining: 6.29s\n",
      "210:\tlearn: 0.5824986\ttest: 0.5988905\tbest: 0.5986290 (143)\ttotal: 1.61s\tremaining: 6.02s\n",
      "245:\tlearn: 0.5801757\ttest: 0.5991243\tbest: 0.5986290 (143)\ttotal: 1.9s\tremaining: 5.83s\n",
      "280:\tlearn: 0.5781033\ttest: 0.5994295\tbest: 0.5986290 (143)\ttotal: 2.19s\tremaining: 5.59s\n",
      "315:\tlearn: 0.5760781\ttest: 0.5996771\tbest: 0.5986290 (143)\ttotal: 2.47s\tremaining: 5.34s\n",
      "350:\tlearn: 0.5742109\ttest: 0.6000032\tbest: 0.5986290 (143)\ttotal: 2.74s\tremaining: 5.07s\n",
      "385:\tlearn: 0.5723612\ttest: 0.6002232\tbest: 0.5986290 (143)\ttotal: 3.01s\tremaining: 4.79s\n",
      "420:\tlearn: 0.5707588\ttest: 0.6004723\tbest: 0.5986290 (143)\ttotal: 3.27s\tremaining: 4.5s\n",
      "455:\tlearn: 0.5692412\ttest: 0.6007190\tbest: 0.5986290 (143)\ttotal: 3.54s\tremaining: 4.23s\n",
      "490:\tlearn: 0.5678993\ttest: 0.6011389\tbest: 0.5986290 (143)\ttotal: 3.82s\tremaining: 3.96s\n",
      "525:\tlearn: 0.5663947\ttest: 0.6015780\tbest: 0.5986290 (143)\ttotal: 4.09s\tremaining: 3.69s\n",
      "560:\tlearn: 0.5651026\ttest: 0.6019333\tbest: 0.5986290 (143)\ttotal: 4.36s\tremaining: 3.41s\n",
      "595:\tlearn: 0.5638730\ttest: 0.6022022\tbest: 0.5986290 (143)\ttotal: 4.64s\tremaining: 3.14s\n",
      "630:\tlearn: 0.5627909\ttest: 0.6025404\tbest: 0.5986290 (143)\ttotal: 4.92s\tremaining: 2.88s\n",
      "665:\tlearn: 0.5617307\ttest: 0.6028448\tbest: 0.5986290 (143)\ttotal: 5.21s\tremaining: 2.61s\n",
      "700:\tlearn: 0.5606444\ttest: 0.6034167\tbest: 0.5986290 (143)\ttotal: 5.47s\tremaining: 2.33s\n",
      "735:\tlearn: 0.5594617\ttest: 0.6038053\tbest: 0.5986290 (143)\ttotal: 5.76s\tremaining: 2.07s\n",
      "770:\tlearn: 0.5582371\ttest: 0.6041152\tbest: 0.5986290 (143)\ttotal: 6.04s\tremaining: 1.79s\n",
      "805:\tlearn: 0.5571367\ttest: 0.6043213\tbest: 0.5986290 (143)\ttotal: 6.31s\tremaining: 1.52s\n",
      "840:\tlearn: 0.5560191\ttest: 0.6045162\tbest: 0.5986290 (143)\ttotal: 6.58s\tremaining: 1.24s\n",
      "875:\tlearn: 0.5549322\ttest: 0.6045416\tbest: 0.5986290 (143)\ttotal: 6.85s\tremaining: 969ms\n",
      "910:\tlearn: 0.5539124\ttest: 0.6048874\tbest: 0.5986290 (143)\ttotal: 7.12s\tremaining: 695ms\n",
      "945:\tlearn: 0.5528377\ttest: 0.6051974\tbest: 0.5986290 (143)\ttotal: 7.38s\tremaining: 421ms\n",
      "980:\tlearn: 0.5519211\ttest: 0.6052947\tbest: 0.5986290 (143)\ttotal: 7.66s\tremaining: 148ms\n",
      "999:\tlearn: 0.5513831\ttest: 0.6054625\tbest: 0.5986290 (143)\ttotal: 7.8s\tremaining: 0us\n",
      "\n",
      "bestTest = 0.5986289754\n",
      "bestIteration = 143\n",
      "\n",
      "Shrink model to first 144 iterations.\n",
      "0:\tlearn: 0.6769887\ttest: 0.6774311\tbest: 0.6774311 (0)\ttotal: 7.29ms\tremaining: 7.28s\n",
      "35:\tlearn: 0.5988378\ttest: 0.6029897\tbest: 0.6029897 (35)\ttotal: 266ms\tremaining: 7.13s\n",
      "70:\tlearn: 0.5922354\ttest: 0.5994508\tbest: 0.5994508 (70)\ttotal: 530ms\tremaining: 6.93s\n",
      "105:\tlearn: 0.5889023\ttest: 0.5986396\tbest: 0.5986396 (105)\ttotal: 794ms\tremaining: 6.7s\n",
      "140:\tlearn: 0.5860662\ttest: 0.5987249\tbest: 0.5985247 (109)\ttotal: 1.07s\tremaining: 6.53s\n",
      "175:\tlearn: 0.5835084\ttest: 0.5986587\tbest: 0.5984849 (157)\ttotal: 1.35s\tremaining: 6.33s\n",
      "210:\tlearn: 0.5812872\ttest: 0.5988879\tbest: 0.5984849 (157)\ttotal: 1.63s\tremaining: 6.1s\n",
      "245:\tlearn: 0.5790677\ttest: 0.5991227\tbest: 0.5984849 (157)\ttotal: 1.9s\tremaining: 5.82s\n",
      "280:\tlearn: 0.5771831\ttest: 0.5990866\tbest: 0.5984849 (157)\ttotal: 2.17s\tremaining: 5.55s\n",
      "315:\tlearn: 0.5755504\ttest: 0.5993682\tbest: 0.5984849 (157)\ttotal: 2.44s\tremaining: 5.28s\n",
      "350:\tlearn: 0.5738094\ttest: 0.5999400\tbest: 0.5984849 (157)\ttotal: 2.72s\tremaining: 5.03s\n",
      "385:\tlearn: 0.5721532\ttest: 0.6002168\tbest: 0.5984849 (157)\ttotal: 2.99s\tremaining: 4.76s\n",
      "420:\tlearn: 0.5706908\ttest: 0.6004646\tbest: 0.5984849 (157)\ttotal: 3.26s\tremaining: 4.49s\n",
      "455:\tlearn: 0.5693435\ttest: 0.6008810\tbest: 0.5984849 (157)\ttotal: 3.55s\tremaining: 4.23s\n",
      "490:\tlearn: 0.5679448\ttest: 0.6014150\tbest: 0.5984849 (157)\ttotal: 3.81s\tremaining: 3.96s\n",
      "525:\tlearn: 0.5666699\ttest: 0.6017429\tbest: 0.5984849 (157)\ttotal: 4.1s\tremaining: 3.7s\n",
      "560:\tlearn: 0.5654315\ttest: 0.6019464\tbest: 0.5984849 (157)\ttotal: 4.39s\tremaining: 3.43s\n",
      "595:\tlearn: 0.5640589\ttest: 0.6021815\tbest: 0.5984849 (157)\ttotal: 4.66s\tremaining: 3.16s\n",
      "630:\tlearn: 0.5626722\ttest: 0.6025355\tbest: 0.5984849 (157)\ttotal: 4.93s\tremaining: 2.88s\n",
      "665:\tlearn: 0.5615518\ttest: 0.6029569\tbest: 0.5984849 (157)\ttotal: 5.2s\tremaining: 2.61s\n",
      "700:\tlearn: 0.5605765\ttest: 0.6032010\tbest: 0.5984849 (157)\ttotal: 5.49s\tremaining: 2.34s\n",
      "735:\tlearn: 0.5594539\ttest: 0.6035652\tbest: 0.5984849 (157)\ttotal: 5.75s\tremaining: 2.06s\n",
      "770:\tlearn: 0.5584173\ttest: 0.6038958\tbest: 0.5984849 (157)\ttotal: 6.02s\tremaining: 1.79s\n",
      "805:\tlearn: 0.5573107\ttest: 0.6040515\tbest: 0.5984849 (157)\ttotal: 6.29s\tremaining: 1.51s\n",
      "840:\tlearn: 0.5562002\ttest: 0.6042826\tbest: 0.5984849 (157)\ttotal: 6.56s\tremaining: 1.24s\n",
      "875:\tlearn: 0.5552241\ttest: 0.6044306\tbest: 0.5984849 (157)\ttotal: 6.83s\tremaining: 967ms\n",
      "910:\tlearn: 0.5541583\ttest: 0.6047889\tbest: 0.5984849 (157)\ttotal: 7.1s\tremaining: 694ms\n",
      "945:\tlearn: 0.5531428\ttest: 0.6048267\tbest: 0.5984849 (157)\ttotal: 7.36s\tremaining: 420ms\n",
      "980:\tlearn: 0.5522601\ttest: 0.6050660\tbest: 0.5984849 (157)\ttotal: 7.63s\tremaining: 148ms\n",
      "999:\tlearn: 0.5516808\ttest: 0.6051863\tbest: 0.5984849 (157)\ttotal: 7.77s\tremaining: 0us\n",
      "\n",
      "bestTest = 0.5984848878\n",
      "bestIteration = 157\n",
      "\n",
      "Shrink model to first 158 iterations.\n",
      "0:\tlearn: 0.6769450\ttest: 0.6773467\tbest: 0.6773467 (0)\ttotal: 7.12ms\tremaining: 7.12s\n",
      "35:\tlearn: 0.5983995\ttest: 0.6026115\tbest: 0.6026115 (35)\ttotal: 287ms\tremaining: 7.69s\n",
      "70:\tlearn: 0.5932090\ttest: 0.5999112\tbest: 0.5999112 (70)\ttotal: 563ms\tremaining: 7.37s\n",
      "105:\tlearn: 0.5900070\ttest: 0.5993472\tbest: 0.5993303 (102)\ttotal: 845ms\tremaining: 7.13s\n",
      "140:\tlearn: 0.5866827\ttest: 0.5987438\tbest: 0.5986114 (133)\ttotal: 1.11s\tremaining: 6.8s\n",
      "175:\tlearn: 0.5840294\ttest: 0.5986667\tbest: 0.5986022 (171)\ttotal: 1.39s\tremaining: 6.49s\n",
      "210:\tlearn: 0.5817299\ttest: 0.5991373\tbest: 0.5986022 (171)\ttotal: 1.66s\tremaining: 6.2s\n",
      "245:\tlearn: 0.5797186\ttest: 0.5992793\tbest: 0.5986022 (171)\ttotal: 1.94s\tremaining: 5.93s\n",
      "280:\tlearn: 0.5777167\ttest: 0.5995295\tbest: 0.5986022 (171)\ttotal: 2.21s\tremaining: 5.65s\n",
      "315:\tlearn: 0.5758131\ttest: 0.5997891\tbest: 0.5986022 (171)\ttotal: 2.49s\tremaining: 5.38s\n",
      "350:\tlearn: 0.5739430\ttest: 0.6000984\tbest: 0.5986022 (171)\ttotal: 2.76s\tremaining: 5.1s\n",
      "385:\tlearn: 0.5722751\ttest: 0.6003544\tbest: 0.5986022 (171)\ttotal: 3.03s\tremaining: 4.83s\n",
      "420:\tlearn: 0.5707316\ttest: 0.6004487\tbest: 0.5986022 (171)\ttotal: 3.31s\tremaining: 4.56s\n",
      "455:\tlearn: 0.5691775\ttest: 0.6007694\tbest: 0.5986022 (171)\ttotal: 3.59s\tremaining: 4.28s\n",
      "490:\tlearn: 0.5677521\ttest: 0.6010253\tbest: 0.5986022 (171)\ttotal: 3.87s\tremaining: 4.01s\n",
      "525:\tlearn: 0.5663950\ttest: 0.6014420\tbest: 0.5986022 (171)\ttotal: 4.13s\tremaining: 3.73s\n",
      "560:\tlearn: 0.5651191\ttest: 0.6019022\tbest: 0.5986022 (171)\ttotal: 4.4s\tremaining: 3.45s\n",
      "595:\tlearn: 0.5639481\ttest: 0.6022296\tbest: 0.5986022 (171)\ttotal: 4.69s\tremaining: 3.18s\n",
      "630:\tlearn: 0.5628912\ttest: 0.6024507\tbest: 0.5986022 (171)\ttotal: 4.96s\tremaining: 2.9s\n",
      "665:\tlearn: 0.5618090\ttest: 0.6026566\tbest: 0.5986022 (171)\ttotal: 5.22s\tremaining: 2.62s\n",
      "700:\tlearn: 0.5605403\ttest: 0.6028232\tbest: 0.5986022 (171)\ttotal: 5.49s\tremaining: 2.34s\n",
      "735:\tlearn: 0.5596036\ttest: 0.6032220\tbest: 0.5986022 (171)\ttotal: 5.76s\tremaining: 2.07s\n",
      "770:\tlearn: 0.5586159\ttest: 0.6034931\tbest: 0.5986022 (171)\ttotal: 6.04s\tremaining: 1.79s\n",
      "805:\tlearn: 0.5574443\ttest: 0.6038460\tbest: 0.5986022 (171)\ttotal: 6.31s\tremaining: 1.52s\n",
      "840:\tlearn: 0.5564470\ttest: 0.6040113\tbest: 0.5986022 (171)\ttotal: 6.58s\tremaining: 1.24s\n",
      "875:\tlearn: 0.5553356\ttest: 0.6042059\tbest: 0.5986022 (171)\ttotal: 6.85s\tremaining: 969ms\n",
      "910:\tlearn: 0.5542808\ttest: 0.6045167\tbest: 0.5986022 (171)\ttotal: 7.12s\tremaining: 696ms\n",
      "945:\tlearn: 0.5533164\ttest: 0.6047668\tbest: 0.5986022 (171)\ttotal: 7.4s\tremaining: 422ms\n",
      "980:\tlearn: 0.5525481\ttest: 0.6047471\tbest: 0.5986022 (171)\ttotal: 7.66s\tremaining: 148ms\n",
      "999:\tlearn: 0.5520547\ttest: 0.6048411\tbest: 0.5986022 (171)\ttotal: 7.81s\tremaining: 0us\n",
      "\n",
      "bestTest = 0.5986022098\n",
      "bestIteration = 171\n",
      "\n",
      "Shrink model to first 172 iterations.\n",
      "0:\tlearn: 0.6768799\ttest: 0.6773881\tbest: 0.6773881 (0)\ttotal: 7.26ms\tremaining: 7.25s\n",
      "35:\tlearn: 0.5995557\ttest: 0.6034865\tbest: 0.6034865 (35)\ttotal: 268ms\tremaining: 7.19s\n",
      "70:\tlearn: 0.5932401\ttest: 0.5994605\tbest: 0.5994605 (70)\ttotal: 541ms\tremaining: 7.08s\n",
      "105:\tlearn: 0.5901727\ttest: 0.5984120\tbest: 0.5984120 (105)\ttotal: 813ms\tremaining: 6.85s\n",
      "140:\tlearn: 0.5872024\ttest: 0.5984677\tbest: 0.5983478 (136)\ttotal: 1.09s\tremaining: 6.66s\n",
      "175:\tlearn: 0.5845680\ttest: 0.5986502\tbest: 0.5983478 (136)\ttotal: 1.37s\tremaining: 6.41s\n",
      "210:\tlearn: 0.5823924\ttest: 0.5988682\tbest: 0.5983478 (136)\ttotal: 1.66s\tremaining: 6.21s\n",
      "245:\tlearn: 0.5803430\ttest: 0.5992685\tbest: 0.5983478 (136)\ttotal: 1.95s\tremaining: 5.99s\n",
      "280:\tlearn: 0.5781779\ttest: 0.5998987\tbest: 0.5983478 (136)\ttotal: 2.23s\tremaining: 5.71s\n",
      "315:\tlearn: 0.5762708\ttest: 0.6003133\tbest: 0.5983478 (136)\ttotal: 2.51s\tremaining: 5.43s\n",
      "350:\tlearn: 0.5745527\ttest: 0.6007324\tbest: 0.5983478 (136)\ttotal: 2.79s\tremaining: 5.16s\n",
      "385:\tlearn: 0.5728353\ttest: 0.6008417\tbest: 0.5983478 (136)\ttotal: 3.06s\tremaining: 4.87s\n",
      "420:\tlearn: 0.5712816\ttest: 0.6012864\tbest: 0.5983478 (136)\ttotal: 3.33s\tremaining: 4.58s\n",
      "455:\tlearn: 0.5698880\ttest: 0.6020689\tbest: 0.5983478 (136)\ttotal: 3.6s\tremaining: 4.29s\n",
      "490:\tlearn: 0.5684126\ttest: 0.6022799\tbest: 0.5983478 (136)\ttotal: 3.87s\tremaining: 4.01s\n",
      "525:\tlearn: 0.5672057\ttest: 0.6025174\tbest: 0.5983478 (136)\ttotal: 4.15s\tremaining: 3.74s\n",
      "560:\tlearn: 0.5660097\ttest: 0.6027423\tbest: 0.5983478 (136)\ttotal: 4.42s\tremaining: 3.46s\n",
      "595:\tlearn: 0.5647778\ttest: 0.6030249\tbest: 0.5983478 (136)\ttotal: 4.7s\tremaining: 3.18s\n",
      "630:\tlearn: 0.5635579\ttest: 0.6032217\tbest: 0.5983478 (136)\ttotal: 4.97s\tremaining: 2.91s\n",
      "665:\tlearn: 0.5624680\ttest: 0.6034949\tbest: 0.5983478 (136)\ttotal: 5.25s\tremaining: 2.63s\n",
      "700:\tlearn: 0.5613800\ttest: 0.6039456\tbest: 0.5983478 (136)\ttotal: 5.52s\tremaining: 2.35s\n",
      "735:\tlearn: 0.5602407\ttest: 0.6043582\tbest: 0.5983478 (136)\ttotal: 5.79s\tremaining: 2.08s\n",
      "770:\tlearn: 0.5589941\ttest: 0.6046177\tbest: 0.5983478 (136)\ttotal: 6.07s\tremaining: 1.8s\n",
      "805:\tlearn: 0.5579039\ttest: 0.6048892\tbest: 0.5983478 (136)\ttotal: 6.34s\tremaining: 1.53s\n",
      "840:\tlearn: 0.5568511\ttest: 0.6052745\tbest: 0.5983478 (136)\ttotal: 6.64s\tremaining: 1.25s\n",
      "875:\tlearn: 0.5559856\ttest: 0.6057060\tbest: 0.5983478 (136)\ttotal: 6.92s\tremaining: 979ms\n",
      "910:\tlearn: 0.5549846\ttest: 0.6061115\tbest: 0.5983478 (136)\ttotal: 7.19s\tremaining: 703ms\n",
      "945:\tlearn: 0.5541864\ttest: 0.6064128\tbest: 0.5983478 (136)\ttotal: 7.48s\tremaining: 427ms\n",
      "980:\tlearn: 0.5530699\ttest: 0.6066085\tbest: 0.5983478 (136)\ttotal: 7.75s\tremaining: 150ms\n",
      "999:\tlearn: 0.5526683\ttest: 0.6067739\tbest: 0.5983478 (136)\ttotal: 7.89s\tremaining: 0us\n",
      "\n",
      "bestTest = 0.5983477618\n",
      "bestIteration = 136\n",
      "\n",
      "Shrink model to first 137 iterations.\n",
      "0:\tlearn: 0.6768642\ttest: 0.6773393\tbest: 0.6773393 (0)\ttotal: 10.1ms\tremaining: 10.1s\n",
      "35:\tlearn: 0.5989237\ttest: 0.6026329\tbest: 0.6026329 (35)\ttotal: 336ms\tremaining: 9.01s\n",
      "70:\tlearn: 0.5932419\ttest: 0.5992045\tbest: 0.5992045 (70)\ttotal: 674ms\tremaining: 8.81s\n",
      "105:\tlearn: 0.5906939\ttest: 0.5985258\tbest: 0.5984884 (96)\ttotal: 1s\tremaining: 8.44s\n",
      "140:\tlearn: 0.5882751\ttest: 0.5983772\tbest: 0.5982570 (129)\ttotal: 1.32s\tremaining: 8.07s\n",
      "175:\tlearn: 0.5858885\ttest: 0.5983572\tbest: 0.5982490 (145)\ttotal: 1.67s\tremaining: 7.8s\n",
      "210:\tlearn: 0.5838672\ttest: 0.5984997\tbest: 0.5982490 (145)\ttotal: 2s\tremaining: 7.47s\n",
      "245:\tlearn: 0.5819960\ttest: 0.5986720\tbest: 0.5982490 (145)\ttotal: 2.32s\tremaining: 7.12s\n",
      "280:\tlearn: 0.5802940\ttest: 0.5990507\tbest: 0.5982490 (145)\ttotal: 2.66s\tremaining: 6.81s\n",
      "315:\tlearn: 0.5787740\ttest: 0.5993314\tbest: 0.5982490 (145)\ttotal: 3s\tremaining: 6.5s\n",
      "350:\tlearn: 0.5772773\ttest: 0.5997484\tbest: 0.5982490 (145)\ttotal: 3.34s\tremaining: 6.17s\n",
      "385:\tlearn: 0.5759121\ttest: 0.6001981\tbest: 0.5982490 (145)\ttotal: 3.67s\tremaining: 5.83s\n",
      "420:\tlearn: 0.5747334\ttest: 0.6004935\tbest: 0.5982490 (145)\ttotal: 4s\tremaining: 5.5s\n",
      "455:\tlearn: 0.5735468\ttest: 0.6007288\tbest: 0.5982490 (145)\ttotal: 4.34s\tremaining: 5.18s\n",
      "490:\tlearn: 0.5722567\ttest: 0.6008254\tbest: 0.5982490 (145)\ttotal: 4.68s\tremaining: 4.85s\n",
      "525:\tlearn: 0.5709021\ttest: 0.6011959\tbest: 0.5982490 (145)\ttotal: 5.01s\tremaining: 4.51s\n",
      "560:\tlearn: 0.5697474\ttest: 0.6013809\tbest: 0.5982490 (145)\ttotal: 5.34s\tremaining: 4.18s\n",
      "595:\tlearn: 0.5686592\ttest: 0.6017887\tbest: 0.5982490 (145)\ttotal: 5.68s\tremaining: 3.85s\n",
      "630:\tlearn: 0.5676867\ttest: 0.6022339\tbest: 0.5982490 (145)\ttotal: 6s\tremaining: 3.51s\n",
      "665:\tlearn: 0.5666427\ttest: 0.6025986\tbest: 0.5982490 (145)\ttotal: 6.33s\tremaining: 3.18s\n",
      "700:\tlearn: 0.5656886\ttest: 0.6027016\tbest: 0.5982490 (145)\ttotal: 6.67s\tremaining: 2.84s\n",
      "735:\tlearn: 0.5648117\ttest: 0.6029174\tbest: 0.5982490 (145)\ttotal: 7s\tremaining: 2.51s\n",
      "770:\tlearn: 0.5636789\ttest: 0.6031063\tbest: 0.5982490 (145)\ttotal: 7.33s\tremaining: 2.18s\n",
      "805:\tlearn: 0.5627655\ttest: 0.6032574\tbest: 0.5982490 (145)\ttotal: 7.67s\tremaining: 1.85s\n",
      "840:\tlearn: 0.5619650\ttest: 0.6034521\tbest: 0.5982490 (145)\ttotal: 8.01s\tremaining: 1.51s\n",
      "875:\tlearn: 0.5612491\ttest: 0.6036855\tbest: 0.5982490 (145)\ttotal: 8.35s\tremaining: 1.18s\n",
      "910:\tlearn: 0.5605342\ttest: 0.6040423\tbest: 0.5982490 (145)\ttotal: 8.67s\tremaining: 847ms\n",
      "945:\tlearn: 0.5597933\ttest: 0.6042625\tbest: 0.5982490 (145)\ttotal: 9s\tremaining: 514ms\n",
      "980:\tlearn: 0.5588603\ttest: 0.6044694\tbest: 0.5982490 (145)\ttotal: 9.33s\tremaining: 181ms\n",
      "999:\tlearn: 0.5583895\ttest: 0.6045906\tbest: 0.5982490 (145)\ttotal: 9.51s\tremaining: 0us\n",
      "\n",
      "bestTest = 0.5982490301\n",
      "bestIteration = 145\n",
      "\n",
      "Shrink model to first 146 iterations.\n",
      "CPU times: user 1min, sys: 0 ns, total: 1min\n",
      "Wall time: 1min 7s\n"
     ]
    },
    {
     "data": {
      "text/plain": [
       "GridSearchCV(cv=5,\n",
       "             estimator=<catboost.core.CatBoostClassifier object at 0x7f72f35ac130>,\n",
       "             param_grid={'depth': [4], 'l2_leaf_reg': [3],\n",
       "                         'learning_rate': [0.1]},\n",
       "             scoring='f1')"
      ]
     },
     "execution_count": 135,
     "metadata": {},
     "output_type": "execute_result"
    }
   ],
   "source": [
    "%%time\n",
    "\n",
    "grid_search_catboost.fit(X_train_transform, y_train, eval_set=(X_test_transform, y_test), verbose=35)"
   ]
  },
  {
   "cell_type": "code",
   "execution_count": 137,
   "id": "9a8e788f",
   "metadata": {},
   "outputs": [],
   "source": [
    "best_model_catboost = grid_search_catboost.best_estimator_\n",
    "best_params_catboost = grid_search_catboost.best_params_\n",
    "f1_score_best_model_catboost = grid_search_catboost.best_score_"
   ]
  },
  {
   "cell_type": "code",
   "execution_count": 140,
   "id": "5d92038e",
   "metadata": {},
   "outputs": [
    {
     "data": {
      "text/plain": [
       "{'depth': 4, 'l2_leaf_reg': 3, 'learning_rate': 0.1}"
      ]
     },
     "execution_count": 140,
     "metadata": {},
     "output_type": "execute_result"
    }
   ],
   "source": [
    "best_params_catboost"
   ]
  },
  {
   "cell_type": "code",
   "execution_count": 141,
   "id": "96e86b3b",
   "metadata": {},
   "outputs": [
    {
     "name": "stdout",
     "output_type": "stream",
     "text": [
      "F1 Score: 0.6357506884949138\n"
     ]
    }
   ],
   "source": [
    "print(\"F1 Score:\", f1_score_best_model_catboost)"
   ]
  },
  {
   "cell_type": "markdown",
   "id": "58717414",
   "metadata": {},
   "source": [
    "F1 метрика 0,65. Точность выше чем у линейной классификации"
   ]
  },
  {
   "cell_type": "code",
   "execution_count": 142,
   "id": "72077a67-9c55-46ad-80e3-2f55ba619d73",
   "metadata": {},
   "outputs": [],
   "source": [
    "X_train_torch = torch.FloatTensor(X_train_transform)\n",
    "X_test_torch = torch.FloatTensor(X_test_transform)\n",
    "y_train_torch = torch.FloatTensor(y_train.values)\n",
    "y_test_torch = torch.FloatTensor(y_test.values)"
   ]
  },
  {
   "cell_type": "markdown",
   "id": "c7d3e975-fd13-47a9-a515-539cde3d73d0",
   "metadata": {},
   "source": [
    "Нормализация данных прошла успешно"
   ]
  },
  {
   "cell_type": "code",
   "execution_count": 143,
   "id": "fdc2dc78-3a53-49cf-835d-472c74e84706",
   "metadata": {},
   "outputs": [
    {
     "data": {
      "text/plain": [
       "torch.Size([9919, 130])"
      ]
     },
     "execution_count": 143,
     "metadata": {},
     "output_type": "execute_result"
    }
   ],
   "source": [
    "X_test_torch.shape"
   ]
  },
  {
   "cell_type": "code",
   "execution_count": 144,
   "id": "e84f97fd-e71a-4f3c-8168-b9c649c7b841",
   "metadata": {},
   "outputs": [],
   "source": [
    "loss = nn.BCELoss()"
   ]
  },
  {
   "cell_type": "code",
   "execution_count": 145,
   "id": "54aa7153-30da-4da2-8050-d2cb1ddc615b",
   "metadata": {},
   "outputs": [],
   "source": [
    "n_in_neurons = X_train_transform.shape[1]\n",
    "n_out_neurons = 1"
   ]
  },
  {
   "cell_type": "code",
   "execution_count": 146,
   "id": "4abda86e-fd2e-46a3-98dd-c8e2bce6c7a0",
   "metadata": {},
   "outputs": [],
   "source": [
    "class one_layer_net(nn.Module):\n",
    "    def __init__(self, n_in_neurons, n_hiden_neurons_1, n_out_neurons):\n",
    "        super(one_layer_net, self).__init__()\n",
    "        \n",
    "        self.fc1=nn.Linear(n_in_neurons, n_hiden_neurons_1)\n",
    "        self.sigm = nn.Sigmoid()\n",
    "        self.fc2=nn.Linear(n_hiden_neurons_1, n_out_neurons)\n",
    "        \n",
    "    \n",
    "    def forward(self, x):\n",
    "        x = self.fc1(x)\n",
    "        x = self.sigm(x)\n",
    "        x = self.fc2(x)\n",
    "                \n",
    "        return x"
   ]
  },
  {
   "cell_type": "markdown",
   "id": "2ff1ade7",
   "metadata": {},
   "source": [
    "Определю класс модели одноуровневой полносвязной нейронной сети "
   ]
  },
  {
   "cell_type": "code",
   "execution_count": 147,
   "id": "b4bde0aa-818a-4f25-af46-a11a2c92df69",
   "metadata": {},
   "outputs": [],
   "source": [
    "def search_best(model, num_epochs, hidden_layers=1):\n",
    "    loss = nn.BCELoss() \n",
    "    \n",
    "    for epoch in range(num_epochs):\n",
    "        preds = model(X_train_torch).squeeze()\n",
    "        preds = torch.sigmoid(preds)\n",
    "        optimizer.zero_grad()\n",
    "        loss_value = loss(preds, y_train_torch)  \n",
    "        loss_value.backward()\n",
    "        optimizer.step()\n",
    "        \n",
    "    model.eval()\n",
    "    with torch.no_grad():  \n",
    "        predictions = model(X_test_torch).squeeze()\n",
    "        rounded_preds = torch.round(predictions)  \n",
    "        f1 = f1_score(y_test.values, rounded_preds, average='weighted')\n",
    "        \n",
    "    if hidden_layers == 1:\n",
    "        print(f'h1: {n_hidden_neurons_1} | F1-score: {f1}')\n",
    "    elif hidden_layers == 2:\n",
    "        print(f'h1: {n_hidden_neurons_1} | h2: {n_hidden_neurons_2} | F1-score: {f1}')\n",
    "    else:\n",
    "        print(f'h1: {n_hidden_neurons_1} | h2: {n_hidden_neurons_2} | h3: {n_hidden_neurons_3} | F1-score: {f1}')\n",
    "        \n",
    "    return f1\n"
   ]
  },
  {
   "cell_type": "markdown",
   "id": "6aa63ac3",
   "metadata": {},
   "source": [
    "Функция определения лучшей нейронной сети"
   ]
  },
  {
   "cell_type": "code",
   "execution_count": 148,
   "id": "44096a4c-f5ef-4d78-82ec-02ad6a98f9e8",
   "metadata": {},
   "outputs": [],
   "source": [
    "num_epochs = 1000"
   ]
  },
  {
   "cell_type": "code",
   "execution_count": 149,
   "id": "a8b3c0f0-bcff-400b-a240-16c493965043",
   "metadata": {},
   "outputs": [],
   "source": [
    "h1 = list(range(1, 3, 1))\n",
    "h2 = list(range(1, 101, 10))\n",
    "h3 = list(range(1, 101, 10))\n",
    "\n",
    "sample = 15"
   ]
  },
  {
   "cell_type": "code",
   "execution_count": 150,
   "id": "15cae225-1705-4d1c-b4ba-20909a47f951",
   "metadata": {},
   "outputs": [],
   "source": [
    "best_f1 = 0\n",
    "best_model = None\n",
    "best_learning_rate = None"
   ]
  },
  {
   "cell_type": "code",
   "execution_count": 151,
   "id": "7fcfca1e-449a-4bb1-aadc-598035be9f0a",
   "metadata": {},
   "outputs": [],
   "source": [
    "learning_rate_1 = [0.5, 0.001]"
   ]
  },
  {
   "cell_type": "markdown",
   "id": "a6255bba",
   "metadata": {},
   "source": [
    "Параметры для расчетов"
   ]
  },
  {
   "cell_type": "code",
   "execution_count": 152,
   "id": "665f6058-edd5-48a1-adc7-6e692e07f0d0",
   "metadata": {
    "tags": []
   },
   "outputs": [
    {
     "name": "stdout",
     "output_type": "stream",
     "text": [
      "h1: 1 | F1-score: 0.3309277246389027\n",
      "h1: 2 | F1-score: 0.3309277246389027\n",
      "h1: 1 | F1-score: 0.46692202428858487\n",
      "h1: 2 | F1-score: 0.5402243730230076\n",
      "best_model: one_layer_net(\n",
      "  (fc1): Linear(in_features=130, out_features=2, bias=True)\n",
      "  (sigm): Sigmoid()\n",
      "  (fc2): Linear(in_features=2, out_features=1, bias=True)\n",
      ") | f1: 0.5402243730230076 | learning rate: 0.001\n",
      "CPU times: user 1min 9s, sys: 0 ns, total: 1min 9s\n",
      "Wall time: 1min 9s\n"
     ]
    }
   ],
   "source": [
    "%%time\n",
    "\n",
    "for learning_rate in learning_rate_1:\n",
    "    for n_hidden_neurons_1  in h1:\n",
    "        \n",
    "        simple_one_layer_model = one_layer_net(n_in_neurons, n_hidden_neurons_1, n_out_neurons)\n",
    "    \n",
    "        optimizer = torch.optim.Adam(simple_one_layer_model.parameters(), lr=learning_rate)\n",
    "    \n",
    "        f1 = search_best(simple_one_layer_model, num_epochs, hidden_layers=1)\n",
    "    \n",
    "        if f1 > best_f1:\n",
    "            best_f1 = f1\n",
    "            best_model = simple_one_layer_model\n",
    "            best_learning_rate = learning_rate\n",
    "    \n",
    "print(f'best_model: {best_model} | f1: {best_f1} | learning rate: {best_learning_rate}')"
   ]
  },
  {
   "cell_type": "markdown",
   "id": "e97ee455",
   "metadata": {},
   "source": [
    "В результате поика лучшей модели, получилось достичь F1 метрики 0,54 при 2 нейроне в скрытом слое"
   ]
  },
  {
   "cell_type": "code",
   "execution_count": 153,
   "id": "210cec30",
   "metadata": {},
   "outputs": [],
   "source": [
    "class one_layer_net_batch(nn.Module):\n",
    "    def __init__(self, n_in_neurons, n_hiden_neurons_1, n_out_neurons):\n",
    "        super(one_layer_net_batch, self).__init__()\n",
    "        \n",
    "        self.fc1=nn.Linear(n_in_neurons, n_hiden_neurons_1)\n",
    "        self.bn1 = nn.BatchNorm1d(n_hiden_neurons_1)\n",
    "        self.sigm = nn.Sigmoid()\n",
    "        self.fc2=nn.Linear(n_hiden_neurons_1, n_out_neurons)  \n",
    "    \n",
    "    def forward(self, x):\n",
    "        x = self.fc1(x)\n",
    "        x = self.bn1(x)\n",
    "        x = self.sigm(x)\n",
    "        x = self.fc2(x)\n",
    "                \n",
    "        return x"
   ]
  },
  {
   "cell_type": "markdown",
   "id": "b1d6309d",
   "metadata": {},
   "source": [
    "Класс для нейронной сети с нормализацией батчами"
   ]
  },
  {
   "cell_type": "code",
   "execution_count": 154,
   "id": "a719d52d",
   "metadata": {},
   "outputs": [],
   "source": [
    "batch_values = [X_train.shape[0]/100]"
   ]
  },
  {
   "cell_type": "code",
   "execution_count": 155,
   "id": "4d4db9f9",
   "metadata": {},
   "outputs": [],
   "source": [
    "best_f1_batch = 0\n",
    "best_model_batch = None"
   ]
  },
  {
   "cell_type": "code",
   "execution_count": 156,
   "id": "ff07bcfe",
   "metadata": {},
   "outputs": [],
   "source": [
    "n_hidden_neurons_1_one_layers = 2"
   ]
  },
  {
   "cell_type": "code",
   "execution_count": 157,
   "id": "b0443516",
   "metadata": {},
   "outputs": [
    {
     "name": "stdout",
     "output_type": "stream",
     "text": [
      "batch_size: 396.76, f1: 0.3356061756447809\n",
      "best_model: one_layer_net_batch(\n",
      "  (fc1): Linear(in_features=130, out_features=2, bias=True)\n",
      "  (bn1): BatchNorm1d(2, eps=1e-05, momentum=0.1, affine=True, track_running_stats=True)\n",
      "  (sigm): Sigmoid()\n",
      "  (fc2): Linear(in_features=2, out_features=1, bias=True)\n",
      ") | f1: 0.3356061756447809\n",
      "CPU times: user 9min 18s, sys: 189 ms, total: 9min 18s\n",
      "Wall time: 9min 25s\n"
     ]
    }
   ],
   "source": [
    "%%time\n",
    "\n",
    "for batch_size in batch_values:\n",
    "\n",
    "    model = one_layer_net_batch(n_in_neurons, n_hidden_neurons_1_one_layers, n_out_neurons)\n",
    "\n",
    "    optimizer = torch.optim.Adam(model.parameters(), lr=0.005)\n",
    "        \n",
    "    num_batches = math.ceil(len(X_train_torch) / batch_size)\n",
    "        \n",
    "    for epoch in range(num_epochs):\n",
    "        order = np.random.permutation(len(X_train_torch))\n",
    "\n",
    "        for batch_idx in range(num_batches):\n",
    "            start_index = int(batch_idx * batch_size)\n",
    "            optimizer.zero_grad()\n",
    "\n",
    "            batch_indexes = order[start_index:start_index+int(batch_size)]\n",
    "            X_batch = X_train_torch[batch_indexes]\n",
    "            y_batch = y_train_torch[batch_indexes]\n",
    "\n",
    "            preds = model(X_batch).squeeze()\n",
    "            preds = torch.sigmoid(preds)\n",
    "    \n",
    "            loss_value = loss(preds, y_batch)\n",
    "            loss_value.backward()\n",
    "    \n",
    "            optimizer.step()\n",
    "                        \n",
    "    model.eval()\n",
    "    with torch.no_grad():\n",
    "        \n",
    "        predictions = model(X_test_torch).squeeze()\n",
    "        rounded_preds = torch.round(predictions).detach().cpu().numpy()  \n",
    "        f1 = f1_score(y_test_torch.cpu().numpy(), rounded_preds, average='weighted')\n",
    "        \n",
    "        print(f'batch_size: {batch_size}, f1: {f1}')\n",
    "    \n",
    "    if f1 > best_f1_batch:\n",
    "        best_f1_batch = f1\n",
    "        best_model_batch = model\n",
    "    \n",
    "print(f'best_model: {best_model_batch} | f1: {best_f1_batch}')"
   ]
  },
  {
   "cell_type": "markdown",
   "id": "2840df81",
   "metadata": {},
   "source": [
    "Наилучший результат F1 0,34, при размере батча 397 эл."
   ]
  },
  {
   "cell_type": "code",
   "execution_count": 158,
   "id": "a735f33e",
   "metadata": {},
   "outputs": [],
   "source": [
    "y_pred_neuron = best_model(X_test_torch).squeeze()\n",
    "threshold = 0.5\n",
    "y_pred_neuron = np.where(y_pred_neuron >= threshold, 1, 0)"
   ]
  },
  {
   "cell_type": "code",
   "execution_count": 159,
   "id": "0c16db3f",
   "metadata": {},
   "outputs": [
    {
     "data": {
      "text/plain": [
       "array([0, 0, 0, ..., 0, 0, 0])"
      ]
     },
     "execution_count": 159,
     "metadata": {},
     "output_type": "execute_result"
    }
   ],
   "source": [
    "y_pred_neuron"
   ]
  },
  {
   "cell_type": "code",
   "execution_count": 160,
   "id": "1515b4d5",
   "metadata": {},
   "outputs": [],
   "source": [
    "y_pred_neuron_batch = best_model_batch(X_test_torch).squeeze()\n",
    "y_pred_neuron_batch = np.where(y_pred_neuron_batch >= threshold, 1, 0)"
   ]
  },
  {
   "cell_type": "code",
   "execution_count": 161,
   "id": "dad313f4",
   "metadata": {},
   "outputs": [
    {
     "data": {
      "text/plain": [
       "array([0, 0, 0, ..., 1, 0, 1])"
      ]
     },
     "execution_count": 161,
     "metadata": {},
     "output_type": "execute_result"
    }
   ],
   "source": [
    "y_pred_neuron_batch"
   ]
  },
  {
   "cell_type": "markdown",
   "id": "7ed5cd2f",
   "metadata": {},
   "source": [
    "Предсказания на нейронной сети и нейронной сeти с нормализацией батчами"
   ]
  },
  {
   "cell_type": "code",
   "execution_count": 165,
   "id": "a38b4148",
   "metadata": {},
   "outputs": [],
   "source": [
    "y_pred_linear = best_model_linear.predict(X_test_transform)"
   ]
  },
  {
   "cell_type": "code",
   "execution_count": 179,
   "id": "6e43d92a",
   "metadata": {},
   "outputs": [],
   "source": [
    "y_pred_catboost = best_model_catboost.predict(X_test_transform)"
   ]
  },
  {
   "cell_type": "code",
   "execution_count": 180,
   "id": "e9ae2f14",
   "metadata": {},
   "outputs": [],
   "source": [
    "cm_linear = confusion_matrix(y_test, y_pred_linear)\n",
    "precision_linear = precision_score(y_test, y_pred_linear)\n",
    "recall_linear = recall_score(y_test, y_pred_linear)"
   ]
  },
  {
   "cell_type": "code",
   "execution_count": 181,
   "id": "9563b3c3",
   "metadata": {},
   "outputs": [
    {
     "data": {
      "image/png": "[encoded data removed]",
      "text/plain": [
       "<Figure size 288x288 with 1 Axes>"
      ]
     },
     "metadata": {
      "needs_background": "light"
     },
     "output_type": "display_data"
    }
   ],
   "source": [
    "plt.figure(figsize=(4, 4))\n",
    "sns.heatmap(cm_linear, annot=True, cmap=\"Blues\", fmt=\"d\", cbar=False)\n",
    "plt.xlabel('Предсказанные метки классов')\n",
    "plt.ylabel('Истинные метки классов')\n",
    "plt.title('Матрица ошибок линейной модели')\n",
    "plt.show()"
   ]
  },
  {
   "cell_type": "code",
   "execution_count": 182,
   "id": "352eb2b5",
   "metadata": {},
   "outputs": [
    {
     "data": {
      "image/png": "[encoded data removed]",
      "text/plain": [
       "<Figure size 288x288 with 1 Axes>"
      ]
     },
     "metadata": {
      "needs_background": "light"
     },
     "output_type": "display_data"
    }
   ],
   "source": [
    "plt.figure(figsize=(4, 4))\n",
    "plt.bar([\"Precision\", \"Recall\"], [precision_linear, recall_linear], color=['blue', 'green'])\n",
    "plt.xlabel('Метрика')\n",
    "plt.ylabel('Значение')\n",
    "plt.title('Precision и Recall линейной модели')\n",
    "plt.ylim(0, 1)\n",
    "plt.show()"
   ]
  },
  {
   "cell_type": "code",
   "execution_count": 183,
   "id": "2de90202",
   "metadata": {},
   "outputs": [
    {
     "data": {
      "text/plain": [
       "0.6906306773942382"
      ]
     },
     "execution_count": 183,
     "metadata": {},
     "output_type": "execute_result"
    }
   ],
   "source": [
    "precision_linear"
   ]
  },
  {
   "cell_type": "markdown",
   "id": "9dc4ee17",
   "metadata": {},
   "source": [
    "Значение точности для линейной модели"
   ]
  },
  {
   "cell_type": "code",
   "execution_count": 184,
   "id": "ab0b0977",
   "metadata": {},
   "outputs": [
    {
     "data": {
      "text/plain": [
       "0.5342300742822726"
      ]
     },
     "execution_count": 184,
     "metadata": {},
     "output_type": "execute_result"
    }
   ],
   "source": [
    "recall_linear"
   ]
  },
  {
   "cell_type": "markdown",
   "id": "8e544957",
   "metadata": {},
   "source": [
    "Значение полноты для линейной модели"
   ]
  },
  {
   "cell_type": "code",
   "execution_count": 185,
   "id": "8c655c47",
   "metadata": {},
   "outputs": [],
   "source": [
    "cm_catboost = confusion_matrix(y_test, y_pred_catboost)\n",
    "precision_catboost = precision_score(y_test, y_pred_catboost)\n",
    "recall_catboost = recall_score(y_test, y_pred_catboost)"
   ]
  },
  {
   "cell_type": "code",
   "execution_count": 186,
   "id": "67602939",
   "metadata": {},
   "outputs": [
    {
     "data": {
      "image/png": "[encoded data removed]",
      "text/plain": [
       "<Figure size 288x288 with 1 Axes>"
      ]
     },
     "metadata": {
      "needs_background": "light"
     },
     "output_type": "display_data"
    }
   ],
   "source": [
    "plt.figure(figsize=(4, 4))\n",
    "sns.heatmap(cm_catboost, annot=True, cmap=\"Blues\", fmt=\"d\", cbar=False)\n",
    "plt.xlabel('Предсказанные метки классов')\n",
    "plt.ylabel('Истинные метки классов')\n",
    "plt.title('Матрица ошибок градиентного бустинга')\n",
    "plt.show()"
   ]
  },
  {
   "cell_type": "code",
   "execution_count": 187,
   "id": "cd722adc",
   "metadata": {},
   "outputs": [
    {
     "data": {
      "image/png": "[encoded data removed]",
      "text/plain": [
       "<Figure size 288x288 with 1 Axes>"
      ]
     },
     "metadata": {
      "needs_background": "light"
     },
     "output_type": "display_data"
    }
   ],
   "source": [
    "plt.figure(figsize=(4, 4))\n",
    "plt.bar([\"Precision\", \"Recall\"], [precision_catboost, recall_catboost], color=['blue', 'green'])\n",
    "plt.xlabel('Метрика')\n",
    "plt.ylabel('Значение')\n",
    "plt.title('Precision и Recall градиентного бустинга')\n",
    "plt.ylim(0, 1)\n",
    "plt.show()"
   ]
  },
  {
   "cell_type": "code",
   "execution_count": 188,
   "id": "292b927e",
   "metadata": {},
   "outputs": [
    {
     "data": {
      "text/plain": [
       "0.6991988346686089"
      ]
     },
     "execution_count": 188,
     "metadata": {},
     "output_type": "execute_result"
    }
   ],
   "source": [
    "precision_catboost"
   ]
  },
  {
   "cell_type": "markdown",
   "id": "cc00784b",
   "metadata": {},
   "source": [
    "Значение точности для градиентного бустинга"
   ]
  },
  {
   "cell_type": "code",
   "execution_count": 189,
   "id": "3b473c26",
   "metadata": {},
   "outputs": [
    {
     "data": {
      "text/plain": [
       "0.578197149166834"
      ]
     },
     "execution_count": 189,
     "metadata": {},
     "output_type": "execute_result"
    }
   ],
   "source": [
    "recall_catboost"
   ]
  },
  {
   "cell_type": "markdown",
   "id": "ed9546fb",
   "metadata": {},
   "source": [
    "Значение полноты для градиентного бустинга"
   ]
  },
  {
   "cell_type": "code",
   "execution_count": 190,
   "id": "acdbe77a",
   "metadata": {},
   "outputs": [],
   "source": [
    "cm_neuron = confusion_matrix(y_test, y_pred_neuron)\n",
    "precision_neuron = precision_score(y_test, y_pred_neuron)\n",
    "recall_neuron = recall_score(y_test, y_pred_neuron)"
   ]
  },
  {
   "cell_type": "code",
   "execution_count": 191,
   "id": "844327ae",
   "metadata": {},
   "outputs": [
    {
     "data": {
      "image/png": "[encoded data removed]",
      "text/plain": [
       "<Figure size 288x288 with 1 Axes>"
      ]
     },
     "metadata": {
      "needs_background": "light"
     },
     "output_type": "display_data"
    }
   ],
   "source": [
    "plt.figure(figsize=(4, 4))\n",
    "sns.heatmap(cm_neuron, annot=True, cmap=\"Blues\", fmt=\"d\", cbar=False)\n",
    "plt.xlabel('Предсказанные метки классов')\n",
    "plt.ylabel('Истинные метки классов')\n",
    "plt.title('Матрица ошибок нейронной сети')\n",
    "plt.show()"
   ]
  },
  {
   "cell_type": "code",
   "execution_count": 192,
   "id": "17a38c39",
   "metadata": {},
   "outputs": [
    {
     "data": {
      "image/png": "[encoded data removed]",
      "text/plain": [
       "<Figure size 288x288 with 1 Axes>"
      ]
     },
     "metadata": {
      "needs_background": "light"
     },
     "output_type": "display_data"
    }
   ],
   "source": [
    "plt.figure(figsize=(4, 4))\n",
    "plt.bar([\"Precision\", \"Recall\"], [precision_neuron, recall_neuron], color=['blue', 'green'])\n",
    "plt.xlabel('Метрика')\n",
    "plt.ylabel('Значение')\n",
    "plt.title('Precision и Recall нейронной сети')\n",
    "plt.ylim(0, 1)\n",
    "plt.show()"
   ]
  },
  {
   "cell_type": "code",
   "execution_count": 193,
   "id": "ecb43ca3",
   "metadata": {},
   "outputs": [
    {
     "data": {
      "text/plain": [
       "0.8438967136150235"
      ]
     },
     "execution_count": 193,
     "metadata": {},
     "output_type": "execute_result"
    }
   ],
   "source": [
    "precision_neuron"
   ]
  },
  {
   "cell_type": "markdown",
   "id": "041a402f",
   "metadata": {},
   "source": [
    "Значение точности для нейронной сети"
   ]
  },
  {
   "cell_type": "code",
   "execution_count": 194,
   "id": "c512cfd1",
   "metadata": {},
   "outputs": [
    {
     "data": {
      "text/plain": [
       "0.28869704878538444"
      ]
     },
     "execution_count": 194,
     "metadata": {},
     "output_type": "execute_result"
    }
   ],
   "source": [
    "recall_neuron"
   ]
  },
  {
   "cell_type": "markdown",
   "id": "42b3bc6d",
   "metadata": {},
   "source": [
    "Значение полноты для нейронной сети"
   ]
  },
  {
   "cell_type": "code",
   "execution_count": 195,
   "id": "57a24092",
   "metadata": {},
   "outputs": [],
   "source": [
    "cm_batch = confusion_matrix(y_test, y_pred_neuron_batch)\n",
    "precision_batch = precision_score(y_test, y_pred_neuron_batch)\n",
    "recall_batch = recall_score(y_test, y_pred_neuron_batch)"
   ]
  },
  {
   "cell_type": "code",
   "execution_count": 196,
   "id": "a6c66d83",
   "metadata": {},
   "outputs": [
    {
     "data": {
      "image/png": "[encoded data removed]",
      "text/plain": [
       "<Figure size 288x288 with 1 Axes>"
      ]
     },
     "metadata": {
      "needs_background": "light"
     },
     "output_type": "display_data"
    }
   ],
   "source": [
    "plt.figure(figsize=(4, 4))\n",
    "sns.heatmap(cm_batch, annot=True, cmap=\"Blues\", fmt=\"d\", cbar=False)\n",
    "plt.xlabel('Предсказанные метки классов')\n",
    "plt.ylabel('Истинные метки классов')\n",
    "plt.title('Матрица ошибок нейронной сети  (батчи)')\n",
    "plt.show()"
   ]
  },
  {
   "cell_type": "code",
   "execution_count": 197,
   "id": "f8c8ebcd",
   "metadata": {},
   "outputs": [
    {
     "data": {
      "image/png": "[encoded data removed]",
      "text/plain": [
       "<Figure size 288x288 with 1 Axes>"
      ]
     },
     "metadata": {
      "needs_background": "light"
     },
     "output_type": "display_data"
    }
   ],
   "source": [
    "plt.figure(figsize=(4, 4))\n",
    "plt.bar([\"Precision\", \"Recall\"], [precision_batch, recall_batch], color=['blue', 'green'])\n",
    "plt.xlabel('Метрика')\n",
    "plt.ylabel('Значение')\n",
    "plt.title('Precision и Recall нейронной сети')\n",
    "plt.ylim(0, 1)\n",
    "plt.show()"
   ]
  },
  {
   "cell_type": "code",
   "execution_count": 198,
   "id": "bcbc26fa",
   "metadata": {},
   "outputs": [
    {
     "data": {
      "text/plain": [
       "0.8118049615055604"
      ]
     },
     "execution_count": 198,
     "metadata": {},
     "output_type": "execute_result"
    }
   ],
   "source": [
    "precision_batch"
   ]
  },
  {
   "cell_type": "markdown",
   "id": "c695ee63",
   "metadata": {},
   "source": [
    "Значение точности для нейронной сети с батчами"
   ]
  },
  {
   "cell_type": "code",
   "execution_count": 199,
   "id": "dff27ce5",
   "metadata": {},
   "outputs": [
    {
     "data": {
      "text/plain": [
       "0.3810479823328649"
      ]
     },
     "execution_count": 199,
     "metadata": {},
     "output_type": "execute_result"
    }
   ],
   "source": [
    "recall_batch"
   ]
  },
  {
   "cell_type": "markdown",
   "id": "cef54118",
   "metadata": {},
   "source": [
    "Значение полноты для нейронной сети с батчам"
   ]
  },
  {
   "cell_type": "code",
   "execution_count": 200,
   "id": "5d779242",
   "metadata": {},
   "outputs": [],
   "source": [
    "coefficients = best_model_linear.coef_[0]"
   ]
  },
  {
   "cell_type": "code",
   "execution_count": 201,
   "id": "093d34c3",
   "metadata": {},
   "outputs": [],
   "source": [
    "feature_importance = np.abs(coefficients)"
   ]
  },
  {
   "cell_type": "code",
   "execution_count": 202,
   "id": "d54ecbd1",
   "metadata": {},
   "outputs": [
    {
     "data": {
      "text/plain": [
       "(130,)"
      ]
     },
     "execution_count": 202,
     "metadata": {},
     "output_type": "execute_result"
    }
   ],
   "source": [
    "feature_importance.shape"
   ]
  },
  {
   "cell_type": "code",
   "execution_count": 203,
   "id": "8d6a9ba1",
   "metadata": {},
   "outputs": [
    {
     "name": "stdout",
     "output_type": "stream",
     "text": [
      "Важность признаков:\n",
      "insurance_premium: 0.6490512704356942\n",
      "party_sobriety: 1.4369625957548025\n",
      "party_drug_physical: 1.8379276770091084\n",
      "county_location: 0.508542032554443\n",
      "intersection: 1.5633945543316092\n",
      "weather_1: 0.31481916819369454\n",
      "road_surface: 0.3932201312863488\n",
      "road_condition_1: 2.847560011129284\n",
      "lighting: 1.7075587689487335\n",
      "collision_time: 0.32746568848274055\n",
      "vehicle_type: 0.8180614522806566\n",
      "vehicle_transmission: 0.28261262630139045\n",
      "vehicle_age: 0.2673476262936111\n",
      "day_of_week: 0.1955192123287005\n",
      "month: 0.1048285948291153\n",
      "season: 0.7648133906895734\n"
     ]
    }
   ],
   "source": [
    "print(\"Важность признаков:\")\n",
    "for feature, importance in zip(X.columns, feature_importance):\n",
    "    print(f\"{feature}: {importance}\")"
   ]
  },
  {
   "cell_type": "markdown",
   "id": "437f495c",
   "metadata": {},
   "source": [
    "Одним из наиболее важных признаков является road_condition_1 (дорожное состояние)"
   ]
  },
  {
   "cell_type": "code",
   "execution_count": 205,
   "id": "3ae496db",
   "metadata": {},
   "outputs": [
    {
     "data": {
      "text/html": [
       "<div>\n",
       "<style scoped>\n",
       "    .dataframe tbody tr th:only-of-type {\n",
       "        vertical-align: middle;\n",
       "    }\n",
       "\n",
       "    .dataframe tbody tr th {\n",
       "        vertical-align: top;\n",
       "    }\n",
       "\n",
       "    .dataframe thead th {\n",
       "        text-align: right;\n",
       "    }\n",
       "</style>\n",
       "<table border=\"1\" class=\"dataframe\">\n",
       "  <thead>\n",
       "    <tr style=\"text-align: right;\">\n",
       "      <th></th>\n",
       "      <th>road_condition_1</th>\n",
       "      <th>at_fault</th>\n",
       "    </tr>\n",
       "  </thead>\n",
       "  <tbody>\n",
       "    <tr>\n",
       "      <th>0</th>\n",
       "      <td>obstruction</td>\n",
       "      <td>1</td>\n",
       "    </tr>\n",
       "    <tr>\n",
       "      <th>1</th>\n",
       "      <td>normal</td>\n",
       "      <td>0</td>\n",
       "    </tr>\n",
       "    <tr>\n",
       "      <th>2</th>\n",
       "      <td>other</td>\n",
       "      <td>1</td>\n",
       "    </tr>\n",
       "    <tr>\n",
       "      <th>3</th>\n",
       "      <td>normal</td>\n",
       "      <td>1</td>\n",
       "    </tr>\n",
       "    <tr>\n",
       "      <th>4</th>\n",
       "      <td>normal</td>\n",
       "      <td>1</td>\n",
       "    </tr>\n",
       "    <tr>\n",
       "      <th>...</th>\n",
       "      <td>...</td>\n",
       "      <td>...</td>\n",
       "    </tr>\n",
       "    <tr>\n",
       "      <th>51406</th>\n",
       "      <td>normal</td>\n",
       "      <td>1</td>\n",
       "    </tr>\n",
       "    <tr>\n",
       "      <th>51407</th>\n",
       "      <td>normal</td>\n",
       "      <td>0</td>\n",
       "    </tr>\n",
       "    <tr>\n",
       "      <th>51408</th>\n",
       "      <td>normal</td>\n",
       "      <td>1</td>\n",
       "    </tr>\n",
       "    <tr>\n",
       "      <th>51409</th>\n",
       "      <td>normal</td>\n",
       "      <td>0</td>\n",
       "    </tr>\n",
       "    <tr>\n",
       "      <th>51412</th>\n",
       "      <td>normal</td>\n",
       "      <td>0</td>\n",
       "    </tr>\n",
       "  </tbody>\n",
       "</table>\n",
       "<p>49595 rows × 2 columns</p>\n",
       "</div>"
      ],
      "text/plain": [
       "      road_condition_1  at_fault\n",
       "0          obstruction         1\n",
       "1               normal         0\n",
       "2                other         1\n",
       "3               normal         1\n",
       "4               normal         1\n",
       "...                ...       ...\n",
       "51406           normal         1\n",
       "51407           normal         0\n",
       "51408           normal         1\n",
       "51409           normal         0\n",
       "51412           normal         0\n",
       "\n",
       "[49595 rows x 2 columns]"
      ]
     },
     "execution_count": 205,
     "metadata": {},
     "output_type": "execute_result"
    }
   ],
   "source": [
    " df_work[['road_condition_1', 'at_fault']]"
   ]
  },
  {
   "cell_type": "code",
   "execution_count": 206,
   "id": "96e14440",
   "metadata": {},
   "outputs": [],
   "source": [
    "df_group = df_work.groupby('road_condition_1')['at_fault'].agg('count')\n",
    "df_group = df_group.drop('normal')"
   ]
  },
  {
   "cell_type": "code",
   "execution_count": 207,
   "id": "23b7b2b9",
   "metadata": {},
   "outputs": [
    {
     "data": {
      "text/plain": [
       "road_condition_1\n",
       "construction      889\n",
       "flooded            29\n",
       "holes             117\n",
       "loose material    110\n",
       "obstruction       218\n",
       "other             202\n",
       "reduced width      56\n",
       "Name: at_fault, dtype: int64"
      ]
     },
     "execution_count": 207,
     "metadata": {},
     "output_type": "execute_result"
    }
   ],
   "source": [
    "df_group"
   ]
  },
  {
   "cell_type": "code",
   "execution_count": 208,
   "id": "158158e2",
   "metadata": {},
   "outputs": [
    {
     "data": {
      "text/plain": [
       "Text(0, 0.5, 'Количество ДТП')"
      ]
     },
     "execution_count": 208,
     "metadata": {},
     "output_type": "execute_result"
    },
    {
     "data": {
      "image/png": "[encoded data removed]",
      "text/plain": [
       "<Figure size 432x288 with 1 Axes>"
      ]
     },
     "metadata": {
      "needs_background": "light"
     },
     "output_type": "display_data"
    }
   ],
   "source": [
    "df_group.plot(kind='bar', color='skyblue')\n",
    "plt.title('Количество ДТП в зависимости от состояния дороги')\n",
    "plt.xlabel('Состояние дороги')\n",
    "plt.ylabel('Количество ДТП')"
   ]
  },
  {
   "cell_type": "markdown",
   "id": "8d78be7b",
   "metadata": {},
   "source": [
    "Как видно из графика, если не брать в расчет нормальное состояние дороги, большое количество дтп происходит в зоне строительства.\n",
    "\n",
    "Чтобы обезопасить водителей, предлагается в систему навигации встроить алгоритм, предупреждающий водителя, что участок его пути будет лежать через ремонтые работы, и предлагать ему объезд"
   ]
  },
  {
   "cell_type": "markdown",
   "id": "2c6fe09b",
   "metadata": {},
   "source": [
    "## Выводы"
   ]
  },
  {
   "cell_type": "markdown",
   "id": "e59e4405",
   "metadata": {},
   "source": [
    "В конечном итоге наиболее точной по метрике F1 оказалась модель градиентного бустинга. Ее значение F1 = 0.50, что нельзя назвать удовлетворительным результатом.\n",
    "\n",
    "В целом, сказать окажется ли водитель в ДТП по имеющимся данным не возможно, поскольку в данных информация имеется обо всех поездках с ДТП. Для более качественной модели необходимо добавить в данные поездки, которые не закончились ДТП.\n",
    "\n",
    "Имеющаяся модель по сути помогает спрогнозировать будет ли водитель виновником ДТП.\n",
    "\n",
    "При этом входные данные не особо помогают сделать качественный прогноз, поскоьку большая часть водителей в начальном состоянии имеют примерно одинаковые исходные данные. Они трезвые и без лекарств. И как видно из сравнения важности признаков, техническое состояние автомобиля не так важно "
   ]
  },
  {
   "cell_type": "code",
   "execution_count": null,
   "id": "2abc4dbd",
   "metadata": {},
   "outputs": [],
   "source": []
  }
 ],
 "metadata": {
  "ExecuteTimeLog": [
   {
    "duration": 25577,
    "start_time": "2024-04-26T11:12:13.234Z"
   },
   {
    "duration": 4190,
    "start_time": "2024-04-26T11:12:38.813Z"
   },
   {
    "duration": 0,
    "start_time": "2024-04-26T11:12:43.010Z"
   },
   {
    "duration": 0,
    "start_time": "2024-04-26T11:12:43.011Z"
   },
   {
    "duration": 0,
    "start_time": "2024-04-26T11:12:43.012Z"
   },
   {
    "duration": 0,
    "start_time": "2024-04-26T11:12:43.013Z"
   },
   {
    "duration": 0,
    "start_time": "2024-04-26T11:12:43.014Z"
   },
   {
    "duration": 0,
    "start_time": "2024-04-26T11:12:43.015Z"
   },
   {
    "duration": 0,
    "start_time": "2024-04-26T11:12:43.016Z"
   },
   {
    "duration": 0,
    "start_time": "2024-04-26T11:12:43.017Z"
   },
   {
    "duration": 0,
    "start_time": "2024-04-26T11:12:43.018Z"
   },
   {
    "duration": 0,
    "start_time": "2024-04-26T11:12:43.019Z"
   },
   {
    "duration": 0,
    "start_time": "2024-04-26T11:12:43.020Z"
   },
   {
    "duration": 0,
    "start_time": "2024-04-26T11:12:43.021Z"
   },
   {
    "duration": 0,
    "start_time": "2024-04-26T11:12:43.022Z"
   },
   {
    "duration": 0,
    "start_time": "2024-04-26T11:12:43.023Z"
   },
   {
    "duration": 0,
    "start_time": "2024-04-26T11:12:43.025Z"
   },
   {
    "duration": 0,
    "start_time": "2024-04-26T11:12:43.026Z"
   },
   {
    "duration": 0,
    "start_time": "2024-04-26T11:12:43.027Z"
   },
   {
    "duration": 0,
    "start_time": "2024-04-26T11:12:43.028Z"
   },
   {
    "duration": 0,
    "start_time": "2024-04-26T11:12:43.029Z"
   },
   {
    "duration": 0,
    "start_time": "2024-04-26T11:12:43.030Z"
   },
   {
    "duration": 0,
    "start_time": "2024-04-26T11:12:43.031Z"
   },
   {
    "duration": 0,
    "start_time": "2024-04-26T11:12:43.073Z"
   },
   {
    "duration": 0,
    "start_time": "2024-04-26T11:12:43.074Z"
   },
   {
    "duration": 0,
    "start_time": "2024-04-26T11:12:43.075Z"
   },
   {
    "duration": 0,
    "start_time": "2024-04-26T11:12:43.077Z"
   },
   {
    "duration": 0,
    "start_time": "2024-04-26T11:12:43.078Z"
   },
   {
    "duration": 0,
    "start_time": "2024-04-26T11:12:43.078Z"
   },
   {
    "duration": 0,
    "start_time": "2024-04-26T11:12:43.079Z"
   },
   {
    "duration": 0,
    "start_time": "2024-04-26T11:12:43.080Z"
   },
   {
    "duration": 0,
    "start_time": "2024-04-26T11:12:43.082Z"
   },
   {
    "duration": 0,
    "start_time": "2024-04-26T11:12:43.083Z"
   },
   {
    "duration": 0,
    "start_time": "2024-04-26T11:12:43.084Z"
   },
   {
    "duration": 0,
    "start_time": "2024-04-26T11:12:43.085Z"
   },
   {
    "duration": 0,
    "start_time": "2024-04-26T11:12:43.086Z"
   },
   {
    "duration": 0,
    "start_time": "2024-04-26T11:12:43.087Z"
   },
   {
    "duration": 0,
    "start_time": "2024-04-26T11:12:43.088Z"
   },
   {
    "duration": 0,
    "start_time": "2024-04-26T11:12:43.089Z"
   },
   {
    "duration": 0,
    "start_time": "2024-04-26T11:12:43.090Z"
   },
   {
    "duration": 0,
    "start_time": "2024-04-26T11:12:43.091Z"
   },
   {
    "duration": 0,
    "start_time": "2024-04-26T11:12:43.092Z"
   },
   {
    "duration": 0,
    "start_time": "2024-04-26T11:12:43.093Z"
   },
   {
    "duration": 0,
    "start_time": "2024-04-26T11:12:43.094Z"
   },
   {
    "duration": 0,
    "start_time": "2024-04-26T11:12:43.095Z"
   },
   {
    "duration": 0,
    "start_time": "2024-04-26T11:12:43.096Z"
   },
   {
    "duration": 0,
    "start_time": "2024-04-26T11:12:43.098Z"
   },
   {
    "duration": 0,
    "start_time": "2024-04-26T11:12:43.099Z"
   },
   {
    "duration": 0,
    "start_time": "2024-04-26T11:12:43.099Z"
   },
   {
    "duration": 0,
    "start_time": "2024-04-26T11:12:43.100Z"
   },
   {
    "duration": 0,
    "start_time": "2024-04-26T11:12:43.101Z"
   },
   {
    "duration": 0,
    "start_time": "2024-04-26T11:12:43.102Z"
   },
   {
    "duration": 0,
    "start_time": "2024-04-26T11:12:43.103Z"
   },
   {
    "duration": 0,
    "start_time": "2024-04-26T11:12:43.104Z"
   },
   {
    "duration": 0,
    "start_time": "2024-04-26T11:12:43.105Z"
   },
   {
    "duration": 0,
    "start_time": "2024-04-26T11:12:43.106Z"
   },
   {
    "duration": 0,
    "start_time": "2024-04-26T11:12:43.107Z"
   },
   {
    "duration": 0,
    "start_time": "2024-04-26T11:12:43.108Z"
   },
   {
    "duration": 0,
    "start_time": "2024-04-26T11:12:43.109Z"
   },
   {
    "duration": 0,
    "start_time": "2024-04-26T11:12:43.110Z"
   },
   {
    "duration": 0,
    "start_time": "2024-04-26T11:12:43.177Z"
   },
   {
    "duration": 0,
    "start_time": "2024-04-26T11:12:43.179Z"
   },
   {
    "duration": 0,
    "start_time": "2024-04-26T11:12:43.180Z"
   },
   {
    "duration": 0,
    "start_time": "2024-04-26T11:12:43.182Z"
   },
   {
    "duration": 0,
    "start_time": "2024-04-26T11:12:43.184Z"
   },
   {
    "duration": 0,
    "start_time": "2024-04-26T11:12:43.185Z"
   },
   {
    "duration": 0,
    "start_time": "2024-04-26T11:12:43.187Z"
   },
   {
    "duration": 0,
    "start_time": "2024-04-26T11:12:43.192Z"
   },
   {
    "duration": 0,
    "start_time": "2024-04-26T11:12:43.193Z"
   },
   {
    "duration": 0,
    "start_time": "2024-04-26T11:12:43.194Z"
   },
   {
    "duration": 0,
    "start_time": "2024-04-26T11:12:43.196Z"
   },
   {
    "duration": 0,
    "start_time": "2024-04-26T11:12:43.197Z"
   },
   {
    "duration": 0,
    "start_time": "2024-04-26T11:12:43.200Z"
   },
   {
    "duration": 0,
    "start_time": "2024-04-26T11:12:43.201Z"
   },
   {
    "duration": 0,
    "start_time": "2024-04-26T11:12:43.203Z"
   },
   {
    "duration": 0,
    "start_time": "2024-04-26T11:12:43.205Z"
   },
   {
    "duration": 0,
    "start_time": "2024-04-26T11:12:43.206Z"
   },
   {
    "duration": 0,
    "start_time": "2024-04-26T11:12:43.208Z"
   },
   {
    "duration": 0,
    "start_time": "2024-04-26T11:12:43.210Z"
   },
   {
    "duration": 0,
    "start_time": "2024-04-26T11:12:43.211Z"
   },
   {
    "duration": 0,
    "start_time": "2024-04-26T11:12:43.213Z"
   },
   {
    "duration": 0,
    "start_time": "2024-04-26T11:12:43.215Z"
   },
   {
    "duration": 0,
    "start_time": "2024-04-26T11:12:43.274Z"
   },
   {
    "duration": 0,
    "start_time": "2024-04-26T11:12:43.275Z"
   },
   {
    "duration": 0,
    "start_time": "2024-04-26T11:12:43.277Z"
   },
   {
    "duration": 0,
    "start_time": "2024-04-26T11:12:43.278Z"
   },
   {
    "duration": 0,
    "start_time": "2024-04-26T11:12:43.280Z"
   },
   {
    "duration": 0,
    "start_time": "2024-04-26T11:12:43.281Z"
   },
   {
    "duration": 0,
    "start_time": "2024-04-26T11:12:43.282Z"
   },
   {
    "duration": 1,
    "start_time": "2024-04-26T11:12:43.283Z"
   },
   {
    "duration": 0,
    "start_time": "2024-04-26T11:12:43.285Z"
   },
   {
    "duration": 0,
    "start_time": "2024-04-26T11:12:43.286Z"
   },
   {
    "duration": 0,
    "start_time": "2024-04-26T11:12:43.287Z"
   },
   {
    "duration": 0,
    "start_time": "2024-04-26T11:12:43.289Z"
   },
   {
    "duration": 0,
    "start_time": "2024-04-26T11:12:43.290Z"
   },
   {
    "duration": 0,
    "start_time": "2024-04-26T11:12:43.291Z"
   },
   {
    "duration": 0,
    "start_time": "2024-04-26T11:12:43.292Z"
   },
   {
    "duration": 0,
    "start_time": "2024-04-26T11:12:43.293Z"
   },
   {
    "duration": 0,
    "start_time": "2024-04-26T11:12:43.294Z"
   },
   {
    "duration": 0,
    "start_time": "2024-04-26T11:12:43.295Z"
   },
   {
    "duration": 0,
    "start_time": "2024-04-26T11:12:43.296Z"
   },
   {
    "duration": 0,
    "start_time": "2024-04-26T11:12:43.297Z"
   },
   {
    "duration": 0,
    "start_time": "2024-04-26T11:12:43.298Z"
   },
   {
    "duration": 0,
    "start_time": "2024-04-26T11:12:43.299Z"
   },
   {
    "duration": 0,
    "start_time": "2024-04-26T11:12:43.300Z"
   },
   {
    "duration": 0,
    "start_time": "2024-04-26T11:12:43.301Z"
   },
   {
    "duration": 0,
    "start_time": "2024-04-26T11:12:43.301Z"
   },
   {
    "duration": 0,
    "start_time": "2024-04-26T11:12:43.302Z"
   },
   {
    "duration": 0,
    "start_time": "2024-04-26T11:12:43.303Z"
   },
   {
    "duration": 0,
    "start_time": "2024-04-26T11:12:43.304Z"
   },
   {
    "duration": 0,
    "start_time": "2024-04-26T11:12:43.305Z"
   },
   {
    "duration": 0,
    "start_time": "2024-04-26T11:12:43.306Z"
   },
   {
    "duration": 0,
    "start_time": "2024-04-26T11:12:43.307Z"
   },
   {
    "duration": 0,
    "start_time": "2024-04-26T11:12:43.309Z"
   },
   {
    "duration": 0,
    "start_time": "2024-04-26T11:12:43.309Z"
   },
   {
    "duration": 0,
    "start_time": "2024-04-26T11:12:43.373Z"
   },
   {
    "duration": 0,
    "start_time": "2024-04-26T11:12:43.374Z"
   },
   {
    "duration": 0,
    "start_time": "2024-04-26T11:12:43.375Z"
   },
   {
    "duration": 0,
    "start_time": "2024-04-26T11:12:43.376Z"
   },
   {
    "duration": 0,
    "start_time": "2024-04-26T11:12:43.377Z"
   },
   {
    "duration": 0,
    "start_time": "2024-04-26T11:12:43.378Z"
   },
   {
    "duration": 0,
    "start_time": "2024-04-26T11:12:43.379Z"
   },
   {
    "duration": 0,
    "start_time": "2024-04-26T11:12:43.380Z"
   },
   {
    "duration": 0,
    "start_time": "2024-04-26T11:12:43.381Z"
   },
   {
    "duration": 0,
    "start_time": "2024-04-26T11:12:43.382Z"
   },
   {
    "duration": 0,
    "start_time": "2024-04-26T11:12:43.383Z"
   },
   {
    "duration": 0,
    "start_time": "2024-04-26T11:12:43.384Z"
   },
   {
    "duration": 0,
    "start_time": "2024-04-26T11:12:43.385Z"
   },
   {
    "duration": 0,
    "start_time": "2024-04-26T11:12:43.386Z"
   },
   {
    "duration": 0,
    "start_time": "2024-04-26T11:12:43.387Z"
   },
   {
    "duration": 0,
    "start_time": "2024-04-26T11:12:43.388Z"
   },
   {
    "duration": 0,
    "start_time": "2024-04-26T11:12:43.389Z"
   },
   {
    "duration": 0,
    "start_time": "2024-04-26T11:12:43.390Z"
   },
   {
    "duration": 0,
    "start_time": "2024-04-26T11:12:43.391Z"
   },
   {
    "duration": 0,
    "start_time": "2024-04-26T11:12:43.393Z"
   },
   {
    "duration": 0,
    "start_time": "2024-04-26T11:12:43.394Z"
   },
   {
    "duration": 0,
    "start_time": "2024-04-26T11:12:43.395Z"
   },
   {
    "duration": 0,
    "start_time": "2024-04-26T11:12:43.396Z"
   },
   {
    "duration": 0,
    "start_time": "2024-04-26T11:12:43.397Z"
   },
   {
    "duration": 0,
    "start_time": "2024-04-26T11:12:43.398Z"
   },
   {
    "duration": 0,
    "start_time": "2024-04-26T11:12:43.399Z"
   },
   {
    "duration": 0,
    "start_time": "2024-04-26T11:12:43.400Z"
   },
   {
    "duration": 0,
    "start_time": "2024-04-26T11:12:43.402Z"
   },
   {
    "duration": 0,
    "start_time": "2024-04-26T11:12:43.403Z"
   },
   {
    "duration": 0,
    "start_time": "2024-04-26T11:12:43.405Z"
   },
   {
    "duration": 0,
    "start_time": "2024-04-26T11:12:43.406Z"
   },
   {
    "duration": 0,
    "start_time": "2024-04-26T11:12:43.407Z"
   },
   {
    "duration": 0,
    "start_time": "2024-04-26T11:12:43.472Z"
   },
   {
    "duration": 0,
    "start_time": "2024-04-26T11:12:43.474Z"
   },
   {
    "duration": 0,
    "start_time": "2024-04-26T11:12:43.475Z"
   },
   {
    "duration": 0,
    "start_time": "2024-04-26T11:12:43.476Z"
   },
   {
    "duration": 0,
    "start_time": "2024-04-26T11:12:43.478Z"
   },
   {
    "duration": 0,
    "start_time": "2024-04-26T11:12:43.479Z"
   },
   {
    "duration": 0,
    "start_time": "2024-04-26T11:12:43.480Z"
   },
   {
    "duration": 0,
    "start_time": "2024-04-26T11:12:43.481Z"
   },
   {
    "duration": 0,
    "start_time": "2024-04-26T11:12:43.483Z"
   },
   {
    "duration": 0,
    "start_time": "2024-04-26T11:12:43.484Z"
   },
   {
    "duration": 0,
    "start_time": "2024-04-26T11:12:43.486Z"
   },
   {
    "duration": 0,
    "start_time": "2024-04-26T11:12:43.487Z"
   },
   {
    "duration": 0,
    "start_time": "2024-04-26T11:12:43.488Z"
   },
   {
    "duration": 0,
    "start_time": "2024-04-26T11:12:43.490Z"
   },
   {
    "duration": 0,
    "start_time": "2024-04-26T11:12:43.491Z"
   },
   {
    "duration": 0,
    "start_time": "2024-04-26T11:12:43.492Z"
   },
   {
    "duration": 0,
    "start_time": "2024-04-26T11:12:43.494Z"
   },
   {
    "duration": 0,
    "start_time": "2024-04-26T11:12:43.495Z"
   },
   {
    "duration": 0,
    "start_time": "2024-04-26T11:12:43.496Z"
   },
   {
    "duration": 0,
    "start_time": "2024-04-26T11:12:43.497Z"
   },
   {
    "duration": 0,
    "start_time": "2024-04-26T11:12:43.498Z"
   },
   {
    "duration": 0,
    "start_time": "2024-04-26T11:12:43.500Z"
   },
   {
    "duration": 0,
    "start_time": "2024-04-26T11:12:43.501Z"
   },
   {
    "duration": 0,
    "start_time": "2024-04-26T11:12:43.502Z"
   },
   {
    "duration": 0,
    "start_time": "2024-04-26T11:12:43.503Z"
   },
   {
    "duration": 0,
    "start_time": "2024-04-26T11:12:43.504Z"
   },
   {
    "duration": 0,
    "start_time": "2024-04-26T11:12:43.505Z"
   },
   {
    "duration": 0,
    "start_time": "2024-04-26T11:12:43.506Z"
   },
   {
    "duration": 0,
    "start_time": "2024-04-26T11:12:43.507Z"
   },
   {
    "duration": 0,
    "start_time": "2024-04-26T11:12:43.508Z"
   },
   {
    "duration": 24924,
    "start_time": "2024-04-26T14:21:26.966Z"
   },
   {
    "duration": 3829,
    "start_time": "2024-04-26T14:21:51.893Z"
   },
   {
    "duration": 0,
    "start_time": "2024-04-26T14:21:55.733Z"
   },
   {
    "duration": 0,
    "start_time": "2024-04-26T14:21:55.735Z"
   },
   {
    "duration": 0,
    "start_time": "2024-04-26T14:21:55.736Z"
   },
   {
    "duration": 0,
    "start_time": "2024-04-26T14:21:55.738Z"
   },
   {
    "duration": 0,
    "start_time": "2024-04-26T14:21:55.740Z"
   },
   {
    "duration": 0,
    "start_time": "2024-04-26T14:21:55.741Z"
   },
   {
    "duration": 0,
    "start_time": "2024-04-26T14:21:55.743Z"
   },
   {
    "duration": 0,
    "start_time": "2024-04-26T14:21:55.744Z"
   },
   {
    "duration": 0,
    "start_time": "2024-04-26T14:21:55.746Z"
   },
   {
    "duration": 0,
    "start_time": "2024-04-26T14:21:55.747Z"
   },
   {
    "duration": 0,
    "start_time": "2024-04-26T14:21:55.748Z"
   },
   {
    "duration": 0,
    "start_time": "2024-04-26T14:21:55.773Z"
   },
   {
    "duration": 0,
    "start_time": "2024-04-26T14:21:55.774Z"
   },
   {
    "duration": 0,
    "start_time": "2024-04-26T14:21:55.776Z"
   },
   {
    "duration": 0,
    "start_time": "2024-04-26T14:21:55.778Z"
   },
   {
    "duration": 0,
    "start_time": "2024-04-26T14:21:55.780Z"
   },
   {
    "duration": 0,
    "start_time": "2024-04-26T14:21:55.781Z"
   },
   {
    "duration": 0,
    "start_time": "2024-04-26T14:21:55.783Z"
   },
   {
    "duration": 0,
    "start_time": "2024-04-26T14:21:55.784Z"
   },
   {
    "duration": 0,
    "start_time": "2024-04-26T14:21:55.785Z"
   },
   {
    "duration": 0,
    "start_time": "2024-04-26T14:21:55.787Z"
   },
   {
    "duration": 0,
    "start_time": "2024-04-26T14:21:55.788Z"
   },
   {
    "duration": 0,
    "start_time": "2024-04-26T14:21:55.789Z"
   },
   {
    "duration": 0,
    "start_time": "2024-04-26T14:21:55.791Z"
   },
   {
    "duration": 0,
    "start_time": "2024-04-26T14:21:55.792Z"
   },
   {
    "duration": 0,
    "start_time": "2024-04-26T14:21:55.793Z"
   },
   {
    "duration": 0,
    "start_time": "2024-04-26T14:21:55.794Z"
   },
   {
    "duration": 0,
    "start_time": "2024-04-26T14:21:55.796Z"
   },
   {
    "duration": 0,
    "start_time": "2024-04-26T14:21:55.797Z"
   },
   {
    "duration": 0,
    "start_time": "2024-04-26T14:21:55.799Z"
   },
   {
    "duration": 0,
    "start_time": "2024-04-26T14:21:55.800Z"
   },
   {
    "duration": 0,
    "start_time": "2024-04-26T14:21:55.801Z"
   },
   {
    "duration": 0,
    "start_time": "2024-04-26T14:21:55.803Z"
   },
   {
    "duration": 0,
    "start_time": "2024-04-26T14:21:55.804Z"
   },
   {
    "duration": 0,
    "start_time": "2024-04-26T14:21:55.805Z"
   },
   {
    "duration": 1,
    "start_time": "2024-04-26T14:21:55.806Z"
   },
   {
    "duration": 0,
    "start_time": "2024-04-26T14:21:55.808Z"
   },
   {
    "duration": 0,
    "start_time": "2024-04-26T14:21:55.810Z"
   },
   {
    "duration": 0,
    "start_time": "2024-04-26T14:21:55.873Z"
   },
   {
    "duration": 0,
    "start_time": "2024-04-26T14:21:55.875Z"
   },
   {
    "duration": 0,
    "start_time": "2024-04-26T14:21:55.876Z"
   },
   {
    "duration": 0,
    "start_time": "2024-04-26T14:21:55.878Z"
   },
   {
    "duration": 0,
    "start_time": "2024-04-26T14:21:55.879Z"
   },
   {
    "duration": 0,
    "start_time": "2024-04-26T14:21:55.881Z"
   },
   {
    "duration": 0,
    "start_time": "2024-04-26T14:21:55.882Z"
   },
   {
    "duration": 0,
    "start_time": "2024-04-26T14:21:55.884Z"
   },
   {
    "duration": 0,
    "start_time": "2024-04-26T14:21:55.885Z"
   },
   {
    "duration": 0,
    "start_time": "2024-04-26T14:21:55.887Z"
   },
   {
    "duration": 0,
    "start_time": "2024-04-26T14:21:55.889Z"
   },
   {
    "duration": 0,
    "start_time": "2024-04-26T14:21:55.890Z"
   },
   {
    "duration": 0,
    "start_time": "2024-04-26T14:21:55.892Z"
   },
   {
    "duration": 0,
    "start_time": "2024-04-26T14:21:55.893Z"
   },
   {
    "duration": 0,
    "start_time": "2024-04-26T14:21:55.894Z"
   },
   {
    "duration": 0,
    "start_time": "2024-04-26T14:21:55.895Z"
   },
   {
    "duration": 0,
    "start_time": "2024-04-26T14:21:55.897Z"
   },
   {
    "duration": 0,
    "start_time": "2024-04-26T14:21:55.898Z"
   },
   {
    "duration": 0,
    "start_time": "2024-04-26T14:21:55.899Z"
   },
   {
    "duration": 0,
    "start_time": "2024-04-26T14:21:55.901Z"
   },
   {
    "duration": 0,
    "start_time": "2024-04-26T14:21:55.902Z"
   },
   {
    "duration": 0,
    "start_time": "2024-04-26T14:21:55.903Z"
   },
   {
    "duration": 0,
    "start_time": "2024-04-26T14:21:55.906Z"
   },
   {
    "duration": 0,
    "start_time": "2024-04-26T14:21:55.907Z"
   },
   {
    "duration": 0,
    "start_time": "2024-04-26T14:21:55.909Z"
   },
   {
    "duration": 0,
    "start_time": "2024-04-26T14:21:55.910Z"
   },
   {
    "duration": 0,
    "start_time": "2024-04-26T14:21:55.912Z"
   },
   {
    "duration": 0,
    "start_time": "2024-04-26T14:21:55.973Z"
   },
   {
    "duration": 0,
    "start_time": "2024-04-26T14:21:55.975Z"
   },
   {
    "duration": 0,
    "start_time": "2024-04-26T14:21:55.976Z"
   },
   {
    "duration": 0,
    "start_time": "2024-04-26T14:21:55.980Z"
   },
   {
    "duration": 0,
    "start_time": "2024-04-26T14:21:55.981Z"
   },
   {
    "duration": 0,
    "start_time": "2024-04-26T14:21:55.983Z"
   },
   {
    "duration": 0,
    "start_time": "2024-04-26T14:21:55.984Z"
   },
   {
    "duration": 0,
    "start_time": "2024-04-26T14:21:55.985Z"
   },
   {
    "duration": 0,
    "start_time": "2024-04-26T14:21:55.986Z"
   },
   {
    "duration": 0,
    "start_time": "2024-04-26T14:21:55.987Z"
   },
   {
    "duration": 0,
    "start_time": "2024-04-26T14:21:55.989Z"
   },
   {
    "duration": 0,
    "start_time": "2024-04-26T14:21:55.991Z"
   },
   {
    "duration": 0,
    "start_time": "2024-04-26T14:21:55.991Z"
   },
   {
    "duration": 0,
    "start_time": "2024-04-26T14:21:55.993Z"
   },
   {
    "duration": 0,
    "start_time": "2024-04-26T14:21:55.994Z"
   },
   {
    "duration": 0,
    "start_time": "2024-04-26T14:21:55.997Z"
   },
   {
    "duration": 0,
    "start_time": "2024-04-26T14:21:55.998Z"
   },
   {
    "duration": 0,
    "start_time": "2024-04-26T14:21:55.999Z"
   },
   {
    "duration": 0,
    "start_time": "2024-04-26T14:21:56.002Z"
   },
   {
    "duration": 0,
    "start_time": "2024-04-26T14:21:56.004Z"
   },
   {
    "duration": 0,
    "start_time": "2024-04-26T14:21:56.006Z"
   },
   {
    "duration": 0,
    "start_time": "2024-04-26T14:21:56.007Z"
   },
   {
    "duration": 0,
    "start_time": "2024-04-26T14:21:56.009Z"
   },
   {
    "duration": 0,
    "start_time": "2024-04-26T14:21:56.010Z"
   },
   {
    "duration": 0,
    "start_time": "2024-04-26T14:21:56.012Z"
   },
   {
    "duration": 0,
    "start_time": "2024-04-26T14:21:56.013Z"
   },
   {
    "duration": 0,
    "start_time": "2024-04-26T14:21:56.014Z"
   },
   {
    "duration": 1,
    "start_time": "2024-04-26T14:21:56.073Z"
   },
   {
    "duration": 0,
    "start_time": "2024-04-26T14:21:56.075Z"
   },
   {
    "duration": 0,
    "start_time": "2024-04-26T14:21:56.076Z"
   },
   {
    "duration": 0,
    "start_time": "2024-04-26T14:21:56.078Z"
   },
   {
    "duration": 0,
    "start_time": "2024-04-26T14:21:56.079Z"
   },
   {
    "duration": 0,
    "start_time": "2024-04-26T14:21:56.080Z"
   },
   {
    "duration": 0,
    "start_time": "2024-04-26T14:21:56.081Z"
   },
   {
    "duration": 0,
    "start_time": "2024-04-26T14:21:56.082Z"
   },
   {
    "duration": 0,
    "start_time": "2024-04-26T14:21:56.083Z"
   },
   {
    "duration": 0,
    "start_time": "2024-04-26T14:21:56.085Z"
   },
   {
    "duration": 0,
    "start_time": "2024-04-26T14:21:56.086Z"
   },
   {
    "duration": 0,
    "start_time": "2024-04-26T14:21:56.088Z"
   },
   {
    "duration": 0,
    "start_time": "2024-04-26T14:21:56.089Z"
   },
   {
    "duration": 0,
    "start_time": "2024-04-26T14:21:56.091Z"
   },
   {
    "duration": 0,
    "start_time": "2024-04-26T14:21:56.093Z"
   },
   {
    "duration": 0,
    "start_time": "2024-04-26T14:21:56.095Z"
   },
   {
    "duration": 0,
    "start_time": "2024-04-26T14:21:56.096Z"
   },
   {
    "duration": 0,
    "start_time": "2024-04-26T14:21:56.098Z"
   },
   {
    "duration": 0,
    "start_time": "2024-04-26T14:21:56.100Z"
   },
   {
    "duration": 0,
    "start_time": "2024-04-26T14:21:56.101Z"
   },
   {
    "duration": 0,
    "start_time": "2024-04-26T14:21:56.103Z"
   },
   {
    "duration": 0,
    "start_time": "2024-04-26T14:21:56.104Z"
   },
   {
    "duration": 0,
    "start_time": "2024-04-26T14:21:56.106Z"
   },
   {
    "duration": 0,
    "start_time": "2024-04-26T14:21:56.107Z"
   },
   {
    "duration": 0,
    "start_time": "2024-04-26T14:21:56.110Z"
   },
   {
    "duration": 0,
    "start_time": "2024-04-26T14:21:56.111Z"
   },
   {
    "duration": 0,
    "start_time": "2024-04-26T14:21:56.112Z"
   },
   {
    "duration": 0,
    "start_time": "2024-04-26T14:21:56.174Z"
   },
   {
    "duration": 0,
    "start_time": "2024-04-26T14:21:56.175Z"
   },
   {
    "duration": 0,
    "start_time": "2024-04-26T14:21:56.177Z"
   },
   {
    "duration": 0,
    "start_time": "2024-04-26T14:21:56.179Z"
   },
   {
    "duration": 0,
    "start_time": "2024-04-26T14:21:56.180Z"
   },
   {
    "duration": 0,
    "start_time": "2024-04-26T14:21:56.182Z"
   },
   {
    "duration": 0,
    "start_time": "2024-04-26T14:21:56.183Z"
   },
   {
    "duration": 0,
    "start_time": "2024-04-26T14:21:56.185Z"
   },
   {
    "duration": 0,
    "start_time": "2024-04-26T14:21:56.186Z"
   },
   {
    "duration": 0,
    "start_time": "2024-04-26T14:21:56.187Z"
   },
   {
    "duration": 0,
    "start_time": "2024-04-26T14:21:56.188Z"
   },
   {
    "duration": 0,
    "start_time": "2024-04-26T14:21:56.190Z"
   },
   {
    "duration": 0,
    "start_time": "2024-04-26T14:21:56.191Z"
   },
   {
    "duration": 0,
    "start_time": "2024-04-26T14:21:56.192Z"
   },
   {
    "duration": 0,
    "start_time": "2024-04-26T14:21:56.194Z"
   },
   {
    "duration": 0,
    "start_time": "2024-04-26T14:21:56.194Z"
   },
   {
    "duration": 0,
    "start_time": "2024-04-26T14:21:56.196Z"
   },
   {
    "duration": 0,
    "start_time": "2024-04-26T14:21:56.197Z"
   },
   {
    "duration": 1,
    "start_time": "2024-04-26T14:21:56.198Z"
   },
   {
    "duration": 0,
    "start_time": "2024-04-26T14:21:56.200Z"
   },
   {
    "duration": 0,
    "start_time": "2024-04-26T14:21:56.202Z"
   },
   {
    "duration": 0,
    "start_time": "2024-04-26T14:21:56.204Z"
   },
   {
    "duration": 0,
    "start_time": "2024-04-26T14:21:56.205Z"
   },
   {
    "duration": 0,
    "start_time": "2024-04-26T14:21:56.207Z"
   },
   {
    "duration": 0,
    "start_time": "2024-04-26T14:21:56.208Z"
   },
   {
    "duration": 0,
    "start_time": "2024-04-26T14:21:56.210Z"
   },
   {
    "duration": 0,
    "start_time": "2024-04-26T14:21:56.211Z"
   },
   {
    "duration": 0,
    "start_time": "2024-04-26T14:21:56.273Z"
   },
   {
    "duration": 0,
    "start_time": "2024-04-26T14:21:56.274Z"
   },
   {
    "duration": 0,
    "start_time": "2024-04-26T14:21:56.275Z"
   },
   {
    "duration": 0,
    "start_time": "2024-04-26T14:21:56.276Z"
   },
   {
    "duration": 0,
    "start_time": "2024-04-26T14:21:56.277Z"
   },
   {
    "duration": 0,
    "start_time": "2024-04-26T14:21:56.278Z"
   },
   {
    "duration": 0,
    "start_time": "2024-04-26T14:21:56.279Z"
   },
   {
    "duration": 0,
    "start_time": "2024-04-26T14:21:56.280Z"
   },
   {
    "duration": 0,
    "start_time": "2024-04-26T14:21:56.281Z"
   },
   {
    "duration": 0,
    "start_time": "2024-04-26T14:21:56.282Z"
   },
   {
    "duration": 0,
    "start_time": "2024-04-26T14:21:56.283Z"
   },
   {
    "duration": 0,
    "start_time": "2024-04-26T14:21:56.285Z"
   },
   {
    "duration": 0,
    "start_time": "2024-04-26T14:21:56.286Z"
   },
   {
    "duration": 0,
    "start_time": "2024-04-26T14:21:56.287Z"
   },
   {
    "duration": 0,
    "start_time": "2024-04-26T14:21:56.288Z"
   },
   {
    "duration": 0,
    "start_time": "2024-04-26T14:21:56.289Z"
   },
   {
    "duration": 0,
    "start_time": "2024-04-26T14:21:56.290Z"
   },
   {
    "duration": 0,
    "start_time": "2024-04-26T14:21:56.291Z"
   },
   {
    "duration": 0,
    "start_time": "2024-04-26T14:21:56.292Z"
   },
   {
    "duration": 0,
    "start_time": "2024-04-26T14:21:56.293Z"
   },
   {
    "duration": 0,
    "start_time": "2024-04-26T14:21:56.294Z"
   },
   {
    "duration": 0,
    "start_time": "2024-04-26T14:21:56.295Z"
   },
   {
    "duration": 0,
    "start_time": "2024-04-26T14:21:56.297Z"
   },
   {
    "duration": 0,
    "start_time": "2024-04-26T14:21:56.298Z"
   },
   {
    "duration": 0,
    "start_time": "2024-04-26T14:21:56.299Z"
   },
   {
    "duration": 0,
    "start_time": "2024-04-26T14:21:56.300Z"
   },
   {
    "duration": 0,
    "start_time": "2024-04-26T14:21:56.301Z"
   },
   {
    "duration": 0,
    "start_time": "2024-04-26T14:21:56.302Z"
   },
   {
    "duration": 0,
    "start_time": "2024-04-26T14:21:56.303Z"
   },
   {
    "duration": 24113,
    "start_time": "2024-04-26T14:29:46.802Z"
   },
   {
    "duration": 5061,
    "start_time": "2024-04-26T14:30:10.918Z"
   },
   {
    "duration": 0,
    "start_time": "2024-04-26T14:30:15.987Z"
   },
   {
    "duration": 0,
    "start_time": "2024-04-26T14:30:15.988Z"
   },
   {
    "duration": 0,
    "start_time": "2024-04-26T14:30:15.990Z"
   },
   {
    "duration": 0,
    "start_time": "2024-04-26T14:30:15.992Z"
   },
   {
    "duration": 0,
    "start_time": "2024-04-26T14:30:15.993Z"
   },
   {
    "duration": 0,
    "start_time": "2024-04-26T14:30:15.995Z"
   },
   {
    "duration": 0,
    "start_time": "2024-04-26T14:30:15.996Z"
   },
   {
    "duration": 0,
    "start_time": "2024-04-26T14:30:15.998Z"
   },
   {
    "duration": 0,
    "start_time": "2024-04-26T14:30:15.999Z"
   },
   {
    "duration": 0,
    "start_time": "2024-04-26T14:30:16.001Z"
   },
   {
    "duration": 0,
    "start_time": "2024-04-26T14:30:16.002Z"
   },
   {
    "duration": 0,
    "start_time": "2024-04-26T14:30:16.004Z"
   },
   {
    "duration": 0,
    "start_time": "2024-04-26T14:30:16.006Z"
   },
   {
    "duration": 0,
    "start_time": "2024-04-26T14:30:16.008Z"
   },
   {
    "duration": 0,
    "start_time": "2024-04-26T14:30:16.009Z"
   },
   {
    "duration": 0,
    "start_time": "2024-04-26T14:30:16.011Z"
   },
   {
    "duration": 0,
    "start_time": "2024-04-26T14:30:16.012Z"
   },
   {
    "duration": 1,
    "start_time": "2024-04-26T14:30:16.013Z"
   },
   {
    "duration": 0,
    "start_time": "2024-04-26T14:30:16.015Z"
   },
   {
    "duration": 0,
    "start_time": "2024-04-26T14:30:16.017Z"
   },
   {
    "duration": 0,
    "start_time": "2024-04-26T14:30:16.018Z"
   },
   {
    "duration": 0,
    "start_time": "2024-04-26T14:30:16.020Z"
   },
   {
    "duration": 0,
    "start_time": "2024-04-26T14:30:16.021Z"
   },
   {
    "duration": 0,
    "start_time": "2024-04-26T14:30:16.073Z"
   },
   {
    "duration": 0,
    "start_time": "2024-04-26T14:30:16.075Z"
   },
   {
    "duration": 0,
    "start_time": "2024-04-26T14:30:16.076Z"
   },
   {
    "duration": 0,
    "start_time": "2024-04-26T14:30:16.078Z"
   },
   {
    "duration": 0,
    "start_time": "2024-04-26T14:30:16.080Z"
   },
   {
    "duration": 0,
    "start_time": "2024-04-26T14:30:16.081Z"
   },
   {
    "duration": 0,
    "start_time": "2024-04-26T14:30:16.082Z"
   },
   {
    "duration": 0,
    "start_time": "2024-04-26T14:30:16.083Z"
   },
   {
    "duration": 0,
    "start_time": "2024-04-26T14:30:16.084Z"
   },
   {
    "duration": 0,
    "start_time": "2024-04-26T14:30:16.086Z"
   },
   {
    "duration": 0,
    "start_time": "2024-04-26T14:30:16.087Z"
   },
   {
    "duration": 0,
    "start_time": "2024-04-26T14:30:16.088Z"
   },
   {
    "duration": 0,
    "start_time": "2024-04-26T14:30:16.090Z"
   },
   {
    "duration": 0,
    "start_time": "2024-04-26T14:30:16.091Z"
   },
   {
    "duration": 0,
    "start_time": "2024-04-26T14:30:16.093Z"
   },
   {
    "duration": 0,
    "start_time": "2024-04-26T14:30:16.094Z"
   },
   {
    "duration": 0,
    "start_time": "2024-04-26T14:30:16.095Z"
   },
   {
    "duration": 0,
    "start_time": "2024-04-26T14:30:16.097Z"
   },
   {
    "duration": 0,
    "start_time": "2024-04-26T14:30:16.098Z"
   },
   {
    "duration": 0,
    "start_time": "2024-04-26T14:30:16.099Z"
   },
   {
    "duration": 0,
    "start_time": "2024-04-26T14:30:16.101Z"
   },
   {
    "duration": 0,
    "start_time": "2024-04-26T14:30:16.102Z"
   },
   {
    "duration": 0,
    "start_time": "2024-04-26T14:30:16.103Z"
   },
   {
    "duration": 0,
    "start_time": "2024-04-26T14:30:16.105Z"
   },
   {
    "duration": 0,
    "start_time": "2024-04-26T14:30:16.106Z"
   },
   {
    "duration": 0,
    "start_time": "2024-04-26T14:30:16.108Z"
   },
   {
    "duration": 0,
    "start_time": "2024-04-26T14:30:16.109Z"
   },
   {
    "duration": 0,
    "start_time": "2024-04-26T14:30:16.172Z"
   },
   {
    "duration": 0,
    "start_time": "2024-04-26T14:30:16.174Z"
   },
   {
    "duration": 0,
    "start_time": "2024-04-26T14:30:16.175Z"
   },
   {
    "duration": 0,
    "start_time": "2024-04-26T14:30:16.177Z"
   },
   {
    "duration": 0,
    "start_time": "2024-04-26T14:30:16.178Z"
   },
   {
    "duration": 0,
    "start_time": "2024-04-26T14:30:16.179Z"
   },
   {
    "duration": 0,
    "start_time": "2024-04-26T14:30:16.180Z"
   },
   {
    "duration": 1,
    "start_time": "2024-04-26T14:30:16.181Z"
   },
   {
    "duration": 0,
    "start_time": "2024-04-26T14:30:16.183Z"
   },
   {
    "duration": 0,
    "start_time": "2024-04-26T14:30:16.184Z"
   },
   {
    "duration": 0,
    "start_time": "2024-04-26T14:30:16.186Z"
   },
   {
    "duration": 0,
    "start_time": "2024-04-26T14:30:16.187Z"
   },
   {
    "duration": 0,
    "start_time": "2024-04-26T14:30:16.188Z"
   },
   {
    "duration": 0,
    "start_time": "2024-04-26T14:30:16.189Z"
   },
   {
    "duration": 0,
    "start_time": "2024-04-26T14:30:16.190Z"
   },
   {
    "duration": 0,
    "start_time": "2024-04-26T14:30:16.192Z"
   },
   {
    "duration": 0,
    "start_time": "2024-04-26T14:30:16.193Z"
   },
   {
    "duration": 0,
    "start_time": "2024-04-26T14:30:16.194Z"
   },
   {
    "duration": 0,
    "start_time": "2024-04-26T14:30:16.196Z"
   },
   {
    "duration": 0,
    "start_time": "2024-04-26T14:30:16.197Z"
   },
   {
    "duration": 0,
    "start_time": "2024-04-26T14:30:16.198Z"
   },
   {
    "duration": 0,
    "start_time": "2024-04-26T14:30:16.200Z"
   },
   {
    "duration": 0,
    "start_time": "2024-04-26T14:30:16.201Z"
   },
   {
    "duration": 0,
    "start_time": "2024-04-26T14:30:16.202Z"
   },
   {
    "duration": 0,
    "start_time": "2024-04-26T14:30:16.204Z"
   },
   {
    "duration": 0,
    "start_time": "2024-04-26T14:30:16.205Z"
   },
   {
    "duration": 0,
    "start_time": "2024-04-26T14:30:16.206Z"
   },
   {
    "duration": 0,
    "start_time": "2024-04-26T14:30:16.207Z"
   },
   {
    "duration": 0,
    "start_time": "2024-04-26T14:30:16.208Z"
   },
   {
    "duration": 0,
    "start_time": "2024-04-26T14:30:16.273Z"
   },
   {
    "duration": 0,
    "start_time": "2024-04-26T14:30:16.274Z"
   },
   {
    "duration": 0,
    "start_time": "2024-04-26T14:30:16.276Z"
   },
   {
    "duration": 0,
    "start_time": "2024-04-26T14:30:16.277Z"
   },
   {
    "duration": 0,
    "start_time": "2024-04-26T14:30:16.277Z"
   },
   {
    "duration": 0,
    "start_time": "2024-04-26T14:30:16.278Z"
   },
   {
    "duration": 0,
    "start_time": "2024-04-26T14:30:16.279Z"
   },
   {
    "duration": 0,
    "start_time": "2024-04-26T14:30:16.280Z"
   },
   {
    "duration": 0,
    "start_time": "2024-04-26T14:30:16.281Z"
   },
   {
    "duration": 0,
    "start_time": "2024-04-26T14:30:16.282Z"
   },
   {
    "duration": 0,
    "start_time": "2024-04-26T14:30:16.282Z"
   },
   {
    "duration": 0,
    "start_time": "2024-04-26T14:30:16.283Z"
   },
   {
    "duration": 0,
    "start_time": "2024-04-26T14:30:16.285Z"
   },
   {
    "duration": 0,
    "start_time": "2024-04-26T14:30:16.286Z"
   },
   {
    "duration": 0,
    "start_time": "2024-04-26T14:30:16.286Z"
   },
   {
    "duration": 0,
    "start_time": "2024-04-26T14:30:16.288Z"
   },
   {
    "duration": 0,
    "start_time": "2024-04-26T14:30:16.289Z"
   },
   {
    "duration": 0,
    "start_time": "2024-04-26T14:30:16.290Z"
   },
   {
    "duration": 1,
    "start_time": "2024-04-26T14:30:16.290Z"
   },
   {
    "duration": 0,
    "start_time": "2024-04-26T14:30:16.292Z"
   },
   {
    "duration": 0,
    "start_time": "2024-04-26T14:30:16.293Z"
   },
   {
    "duration": 0,
    "start_time": "2024-04-26T14:30:16.294Z"
   },
   {
    "duration": 0,
    "start_time": "2024-04-26T14:30:16.295Z"
   },
   {
    "duration": 0,
    "start_time": "2024-04-26T14:30:16.296Z"
   },
   {
    "duration": 0,
    "start_time": "2024-04-26T14:30:16.298Z"
   },
   {
    "duration": 0,
    "start_time": "2024-04-26T14:30:16.299Z"
   },
   {
    "duration": 0,
    "start_time": "2024-04-26T14:30:16.300Z"
   },
   {
    "duration": 0,
    "start_time": "2024-04-26T14:30:16.301Z"
   },
   {
    "duration": 0,
    "start_time": "2024-04-26T14:30:16.302Z"
   },
   {
    "duration": 0,
    "start_time": "2024-04-26T14:30:16.303Z"
   },
   {
    "duration": 0,
    "start_time": "2024-04-26T14:30:16.304Z"
   },
   {
    "duration": 0,
    "start_time": "2024-04-26T14:30:16.305Z"
   },
   {
    "duration": 0,
    "start_time": "2024-04-26T14:30:16.307Z"
   },
   {
    "duration": 0,
    "start_time": "2024-04-26T14:30:16.308Z"
   },
   {
    "duration": 0,
    "start_time": "2024-04-26T14:30:16.373Z"
   },
   {
    "duration": 0,
    "start_time": "2024-04-26T14:30:16.374Z"
   },
   {
    "duration": 0,
    "start_time": "2024-04-26T14:30:16.376Z"
   },
   {
    "duration": 0,
    "start_time": "2024-04-26T14:30:16.377Z"
   },
   {
    "duration": 0,
    "start_time": "2024-04-26T14:30:16.378Z"
   },
   {
    "duration": 0,
    "start_time": "2024-04-26T14:30:16.378Z"
   },
   {
    "duration": 0,
    "start_time": "2024-04-26T14:30:16.379Z"
   },
   {
    "duration": 0,
    "start_time": "2024-04-26T14:30:16.380Z"
   },
   {
    "duration": 0,
    "start_time": "2024-04-26T14:30:16.381Z"
   },
   {
    "duration": 0,
    "start_time": "2024-04-26T14:30:16.382Z"
   },
   {
    "duration": 0,
    "start_time": "2024-04-26T14:30:16.384Z"
   },
   {
    "duration": 0,
    "start_time": "2024-04-26T14:30:16.385Z"
   },
   {
    "duration": 0,
    "start_time": "2024-04-26T14:30:16.386Z"
   },
   {
    "duration": 0,
    "start_time": "2024-04-26T14:30:16.387Z"
   },
   {
    "duration": 0,
    "start_time": "2024-04-26T14:30:16.388Z"
   },
   {
    "duration": 0,
    "start_time": "2024-04-26T14:30:16.389Z"
   },
   {
    "duration": 0,
    "start_time": "2024-04-26T14:30:16.390Z"
   },
   {
    "duration": 0,
    "start_time": "2024-04-26T14:30:16.392Z"
   },
   {
    "duration": 0,
    "start_time": "2024-04-26T14:30:16.393Z"
   },
   {
    "duration": 0,
    "start_time": "2024-04-26T14:30:16.394Z"
   },
   {
    "duration": 0,
    "start_time": "2024-04-26T14:30:16.395Z"
   },
   {
    "duration": 0,
    "start_time": "2024-04-26T14:30:16.397Z"
   },
   {
    "duration": 0,
    "start_time": "2024-04-26T14:30:16.398Z"
   },
   {
    "duration": 0,
    "start_time": "2024-04-26T14:30:16.399Z"
   },
   {
    "duration": 0,
    "start_time": "2024-04-26T14:30:16.405Z"
   },
   {
    "duration": 0,
    "start_time": "2024-04-26T14:30:16.407Z"
   },
   {
    "duration": 0,
    "start_time": "2024-04-26T14:30:16.408Z"
   },
   {
    "duration": 0,
    "start_time": "2024-04-26T14:30:16.409Z"
   },
   {
    "duration": 0,
    "start_time": "2024-04-26T14:30:16.411Z"
   },
   {
    "duration": 0,
    "start_time": "2024-04-26T14:30:16.412Z"
   },
   {
    "duration": 0,
    "start_time": "2024-04-26T14:30:16.414Z"
   },
   {
    "duration": 0,
    "start_time": "2024-04-26T14:30:16.473Z"
   },
   {
    "duration": 0,
    "start_time": "2024-04-26T14:30:16.474Z"
   },
   {
    "duration": 0,
    "start_time": "2024-04-26T14:30:16.475Z"
   },
   {
    "duration": 0,
    "start_time": "2024-04-26T14:30:16.477Z"
   },
   {
    "duration": 0,
    "start_time": "2024-04-26T14:30:16.478Z"
   },
   {
    "duration": 0,
    "start_time": "2024-04-26T14:30:16.479Z"
   },
   {
    "duration": 0,
    "start_time": "2024-04-26T14:30:16.480Z"
   },
   {
    "duration": 0,
    "start_time": "2024-04-26T14:30:16.482Z"
   },
   {
    "duration": 0,
    "start_time": "2024-04-26T14:30:16.483Z"
   },
   {
    "duration": 0,
    "start_time": "2024-04-26T14:30:16.484Z"
   },
   {
    "duration": 0,
    "start_time": "2024-04-26T14:30:16.485Z"
   },
   {
    "duration": 0,
    "start_time": "2024-04-26T14:30:16.485Z"
   },
   {
    "duration": 0,
    "start_time": "2024-04-26T14:30:16.487Z"
   },
   {
    "duration": 0,
    "start_time": "2024-04-26T14:30:16.488Z"
   },
   {
    "duration": 0,
    "start_time": "2024-04-26T14:30:16.489Z"
   },
   {
    "duration": 0,
    "start_time": "2024-04-26T14:30:16.490Z"
   },
   {
    "duration": 0,
    "start_time": "2024-04-26T14:30:16.491Z"
   },
   {
    "duration": 0,
    "start_time": "2024-04-26T14:30:16.492Z"
   },
   {
    "duration": 0,
    "start_time": "2024-04-26T14:30:16.493Z"
   },
   {
    "duration": 0,
    "start_time": "2024-04-26T14:30:16.494Z"
   },
   {
    "duration": 0,
    "start_time": "2024-04-26T14:30:16.495Z"
   },
   {
    "duration": 0,
    "start_time": "2024-04-26T14:30:16.496Z"
   },
   {
    "duration": 0,
    "start_time": "2024-04-26T14:30:16.497Z"
   },
   {
    "duration": 0,
    "start_time": "2024-04-26T14:30:16.498Z"
   },
   {
    "duration": 0,
    "start_time": "2024-04-26T14:30:16.499Z"
   },
   {
    "duration": 0,
    "start_time": "2024-04-26T14:30:16.501Z"
   },
   {
    "duration": 0,
    "start_time": "2024-04-26T14:30:16.502Z"
   },
   {
    "duration": 0,
    "start_time": "2024-04-26T14:30:16.503Z"
   },
   {
    "duration": 0,
    "start_time": "2024-04-26T14:30:16.504Z"
   },
   {
    "duration": 0,
    "start_time": "2024-04-26T14:30:16.505Z"
   },
   {
    "duration": 0,
    "start_time": "2024-04-26T14:30:16.506Z"
   },
   {
    "duration": 24202,
    "start_time": "2024-04-26T14:31:29.369Z"
   },
   {
    "duration": 3222,
    "start_time": "2024-04-26T14:31:53.574Z"
   },
   {
    "duration": 3326,
    "start_time": "2024-04-26T14:32:01.268Z"
   },
   {
    "duration": 30137,
    "start_time": "2024-04-26T14:32:15.869Z"
   },
   {
    "duration": 3177,
    "start_time": "2024-04-26T14:32:46.008Z"
   },
   {
    "duration": 3,
    "start_time": "2024-04-26T14:39:09.016Z"
   },
   {
    "duration": 24797,
    "start_time": "2024-04-26T14:39:09.022Z"
   },
   {
    "duration": 3296,
    "start_time": "2024-04-26T14:39:33.822Z"
   },
   {
    "duration": 3171,
    "start_time": "2024-04-26T14:39:37.121Z"
   },
   {
    "duration": 3447,
    "start_time": "2024-04-26T14:39:40.294Z"
   },
   {
    "duration": 3389,
    "start_time": "2024-04-26T14:39:43.744Z"
   },
   {
    "duration": 6607,
    "start_time": "2024-04-26T14:39:47.135Z"
   },
   {
    "duration": 4,
    "start_time": "2024-04-26T14:39:53.743Z"
   },
   {
    "duration": 19,
    "start_time": "2024-04-26T14:39:53.749Z"
   },
   {
    "duration": 44,
    "start_time": "2024-04-26T14:39:53.770Z"
   },
   {
    "duration": 12,
    "start_time": "2024-04-26T14:39:53.816Z"
   },
   {
    "duration": 8002,
    "start_time": "2024-04-26T14:39:53.829Z"
   },
   {
    "duration": 4304,
    "start_time": "2024-04-26T14:40:01.833Z"
   },
   {
    "duration": 23,
    "start_time": "2024-04-26T14:40:06.139Z"
   },
   {
    "duration": 200,
    "start_time": "2024-04-26T14:40:06.167Z"
   },
   {
    "duration": 3,
    "start_time": "2024-04-26T14:40:06.374Z"
   },
   {
    "duration": 4063,
    "start_time": "2024-04-26T14:40:06.379Z"
   },
   {
    "duration": 10,
    "start_time": "2024-04-26T14:40:10.444Z"
   },
   {
    "duration": 247,
    "start_time": "2024-04-26T14:40:10.456Z"
   },
   {
    "duration": 2,
    "start_time": "2024-04-26T14:40:10.705Z"
   },
   {
    "duration": 5,
    "start_time": "2024-05-01T13:55:38.081Z"
   },
   {
    "duration": 27586,
    "start_time": "2024-05-01T13:55:38.480Z"
   },
   {
    "duration": 2733,
    "start_time": "2024-05-01T13:56:06.068Z"
   },
   {
    "duration": 2699,
    "start_time": "2024-05-01T13:56:08.802Z"
   },
   {
    "duration": 29777,
    "start_time": "2024-05-01T13:56:11.504Z"
   },
   {
    "duration": 2867,
    "start_time": "2024-05-01T13:56:41.283Z"
   },
   {
    "duration": 3815,
    "start_time": "2024-05-01T13:56:44.152Z"
   },
   {
    "duration": 4,
    "start_time": "2024-05-01T13:56:47.973Z"
   },
   {
    "duration": 28,
    "start_time": "2024-05-01T13:56:47.979Z"
   },
   {
    "duration": 4,
    "start_time": "2024-05-01T13:56:48.008Z"
   },
   {
    "duration": 26,
    "start_time": "2024-05-01T13:56:48.014Z"
   },
   {
    "duration": 8489,
    "start_time": "2024-05-01T13:56:48.042Z"
   },
   {
    "duration": 2025,
    "start_time": "2024-05-01T13:56:56.534Z"
   },
   {
    "duration": 0,
    "start_time": "2024-05-01T13:56:58.561Z"
   },
   {
    "duration": 0,
    "start_time": "2024-05-01T13:56:58.562Z"
   },
   {
    "duration": 0,
    "start_time": "2024-05-01T13:56:58.563Z"
   },
   {
    "duration": 0,
    "start_time": "2024-05-01T13:56:58.572Z"
   },
   {
    "duration": 0,
    "start_time": "2024-05-01T13:56:58.573Z"
   },
   {
    "duration": 0,
    "start_time": "2024-05-01T13:56:58.575Z"
   },
   {
    "duration": 0,
    "start_time": "2024-05-01T13:56:58.576Z"
   },
   {
    "duration": 3,
    "start_time": "2024-05-01T13:57:00.637Z"
   },
   {
    "duration": 489,
    "start_time": "2024-05-01T13:57:00.873Z"
   },
   {
    "duration": 93,
    "start_time": "2024-05-01T13:57:01.366Z"
   },
   {
    "duration": 49,
    "start_time": "2024-05-01T13:57:01.737Z"
   },
   {
    "duration": 14,
    "start_time": "2024-05-01T13:57:02.029Z"
   },
   {
    "duration": 11,
    "start_time": "2024-05-01T13:57:02.294Z"
   },
   {
    "duration": 10,
    "start_time": "2024-05-01T13:57:02.582Z"
   },
   {
    "duration": 40,
    "start_time": "2024-05-01T13:57:02.946Z"
   },
   {
    "duration": 13,
    "start_time": "2024-05-01T13:57:03.442Z"
   },
   {
    "duration": 24,
    "start_time": "2024-05-01T13:57:03.767Z"
   },
   {
    "duration": 3,
    "start_time": "2024-05-01T13:57:05.034Z"
   },
   {
    "duration": 47,
    "start_time": "2024-05-01T13:57:05.324Z"
   },
   {
    "duration": 19,
    "start_time": "2024-05-01T13:57:06.466Z"
   },
   {
    "duration": 12,
    "start_time": "2024-05-01T13:57:07.760Z"
   },
   {
    "duration": 3,
    "start_time": "2024-05-01T13:57:07.970Z"
   },
   {
    "duration": 58,
    "start_time": "2024-05-01T13:57:09.332Z"
   },
   {
    "duration": 13,
    "start_time": "2024-05-01T13:57:09.563Z"
   },
   {
    "duration": 11,
    "start_time": "2024-05-01T13:57:09.822Z"
   },
   {
    "duration": 3,
    "start_time": "2024-05-01T13:57:10.770Z"
   },
   {
    "duration": 661,
    "start_time": "2024-05-01T13:57:30.830Z"
   },
   {
    "duration": 5,
    "start_time": "2024-05-01T13:57:32.801Z"
   },
   {
    "duration": 9,
    "start_time": "2024-05-01T13:57:33.664Z"
   },
   {
    "duration": 11,
    "start_time": "2024-05-01T13:57:36.500Z"
   },
   {
    "duration": 1176,
    "start_time": "2024-05-01T13:57:37.709Z"
   },
   {
    "duration": 699,
    "start_time": "2024-05-01T13:59:01.783Z"
   },
   {
    "duration": 14,
    "start_time": "2024-05-01T14:01:08.218Z"
   },
   {
    "duration": 629,
    "start_time": "2024-05-01T14:02:09.036Z"
   },
   {
    "duration": 6,
    "start_time": "2024-05-01T14:02:10.265Z"
   },
   {
    "duration": 15,
    "start_time": "2024-05-01T14:02:10.524Z"
   },
   {
    "duration": 663,
    "start_time": "2024-05-01T14:02:38.100Z"
   },
   {
    "duration": 4,
    "start_time": "2024-05-01T14:02:39.220Z"
   },
   {
    "duration": 14,
    "start_time": "2024-05-01T14:02:39.667Z"
   },
   {
    "duration": 595,
    "start_time": "2024-05-01T14:02:57.877Z"
   },
   {
    "duration": 4,
    "start_time": "2024-05-01T14:02:58.474Z"
   },
   {
    "duration": 13,
    "start_time": "2024-05-01T14:02:58.767Z"
   },
   {
    "duration": 626,
    "start_time": "2024-05-01T14:03:16.142Z"
   },
   {
    "duration": 4,
    "start_time": "2024-05-01T14:03:17.139Z"
   },
   {
    "duration": 13,
    "start_time": "2024-05-01T14:03:17.435Z"
   },
   {
    "duration": 669,
    "start_time": "2024-05-01T14:03:43.263Z"
   },
   {
    "duration": 4,
    "start_time": "2024-05-01T14:03:43.934Z"
   },
   {
    "duration": 21,
    "start_time": "2024-05-01T14:03:43.940Z"
   },
   {
    "duration": 372,
    "start_time": "2024-05-01T14:38:08.944Z"
   },
   {
    "duration": 5,
    "start_time": "2024-05-01T14:38:09.998Z"
   },
   {
    "duration": 11,
    "start_time": "2024-05-01T14:38:10.224Z"
   },
   {
    "duration": 1333,
    "start_time": "2024-05-01T14:38:40.667Z"
   },
   {
    "duration": 1368,
    "start_time": "2024-05-01T14:39:09.785Z"
   },
   {
    "duration": 1235,
    "start_time": "2024-05-01T14:39:36.402Z"
   },
   {
    "duration": 298,
    "start_time": "2024-05-01T14:41:19.033Z"
   },
   {
    "duration": 899,
    "start_time": "2024-05-01T14:41:20.114Z"
   },
   {
    "duration": 0,
    "start_time": "2024-05-01T14:41:21.015Z"
   },
   {
    "duration": 10,
    "start_time": "2024-05-01T14:41:42.245Z"
   },
   {
    "duration": 10,
    "start_time": "2024-05-01T14:42:00.934Z"
   },
   {
    "duration": 1445,
    "start_time": "2024-05-01T14:42:01.520Z"
   },
   {
    "duration": 298,
    "start_time": "2024-05-01T14:42:54.693Z"
   },
   {
    "duration": 11,
    "start_time": "2024-05-01T14:42:55.600Z"
   },
   {
    "duration": 294,
    "start_time": "2024-05-01T14:43:04.523Z"
   },
   {
    "duration": 10,
    "start_time": "2024-05-01T14:43:05.091Z"
   },
   {
    "duration": 383,
    "start_time": "2024-05-01T14:44:43.900Z"
   },
   {
    "duration": 10,
    "start_time": "2024-05-01T14:44:44.637Z"
   },
   {
    "duration": 372,
    "start_time": "2024-05-01T14:44:54.907Z"
   },
   {
    "duration": 9,
    "start_time": "2024-05-01T14:44:55.281Z"
   },
   {
    "duration": 11,
    "start_time": "2024-05-01T14:44:57.184Z"
   },
   {
    "duration": 552,
    "start_time": "2024-05-01T14:45:03.067Z"
   },
   {
    "duration": 619,
    "start_time": "2024-05-01T14:45:45.813Z"
   },
   {
    "duration": 14,
    "start_time": "2024-05-01T14:45:46.904Z"
   },
   {
    "duration": 12,
    "start_time": "2024-05-01T14:45:52.253Z"
   },
   {
    "duration": 515,
    "start_time": "2024-05-01T14:46:04.752Z"
   },
   {
    "duration": 3,
    "start_time": "2024-05-01T19:08:19.871Z"
   },
   {
    "duration": 21448,
    "start_time": "2024-05-01T19:08:19.876Z"
   },
   {
    "duration": 2734,
    "start_time": "2024-05-01T19:08:41.326Z"
   },
   {
    "duration": 3,
    "start_time": "2024-05-01T19:08:49.884Z"
   },
   {
    "duration": 23067,
    "start_time": "2024-05-01T19:08:49.889Z"
   },
   {
    "duration": 2709,
    "start_time": "2024-05-01T19:09:12.958Z"
   },
   {
    "duration": 2698,
    "start_time": "2024-05-01T19:09:15.670Z"
   },
   {
    "duration": 2888,
    "start_time": "2024-05-01T19:09:18.370Z"
   },
   {
    "duration": 2778,
    "start_time": "2024-05-01T19:09:21.260Z"
   },
   {
    "duration": 3504,
    "start_time": "2024-05-01T19:09:24.040Z"
   },
   {
    "duration": 3,
    "start_time": "2024-05-01T19:09:27.546Z"
   },
   {
    "duration": 10,
    "start_time": "2024-05-01T19:09:27.550Z"
   },
   {
    "duration": 26,
    "start_time": "2024-05-01T19:09:27.563Z"
   },
   {
    "duration": 8,
    "start_time": "2024-05-01T19:09:27.591Z"
   },
   {
    "duration": 7343,
    "start_time": "2024-05-01T19:09:27.601Z"
   },
   {
    "duration": 39,
    "start_time": "2024-05-01T19:09:34.946Z"
   },
   {
    "duration": 12,
    "start_time": "2024-05-01T19:09:34.987Z"
   },
   {
    "duration": 11,
    "start_time": "2024-05-01T19:09:35.001Z"
   },
   {
    "duration": 12,
    "start_time": "2024-05-01T19:09:35.014Z"
   },
   {
    "duration": 44,
    "start_time": "2024-05-01T19:09:35.028Z"
   },
   {
    "duration": 11,
    "start_time": "2024-05-01T19:09:35.074Z"
   },
   {
    "duration": 12,
    "start_time": "2024-05-01T19:09:35.087Z"
   },
   {
    "duration": 10,
    "start_time": "2024-05-01T19:09:35.101Z"
   },
   {
    "duration": 42,
    "start_time": "2024-05-01T19:09:35.112Z"
   },
   {
    "duration": 20,
    "start_time": "2024-05-01T19:09:35.155Z"
   },
   {
    "duration": 25,
    "start_time": "2024-05-01T19:09:35.177Z"
   },
   {
    "duration": 7,
    "start_time": "2024-05-01T19:09:35.204Z"
   },
   {
    "duration": 38,
    "start_time": "2024-05-01T19:09:35.213Z"
   },
   {
    "duration": 14,
    "start_time": "2024-05-01T19:09:35.253Z"
   },
   {
    "duration": 13,
    "start_time": "2024-05-01T19:09:35.268Z"
   },
   {
    "duration": 16,
    "start_time": "2024-05-01T19:09:35.287Z"
   },
   {
    "duration": 55324,
    "start_time": "2024-05-01T19:09:35.305Z"
   },
   {
    "duration": 15,
    "start_time": "2024-05-01T19:10:30.630Z"
   },
   {
    "duration": 67,
    "start_time": "2024-05-01T19:10:30.646Z"
   },
   {
    "duration": 568,
    "start_time": "2024-05-01T19:10:30.716Z"
   },
   {
    "duration": 3,
    "start_time": "2024-05-01T19:10:31.286Z"
   },
   {
    "duration": 44,
    "start_time": "2024-05-01T19:10:31.290Z"
   },
   {
    "duration": 41,
    "start_time": "2024-05-01T19:10:31.336Z"
   },
   {
    "duration": 256,
    "start_time": "2024-05-01T19:10:31.379Z"
   },
   {
    "duration": 10,
    "start_time": "2024-05-01T19:10:31.637Z"
   },
   {
    "duration": 33,
    "start_time": "2024-05-01T19:10:31.649Z"
   },
   {
    "duration": 512,
    "start_time": "2024-05-01T19:10:31.683Z"
   },
   {
    "duration": 2,
    "start_time": "2024-05-01T19:10:32.197Z"
   },
   {
    "duration": 4,
    "start_time": "2024-05-01T19:10:32.201Z"
   },
   {
    "duration": 345,
    "start_time": "2024-05-01T19:10:32.207Z"
   },
   {
    "duration": 0,
    "start_time": "2024-05-01T19:10:32.557Z"
   },
   {
    "duration": 0,
    "start_time": "2024-05-01T19:10:32.559Z"
   },
   {
    "duration": 0,
    "start_time": "2024-05-01T19:10:32.560Z"
   },
   {
    "duration": 0,
    "start_time": "2024-05-01T19:10:32.561Z"
   },
   {
    "duration": 0,
    "start_time": "2024-05-01T19:10:32.562Z"
   },
   {
    "duration": 0,
    "start_time": "2024-05-01T19:10:32.563Z"
   },
   {
    "duration": 0,
    "start_time": "2024-05-01T19:10:32.564Z"
   },
   {
    "duration": 0,
    "start_time": "2024-05-01T19:10:32.565Z"
   },
   {
    "duration": 0,
    "start_time": "2024-05-01T19:10:32.566Z"
   },
   {
    "duration": 0,
    "start_time": "2024-05-01T19:10:32.567Z"
   },
   {
    "duration": 0,
    "start_time": "2024-05-01T19:10:32.568Z"
   },
   {
    "duration": 0,
    "start_time": "2024-05-01T19:10:32.569Z"
   },
   {
    "duration": 0,
    "start_time": "2024-05-01T19:10:32.570Z"
   },
   {
    "duration": 0,
    "start_time": "2024-05-01T19:10:32.571Z"
   },
   {
    "duration": 0,
    "start_time": "2024-05-01T19:10:32.573Z"
   },
   {
    "duration": 0,
    "start_time": "2024-05-01T19:10:32.574Z"
   },
   {
    "duration": 0,
    "start_time": "2024-05-01T19:10:32.575Z"
   },
   {
    "duration": 0,
    "start_time": "2024-05-01T19:10:32.576Z"
   },
   {
    "duration": 0,
    "start_time": "2024-05-01T19:10:32.577Z"
   },
   {
    "duration": 0,
    "start_time": "2024-05-01T19:10:32.578Z"
   },
   {
    "duration": 0,
    "start_time": "2024-05-01T19:10:32.579Z"
   },
   {
    "duration": 0,
    "start_time": "2024-05-01T19:10:32.580Z"
   },
   {
    "duration": 1,
    "start_time": "2024-05-01T19:10:32.580Z"
   },
   {
    "duration": 0,
    "start_time": "2024-05-01T19:10:32.582Z"
   },
   {
    "duration": 0,
    "start_time": "2024-05-01T19:10:32.583Z"
   },
   {
    "duration": 0,
    "start_time": "2024-05-01T19:10:32.584Z"
   },
   {
    "duration": 0,
    "start_time": "2024-05-01T19:10:32.585Z"
   },
   {
    "duration": 0,
    "start_time": "2024-05-01T19:10:32.586Z"
   },
   {
    "duration": 0,
    "start_time": "2024-05-01T19:10:32.588Z"
   },
   {
    "duration": 0,
    "start_time": "2024-05-01T19:10:32.588Z"
   },
   {
    "duration": 0,
    "start_time": "2024-05-01T19:10:32.589Z"
   },
   {
    "duration": 0,
    "start_time": "2024-05-01T19:10:32.590Z"
   },
   {
    "duration": 0,
    "start_time": "2024-05-01T19:10:32.592Z"
   },
   {
    "duration": 0,
    "start_time": "2024-05-01T19:10:32.593Z"
   },
   {
    "duration": 0,
    "start_time": "2024-05-01T19:10:32.594Z"
   },
   {
    "duration": 0,
    "start_time": "2024-05-01T19:10:32.595Z"
   },
   {
    "duration": 0,
    "start_time": "2024-05-01T19:10:32.596Z"
   },
   {
    "duration": 0,
    "start_time": "2024-05-01T19:10:32.597Z"
   },
   {
    "duration": 0,
    "start_time": "2024-05-01T19:10:32.598Z"
   },
   {
    "duration": 0,
    "start_time": "2024-05-01T19:10:32.600Z"
   },
   {
    "duration": 0,
    "start_time": "2024-05-01T19:10:32.601Z"
   },
   {
    "duration": 0,
    "start_time": "2024-05-01T19:10:32.602Z"
   },
   {
    "duration": 0,
    "start_time": "2024-05-01T19:10:32.603Z"
   },
   {
    "duration": 0,
    "start_time": "2024-05-01T19:10:32.604Z"
   },
   {
    "duration": 0,
    "start_time": "2024-05-01T19:10:32.605Z"
   },
   {
    "duration": 0,
    "start_time": "2024-05-01T19:10:32.606Z"
   },
   {
    "duration": 0,
    "start_time": "2024-05-01T19:10:32.607Z"
   },
   {
    "duration": 0,
    "start_time": "2024-05-01T19:10:32.608Z"
   },
   {
    "duration": 0,
    "start_time": "2024-05-01T19:10:32.609Z"
   },
   {
    "duration": 0,
    "start_time": "2024-05-01T19:10:32.672Z"
   },
   {
    "duration": 0,
    "start_time": "2024-05-01T19:10:32.674Z"
   },
   {
    "duration": 0,
    "start_time": "2024-05-01T19:10:32.675Z"
   },
   {
    "duration": 0,
    "start_time": "2024-05-01T19:10:32.676Z"
   },
   {
    "duration": 0,
    "start_time": "2024-05-01T19:10:32.677Z"
   },
   {
    "duration": 0,
    "start_time": "2024-05-01T19:10:32.678Z"
   },
   {
    "duration": 0,
    "start_time": "2024-05-01T19:10:32.680Z"
   },
   {
    "duration": 0,
    "start_time": "2024-05-01T19:10:32.681Z"
   },
   {
    "duration": 0,
    "start_time": "2024-05-01T19:10:32.681Z"
   },
   {
    "duration": 0,
    "start_time": "2024-05-01T19:10:32.682Z"
   },
   {
    "duration": 0,
    "start_time": "2024-05-01T19:10:32.683Z"
   },
   {
    "duration": 0,
    "start_time": "2024-05-01T19:10:32.684Z"
   },
   {
    "duration": 0,
    "start_time": "2024-05-01T19:10:32.685Z"
   },
   {
    "duration": 0,
    "start_time": "2024-05-01T19:10:32.686Z"
   },
   {
    "duration": 0,
    "start_time": "2024-05-01T19:10:32.687Z"
   },
   {
    "duration": 0,
    "start_time": "2024-05-01T19:10:32.689Z"
   },
   {
    "duration": 0,
    "start_time": "2024-05-01T19:10:32.690Z"
   },
   {
    "duration": 0,
    "start_time": "2024-05-01T19:10:32.691Z"
   },
   {
    "duration": 0,
    "start_time": "2024-05-01T19:10:32.692Z"
   },
   {
    "duration": 0,
    "start_time": "2024-05-01T19:10:32.693Z"
   },
   {
    "duration": 0,
    "start_time": "2024-05-01T19:10:32.694Z"
   },
   {
    "duration": 0,
    "start_time": "2024-05-01T19:10:32.695Z"
   },
   {
    "duration": 0,
    "start_time": "2024-05-01T19:10:32.696Z"
   },
   {
    "duration": 0,
    "start_time": "2024-05-01T19:10:32.697Z"
   },
   {
    "duration": 0,
    "start_time": "2024-05-01T19:10:32.698Z"
   },
   {
    "duration": 0,
    "start_time": "2024-05-01T19:10:32.698Z"
   },
   {
    "duration": 0,
    "start_time": "2024-05-01T19:10:32.699Z"
   },
   {
    "duration": 0,
    "start_time": "2024-05-01T19:10:32.701Z"
   },
   {
    "duration": 0,
    "start_time": "2024-05-01T19:10:32.702Z"
   },
   {
    "duration": 0,
    "start_time": "2024-05-01T19:10:32.703Z"
   },
   {
    "duration": 0,
    "start_time": "2024-05-01T19:10:32.705Z"
   },
   {
    "duration": 0,
    "start_time": "2024-05-01T19:10:32.706Z"
   },
   {
    "duration": 0,
    "start_time": "2024-05-01T19:10:32.707Z"
   },
   {
    "duration": 0,
    "start_time": "2024-05-01T19:10:32.709Z"
   },
   {
    "duration": 0,
    "start_time": "2024-05-01T19:10:32.773Z"
   },
   {
    "duration": 0,
    "start_time": "2024-05-01T19:10:32.774Z"
   },
   {
    "duration": 0,
    "start_time": "2024-05-01T19:10:32.776Z"
   },
   {
    "duration": 0,
    "start_time": "2024-05-01T19:10:32.777Z"
   },
   {
    "duration": 0,
    "start_time": "2024-05-01T19:10:32.778Z"
   },
   {
    "duration": 0,
    "start_time": "2024-05-01T19:10:32.779Z"
   },
   {
    "duration": 0,
    "start_time": "2024-05-01T19:10:32.780Z"
   },
   {
    "duration": 0,
    "start_time": "2024-05-01T19:10:32.781Z"
   },
   {
    "duration": 0,
    "start_time": "2024-05-01T19:10:32.782Z"
   },
   {
    "duration": 0,
    "start_time": "2024-05-01T19:10:32.783Z"
   },
   {
    "duration": 0,
    "start_time": "2024-05-01T19:10:32.785Z"
   },
   {
    "duration": 0,
    "start_time": "2024-05-01T19:10:32.786Z"
   },
   {
    "duration": 0,
    "start_time": "2024-05-01T19:10:32.787Z"
   },
   {
    "duration": 0,
    "start_time": "2024-05-01T19:10:32.788Z"
   },
   {
    "duration": 0,
    "start_time": "2024-05-01T19:10:32.789Z"
   },
   {
    "duration": 0,
    "start_time": "2024-05-01T19:10:32.791Z"
   },
   {
    "duration": 0,
    "start_time": "2024-05-01T19:10:32.793Z"
   },
   {
    "duration": 0,
    "start_time": "2024-05-01T19:10:32.794Z"
   },
   {
    "duration": 0,
    "start_time": "2024-05-01T19:10:32.795Z"
   },
   {
    "duration": 0,
    "start_time": "2024-05-01T19:10:32.796Z"
   },
   {
    "duration": 0,
    "start_time": "2024-05-01T19:10:32.797Z"
   },
   {
    "duration": 0,
    "start_time": "2024-05-01T19:10:32.798Z"
   },
   {
    "duration": 0,
    "start_time": "2024-05-01T19:10:32.799Z"
   },
   {
    "duration": 0,
    "start_time": "2024-05-01T19:10:32.801Z"
   },
   {
    "duration": 0,
    "start_time": "2024-05-01T19:10:32.802Z"
   },
   {
    "duration": 0,
    "start_time": "2024-05-01T19:10:32.803Z"
   },
   {
    "duration": 0,
    "start_time": "2024-05-01T19:10:32.805Z"
   },
   {
    "duration": 0,
    "start_time": "2024-05-01T19:10:32.806Z"
   },
   {
    "duration": 0,
    "start_time": "2024-05-01T19:10:32.807Z"
   },
   {
    "duration": 0,
    "start_time": "2024-05-01T19:10:32.808Z"
   },
   {
    "duration": 0,
    "start_time": "2024-05-01T19:10:32.809Z"
   },
   {
    "duration": 0,
    "start_time": "2024-05-01T19:10:32.874Z"
   },
   {
    "duration": 0,
    "start_time": "2024-05-01T19:10:32.875Z"
   },
   {
    "duration": 0,
    "start_time": "2024-05-01T19:10:32.877Z"
   },
   {
    "duration": 0,
    "start_time": "2024-05-01T19:10:32.878Z"
   },
   {
    "duration": 0,
    "start_time": "2024-05-01T19:10:32.880Z"
   },
   {
    "duration": 0,
    "start_time": "2024-05-01T19:10:32.882Z"
   },
   {
    "duration": 0,
    "start_time": "2024-05-01T19:10:32.883Z"
   },
   {
    "duration": 0,
    "start_time": "2024-05-01T19:10:32.884Z"
   },
   {
    "duration": 0,
    "start_time": "2024-05-01T19:10:32.885Z"
   },
   {
    "duration": 0,
    "start_time": "2024-05-01T19:10:32.886Z"
   },
   {
    "duration": 0,
    "start_time": "2024-05-01T19:10:32.887Z"
   },
   {
    "duration": 0,
    "start_time": "2024-05-01T19:10:32.888Z"
   },
   {
    "duration": 0,
    "start_time": "2024-05-01T19:10:32.889Z"
   },
   {
    "duration": 0,
    "start_time": "2024-05-01T19:10:32.890Z"
   },
   {
    "duration": 0,
    "start_time": "2024-05-01T19:10:32.891Z"
   },
   {
    "duration": 0,
    "start_time": "2024-05-01T19:10:32.892Z"
   },
   {
    "duration": 0,
    "start_time": "2024-05-01T19:10:32.893Z"
   },
   {
    "duration": 0,
    "start_time": "2024-05-01T19:10:32.894Z"
   },
   {
    "duration": 0,
    "start_time": "2024-05-01T19:10:32.895Z"
   },
   {
    "duration": 0,
    "start_time": "2024-05-01T19:10:32.896Z"
   },
   {
    "duration": 0,
    "start_time": "2024-05-01T19:10:32.897Z"
   },
   {
    "duration": 0,
    "start_time": "2024-05-01T19:10:32.898Z"
   },
   {
    "duration": 0,
    "start_time": "2024-05-01T19:10:32.899Z"
   },
   {
    "duration": 0,
    "start_time": "2024-05-01T19:10:32.901Z"
   },
   {
    "duration": 0,
    "start_time": "2024-05-01T19:10:32.901Z"
   },
   {
    "duration": 4895,
    "start_time": "2024-05-01T19:12:33.715Z"
   },
   {
    "duration": 11,
    "start_time": "2024-05-01T19:12:39.914Z"
   },
   {
    "duration": 8,
    "start_time": "2024-05-01T19:12:40.704Z"
   },
   {
    "duration": 520,
    "start_time": "2024-05-01T19:12:43.433Z"
   },
   {
    "duration": 3,
    "start_time": "2024-05-01T19:12:44.752Z"
   },
   {
    "duration": 3,
    "start_time": "2024-05-01T19:12:45.899Z"
   },
   {
    "duration": 515,
    "start_time": "2024-05-01T19:12:46.206Z"
   },
   {
    "duration": 11,
    "start_time": "2024-05-01T19:12:46.723Z"
   },
   {
    "duration": 8,
    "start_time": "2024-05-01T19:12:47.508Z"
   },
   {
    "duration": 506,
    "start_time": "2024-05-01T19:12:47.710Z"
   },
   {
    "duration": 2,
    "start_time": "2024-05-01T19:12:48.326Z"
   },
   {
    "duration": 2,
    "start_time": "2024-05-01T19:12:51.089Z"
   },
   {
    "duration": 10693,
    "start_time": "2024-05-01T19:12:52.469Z"
   },
   {
    "duration": 341,
    "start_time": "2024-05-01T19:13:03.164Z"
   },
   {
    "duration": 715,
    "start_time": "2024-05-01T19:13:03.507Z"
   },
   {
    "duration": 30,
    "start_time": "2024-05-01T19:13:04.224Z"
   },
   {
    "duration": 164,
    "start_time": "2024-05-01T19:13:04.256Z"
   },
   {
    "duration": 168,
    "start_time": "2024-05-01T19:13:04.422Z"
   },
   {
    "duration": 131,
    "start_time": "2024-05-01T19:13:04.592Z"
   },
   {
    "duration": 244,
    "start_time": "2024-05-01T19:13:04.725Z"
   },
   {
    "duration": 30,
    "start_time": "2024-05-01T19:13:04.973Z"
   },
   {
    "duration": 20,
    "start_time": "2024-05-01T19:13:05.006Z"
   },
   {
    "duration": 23,
    "start_time": "2024-05-01T19:13:05.028Z"
   },
   {
    "duration": 52,
    "start_time": "2024-05-01T19:13:05.053Z"
   },
   {
    "duration": 27,
    "start_time": "2024-05-01T19:13:05.107Z"
   },
   {
    "duration": 11,
    "start_time": "2024-05-01T19:13:05.136Z"
   },
   {
    "duration": 25,
    "start_time": "2024-05-01T19:13:05.149Z"
   },
   {
    "duration": 14,
    "start_time": "2024-05-01T19:13:05.176Z"
   },
   {
    "duration": 13,
    "start_time": "2024-05-01T19:13:05.191Z"
   },
   {
    "duration": 33,
    "start_time": "2024-05-01T19:13:05.205Z"
   },
   {
    "duration": 21,
    "start_time": "2024-05-01T19:13:05.733Z"
   },
   {
    "duration": 3,
    "start_time": "2024-05-01T19:13:05.989Z"
   },
   {
    "duration": 4,
    "start_time": "2024-05-01T19:13:06.200Z"
   },
   {
    "duration": 42,
    "start_time": "2024-05-01T19:13:06.497Z"
   },
   {
    "duration": 34,
    "start_time": "2024-05-01T19:13:06.750Z"
   },
   {
    "duration": 22,
    "start_time": "2024-05-01T19:13:07.243Z"
   },
   {
    "duration": 2,
    "start_time": "2024-05-01T19:13:07.643Z"
   },
   {
    "duration": 4,
    "start_time": "2024-05-01T19:13:07.859Z"
   },
   {
    "duration": 41,
    "start_time": "2024-05-01T19:13:08.149Z"
   },
   {
    "duration": 7,
    "start_time": "2024-05-01T19:13:08.480Z"
   },
   {
    "duration": 8,
    "start_time": "2024-05-01T19:13:09.795Z"
   },
   {
    "duration": 6,
    "start_time": "2024-05-01T19:13:11.410Z"
   },
   {
    "duration": 24,
    "start_time": "2024-05-01T19:13:11.845Z"
   },
   {
    "duration": 6,
    "start_time": "2024-05-01T19:13:12.623Z"
   },
   {
    "duration": 305,
    "start_time": "2024-05-01T19:13:13.363Z"
   },
   {
    "duration": 14,
    "start_time": "2024-05-01T19:13:13.672Z"
   },
   {
    "duration": 2,
    "start_time": "2024-05-01T19:13:15.085Z"
   },
   {
    "duration": 30,
    "start_time": "2024-05-01T19:13:16.029Z"
   },
   {
    "duration": 6,
    "start_time": "2024-05-01T19:13:17.947Z"
   },
   {
    "duration": 73,
    "start_time": "2024-05-01T19:13:20.577Z"
   },
   {
    "duration": 8,
    "start_time": "2024-05-01T19:13:21.245Z"
   },
   {
    "duration": 7,
    "start_time": "2024-05-01T19:13:21.621Z"
   },
   {
    "duration": 16,
    "start_time": "2024-05-01T19:13:22.222Z"
   },
   {
    "duration": 15,
    "start_time": "2024-05-01T19:13:22.525Z"
   },
   {
    "duration": 4,
    "start_time": "2024-05-01T19:13:22.779Z"
   },
   {
    "duration": 30,
    "start_time": "2024-05-01T19:13:23.189Z"
   },
   {
    "duration": 188,
    "start_time": "2024-05-01T19:13:23.431Z"
   },
   {
    "duration": 151,
    "start_time": "2024-05-01T19:13:23.724Z"
   },
   {
    "duration": 20,
    "start_time": "2024-05-01T19:13:24.042Z"
   },
   {
    "duration": 50,
    "start_time": "2024-05-01T19:13:25.013Z"
   },
   {
    "duration": 22,
    "start_time": "2024-05-01T19:13:25.468Z"
   },
   {
    "duration": 25065,
    "start_time": "2024-05-01T19:13:26.146Z"
   },
   {
    "duration": 1391,
    "start_time": "2024-05-01T19:14:19.181Z"
   },
   {
    "duration": 1356,
    "start_time": "2024-05-01T19:14:22.658Z"
   },
   {
    "duration": 31,
    "start_time": "2024-05-01T19:15:13.990Z"
   },
   {
    "duration": 22348,
    "start_time": "2024-05-01T19:15:15.937Z"
   },
   {
    "duration": 3,
    "start_time": "2024-05-01T19:17:02.821Z"
   },
   {
    "duration": 3,
    "start_time": "2024-05-01T19:17:03.320Z"
   },
   {
    "duration": 33,
    "start_time": "2024-05-01T19:17:03.834Z"
   },
   {
    "duration": 16,
    "start_time": "2024-05-01T19:17:05.639Z"
   },
   {
    "duration": 5,
    "start_time": "2024-05-01T19:17:06.236Z"
   },
   {
    "duration": 130,
    "start_time": "2024-05-01T19:17:07.215Z"
   },
   {
    "duration": 3,
    "start_time": "2024-05-01T19:17:08.272Z"
   },
   {
    "duration": 4,
    "start_time": "2024-05-01T19:17:08.710Z"
   },
   {
    "duration": 4,
    "start_time": "2024-05-01T19:17:09.572Z"
   },
   {
    "duration": 3,
    "start_time": "2024-05-01T19:17:09.769Z"
   },
   {
    "duration": 4,
    "start_time": "2024-05-01T19:17:10.535Z"
   },
   {
    "duration": 1269,
    "start_time": "2024-05-01T19:17:11.262Z"
   },
   {
    "duration": 25,
    "start_time": "2024-05-01T19:17:12.533Z"
   },
   {
    "duration": 22,
    "start_time": "2024-05-01T19:17:12.560Z"
   },
   {
    "duration": 4,
    "start_time": "2024-05-01T19:17:12.585Z"
   },
   {
    "duration": 4,
    "start_time": "2024-05-01T19:17:12.590Z"
   },
   {
    "duration": 4,
    "start_time": "2024-05-01T19:17:12.909Z"
   },
   {
    "duration": 4,
    "start_time": "2024-05-01T19:17:13.422Z"
   },
   {
    "duration": 150950,
    "start_time": "2024-05-01T19:17:14.027Z"
   },
   {
    "duration": 91,
    "start_time": "2024-05-01T19:19:44.982Z"
   },
   {
    "duration": 32,
    "start_time": "2024-05-01T19:19:45.075Z"
   },
   {
    "duration": 22,
    "start_time": "2024-05-01T19:19:45.109Z"
   },
   {
    "duration": 150,
    "start_time": "2024-05-01T19:19:45.136Z"
   },
   {
    "duration": 11,
    "start_time": "2024-05-01T19:19:45.288Z"
   },
   {
    "duration": 22,
    "start_time": "2024-05-01T19:19:45.301Z"
   },
   {
    "duration": 104816,
    "start_time": "2024-05-01T19:19:45.325Z"
   },
   {
    "duration": 3,
    "start_time": "2024-05-01T19:21:30.142Z"
   },
   {
    "duration": 52,
    "start_time": "2024-05-01T19:21:30.149Z"
   },
   {
    "duration": 813,
    "start_time": "2024-05-01T19:21:30.203Z"
   },
   {
    "duration": 65,
    "start_time": "2024-05-01T19:21:31.018Z"
   },
   {
    "duration": 88,
    "start_time": "2024-05-01T19:21:31.085Z"
   },
   {
    "duration": 96,
    "start_time": "2024-05-01T19:21:31.175Z"
   },
   {
    "duration": 80,
    "start_time": "2024-05-01T19:21:31.273Z"
   },
   {
    "duration": 112,
    "start_time": "2024-05-01T19:21:31.355Z"
   },
   {
    "duration": 37,
    "start_time": "2024-05-01T19:21:31.469Z"
   },
   {
    "duration": 41,
    "start_time": "2024-05-01T19:21:31.508Z"
   },
   {
    "duration": 53,
    "start_time": "2024-05-01T19:21:31.550Z"
   },
   {
    "duration": 80,
    "start_time": "2024-05-01T19:21:31.606Z"
   },
   {
    "duration": 29,
    "start_time": "2024-05-01T19:21:31.688Z"
   },
   {
    "duration": 28,
    "start_time": "2024-05-01T19:21:31.719Z"
   },
   {
    "duration": 118448,
    "start_time": "2024-05-01T19:21:31.749Z"
   },
   {
    "duration": 6,
    "start_time": "2024-05-01T19:23:30.199Z"
   },
   {
    "duration": 88,
    "start_time": "2024-05-01T19:23:30.207Z"
   },
   {
    "duration": 97,
    "start_time": "2024-05-01T19:23:30.297Z"
   },
   {
    "duration": 71,
    "start_time": "2024-05-01T19:23:30.396Z"
   },
   {
    "duration": 665316,
    "start_time": "2024-05-01T19:23:30.472Z"
   },
   {
    "duration": 4,
    "start_time": "2024-05-01T19:34:35.790Z"
   },
   {
    "duration": 17,
    "start_time": "2024-05-01T19:34:35.796Z"
   },
   {
    "duration": 22,
    "start_time": "2024-05-01T19:34:35.815Z"
   },
   {
    "duration": 11,
    "start_time": "2024-05-01T19:34:35.839Z"
   },
   {
    "duration": 30,
    "start_time": "2024-05-01T19:34:35.872Z"
   },
   {
    "duration": 47,
    "start_time": "2024-05-01T19:34:35.904Z"
   },
   {
    "duration": 243,
    "start_time": "2024-05-01T19:34:35.954Z"
   },
   {
    "duration": 115,
    "start_time": "2024-05-01T19:34:36.199Z"
   },
   {
    "duration": 4,
    "start_time": "2024-05-01T19:34:36.316Z"
   },
   {
    "duration": 28,
    "start_time": "2024-05-01T19:34:36.322Z"
   },
   {
    "duration": 50,
    "start_time": "2024-05-01T19:34:36.352Z"
   },
   {
    "duration": 197,
    "start_time": "2024-05-01T19:34:36.404Z"
   },
   {
    "duration": 119,
    "start_time": "2024-05-01T19:34:36.603Z"
   },
   {
    "duration": 4,
    "start_time": "2024-05-01T19:34:36.724Z"
   },
   {
    "duration": 33,
    "start_time": "2024-05-01T19:34:36.729Z"
   },
   {
    "duration": 55,
    "start_time": "2024-05-01T19:34:36.764Z"
   },
   {
    "duration": 198,
    "start_time": "2024-05-01T19:34:36.821Z"
   },
   {
    "duration": 128,
    "start_time": "2024-05-01T19:34:37.021Z"
   },
   {
    "duration": 4,
    "start_time": "2024-05-01T19:34:37.151Z"
   },
   {
    "duration": 18,
    "start_time": "2024-05-01T19:34:37.156Z"
   },
   {
    "duration": 64,
    "start_time": "2024-05-01T19:34:37.176Z"
   },
   {
    "duration": 162,
    "start_time": "2024-05-01T19:34:37.242Z"
   },
   {
    "duration": 425,
    "start_time": "2024-05-01T19:34:37.406Z"
   },
   {
    "duration": 4,
    "start_time": "2024-05-01T19:34:37.833Z"
   },
   {
    "duration": 10,
    "start_time": "2024-05-01T19:34:37.839Z"
   },
   {
    "duration": 3,
    "start_time": "2024-05-01T19:34:37.851Z"
   },
   {
    "duration": 12,
    "start_time": "2024-05-01T19:34:37.855Z"
   },
   {
    "duration": 10,
    "start_time": "2024-05-01T19:34:37.873Z"
   },
   {
    "duration": 7,
    "start_time": "2024-05-01T19:34:37.884Z"
   },
   {
    "duration": 21,
    "start_time": "2024-05-01T19:34:37.893Z"
   },
   {
    "duration": 35,
    "start_time": "2024-05-01T19:34:37.915Z"
   },
   {
    "duration": 22,
    "start_time": "2024-05-01T19:34:37.952Z"
   },
   {
    "duration": 188,
    "start_time": "2024-05-01T19:34:37.975Z"
   },
   {
    "duration": 27069,
    "start_time": "2024-05-02T20:01:44.707Z"
   },
   {
    "duration": 2630,
    "start_time": "2024-05-02T20:02:11.778Z"
   },
   {
    "duration": 2566,
    "start_time": "2024-05-02T20:02:14.410Z"
   },
   {
    "duration": 27803,
    "start_time": "2024-05-02T20:02:16.979Z"
   },
   {
    "duration": 2708,
    "start_time": "2024-05-02T20:02:44.784Z"
   },
   {
    "duration": 3550,
    "start_time": "2024-05-02T20:02:47.494Z"
   },
   {
    "duration": 3,
    "start_time": "2024-05-02T20:02:51.045Z"
   },
   {
    "duration": 20,
    "start_time": "2024-05-02T20:02:51.050Z"
   },
   {
    "duration": 8,
    "start_time": "2024-05-02T20:02:51.072Z"
   },
   {
    "duration": 4,
    "start_time": "2024-05-02T20:02:51.083Z"
   },
   {
    "duration": 7251,
    "start_time": "2024-05-02T20:02:51.089Z"
   },
   {
    "duration": 53,
    "start_time": "2024-05-02T20:02:58.342Z"
   },
   {
    "duration": 15,
    "start_time": "2024-05-02T20:02:58.397Z"
   },
   {
    "duration": 14,
    "start_time": "2024-05-02T20:02:58.414Z"
   },
   {
    "duration": 3,
    "start_time": "2024-05-02T20:02:58.430Z"
   },
   {
    "duration": 40,
    "start_time": "2024-05-02T20:02:58.435Z"
   },
   {
    "duration": 10,
    "start_time": "2024-05-02T20:02:58.477Z"
   },
   {
    "duration": 24,
    "start_time": "2024-05-02T20:02:58.489Z"
   },
   {
    "duration": 15,
    "start_time": "2024-05-02T20:02:58.514Z"
   },
   {
    "duration": 57,
    "start_time": "2024-05-02T20:02:58.531Z"
   },
   {
    "duration": 20,
    "start_time": "2024-05-02T20:02:58.590Z"
   },
   {
    "duration": 34,
    "start_time": "2024-05-02T20:02:58.612Z"
   },
   {
    "duration": 17,
    "start_time": "2024-05-02T20:02:58.647Z"
   },
   {
    "duration": 69,
    "start_time": "2024-05-02T20:02:58.666Z"
   },
   {
    "duration": 12,
    "start_time": "2024-05-02T20:02:58.737Z"
   },
   {
    "duration": 22,
    "start_time": "2024-05-02T20:02:58.751Z"
   },
   {
    "duration": 10,
    "start_time": "2024-05-02T20:02:58.775Z"
   },
   {
    "duration": 621,
    "start_time": "2024-05-02T20:02:58.788Z"
   },
   {
    "duration": 14,
    "start_time": "2024-05-02T20:02:59.410Z"
   },
   {
    "duration": 18,
    "start_time": "2024-05-02T20:02:59.425Z"
   },
   {
    "duration": 578,
    "start_time": "2024-05-02T20:02:59.445Z"
   },
   {
    "duration": 2,
    "start_time": "2024-05-02T20:03:00.025Z"
   },
   {
    "duration": 74,
    "start_time": "2024-05-02T20:03:35.712Z"
   },
   {
    "duration": 3,
    "start_time": "2024-05-02T20:03:45.344Z"
   },
   {
    "duration": 375,
    "start_time": "2024-05-02T20:03:46.972Z"
   },
   {
    "duration": 3,
    "start_time": "2024-05-02T20:10:38.745Z"
   },
   {
    "duration": 1798,
    "start_time": "2024-05-02T20:10:40.163Z"
   },
   {
    "duration": 104,
    "start_time": "2024-05-02T20:10:42.899Z"
   },
   {
    "duration": 3,
    "start_time": "2024-05-02T20:12:15.529Z"
   },
   {
    "duration": 9267,
    "start_time": "2024-05-02T20:12:16.739Z"
   },
   {
    "duration": 53,
    "start_time": "2024-05-02T20:12:27.424Z"
   },
   {
    "duration": 101,
    "start_time": "2024-05-02T20:12:33.507Z"
   },
   {
    "duration": 14,
    "start_time": "2024-05-02T20:12:50.898Z"
   },
   {
    "duration": 109,
    "start_time": "2024-05-02T20:13:01.729Z"
   },
   {
    "duration": 18,
    "start_time": "2024-05-02T20:13:03.086Z"
   },
   {
    "duration": 81,
    "start_time": "2024-05-02T20:13:17.406Z"
   },
   {
    "duration": 109,
    "start_time": "2024-05-02T20:13:23.440Z"
   },
   {
    "duration": 83,
    "start_time": "2024-05-02T20:13:24.444Z"
   },
   {
    "duration": 17,
    "start_time": "2024-05-02T20:13:27.090Z"
   },
   {
    "duration": 18,
    "start_time": "2024-05-02T20:13:33.693Z"
   },
   {
    "duration": 12,
    "start_time": "2024-05-02T20:13:58.779Z"
   },
   {
    "duration": 18,
    "start_time": "2024-05-02T20:14:00.560Z"
   },
   {
    "duration": 3,
    "start_time": "2024-05-02T20:14:05.590Z"
   },
   {
    "duration": 48,
    "start_time": "2024-05-02T20:14:17.047Z"
   },
   {
    "duration": 32,
    "start_time": "2024-05-02T20:14:18.688Z"
   },
   {
    "duration": 51,
    "start_time": "2024-05-02T20:14:20.007Z"
   },
   {
    "duration": 18,
    "start_time": "2024-05-02T20:14:22.640Z"
   },
   {
    "duration": 14,
    "start_time": "2024-05-02T20:14:25.045Z"
   },
   {
    "duration": 11780,
    "start_time": "2024-05-02T20:14:27.153Z"
   },
   {
    "duration": 3,
    "start_time": "2024-05-02T20:14:45.249Z"
   },
   {
    "duration": 8,
    "start_time": "2024-05-02T20:14:55.579Z"
   },
   {
    "duration": 8,
    "start_time": "2024-05-02T20:15:08.570Z"
   },
   {
    "duration": 7,
    "start_time": "2024-05-02T20:15:10.366Z"
   },
   {
    "duration": 7,
    "start_time": "2024-05-02T20:15:16.566Z"
   },
   {
    "duration": 1231,
    "start_time": "2024-05-02T20:15:17.431Z"
   },
   {
    "duration": 3,
    "start_time": "2024-05-02T20:15:26.968Z"
   },
   {
    "duration": 2,
    "start_time": "2024-05-02T20:16:30.940Z"
   },
   {
    "duration": 1266,
    "start_time": "2024-05-02T20:16:31.352Z"
   },
   {
    "duration": 3,
    "start_time": "2024-05-02T20:16:35.700Z"
   },
   {
    "duration": 3,
    "start_time": "2024-05-02T20:17:08.508Z"
   },
   {
    "duration": 13,
    "start_time": "2024-05-02T20:17:13.312Z"
   },
   {
    "duration": 3,
    "start_time": "2024-05-02T20:17:17.038Z"
   },
   {
    "duration": 3,
    "start_time": "2024-05-02T20:17:17.555Z"
   },
   {
    "duration": 3,
    "start_time": "2024-05-02T20:17:20.531Z"
   },
   {
    "duration": 2,
    "start_time": "2024-05-02T20:17:25.609Z"
   },
   {
    "duration": 1157,
    "start_time": "2024-05-02T20:17:27.633Z"
   },
   {
    "duration": 3,
    "start_time": "2024-05-02T20:17:31.571Z"
   },
   {
    "duration": 3,
    "start_time": "2024-05-02T20:17:37.930Z"
   },
   {
    "duration": 3,
    "start_time": "2024-05-02T20:17:38.190Z"
   },
   {
    "duration": 2,
    "start_time": "2024-05-02T20:17:44.598Z"
   },
   {
    "duration": 1275,
    "start_time": "2024-05-02T20:17:45.050Z"
   },
   {
    "duration": 3,
    "start_time": "2024-05-02T20:17:49.001Z"
   },
   {
    "duration": 1225,
    "start_time": "2024-05-02T20:17:56.091Z"
   },
   {
    "duration": 2,
    "start_time": "2024-05-02T20:17:59.745Z"
   },
   {
    "duration": 5,
    "start_time": "2024-05-02T20:18:02.755Z"
   },
   {
    "duration": 62,
    "start_time": "2024-05-02T20:18:20.134Z"
   },
   {
    "duration": 15,
    "start_time": "2024-05-02T20:18:20.498Z"
   },
   {
    "duration": 10019,
    "start_time": "2024-05-02T20:18:22.834Z"
   },
   {
    "duration": 3,
    "start_time": "2024-05-02T20:19:16.493Z"
   },
   {
    "duration": 1666,
    "start_time": "2024-05-02T20:19:24.599Z"
   },
   {
    "duration": 3,
    "start_time": "2024-05-02T20:19:58.170Z"
   },
   {
    "duration": 1631,
    "start_time": "2024-05-02T20:20:04.843Z"
   },
   {
    "duration": 3,
    "start_time": "2024-05-02T20:20:17.278Z"
   },
   {
    "duration": 19,
    "start_time": "2024-05-02T20:20:18.297Z"
   },
   {
    "duration": 3,
    "start_time": "2024-05-02T20:21:20.600Z"
   },
   {
    "duration": 12,
    "start_time": "2024-05-02T20:21:34.116Z"
   },
   {
    "duration": 6,
    "start_time": "2024-05-02T20:21:35.051Z"
   },
   {
    "duration": 7,
    "start_time": "2024-05-02T20:21:38.271Z"
   },
   {
    "duration": 9,
    "start_time": "2024-05-02T20:21:38.944Z"
   },
   {
    "duration": 9,
    "start_time": "2024-05-02T20:21:39.863Z"
   },
   {
    "duration": 4,
    "start_time": "2024-05-02T20:21:40.557Z"
   },
   {
    "duration": 18,
    "start_time": "2024-05-02T20:21:41.517Z"
   },
   {
    "duration": 51,
    "start_time": "2024-05-02T20:21:42.272Z"
   },
   {
    "duration": 60,
    "start_time": "2024-05-02T20:21:42.976Z"
   },
   {
    "duration": 18,
    "start_time": "2024-05-02T20:22:04.695Z"
   },
   {
    "duration": 12,
    "start_time": "2024-05-02T20:22:14.604Z"
   },
   {
    "duration": 15,
    "start_time": "2024-05-02T20:22:16.436Z"
   },
   {
    "duration": 3,
    "start_time": "2024-05-02T20:22:16.677Z"
   },
   {
    "duration": 2,
    "start_time": "2024-05-02T20:22:17.114Z"
   },
   {
    "duration": 15,
    "start_time": "2024-05-02T20:22:17.639Z"
   },
   {
    "duration": 17,
    "start_time": "2024-05-02T20:22:19.488Z"
   },
   {
    "duration": 5,
    "start_time": "2024-05-02T20:22:21.597Z"
   },
   {
    "duration": 56,
    "start_time": "2024-05-02T20:22:22.504Z"
   },
   {
    "duration": 45,
    "start_time": "2024-05-02T20:22:39.532Z"
   },
   {
    "duration": 3,
    "start_time": "2024-05-02T20:22:43.312Z"
   },
   {
    "duration": 4,
    "start_time": "2024-05-02T20:22:44.947Z"
   },
   {
    "duration": 5,
    "start_time": "2024-05-02T20:22:46.871Z"
   },
   {
    "duration": 4,
    "start_time": "2024-05-02T20:22:47.846Z"
   },
   {
    "duration": 4,
    "start_time": "2024-05-02T20:22:53.280Z"
   },
   {
    "duration": 586,
    "start_time": "2024-05-02T20:22:56.205Z"
   },
   {
    "duration": 507,
    "start_time": "2024-05-02T20:22:58.929Z"
   },
   {
    "duration": 25,
    "start_time": "2024-05-02T20:23:01.367Z"
   },
   {
    "duration": 14,
    "start_time": "2024-05-02T20:25:36.006Z"
   },
   {
    "duration": 8,
    "start_time": "2024-05-02T20:25:38.293Z"
   },
   {
    "duration": 4,
    "start_time": "2024-05-02T20:25:39.119Z"
   },
   {
    "duration": 4,
    "start_time": "2024-05-02T20:25:40.172Z"
   },
   {
    "duration": 7,
    "start_time": "2024-05-02T20:25:42.275Z"
   },
   {
    "duration": 4,
    "start_time": "2024-05-02T20:25:43.487Z"
   },
   {
    "duration": 128091,
    "start_time": "2024-05-02T20:28:10.283Z"
   },
   {
    "duration": 4,
    "start_time": "2024-05-02T20:30:18.377Z"
   },
   {
    "duration": 12,
    "start_time": "2024-05-02T20:30:18.473Z"
   },
   {
    "duration": 3,
    "start_time": "2024-05-02T20:30:22.765Z"
   },
   {
    "duration": 3,
    "start_time": "2024-05-02T20:30:33.925Z"
   },
   {
    "duration": 3,
    "start_time": "2024-05-02T20:30:35.508Z"
   },
   {
    "duration": 67601,
    "start_time": "2024-05-02T20:30:38.354Z"
   },
   {
    "duration": 3,
    "start_time": "2024-05-02T20:31:45.957Z"
   },
   {
    "duration": 3,
    "start_time": "2024-05-02T20:32:01.558Z"
   },
   {
    "duration": 5,
    "start_time": "2024-05-02T20:32:02.770Z"
   },
   {
    "duration": 365,
    "start_time": "2024-05-02T20:32:04.042Z"
   },
   {
    "duration": 5,
    "start_time": "2024-05-02T20:32:13.480Z"
   },
   {
    "duration": 3,
    "start_time": "2024-05-02T20:32:14.201Z"
   },
   {
    "duration": 7,
    "start_time": "2024-05-02T20:32:22.070Z"
   },
   {
    "duration": 5,
    "start_time": "2024-05-02T20:32:25.699Z"
   },
   {
    "duration": 4,
    "start_time": "2024-05-02T20:32:26.649Z"
   },
   {
    "duration": 3,
    "start_time": "2024-05-02T20:32:27.804Z"
   },
   {
    "duration": 4,
    "start_time": "2024-05-02T20:32:29.275Z"
   },
   {
    "duration": 5,
    "start_time": "2024-05-02T20:32:30.896Z"
   },
   {
    "duration": 3,
    "start_time": "2024-05-02T20:32:32.225Z"
   },
   {
    "duration": 4,
    "start_time": "2024-05-02T20:32:41.500Z"
   },
   {
    "duration": 3,
    "start_time": "2024-05-02T20:32:41.811Z"
   },
   {
    "duration": 3,
    "start_time": "2024-05-02T20:32:42.219Z"
   },
   {
    "duration": 69821,
    "start_time": "2024-05-02T20:32:43.555Z"
   },
   {
    "duration": 5,
    "start_time": "2024-05-02T20:35:08.435Z"
   },
   {
    "duration": 3,
    "start_time": "2024-05-02T20:35:09.628Z"
   },
   {
    "duration": 2,
    "start_time": "2024-05-02T20:35:09.817Z"
   },
   {
    "duration": 4,
    "start_time": "2024-05-02T20:35:10.013Z"
   },
   {
    "duration": 565587,
    "start_time": "2024-05-02T20:35:10.998Z"
   },
   {
    "duration": 7,
    "start_time": "2024-05-02T20:59:01.895Z"
   },
   {
    "duration": 4,
    "start_time": "2024-05-02T20:59:02.623Z"
   },
   {
    "duration": 4,
    "start_time": "2024-05-02T20:59:03.385Z"
   },
   {
    "duration": 3,
    "start_time": "2024-05-02T20:59:03.773Z"
   },
   {
    "duration": 15,
    "start_time": "2024-05-02T20:59:05.057Z"
   },
   {
    "duration": 13,
    "start_time": "2024-05-02T20:59:05.278Z"
   },
   {
    "duration": 4,
    "start_time": "2024-05-02T20:59:34.120Z"
   },
   {
    "duration": 5,
    "start_time": "2024-05-02T21:01:04.830Z"
   },
   {
    "duration": 19,
    "start_time": "2024-05-02T21:01:06.241Z"
   },
   {
    "duration": 179,
    "start_time": "2024-05-02T21:01:07.323Z"
   },
   {
    "duration": 378,
    "start_time": "2024-05-02T21:01:30.713Z"
   },
   {
    "duration": 3,
    "start_time": "2024-05-02T21:01:31.953Z"
   },
   {
    "duration": 4,
    "start_time": "2024-05-02T21:01:34.730Z"
   },
   {
    "duration": 18,
    "start_time": "2024-05-02T21:01:39.184Z"
   },
   {
    "duration": 216,
    "start_time": "2024-05-02T21:01:42.463Z"
   },
   {
    "duration": 18,
    "start_time": "2024-05-02T21:02:03.727Z"
   },
   {
    "duration": 207,
    "start_time": "2024-05-02T21:02:04.573Z"
   },
   {
    "duration": 101,
    "start_time": "2024-05-02T21:02:06.050Z"
   },
   {
    "duration": 4,
    "start_time": "2024-05-02T21:02:06.975Z"
   },
   {
    "duration": 4,
    "start_time": "2024-05-02T21:02:07.559Z"
   },
   {
    "duration": 20,
    "start_time": "2024-05-02T21:02:24.077Z"
   },
   {
    "duration": 354,
    "start_time": "2024-05-02T21:03:31.759Z"
   },
   {
    "duration": 19,
    "start_time": "2024-05-02T21:03:33.062Z"
   },
   {
    "duration": 228,
    "start_time": "2024-05-02T21:03:33.255Z"
   },
   {
    "duration": 112,
    "start_time": "2024-05-02T21:03:34.129Z"
   },
   {
    "duration": 4,
    "start_time": "2024-05-02T21:03:34.326Z"
   },
   {
    "duration": 4,
    "start_time": "2024-05-02T21:03:35.260Z"
   },
   {
    "duration": 18,
    "start_time": "2024-05-02T21:03:35.697Z"
   },
   {
    "duration": 235,
    "start_time": "2024-05-02T21:03:36.041Z"
   },
   {
    "duration": 97,
    "start_time": "2024-05-02T21:03:44.196Z"
   },
   {
    "duration": 3,
    "start_time": "2024-05-02T21:03:45.352Z"
   },
   {
    "duration": 4,
    "start_time": "2024-05-02T21:03:46.304Z"
   },
   {
    "duration": 18,
    "start_time": "2024-05-02T21:03:50.777Z"
   },
   {
    "duration": 216,
    "start_time": "2024-05-02T21:03:51.059Z"
   },
   {
    "duration": 97,
    "start_time": "2024-05-02T21:03:52.258Z"
   },
   {
    "duration": 4,
    "start_time": "2024-05-02T21:03:53.306Z"
   },
   {
    "duration": 3,
    "start_time": "2024-05-02T21:03:53.776Z"
   },
   {
    "duration": 18,
    "start_time": "2024-05-02T21:03:54.680Z"
   },
   {
    "duration": 197,
    "start_time": "2024-05-02T21:03:54.886Z"
   },
   {
    "duration": 98,
    "start_time": "2024-05-02T21:03:56.037Z"
   },
   {
    "duration": 4,
    "start_time": "2024-05-02T21:03:56.898Z"
   },
   {
    "duration": 4,
    "start_time": "2024-05-02T21:03:57.428Z"
   },
   {
    "duration": 3,
    "start_time": "2024-05-02T21:03:58.660Z"
   },
   {
    "duration": 3,
    "start_time": "2024-05-02T21:03:58.965Z"
   },
   {
    "duration": 5,
    "start_time": "2024-05-02T21:03:59.335Z"
   },
   {
    "duration": 5,
    "start_time": "2024-05-02T21:03:59.707Z"
   },
   {
    "duration": 14,
    "start_time": "2024-05-02T21:04:01.101Z"
   },
   {
    "duration": 13,
    "start_time": "2024-05-02T21:04:07.448Z"
   },
   {
    "duration": 15,
    "start_time": "2024-05-02T21:04:07.732Z"
   },
   {
    "duration": 5,
    "start_time": "2024-05-02T21:04:08.151Z"
   },
   {
    "duration": 150,
    "start_time": "2024-05-02T21:04:08.779Z"
   }
  ],
  "kernelspec": {
   "display_name": "Python 3 (ipykernel)",
   "language": "python",
   "name": "python3"
  },
  "language_info": {
   "codemirror_mode": {
    "name": "ipython",
    "version": 3
   },
   "file_extension": ".py",
   "mimetype": "text/x-python",
   "name": "python",
   "nbconvert_exporter": "python",
   "pygments_lexer": "ipython3",
   "version": "3.11.7"
  },
  "toc": {
   "base_numbering": 1,
   "nav_menu": {},
   "number_sections": false,
   "sideBar": true,
   "skip_h1_title": false,
   "title_cell": "Table of Contents",
   "title_sidebar": "Contents",
   "toc_cell": false,
   "toc_position": {},
   "toc_section_display": true,
   "toc_window_display": false
  },
  "toc-autonumbering": false,
  "toc-showmarkdowntxt": false,
  "varInspector": {
   "cols": {
    "lenName": 16,
    "lenType": 16,
    "lenVar": 40
   },
   "kernels_config": {
    "python": {
     "delete_cmd_postfix": "",
     "delete_cmd_prefix": "del ",
     "library": "var_list.py",
     "varRefreshCmd": "print(var_dic_list())"
    },
    "r": {
     "delete_cmd_postfix": ") ",
     "delete_cmd_prefix": "rm(",
     "library": "var_list.r",
     "varRefreshCmd": "cat(var_dic_list()) "
    }
   },
   "types_to_exclude": [
    "module",
    "function",
    "builtin_function_or_method",
    "instance",
    "_Feature"
   ],
   "window_display": false
  }
 },
 "nbformat": 4,
 "nbformat_minor": 5
}
